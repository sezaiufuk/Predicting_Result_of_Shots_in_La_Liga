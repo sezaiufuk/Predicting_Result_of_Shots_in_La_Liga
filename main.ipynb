{
 "cells": [
  {
   "cell_type": "markdown",
   "metadata": {},
   "source": [
    "# Imports"
   ]
  },
  {
   "cell_type": "code",
   "execution_count": 45,
   "metadata": {},
   "outputs": [],
   "source": [
    "import pandas as pd\n",
    "import numpy as np\n",
    "import rpy2.robjects as ro\n",
    "import rpy2.robjects.packages as rpackages\n",
    "from rpy2.robjects import pandas2ri\n",
    "from rpy2.robjects.conversion import localconverter\n",
    "from imblearn.over_sampling import SMOTE\n",
    "from collections import Counter\n",
    "import warnings\n",
    "from sklearn.preprocessing import MinMaxScaler\n",
    "from sklearn.model_selection import train_test_split\n",
    "from sklearn.model_selection import train_test_split\n",
    "from sklearn.preprocessing import StandardScaler\n",
    "from sklearn.linear_model import LogisticRegression\n",
    "from sklearn.tree import DecisionTreeClassifier\n",
    "from sklearn.ensemble import RandomForestClassifier\n",
    "from sklearn.metrics import classification_report, accuracy_score\n",
    "from xgboost import XGBClassifier\n",
    "from sklearn.model_selection import KFold,LeaveOneOut,LeavePOut,cross_val_score\n",
    "from sklearn.model_selection import train_test_split\n",
    "from sklearn.model_selection import RandomizedSearchCV\n",
    "from sklearn.metrics import balanced_accuracy_score\n",
    "from sklearn.preprocessing import MinMaxScaler\n",
    "from sklearn.metrics import confusion_matrix\n",
    "from sklearn.model_selection import HalvingRandomSearchCV"
   ]
  },
  {
   "cell_type": "code",
   "execution_count": 2,
   "metadata": {},
   "outputs": [
    {
     "data": {
      "text/plain": [
       "<rpy2.rinterface_lib.sexp.NULLType object at 0x136e97f10> [0]"
      ]
     },
     "execution_count": 2,
     "metadata": {},
     "output_type": "execute_result"
    }
   ],
   "source": [
    "utils = rpackages.importr('utils')\n",
    "utils.chooseCRANmirror(ind=1)"
   ]
  },
  {
   "cell_type": "markdown",
   "metadata": {},
   "source": [
    "# Getting Dataset Over R from Python"
   ]
  },
  {
   "cell_type": "code",
   "execution_count": 3,
   "metadata": {},
   "outputs": [
    {
     "name": "stdout",
     "output_type": "stream",
     "text": [
      "→ Data last updated 2024-05-30 18:34:46.012307882309 UTC\n"
     ]
    }
   ],
   "source": [
    "pandas2ri.activate()\n",
    "ro.r('''\n",
    "        library(\"worldfootballR\")\n",
    "        laliga <- load_understat_league_shots(league = \"La liga\")\n",
    "     ''')\n",
    "laliga = pandas2ri.rpy2py(ro.r['laliga'])\n",
    "laliga.drop('league', axis=1, inplace=True)"
   ]
  },
  {
   "cell_type": "markdown",
   "metadata": {},
   "source": [
    "We are going to use La Liga dataset between 2020-01-01 and 2024-06-08."
   ]
  },
  {
   "cell_type": "code",
   "execution_count": 4,
   "metadata": {},
   "outputs": [],
   "source": [
    "laliga = laliga[(laliga['date'] > '2020-01-01') & (laliga['date'] < '2024-06-10')]"
   ]
  },
  {
   "cell_type": "markdown",
   "metadata": {},
   "source": [
    "# Data Manipulations and Fixes"
   ]
  },
  {
   "cell_type": "markdown",
   "metadata": {},
   "source": [
    "We have a problem about NaN values and duplicate features, we are going to fix these problems by manipulating the data."
   ]
  },
  {
   "cell_type": "code",
   "execution_count": 5,
   "metadata": {},
   "outputs": [],
   "source": [
    "warnings.filterwarnings('ignore')\n",
    "\n",
    "def fixDataNaN(df):\n",
    "    with localconverter(ro.default_converter + pandas2ri.converter):\n",
    "        df = ro.conversion.py2rpy(df)\n",
    "pairs = [['x','X'],['y','Y'],['x_g','xG'],['h_a','home_away'],['shot_type','shotType'],['last_action','lastAction']]\n",
    "\n",
    "def camel_case_columns(df):\n",
    "    def camel_case(column_name):\n",
    "        parts = column_name.split('_')\n",
    "        return str(parts[0] + ''.join(x.title() for x in parts[1:]))\n",
    "    \n",
    "    new_columns = []\n",
    "    for column in df.columns:\n",
    "        if '_' in column:\n",
    "            new_columns.append(camel_case(column))\n",
    "        else:\n",
    "            new_columns.append(str(column))\n",
    "    \n",
    "    df.columns = new_columns\n",
    "    return df\n",
    "\n",
    "def fixMergeColumns(dataList, pairs):\n",
    "    for targetData in dataList:\n",
    "        for pair in pairs:\n",
    "            if pair[0] in targetData.columns and pair[1] in targetData.columns:\n",
    "                targetData['{}'.format(pair[1])].fillna(targetData['{}'.format(pair[0])], inplace=True)\n",
    "                targetData.drop(columns=['{}'.format(pair[0])], inplace=True)\n",
    "        targetData = camel_case_columns(targetData)\n",
    "        fixDataNaN(targetData)\n",
    "\n",
    "fixMergeColumns([laliga], pairs)"
   ]
  },
  {
   "cell_type": "markdown",
   "metadata": {},
   "source": []
  },
  {
   "cell_type": "code",
   "execution_count": 6,
   "metadata": {},
   "outputs": [
    {
     "name": "stdout",
     "output_type": "stream",
     "text": [
      "id                    0\n",
      "minute                0\n",
      "result                0\n",
      "X                     0\n",
      "Y                     0\n",
      "xG                    0\n",
      "player                0\n",
      "playerId              0\n",
      "situation             0\n",
      "season                0\n",
      "shotType              0\n",
      "matchId               0\n",
      "homeTeam              0\n",
      "awayTeam              0\n",
      "homeGoals             0\n",
      "awayGoals             0\n",
      "date                  0\n",
      "playerAssisted    10653\n",
      "lastAction            0\n",
      "homeAway              0\n",
      "dtype: int64\n"
     ]
    }
   ],
   "source": [
    "#  NA_ string contained count\n",
    "\n",
    "total_count = laliga.isnull().sum()\n",
    "\n",
    "print(total_count)"
   ]
  },
  {
   "cell_type": "markdown",
   "metadata": {},
   "source": [
    "We are going to train our model to predict whether the position ends up to a goal or not so we need to convert our goal and not goal situations to binary tags."
   ]
  },
  {
   "cell_type": "code",
   "execution_count": 7,
   "metadata": {},
   "outputs": [],
   "source": [
    "replacement_dict = {\n",
    "    'Goal': 'Goal',\n",
    "    'BlockedShot': 'No Goal',\n",
    "    'MissedShots': 'No Goal',\n",
    "    'SavedShot': 'No Goal',\n",
    "    'ShotOnPost': 'No Goal',\n",
    "    'OwnGoal': 'No Goal'\n",
    "}\n",
    "\n",
    "# 'result' sütununu değiştirme\n",
    "laliga['result'] = laliga['result'].map(replacement_dict)"
   ]
  },
  {
   "cell_type": "markdown",
   "metadata": {},
   "source": [
    "# Imbalancedness"
   ]
  },
  {
   "cell_type": "markdown",
   "metadata": {},
   "source": [
    "Our data has imbalancedness problem which might cause our model to learn features of majority target variables better than the minority target variables, it might cause inaccurate predictions."
   ]
  },
  {
   "cell_type": "code",
   "execution_count": 8,
   "metadata": {},
   "outputs": [
    {
     "name": "stdout",
     "output_type": "stream",
     "text": [
      "result\n",
      "No Goal    35980\n",
      "Goal        4211\n",
      "Name: count, dtype: int64\n"
     ]
    }
   ],
   "source": [
    "print(laliga['result'].value_counts())"
   ]
  },
  {
   "cell_type": "markdown",
   "metadata": {},
   "source": [
    "We are going to use SMOTE method for oversampling to fix the gap between minority and majority target variables. This method uses clustering methods to create new observations based on original ones."
   ]
  },
  {
   "cell_type": "code",
   "execution_count": 9,
   "metadata": {},
   "outputs": [
    {
     "name": "stdout",
     "output_type": "stream",
     "text": [
      "Original dataset shape Counter({'No Goal': 35980, 'Goal': 4211})\n",
      "Resampled dataset shape Counter({'Goal': 35980, 'No Goal': 35980})\n"
     ]
    }
   ],
   "source": [
    "Y = laliga['result']\n",
    "x = laliga.drop('result', axis=1)\n",
    "\n",
    "X = pd.get_dummies(x)\n",
    "scaler = MinMaxScaler()\n",
    "X = scaler.fit_transform(X)\n",
    "\n",
    "print('Original dataset shape %s' % Counter(Y))\n",
    "sm = SMOTE(random_state=42)\n",
    "x_res, y_res = sm.fit_resample(X, Y)\n",
    "print('Resampled dataset shape %s' % Counter(y_res))"
   ]
  },
  {
   "cell_type": "markdown",
   "metadata": {},
   "source": [
    "# Model"
   ]
  },
  {
   "cell_type": "code",
   "execution_count": 11,
   "metadata": {},
   "outputs": [],
   "source": [
    "x_train, x_test, y_train, y_test = train_test_split(x_res, y_res, test_size=0.25, random_state=42, stratify=y_res)"
   ]
  },
  {
   "cell_type": "markdown",
   "metadata": {},
   "source": [
    "We found the best model to use is Random Forest after comparing Decision Tree, Logistic Regression,XGBoost and Random Forest."
   ]
  },
  {
   "cell_type": "code",
   "execution_count": 44,
   "metadata": {},
   "outputs": [],
   "source": [
    "model = RandomForestClassifier()\n",
    "model.fit(x_train, y_train)\n",
    "\n",
    "y_pred = model.predict(x_test)"
   ]
  },
  {
   "cell_type": "markdown",
   "metadata": {},
   "source": [
    "### Train - Test Accuracy Comparison to Check Overfitting"
   ]
  },
  {
   "cell_type": "markdown",
   "metadata": {},
   "source": [
    "Our model seems to have learned train set perfectly, we might have suspected of overfitting much more than the current situation if the test accuracies were bad but accuracy and balanced accuracy scores on train and test sets are very close to each other. Our model is good to go, but we are going to check if hyperparameter tuning could improve our performance."
   ]
  },
  {
   "cell_type": "code",
   "execution_count": null,
   "metadata": {},
   "outputs": [],
   "source": [
    "test_accuracy = accuracy_score(y_test, y_pred)\n",
    "test_balanced_accuracy = balanced_accuracy_score(y_test, y_pred)\n",
    "test_confusion_matrix = confusion_matrix(y_test, y_pred)\n",
    "\n",
    "train_accuracy = accuracy_score(y_train, model.predict(x_train))\n",
    "train_balanced_accuracy = balanced_accuracy_score(y_train, model.predict(x_train))\n",
    "train_confusion_matrix = confusion_matrix(y_train, model.predict(x_train))"
   ]
  },
  {
   "cell_type": "code",
   "execution_count": 41,
   "metadata": {},
   "outputs": [
    {
     "name": "stdout",
     "output_type": "stream",
     "text": [
      "Test Accuracy: 0.962757087270706\n",
      "Train Accuracy: 1.0\n",
      "\n",
      "Test Balanced Accuracy: 0.962757087270706\n",
      "Train Balanced Accuracy: 1.0\n",
      "\n",
      "Test Confusion Matrix: \n",
      "[[8614  381]\n",
      " [ 289 8706]]\n",
      "\n",
      "Train Confusion Matrix: \n",
      "[[26985     0]\n",
      " [    0 26985]]\n"
     ]
    }
   ],
   "source": [
    "print('Test Accuracy: {}\\nTrain Accuracy: {}\\n'.format(test_accuracy, train_accuracy))\n",
    "print('Test Balanced Accuracy: {}\\nTrain Balanced Accuracy: {}\\n'.format(test_balanced_accuracy, train_balanced_accuracy))\n",
    "print('Test Confusion Matrix: \\n{}\\n\\nTrain Confusion Matrix: \\n{}'.format(test_confusion_matrix, train_confusion_matrix))"
   ]
  },
  {
   "cell_type": "markdown",
   "metadata": {},
   "source": [
    "# Hyperparameter Tuning"
   ]
  },
  {
   "cell_type": "markdown",
   "metadata": {},
   "source": [
    "We are going to use Halving Random Search method and 5-Fold Cross Validation together to find best hyperparameters during evaluating our iterations by balanced accuracy scores.\n",
    "\n",
    "Halving Random Search method uses elimination system as its base idea, best of the two compaired hyperparameter sets rises above on the leaderboard and we get the best hyperparameters after the final round. Another pro of Halving Random Search is to be much faster than the Random Search."
   ]
  },
  {
   "cell_type": "code",
   "execution_count": 49,
   "metadata": {},
   "outputs": [
    {
     "name": "stdout",
     "output_type": "stream",
     "text": [
      "n_iterations: 6\n",
      "n_required_iterations: 6\n",
      "n_possible_iterations: 6\n",
      "min_resources_: 20\n",
      "max_resources_: 5000\n",
      "aggressive_elimination: False\n",
      "factor: 3\n",
      "----------\n",
      "iter: 0\n",
      "n_candidates: 250\n",
      "n_resources: 20\n",
      "Fitting 5 folds for each of 250 candidates, totalling 1250 fits\n",
      "[CV 2/5] END bootstrap=True, max_depth=7, max_features=sqrt, min_samples_leaf=10, min_samples_split=10, n_estimators=2250;, score=(train=0.500, test=0.500) total time=   1.9s\n",
      "[CV 4/5] END bootstrap=True, max_depth=7, max_features=sqrt, min_samples_leaf=10, min_samples_split=10, n_estimators=2250;, score=(train=0.500, test=0.500) total time=   2.1s\n",
      "[CV 3/5] END bootstrap=True, max_depth=7, max_features=sqrt, min_samples_leaf=10, min_samples_split=10, n_estimators=2250;, score=(train=0.500, test=0.500) total time=   2.1s\n",
      "[CV 1/5] END bootstrap=False, max_depth=2, max_features=sqrt, min_samples_leaf=10, min_samples_split=2, n_estimators=50;, score=(train=0.500, test=0.500) total time=   0.1s\n",
      "[CV 2/5] END bootstrap=False, max_depth=2, max_features=sqrt, min_samples_leaf=10, min_samples_split=2, n_estimators=50;, score=(train=0.500, test=0.500) total time=   0.1s\n",
      "[CV 5/5] END bootstrap=True, max_depth=7, max_features=sqrt, min_samples_leaf=10, min_samples_split=10, n_estimators=2250;, score=(train=0.500, test=0.000) total time=   2.4s\n",
      "[CV 1/5] END bootstrap=True, max_depth=7, max_features=sqrt, min_samples_leaf=10, min_samples_split=10, n_estimators=2250;, score=(train=0.500, test=0.500) total time=   2.4s\n"
     ]
    },
    {
     "name": "stderr",
     "output_type": "stream",
     "text": [
      "/Users/sezaiufukoral/anaconda3/lib/python3.11/site-packages/sklearn/metrics/_classification.py:2466: UserWarning: y_pred contains classes not in y_true\n",
      "  warnings.warn(\"y_pred contains classes not in y_true\")\n"
     ]
    },
    {
     "name": "stdout",
     "output_type": "stream",
     "text": [
      "[CV 3/5] END bootstrap=False, max_depth=2, max_features=sqrt, min_samples_leaf=10, min_samples_split=2, n_estimators=50;, score=(train=0.500, test=0.500) total time=   0.2s\n",
      "[CV 4/5] END bootstrap=False, max_depth=2, max_features=sqrt, min_samples_leaf=10, min_samples_split=2, n_estimators=50;, score=(train=0.500, test=0.500) total time=   0.0s\n",
      "[CV 5/5] END bootstrap=False, max_depth=2, max_features=sqrt, min_samples_leaf=10, min_samples_split=2, n_estimators=50;, score=(train=0.500, test=0.000) total time=   0.0s\n"
     ]
    },
    {
     "name": "stderr",
     "output_type": "stream",
     "text": [
      "/Users/sezaiufukoral/anaconda3/lib/python3.11/site-packages/sklearn/metrics/_classification.py:2466: UserWarning: y_pred contains classes not in y_true\n",
      "  warnings.warn(\"y_pred contains classes not in y_true\")\n"
     ]
    },
    {
     "name": "stdout",
     "output_type": "stream",
     "text": [
      "[CV 2/5] END bootstrap=True, max_depth=17, max_features=log2, min_samples_leaf=10, min_samples_split=10, n_estimators=3350;, score=(train=0.500, test=0.500) total time=   3.5s\n",
      "[CV 1/5] END bootstrap=True, max_depth=17, max_features=log2, min_samples_leaf=10, min_samples_split=10, n_estimators=3350;, score=(train=0.500, test=0.500) total time=   3.5s\n",
      "[CV 3/5] END bootstrap=True, max_depth=17, max_features=log2, min_samples_leaf=10, min_samples_split=10, n_estimators=3350;, score=(train=0.500, test=0.500) total time=   3.6s\n",
      "[CV 4/5] END bootstrap=True, max_depth=17, max_features=log2, min_samples_leaf=10, min_samples_split=10, n_estimators=3350;, score=(train=0.500, test=0.500) total time=   3.8s\n",
      "[CV 2/5] END bootstrap=True, max_depth=13, max_features=sqrt, min_samples_leaf=10, min_samples_split=10, n_estimators=3350;, score=(train=0.500, test=0.500) total time=   3.5s\n",
      "[CV 5/5] END bootstrap=True, max_depth=17, max_features=log2, min_samples_leaf=10, min_samples_split=10, n_estimators=3350;, score=(train=0.500, test=0.000) total time=   4.2s\n"
     ]
    },
    {
     "name": "stderr",
     "output_type": "stream",
     "text": [
      "/Users/sezaiufukoral/anaconda3/lib/python3.11/site-packages/sklearn/metrics/_classification.py:2466: UserWarning: y_pred contains classes not in y_true\n",
      "  warnings.warn(\"y_pred contains classes not in y_true\")\n"
     ]
    },
    {
     "name": "stdout",
     "output_type": "stream",
     "text": [
      "[CV 3/5] END bootstrap=True, max_depth=13, max_features=sqrt, min_samples_leaf=10, min_samples_split=10, n_estimators=3350;, score=(train=0.500, test=0.500) total time=   3.8s\n",
      "[CV 1/5] END bootstrap=True, max_depth=13, max_features=sqrt, min_samples_leaf=10, min_samples_split=10, n_estimators=3350;, score=(train=0.500, test=0.500) total time=   4.0s\n",
      "[CV 1/5] END bootstrap=False, max_depth=7, max_features=log2, min_samples_leaf=1, min_samples_split=10, n_estimators=50;, score=(train=1.000, test=0.500) total time=   0.1s\n",
      "[CV 2/5] END bootstrap=False, max_depth=7, max_features=log2, min_samples_leaf=1, min_samples_split=10, n_estimators=50;, score=(train=1.000, test=1.000) total time=   0.1s\n",
      "[CV 3/5] END bootstrap=False, max_depth=7, max_features=log2, min_samples_leaf=1, min_samples_split=10, n_estimators=50;, score=(train=1.000, test=0.333) total time=   0.0s\n",
      "[CV 4/5] END bootstrap=False, max_depth=7, max_features=log2, min_samples_leaf=1, min_samples_split=10, n_estimators=50;, score=(train=1.000, test=0.667) total time=   0.0s\n",
      "[CV 5/5] END bootstrap=False, max_depth=7, max_features=log2, min_samples_leaf=1, min_samples_split=10, n_estimators=50;, score=(train=0.929, test=1.000) total time=   0.0s\n"
     ]
    },
    {
     "name": "stderr",
     "output_type": "stream",
     "text": [
      "/Users/sezaiufukoral/anaconda3/lib/python3.11/site-packages/sklearn/metrics/_classification.py:395: UserWarning: A single label was found in 'y_true' and 'y_pred'. For the confusion matrix to have the correct shape, use the 'labels' parameter to pass all known labels.\n",
      "  warnings.warn(\n",
      "/Users/sezaiufukoral/anaconda3/lib/python3.11/site-packages/sklearn/metrics/_classification.py:2466: UserWarning: y_pred contains classes not in y_true\n",
      "  warnings.warn(\"y_pred contains classes not in y_true\")\n"
     ]
    },
    {
     "name": "stdout",
     "output_type": "stream",
     "text": [
      "[CV 4/5] END bootstrap=True, max_depth=13, max_features=sqrt, min_samples_leaf=10, min_samples_split=10, n_estimators=3350;, score=(train=0.500, test=0.500) total time=   3.8s\n",
      "[CV 5/5] END bootstrap=True, max_depth=13, max_features=sqrt, min_samples_leaf=10, min_samples_split=10, n_estimators=3350;, score=(train=0.500, test=0.000) total time=   3.8s\n",
      "[CV 1/5] END bootstrap=True, max_depth=3, max_features=sqrt, min_samples_leaf=1, min_samples_split=10, n_estimators=3350;, score=(train=0.500, test=0.500) total time=   4.2s\n",
      "[CV 2/5] END bootstrap=True, max_depth=3, max_features=sqrt, min_samples_leaf=1, min_samples_split=10, n_estimators=3350;, score=(train=0.786, test=0.500) total time=   4.7s\n",
      "[CV 3/5] END bootstrap=True, max_depth=3, max_features=sqrt, min_samples_leaf=1, min_samples_split=10, n_estimators=3350;, score=(train=0.500, test=0.500) total time=   4.5s\n",
      "[CV 4/5] END bootstrap=True, max_depth=3, max_features=sqrt, min_samples_leaf=1, min_samples_split=10, n_estimators=3350;, score=(train=0.500, test=0.500) total time=   4.6s\n",
      "[CV 5/5] END bootstrap=True, max_depth=3, max_features=sqrt, min_samples_leaf=1, min_samples_split=10, n_estimators=3350;, score=(train=0.857, test=0.000) total time=   4.8s\n"
     ]
    },
    {
     "name": "stderr",
     "output_type": "stream",
     "text": [
      "/Users/sezaiufukoral/anaconda3/lib/python3.11/site-packages/sklearn/metrics/_classification.py:2466: UserWarning: y_pred contains classes not in y_true\n",
      "  warnings.warn(\"y_pred contains classes not in y_true\")\n"
     ]
    },
    {
     "name": "stdout",
     "output_type": "stream",
     "text": [
      "[CV 2/5] END bootstrap=True, max_depth=3, max_features=None, min_samples_leaf=1, min_samples_split=10, n_estimators=3350;, score=(train=0.929, test=0.333) total time=   5.8s\n",
      "[CV 3/5] END bootstrap=True, max_depth=3, max_features=None, min_samples_leaf=1, min_samples_split=10, n_estimators=3350;, score=(train=0.900, test=0.500) total time=   5.8s\n",
      "[CV 1/5] END bootstrap=True, max_depth=16, max_features=log2, min_samples_leaf=1, min_samples_split=10, n_estimators=1700;, score=(train=0.500, test=0.500) total time=   2.6s\n",
      "[CV 1/5] END bootstrap=True, max_depth=3, max_features=None, min_samples_leaf=1, min_samples_split=10, n_estimators=3350;, score=(train=0.900, test=0.750) total time=   6.5s\n",
      "[CV 3/5] END bootstrap=True, max_depth=16, max_features=log2, min_samples_leaf=1, min_samples_split=10, n_estimators=1700;, score=(train=0.500, test=0.500) total time=   2.3s\n",
      "[CV 2/5] END bootstrap=True, max_depth=16, max_features=log2, min_samples_leaf=1, min_samples_split=10, n_estimators=1700;, score=(train=0.786, test=0.500) total time=   2.8s\n",
      "[CV 4/5] END bootstrap=True, max_depth=3, max_features=None, min_samples_leaf=1, min_samples_split=10, n_estimators=3350;, score=(train=0.917, test=0.833) total time=   6.1s\n"
     ]
    },
    {
     "name": "stderr",
     "output_type": "stream",
     "text": [
      "/Users/sezaiufukoral/anaconda3/lib/python3.11/site-packages/sklearn/metrics/_classification.py:2466: UserWarning: y_pred contains classes not in y_true\n",
      "  warnings.warn(\"y_pred contains classes not in y_true\")\n"
     ]
    },
    {
     "name": "stdout",
     "output_type": "stream",
     "text": [
      "[CV 5/5] END bootstrap=True, max_depth=16, max_features=log2, min_samples_leaf=1, min_samples_split=10, n_estimators=1700;, score=(train=0.786, test=0.000) total time=   2.5s\n",
      "[CV 4/5] END bootstrap=True, max_depth=16, max_features=log2, min_samples_leaf=1, min_samples_split=10, n_estimators=1700;, score=(train=0.500, test=0.500) total time=   2.6s\n"
     ]
    },
    {
     "name": "stderr",
     "output_type": "stream",
     "text": [
      "/Users/sezaiufukoral/anaconda3/lib/python3.11/site-packages/sklearn/metrics/_classification.py:2466: UserWarning: y_pred contains classes not in y_true\n",
      "  warnings.warn(\"y_pred contains classes not in y_true\")\n"
     ]
    },
    {
     "name": "stdout",
     "output_type": "stream",
     "text": [
      "[CV 5/5] END bootstrap=True, max_depth=3, max_features=None, min_samples_leaf=1, min_samples_split=10, n_estimators=3350;, score=(train=0.929, test=0.750) total time=   6.2s\n",
      "[CV 1/5] END bootstrap=False, max_depth=6, max_features=None, min_samples_leaf=10, min_samples_split=2, n_estimators=5000;, score=(train=0.500, test=0.500) total time=   4.7s\n",
      "[CV 2/5] END bootstrap=False, max_depth=6, max_features=None, min_samples_leaf=10, min_samples_split=2, n_estimators=5000;, score=(train=0.500, test=0.500) total time=   5.2s\n",
      "[CV 1/5] END bootstrap=False, max_depth=7, max_features=log2, min_samples_leaf=1, min_samples_split=10, n_estimators=2800;, score=(train=1.000, test=0.500) total time=   3.0s\n",
      "[CV 3/5] END bootstrap=False, max_depth=6, max_features=None, min_samples_leaf=10, min_samples_split=2, n_estimators=5000;, score=(train=0.500, test=0.500) total time=   5.4s\n",
      "[CV 4/5] END bootstrap=False, max_depth=6, max_features=None, min_samples_leaf=10, min_samples_split=2, n_estimators=5000;, score=(train=0.500, test=0.500) total time=   5.2s\n",
      "[CV 2/5] END bootstrap=False, max_depth=7, max_features=log2, min_samples_leaf=1, min_samples_split=10, n_estimators=2800;, score=(train=1.000, test=0.833) total time=   3.4s\n"
     ]
    },
    {
     "name": "stderr",
     "output_type": "stream",
     "text": [
      "/Users/sezaiufukoral/anaconda3/lib/python3.11/site-packages/sklearn/metrics/_classification.py:2466: UserWarning: y_pred contains classes not in y_true\n",
      "  warnings.warn(\"y_pred contains classes not in y_true\")\n"
     ]
    },
    {
     "name": "stdout",
     "output_type": "stream",
     "text": [
      "[CV 3/5] END bootstrap=False, max_depth=7, max_features=log2, min_samples_leaf=1, min_samples_split=10, n_estimators=2800;, score=(train=1.000, test=0.500) total time=   3.2s\n",
      "[CV 5/5] END bootstrap=False, max_depth=6, max_features=None, min_samples_leaf=10, min_samples_split=2, n_estimators=5000;, score=(train=0.500, test=0.000) total time=   5.9s\n",
      "[CV 4/5] END bootstrap=False, max_depth=7, max_features=log2, min_samples_leaf=1, min_samples_split=10, n_estimators=2800;, score=(train=1.000, test=0.667) total time=   3.1s\n"
     ]
    },
    {
     "name": "stderr",
     "output_type": "stream",
     "text": [
      "/Users/sezaiufukoral/anaconda3/lib/python3.11/site-packages/sklearn/metrics/_classification.py:2466: UserWarning: y_pred contains classes not in y_true\n",
      "  warnings.warn(\"y_pred contains classes not in y_true\")\n"
     ]
    },
    {
     "name": "stdout",
     "output_type": "stream",
     "text": [
      "[CV 5/5] END bootstrap=False, max_depth=7, max_features=log2, min_samples_leaf=1, min_samples_split=10, n_estimators=2800;, score=(train=1.000, test=0.750) total time=   2.9s\n",
      "[CV 1/5] END bootstrap=False, max_depth=18, max_features=sqrt, min_samples_leaf=10, min_samples_split=2, n_estimators=3350;, score=(train=0.500, test=0.500) total time=   3.1s\n",
      "[CV 2/5] END bootstrap=False, max_depth=18, max_features=sqrt, min_samples_leaf=10, min_samples_split=2, n_estimators=3350;, score=(train=0.500, test=0.500) total time=   3.1s\n",
      "[CV 4/5] END bootstrap=False, max_depth=18, max_features=sqrt, min_samples_leaf=10, min_samples_split=2, n_estimators=3350;, score=(train=0.500, test=0.500) total time=   3.1s\n",
      "[CV 3/5] END bootstrap=False, max_depth=18, max_features=sqrt, min_samples_leaf=10, min_samples_split=2, n_estimators=3350;, score=(train=0.500, test=0.500) total time=   3.3s\n"
     ]
    },
    {
     "name": "stderr",
     "output_type": "stream",
     "text": [
      "/Users/sezaiufukoral/anaconda3/lib/python3.11/site-packages/sklearn/metrics/_classification.py:2466: UserWarning: y_pred contains classes not in y_true\n",
      "  warnings.warn(\"y_pred contains classes not in y_true\")\n"
     ]
    },
    {
     "name": "stdout",
     "output_type": "stream",
     "text": [
      "[CV 5/5] END bootstrap=False, max_depth=18, max_features=sqrt, min_samples_leaf=10, min_samples_split=2, n_estimators=3350;, score=(train=0.500, test=0.000) total time=   3.8s\n",
      "[CV 1/5] END bootstrap=False, max_depth=14, max_features=log2, min_samples_leaf=10, min_samples_split=2, n_estimators=3900;, score=(train=0.500, test=0.500) total time=   3.8s\n",
      "[CV 2/5] END bootstrap=False, max_depth=14, max_features=log2, min_samples_leaf=10, min_samples_split=2, n_estimators=3900;, score=(train=0.500, test=0.500) total time=   3.6s\n",
      "[CV 3/5] END bootstrap=False, max_depth=14, max_features=log2, min_samples_leaf=10, min_samples_split=2, n_estimators=3900;, score=(train=0.500, test=0.500) total time=   3.5s\n",
      "[CV 4/5] END bootstrap=False, max_depth=14, max_features=log2, min_samples_leaf=10, min_samples_split=2, n_estimators=3900;, score=(train=0.500, test=0.500) total time=   3.4s\n"
     ]
    },
    {
     "name": "stderr",
     "output_type": "stream",
     "text": [
      "/Users/sezaiufukoral/anaconda3/lib/python3.11/site-packages/sklearn/metrics/_classification.py:2466: UserWarning: y_pred contains classes not in y_true\n",
      "  warnings.warn(\"y_pred contains classes not in y_true\")\n"
     ]
    },
    {
     "name": "stdout",
     "output_type": "stream",
     "text": [
      "[CV 5/5] END bootstrap=False, max_depth=14, max_features=log2, min_samples_leaf=10, min_samples_split=2, n_estimators=3900;, score=(train=0.500, test=0.000) total time=   3.3s\n",
      "[CV 1/5] END bootstrap=False, max_depth=7, max_features=None, min_samples_leaf=1, min_samples_split=10, n_estimators=4450;, score=(train=1.000, test=0.750) total time=   5.8s\n",
      "[CV 2/5] END bootstrap=False, max_depth=7, max_features=None, min_samples_leaf=1, min_samples_split=10, n_estimators=4450;, score=(train=1.000, test=0.333) total time=   6.1s\n",
      "[CV 3/5] END bootstrap=False, max_depth=7, max_features=None, min_samples_leaf=1, min_samples_split=10, n_estimators=4450;, score=(train=1.000, test=0.500) total time=   5.8s\n",
      "[CV 4/5] END bootstrap=False, max_depth=7, max_features=None, min_samples_leaf=1, min_samples_split=10, n_estimators=4450;, score=(train=1.000, test=0.833) total time=   5.7s\n"
     ]
    },
    {
     "name": "stderr",
     "output_type": "stream",
     "text": [
      "/Users/sezaiufukoral/anaconda3/lib/python3.11/site-packages/sklearn/metrics/_classification.py:395: UserWarning: A single label was found in 'y_true' and 'y_pred'. For the confusion matrix to have the correct shape, use the 'labels' parameter to pass all known labels.\n",
      "  warnings.warn(\n"
     ]
    },
    {
     "name": "stdout",
     "output_type": "stream",
     "text": [
      "[CV 5/5] END bootstrap=False, max_depth=7, max_features=None, min_samples_leaf=1, min_samples_split=10, n_estimators=4450;, score=(train=0.817, test=1.000) total time=   5.1s\n",
      "[CV 1/5] END bootstrap=True, max_depth=7, max_features=log2, min_samples_leaf=10, min_samples_split=10, n_estimators=1150;, score=(train=0.500, test=0.500) total time=   1.3s\n",
      "[CV 1/5] END bootstrap=True, max_depth=17, max_features=None, min_samples_leaf=10, min_samples_split=2, n_estimators=5000;, score=(train=0.500, test=0.500) total time=   5.6s\n",
      "[CV 2/5] END bootstrap=True, max_depth=7, max_features=log2, min_samples_leaf=10, min_samples_split=10, n_estimators=1150;, score=(train=0.500, test=0.500) total time=   1.3s\n",
      "[CV 2/5] END bootstrap=True, max_depth=17, max_features=None, min_samples_leaf=10, min_samples_split=2, n_estimators=5000;, score=(train=0.500, test=0.500) total time=   5.7s\n",
      "[CV 3/5] END bootstrap=True, max_depth=7, max_features=log2, min_samples_leaf=10, min_samples_split=10, n_estimators=1150;, score=(train=0.500, test=0.500) total time=   1.2s\n",
      "[CV 3/5] END bootstrap=True, max_depth=17, max_features=None, min_samples_leaf=10, min_samples_split=2, n_estimators=5000;, score=(train=0.500, test=0.500) total time=   5.6s\n",
      "[CV 4/5] END bootstrap=True, max_depth=7, max_features=log2, min_samples_leaf=10, min_samples_split=10, n_estimators=1150;, score=(train=0.500, test=0.500) total time=   1.2s\n"
     ]
    },
    {
     "name": "stderr",
     "output_type": "stream",
     "text": [
      "/Users/sezaiufukoral/anaconda3/lib/python3.11/site-packages/sklearn/metrics/_classification.py:2466: UserWarning: y_pred contains classes not in y_true\n",
      "  warnings.warn(\"y_pred contains classes not in y_true\")\n"
     ]
    },
    {
     "name": "stdout",
     "output_type": "stream",
     "text": [
      "[CV 5/5] END bootstrap=True, max_depth=7, max_features=log2, min_samples_leaf=10, min_samples_split=10, n_estimators=1150;, score=(train=0.500, test=0.000) total time=   1.3s\n",
      "[CV 4/5] END bootstrap=True, max_depth=17, max_features=None, min_samples_leaf=10, min_samples_split=2, n_estimators=5000;, score=(train=0.500, test=0.500) total time=   5.2s\n",
      "[CV 1/5] END bootstrap=False, max_depth=4, max_features=None, min_samples_leaf=10, min_samples_split=2, n_estimators=3350;, score=(train=0.500, test=0.500) total time=   2.5s\n",
      "[CV 2/5] END bootstrap=False, max_depth=4, max_features=None, min_samples_leaf=10, min_samples_split=2, n_estimators=3350;, score=(train=0.500, test=0.500) total time=   2.3s\n",
      "[CV 4/5] END bootstrap=False, max_depth=4, max_features=None, min_samples_leaf=10, min_samples_split=2, n_estimators=3350;, score=(train=0.500, test=0.500) total time=   2.3s\n",
      "[CV 3/5] END bootstrap=False, max_depth=4, max_features=None, min_samples_leaf=10, min_samples_split=2, n_estimators=3350;, score=(train=0.500, test=0.500) total time=   2.5s\n"
     ]
    },
    {
     "name": "stderr",
     "output_type": "stream",
     "text": [
      "/Users/sezaiufukoral/anaconda3/lib/python3.11/site-packages/sklearn/metrics/_classification.py:2466: UserWarning: y_pred contains classes not in y_true\n",
      "  warnings.warn(\"y_pred contains classes not in y_true\")\n"
     ]
    },
    {
     "name": "stdout",
     "output_type": "stream",
     "text": [
      "[CV 5/5] END bootstrap=True, max_depth=17, max_features=None, min_samples_leaf=10, min_samples_split=2, n_estimators=5000;, score=(train=0.500, test=0.000) total time=   5.5s\n",
      "[CV 1/5] END bootstrap=True, max_depth=14, max_features=log2, min_samples_leaf=1, min_samples_split=10, n_estimators=1700;, score=(train=0.500, test=0.500) total time=   2.1s\n"
     ]
    },
    {
     "name": "stderr",
     "output_type": "stream",
     "text": [
      "/Users/sezaiufukoral/anaconda3/lib/python3.11/site-packages/sklearn/metrics/_classification.py:2466: UserWarning: y_pred contains classes not in y_true\n",
      "  warnings.warn(\"y_pred contains classes not in y_true\")\n"
     ]
    },
    {
     "name": "stdout",
     "output_type": "stream",
     "text": [
      "[CV 5/5] END bootstrap=False, max_depth=4, max_features=None, min_samples_leaf=10, min_samples_split=2, n_estimators=3350;, score=(train=0.500, test=0.000) total time=   2.6s\n",
      "[CV 2/5] END bootstrap=True, max_depth=14, max_features=log2, min_samples_leaf=1, min_samples_split=10, n_estimators=1700;, score=(train=0.643, test=0.500) total time=   1.9s\n",
      "[CV 4/5] END bootstrap=True, max_depth=14, max_features=log2, min_samples_leaf=1, min_samples_split=10, n_estimators=1700;, score=(train=0.500, test=0.500) total time=   1.9s\n",
      "[CV 3/5] END bootstrap=True, max_depth=14, max_features=log2, min_samples_leaf=1, min_samples_split=10, n_estimators=1700;, score=(train=0.500, test=0.500) total time=   2.0s\n"
     ]
    },
    {
     "name": "stderr",
     "output_type": "stream",
     "text": [
      "/Users/sezaiufukoral/anaconda3/lib/python3.11/site-packages/sklearn/metrics/_classification.py:2466: UserWarning: y_pred contains classes not in y_true\n",
      "  warnings.warn(\"y_pred contains classes not in y_true\")\n"
     ]
    },
    {
     "name": "stdout",
     "output_type": "stream",
     "text": [
      "[CV 5/5] END bootstrap=True, max_depth=14, max_features=log2, min_samples_leaf=1, min_samples_split=10, n_estimators=1700;, score=(train=0.643, test=0.000) total time=   2.0s\n",
      "[CV 1/5] END bootstrap=True, max_depth=13, max_features=None, min_samples_leaf=1, min_samples_split=10, n_estimators=2250;, score=(train=0.900, test=0.750) total time=   3.1s\n",
      "[CV 3/5] END bootstrap=True, max_depth=13, max_features=None, min_samples_leaf=1, min_samples_split=10, n_estimators=2250;, score=(train=0.900, test=0.500) total time=   2.9s\n",
      "[CV 2/5] END bootstrap=True, max_depth=13, max_features=None, min_samples_leaf=1, min_samples_split=10, n_estimators=2250;, score=(train=0.929, test=0.333) total time=   3.2s\n",
      "[CV 2/5] END bootstrap=True, max_depth=11, max_features=log2, min_samples_leaf=10, min_samples_split=10, n_estimators=1700;, score=(train=0.500, test=0.500) total time=   1.8s\n",
      "[CV 3/5] END bootstrap=True, max_depth=11, max_features=log2, min_samples_leaf=10, min_samples_split=10, n_estimators=1700;, score=(train=0.500, test=0.500) total time=   1.8s\n",
      "[CV 1/5] END bootstrap=True, max_depth=11, max_features=log2, min_samples_leaf=10, min_samples_split=10, n_estimators=1700;, score=(train=0.500, test=0.500) total time=   2.0s\n",
      "[CV 4/5] END bootstrap=True, max_depth=13, max_features=None, min_samples_leaf=1, min_samples_split=10, n_estimators=2250;, score=(train=0.917, test=0.833) total time=   3.1s\n"
     ]
    },
    {
     "name": "stderr",
     "output_type": "stream",
     "text": [
      "/Users/sezaiufukoral/anaconda3/lib/python3.11/site-packages/sklearn/metrics/_classification.py:2466: UserWarning: y_pred contains classes not in y_true\n",
      "  warnings.warn(\"y_pred contains classes not in y_true\")\n"
     ]
    },
    {
     "name": "stdout",
     "output_type": "stream",
     "text": [
      "[CV 5/5] END bootstrap=True, max_depth=13, max_features=None, min_samples_leaf=1, min_samples_split=10, n_estimators=2250;, score=(train=0.929, test=0.750) total time=   2.8s\n",
      "[CV 3/5] END bootstrap=False, max_depth=4, max_features=sqrt, min_samples_leaf=10, min_samples_split=10, n_estimators=1150;, score=(train=0.500, test=0.500) total time=   0.8s\n",
      "[CV 2/5] END bootstrap=False, max_depth=4, max_features=sqrt, min_samples_leaf=10, min_samples_split=10, n_estimators=1150;, score=(train=0.500, test=0.500) total time=   1.0s\n",
      "[CV 4/5] END bootstrap=False, max_depth=4, max_features=sqrt, min_samples_leaf=10, min_samples_split=10, n_estimators=1150;, score=(train=0.500, test=0.500) total time=   0.9s\n",
      "[CV 1/5] END bootstrap=False, max_depth=4, max_features=sqrt, min_samples_leaf=10, min_samples_split=10, n_estimators=1150;, score=(train=0.500, test=0.500) total time=   1.2s\n"
     ]
    },
    {
     "name": "stderr",
     "output_type": "stream",
     "text": [
      "/Users/sezaiufukoral/anaconda3/lib/python3.11/site-packages/sklearn/metrics/_classification.py:2466: UserWarning: y_pred contains classes not in y_true\n",
      "  warnings.warn(\"y_pred contains classes not in y_true\")\n"
     ]
    },
    {
     "name": "stdout",
     "output_type": "stream",
     "text": [
      "[CV 5/5] END bootstrap=False, max_depth=4, max_features=sqrt, min_samples_leaf=10, min_samples_split=10, n_estimators=1150;, score=(train=0.500, test=0.000) total time=   0.9s\n",
      "[CV 1/5] END bootstrap=True, max_depth=2, max_features=log2, min_samples_leaf=10, min_samples_split=2, n_estimators=50;, score=(train=0.500, test=0.500) total time=   0.1s\n",
      "[CV 2/5] END bootstrap=True, max_depth=2, max_features=log2, min_samples_leaf=10, min_samples_split=2, n_estimators=50;, score=(train=0.500, test=0.500) total time=   0.1s\n",
      "[CV 1/5] END bootstrap=False, max_depth=11, max_features=sqrt, min_samples_leaf=10, min_samples_split=10, n_estimators=600;, score=(train=0.500, test=0.500) total time=   0.5s\n",
      "[CV 3/5] END bootstrap=False, max_depth=11, max_features=sqrt, min_samples_leaf=10, min_samples_split=10, n_estimators=600;, score=(train=0.500, test=0.500) total time=   0.4s\n",
      "[CV 3/5] END bootstrap=True, max_depth=2, max_features=log2, min_samples_leaf=10, min_samples_split=2, n_estimators=50;, score=(train=0.500, test=0.500) total time=   0.1s\n",
      "[CV 4/5] END bootstrap=True, max_depth=2, max_features=log2, min_samples_leaf=10, min_samples_split=2, n_estimators=50;, score=(train=0.500, test=0.500) total time=   0.0s\n",
      "[CV 4/5] END bootstrap=False, max_depth=11, max_features=sqrt, min_samples_leaf=10, min_samples_split=10, n_estimators=600;, score=(train=0.500, test=0.500) total time=   0.4s\n",
      "[CV 4/5] END bootstrap=True, max_depth=11, max_features=log2, min_samples_leaf=10, min_samples_split=10, n_estimators=1700;, score=(train=0.500, test=0.500) total time=   2.0s\n",
      "[CV 5/5] END bootstrap=True, max_depth=2, max_features=log2, min_samples_leaf=10, min_samples_split=2, n_estimators=50;, score=(train=0.500, test=0.000) total time=   0.1s\n",
      "[CV 2/5] END bootstrap=False, max_depth=11, max_features=sqrt, min_samples_leaf=10, min_samples_split=10, n_estimators=600;, score=(train=0.500, test=0.500) total time=   0.6s\n",
      "[CV 5/5] END bootstrap=True, max_depth=11, max_features=log2, min_samples_leaf=10, min_samples_split=10, n_estimators=1700;, score=(train=0.500, test=0.000) total time=   1.8s\n",
      "[CV 5/5] END bootstrap=False, max_depth=11, max_features=sqrt, min_samples_leaf=10, min_samples_split=10, n_estimators=600;, score=(train=0.500, test=0.000) total time=   0.5s\n"
     ]
    },
    {
     "name": "stderr",
     "output_type": "stream",
     "text": [
      "/Users/sezaiufukoral/anaconda3/lib/python3.11/site-packages/sklearn/metrics/_classification.py:2466: UserWarning: y_pred contains classes not in y_true\n",
      "  warnings.warn(\"y_pred contains classes not in y_true\")\n",
      "/Users/sezaiufukoral/anaconda3/lib/python3.11/site-packages/sklearn/metrics/_classification.py:2466: UserWarning: y_pred contains classes not in y_true\n",
      "  warnings.warn(\"y_pred contains classes not in y_true\")\n",
      "/Users/sezaiufukoral/anaconda3/lib/python3.11/site-packages/sklearn/metrics/_classification.py:2466: UserWarning: y_pred contains classes not in y_true\n",
      "  warnings.warn(\"y_pred contains classes not in y_true\")\n"
     ]
    },
    {
     "name": "stdout",
     "output_type": "stream",
     "text": [
      "[CV 3/5] END bootstrap=True, max_depth=10, max_features=None, min_samples_leaf=10, min_samples_split=10, n_estimators=2800;, score=(train=0.500, test=0.500) total time=   3.0s\n",
      "[CV 2/5] END bootstrap=True, max_depth=10, max_features=None, min_samples_leaf=10, min_samples_split=10, n_estimators=2800;, score=(train=0.500, test=0.500) total time=   3.1s\n",
      "[CV 1/5] END bootstrap=True, max_depth=10, max_features=None, min_samples_leaf=10, min_samples_split=10, n_estimators=2800;, score=(train=0.500, test=0.500) total time=   3.3s\n",
      "[CV 1/5] END bootstrap=True, max_depth=19, max_features=sqrt, min_samples_leaf=1, min_samples_split=10, n_estimators=3900;, score=(train=0.500, test=0.500) total time=   4.4s\n",
      "[CV 5/5] END bootstrap=True, max_depth=19, max_features=sqrt, min_samples_leaf=1, min_samples_split=10, n_estimators=3900;, score=(train=0.857, test=0.000) total time=   4.5s\n",
      "[CV 2/5] END bootstrap=True, max_depth=19, max_features=sqrt, min_samples_leaf=1, min_samples_split=10, n_estimators=3900;, score=(train=0.786, test=0.500) total time=   4.5s\n"
     ]
    },
    {
     "name": "stderr",
     "output_type": "stream",
     "text": [
      "/Users/sezaiufukoral/anaconda3/lib/python3.11/site-packages/sklearn/metrics/_classification.py:2466: UserWarning: y_pred contains classes not in y_true\n",
      "  warnings.warn(\"y_pred contains classes not in y_true\")\n"
     ]
    },
    {
     "name": "stdout",
     "output_type": "stream",
     "text": [
      "[CV 3/5] END bootstrap=True, max_depth=19, max_features=sqrt, min_samples_leaf=1, min_samples_split=10, n_estimators=3900;, score=(train=0.500, test=0.500) total time=   4.5s\n",
      "[CV 4/5] END bootstrap=True, max_depth=19, max_features=sqrt, min_samples_leaf=1, min_samples_split=10, n_estimators=3900;, score=(train=0.500, test=0.500) total time=   4.6s\n"
     ]
    },
    {
     "name": "stderr",
     "output_type": "stream",
     "text": [
      "/Users/sezaiufukoral/anaconda3/lib/python3.11/site-packages/sklearn/metrics/_classification.py:2466: UserWarning: y_pred contains classes not in y_true\n",
      "  warnings.warn(\"y_pred contains classes not in y_true\")\n"
     ]
    },
    {
     "name": "stdout",
     "output_type": "stream",
     "text": [
      "[CV 4/5] END bootstrap=True, max_depth=10, max_features=None, min_samples_leaf=10, min_samples_split=10, n_estimators=2800;, score=(train=0.500, test=0.500) total time=   3.1s\n",
      "[CV 5/5] END bootstrap=True, max_depth=10, max_features=None, min_samples_leaf=10, min_samples_split=10, n_estimators=2800;, score=(train=0.500, test=0.000) total time=   3.1s\n",
      "[CV 1/5] END bootstrap=True, max_depth=6, max_features=log2, min_samples_leaf=10, min_samples_split=10, n_estimators=3350;, score=(train=0.500, test=0.500) total time=   3.8s\n",
      "[CV 1/5] END bootstrap=False, max_depth=4, max_features=log2, min_samples_leaf=1, min_samples_split=10, n_estimators=3900;, score=(train=0.900, test=0.500) total time=   3.1s\n",
      "[CV 3/5] END bootstrap=True, max_depth=6, max_features=log2, min_samples_leaf=10, min_samples_split=10, n_estimators=3350;, score=(train=0.500, test=0.500) total time=   3.8s[CV 2/5] END bootstrap=True, max_depth=6, max_features=log2, min_samples_leaf=10, min_samples_split=10, n_estimators=3350;, score=(train=0.500, test=0.500) total time=   3.9s\n",
      "\n",
      "[CV 4/5] END bootstrap=True, max_depth=6, max_features=log2, min_samples_leaf=10, min_samples_split=10, n_estimators=3350;, score=(train=0.500, test=0.500) total time=   3.8s\n",
      "[CV 5/5] END bootstrap=True, max_depth=6, max_features=log2, min_samples_leaf=10, min_samples_split=10, n_estimators=3350;, score=(train=0.500, test=0.000) total time=   3.9s\n"
     ]
    },
    {
     "name": "stderr",
     "output_type": "stream",
     "text": [
      "/Users/sezaiufukoral/anaconda3/lib/python3.11/site-packages/sklearn/metrics/_classification.py:2466: UserWarning: y_pred contains classes not in y_true\n",
      "  warnings.warn(\"y_pred contains classes not in y_true\")\n"
     ]
    },
    {
     "name": "stdout",
     "output_type": "stream",
     "text": [
      "[CV 1/5] END bootstrap=False, max_depth=13, max_features=log2, min_samples_leaf=1, min_samples_split=2, n_estimators=600;, score=(train=1.000, test=0.750) total time=   0.5s\n",
      "[CV 2/5] END bootstrap=False, max_depth=13, max_features=log2, min_samples_leaf=1, min_samples_split=2, n_estimators=600;, score=(train=1.000, test=0.667) total time=   0.5s\n",
      "[CV 3/5] END bootstrap=False, max_depth=13, max_features=log2, min_samples_leaf=1, min_samples_split=2, n_estimators=600;, score=(train=1.000, test=0.500) total time=   0.6s\n",
      "[CV 4/5] END bootstrap=False, max_depth=13, max_features=log2, min_samples_leaf=1, min_samples_split=2, n_estimators=600;, score=(train=1.000, test=0.667) total time=   0.5s\n"
     ]
    },
    {
     "name": "stderr",
     "output_type": "stream",
     "text": [
      "/Users/sezaiufukoral/anaconda3/lib/python3.11/site-packages/sklearn/metrics/_classification.py:395: UserWarning: A single label was found in 'y_true' and 'y_pred'. For the confusion matrix to have the correct shape, use the 'labels' parameter to pass all known labels.\n",
      "  warnings.warn(\n"
     ]
    },
    {
     "name": "stdout",
     "output_type": "stream",
     "text": [
      "[CV 5/5] END bootstrap=False, max_depth=13, max_features=log2, min_samples_leaf=1, min_samples_split=2, n_estimators=600;, score=(train=1.000, test=1.000) total time=   0.5s\n",
      "[CV 2/5] END bootstrap=False, max_depth=4, max_features=log2, min_samples_leaf=1, min_samples_split=10, n_estimators=3900;, score=(train=1.000, test=1.000) total time=   3.2s\n",
      "[CV 3/5] END bootstrap=False, max_depth=4, max_features=log2, min_samples_leaf=1, min_samples_split=10, n_estimators=3900;, score=(train=0.900, test=0.500) total time=   3.3s\n",
      "[CV 4/5] END bootstrap=False, max_depth=4, max_features=log2, min_samples_leaf=1, min_samples_split=10, n_estimators=3900;, score=(train=0.917, test=0.500) total time=   3.2s\n"
     ]
    },
    {
     "name": "stderr",
     "output_type": "stream",
     "text": [
      "/Users/sezaiufukoral/anaconda3/lib/python3.11/site-packages/sklearn/metrics/_classification.py:2466: UserWarning: y_pred contains classes not in y_true\n",
      "  warnings.warn(\"y_pred contains classes not in y_true\")\n"
     ]
    },
    {
     "name": "stdout",
     "output_type": "stream",
     "text": [
      "[CV 5/5] END bootstrap=False, max_depth=4, max_features=log2, min_samples_leaf=1, min_samples_split=10, n_estimators=3900;, score=(train=1.000, test=0.750) total time=   3.3s\n",
      "[CV 1/5] END bootstrap=False, max_depth=8, max_features=log2, min_samples_leaf=10, min_samples_split=10, n_estimators=3350;, score=(train=0.500, test=0.500) total time=   2.6s\n",
      "[CV 1/5] END bootstrap=False, max_depth=20, max_features=log2, min_samples_leaf=10, min_samples_split=10, n_estimators=4450;, score=(train=0.500, test=0.500) total time=   3.6s\n",
      "[CV 3/5] END bootstrap=False, max_depth=20, max_features=log2, min_samples_leaf=10, min_samples_split=10, n_estimators=4450;, score=(train=0.500, test=0.500) total time=   3.7s\n",
      "[CV 2/5] END bootstrap=False, max_depth=20, max_features=log2, min_samples_leaf=10, min_samples_split=10, n_estimators=4450;, score=(train=0.500, test=0.500) total time=   3.8s\n",
      "[CV 1/5] END bootstrap=False, max_depth=13, max_features=log2, min_samples_leaf=10, min_samples_split=10, n_estimators=50;, score=(train=0.500, test=0.500) total time=   0.0s\n",
      "[CV 2/5] END bootstrap=False, max_depth=13, max_features=log2, min_samples_leaf=10, min_samples_split=10, n_estimators=50;, score=(train=0.500, test=0.500) total time=   0.1s\n",
      "[CV 3/5] END bootstrap=False, max_depth=13, max_features=log2, min_samples_leaf=10, min_samples_split=10, n_estimators=50;, score=(train=0.500, test=0.500) total time=   0.1s\n",
      "[CV 4/5] END bootstrap=False, max_depth=13, max_features=log2, min_samples_leaf=10, min_samples_split=10, n_estimators=50;, score=(train=0.500, test=0.500) total time=   0.0s\n"
     ]
    },
    {
     "name": "stderr",
     "output_type": "stream",
     "text": [
      "/Users/sezaiufukoral/anaconda3/lib/python3.11/site-packages/sklearn/metrics/_classification.py:2466: UserWarning: y_pred contains classes not in y_true\n",
      "  warnings.warn(\"y_pred contains classes not in y_true\")\n",
      "/Users/sezaiufukoral/anaconda3/lib/python3.11/site-packages/sklearn/metrics/_classification.py:2466: UserWarning: y_pred contains classes not in y_true\n",
      "  warnings.warn(\"y_pred contains classes not in y_true\")\n"
     ]
    },
    {
     "name": "stdout",
     "output_type": "stream",
     "text": [
      "[CV 5/5] END bootstrap=False, max_depth=13, max_features=log2, min_samples_leaf=10, min_samples_split=10, n_estimators=50;, score=(train=0.500, test=0.000) total time=   0.0s\n",
      "[CV 4/5] END bootstrap=False, max_depth=20, max_features=log2, min_samples_leaf=10, min_samples_split=10, n_estimators=4450;, score=(train=0.500, test=0.500) total time=   3.6s\n",
      "[CV 2/5] END bootstrap=False, max_depth=8, max_features=log2, min_samples_leaf=10, min_samples_split=10, n_estimators=3350;, score=(train=0.500, test=0.500) total time=   2.7s\n",
      "[CV 5/5] END bootstrap=False, max_depth=20, max_features=log2, min_samples_leaf=10, min_samples_split=10, n_estimators=4450;, score=(train=0.500, test=0.000) total time=   3.5s\n",
      "[CV 3/5] END bootstrap=False, max_depth=8, max_features=log2, min_samples_leaf=10, min_samples_split=10, n_estimators=3350;, score=(train=0.500, test=0.500) total time=   2.7s\n",
      "[CV 4/5] END bootstrap=False, max_depth=8, max_features=log2, min_samples_leaf=10, min_samples_split=10, n_estimators=3350;, score=(train=0.500, test=0.500) total time=   2.6s\n"
     ]
    },
    {
     "name": "stderr",
     "output_type": "stream",
     "text": [
      "/Users/sezaiufukoral/anaconda3/lib/python3.11/site-packages/sklearn/metrics/_classification.py:2466: UserWarning: y_pred contains classes not in y_true\n",
      "  warnings.warn(\"y_pred contains classes not in y_true\")\n"
     ]
    },
    {
     "name": "stdout",
     "output_type": "stream",
     "text": [
      "[CV 5/5] END bootstrap=False, max_depth=8, max_features=log2, min_samples_leaf=10, min_samples_split=10, n_estimators=3350;, score=(train=0.500, test=0.000) total time=   2.8s\n",
      "[CV 3/5] END bootstrap=True, max_depth=15, max_features=log2, min_samples_leaf=10, min_samples_split=10, n_estimators=4450;, score=(train=0.500, test=0.500) total time=   5.0s\n",
      "[CV 1/5] END bootstrap=True, max_depth=15, max_features=log2, min_samples_leaf=10, min_samples_split=10, n_estimators=4450;, score=(train=0.500, test=0.500) total time=   5.3s\n",
      "[CV 2/5] END bootstrap=True, max_depth=15, max_features=log2, min_samples_leaf=10, min_samples_split=10, n_estimators=4450;, score=(train=0.500, test=0.500) total time=   5.3s\n"
     ]
    },
    {
     "name": "stderr",
     "output_type": "stream",
     "text": [
      "/Users/sezaiufukoral/anaconda3/lib/python3.11/site-packages/sklearn/metrics/_classification.py:2466: UserWarning: y_pred contains classes not in y_true\n",
      "  warnings.warn(\"y_pred contains classes not in y_true\")\n"
     ]
    },
    {
     "name": "stdout",
     "output_type": "stream",
     "text": [
      "[CV 5/5] END bootstrap=True, max_depth=15, max_features=log2, min_samples_leaf=10, min_samples_split=10, n_estimators=4450;, score=(train=0.500, test=0.000) total time=   5.1s\n",
      "[CV 1/5] END bootstrap=True, max_depth=18, max_features=sqrt, min_samples_leaf=10, min_samples_split=10, n_estimators=3350;, score=(train=0.500, test=0.500) total time=   4.2s\n",
      "[CV 4/5] END bootstrap=True, max_depth=15, max_features=log2, min_samples_leaf=10, min_samples_split=10, n_estimators=4450;, score=(train=0.500, test=0.500) total time=   5.4s\n",
      "[CV 2/5] END bootstrap=True, max_depth=18, max_features=sqrt, min_samples_leaf=10, min_samples_split=10, n_estimators=3350;, score=(train=0.500, test=0.500) total time=   4.0s\n",
      "[CV 3/5] END bootstrap=True, max_depth=18, max_features=sqrt, min_samples_leaf=10, min_samples_split=10, n_estimators=3350;, score=(train=0.500, test=0.500) total time=   4.0s\n",
      "[CV 1/5] END bootstrap=True, max_depth=6, max_features=sqrt, min_samples_leaf=10, min_samples_split=10, n_estimators=600;, score=(train=0.500, test=0.500) total time=   0.7s\n",
      "[CV 2/5] END bootstrap=True, max_depth=6, max_features=sqrt, min_samples_leaf=10, min_samples_split=10, n_estimators=600;, score=(train=0.500, test=0.500) total time=   0.7s\n",
      "[CV 2/5] END bootstrap=False, max_depth=16, max_features=log2, min_samples_leaf=10, min_samples_split=10, n_estimators=3900;, score=(train=0.500, test=0.500) total time=   3.2s\n",
      "[CV 3/5] END bootstrap=False, max_depth=16, max_features=log2, min_samples_leaf=10, min_samples_split=10, n_estimators=3900;, score=(train=0.500, test=0.500) total time=   3.2s\n",
      "[CV 3/5] END bootstrap=True, max_depth=6, max_features=sqrt, min_samples_leaf=10, min_samples_split=10, n_estimators=600;, score=(train=0.500, test=0.500) total time=   0.7s\n",
      "[CV 1/5] END bootstrap=False, max_depth=16, max_features=log2, min_samples_leaf=10, min_samples_split=10, n_estimators=3900;, score=(train=0.500, test=0.500) total time=   3.3s\n",
      "[CV 4/5] END bootstrap=False, max_depth=16, max_features=log2, min_samples_leaf=10, min_samples_split=10, n_estimators=3900;, score=(train=0.500, test=0.500) total time=   3.1s\n"
     ]
    },
    {
     "name": "stderr",
     "output_type": "stream",
     "text": [
      "/Users/sezaiufukoral/anaconda3/lib/python3.11/site-packages/sklearn/metrics/_classification.py:2466: UserWarning: y_pred contains classes not in y_true\n",
      "  warnings.warn(\"y_pred contains classes not in y_true\")\n",
      "/Users/sezaiufukoral/anaconda3/lib/python3.11/site-packages/sklearn/metrics/_classification.py:2466: UserWarning: y_pred contains classes not in y_true\n",
      "  warnings.warn(\"y_pred contains classes not in y_true\")\n"
     ]
    },
    {
     "name": "stdout",
     "output_type": "stream",
     "text": [
      "[CV 4/5] END bootstrap=True, max_depth=18, max_features=sqrt, min_samples_leaf=10, min_samples_split=10, n_estimators=3350;, score=(train=0.500, test=0.500) total time=   4.1s\n",
      "[CV 5/5] END bootstrap=True, max_depth=18, max_features=sqrt, min_samples_leaf=10, min_samples_split=10, n_estimators=3350;, score=(train=0.500, test=0.000) total time=   3.8s\n",
      "[CV 5/5] END bootstrap=False, max_depth=16, max_features=log2, min_samples_leaf=10, min_samples_split=10, n_estimators=3900;, score=(train=0.500, test=0.000) total time=   3.1s\n",
      "[CV 5/5] END bootstrap=True, max_depth=6, max_features=sqrt, min_samples_leaf=10, min_samples_split=10, n_estimators=600;, score=(train=0.500, test=0.000) total time=   0.7s\n",
      "[CV 4/5] END bootstrap=True, max_depth=6, max_features=sqrt, min_samples_leaf=10, min_samples_split=10, n_estimators=600;, score=(train=0.500, test=0.500) total time=   0.8s\n"
     ]
    },
    {
     "name": "stderr",
     "output_type": "stream",
     "text": [
      "/Users/sezaiufukoral/anaconda3/lib/python3.11/site-packages/sklearn/metrics/_classification.py:2466: UserWarning: y_pred contains classes not in y_true\n",
      "  warnings.warn(\"y_pred contains classes not in y_true\")\n"
     ]
    },
    {
     "name": "stdout",
     "output_type": "stream",
     "text": [
      "[CV 1/5] END bootstrap=False, max_depth=3, max_features=None, min_samples_leaf=10, min_samples_split=10, n_estimators=3900;, score=(train=0.500, test=0.500) total time=   3.2s\n",
      "[CV 2/5] END bootstrap=False, max_depth=3, max_features=None, min_samples_leaf=10, min_samples_split=10, n_estimators=3900;, score=(train=0.500, test=0.500) total time=   3.2s\n",
      "[CV 3/5] END bootstrap=False, max_depth=3, max_features=None, min_samples_leaf=10, min_samples_split=10, n_estimators=3900;, score=(train=0.500, test=0.500) total time=   3.3s\n",
      "[CV 1/5] END bootstrap=False, max_depth=14, max_features=log2, min_samples_leaf=1, min_samples_split=2, n_estimators=4450;, score=(train=1.000, test=0.750) total time=   4.1s\n",
      "[CV 3/5] END bootstrap=False, max_depth=14, max_features=log2, min_samples_leaf=1, min_samples_split=2, n_estimators=4450;, score=(train=1.000, test=0.500) total time=   4.1s\n",
      "[CV 2/5] END bootstrap=False, max_depth=14, max_features=log2, min_samples_leaf=1, min_samples_split=2, n_estimators=4450;, score=(train=1.000, test=0.667) total time=   4.2s\n"
     ]
    },
    {
     "name": "stderr",
     "output_type": "stream",
     "text": [
      "/Users/sezaiufukoral/anaconda3/lib/python3.11/site-packages/sklearn/metrics/_classification.py:395: UserWarning: A single label was found in 'y_true' and 'y_pred'. For the confusion matrix to have the correct shape, use the 'labels' parameter to pass all known labels.\n",
      "  warnings.warn(\n"
     ]
    },
    {
     "name": "stdout",
     "output_type": "stream",
     "text": [
      "[CV 5/5] END bootstrap=False, max_depth=14, max_features=log2, min_samples_leaf=1, min_samples_split=2, n_estimators=4450;, score=(train=1.000, test=1.000) total time=   4.0s\n",
      "[CV 4/5] END bootstrap=False, max_depth=14, max_features=log2, min_samples_leaf=1, min_samples_split=2, n_estimators=4450;, score=(train=1.000, test=0.667) total time=   4.1s\n",
      "[CV 1/5] END bootstrap=False, max_depth=13, max_features=log2, min_samples_leaf=10, min_samples_split=2, n_estimators=1700;, score=(train=0.500, test=0.500) total time=   1.3s\n"
     ]
    },
    {
     "name": "stderr",
     "output_type": "stream",
     "text": [
      "/Users/sezaiufukoral/anaconda3/lib/python3.11/site-packages/sklearn/metrics/_classification.py:2466: UserWarning: y_pred contains classes not in y_true\n",
      "  warnings.warn(\"y_pred contains classes not in y_true\")\n"
     ]
    },
    {
     "name": "stdout",
     "output_type": "stream",
     "text": [
      "[CV 2/5] END bootstrap=True, max_depth=15, max_features=None, min_samples_leaf=1, min_samples_split=10, n_estimators=2250;, score=(train=0.929, test=0.333) total time=   3.2s\n",
      "[CV 5/5] END bootstrap=False, max_depth=3, max_features=None, min_samples_leaf=10, min_samples_split=10, n_estimators=3900;, score=(train=0.500, test=0.000) total time=   3.4s\n",
      "[CV 1/5] END bootstrap=True, max_depth=15, max_features=None, min_samples_leaf=1, min_samples_split=10, n_estimators=2250;, score=(train=0.900, test=0.750) total time=   3.4s\n",
      "[CV 4/5] END bootstrap=False, max_depth=3, max_features=None, min_samples_leaf=10, min_samples_split=10, n_estimators=3900;, score=(train=0.500, test=0.500) total time=   3.5s\n",
      "[CV 4/5] END bootstrap=True, max_depth=15, max_features=None, min_samples_leaf=1, min_samples_split=10, n_estimators=2250;, score=(train=0.917, test=0.833) total time=   3.3s\n",
      "[CV 3/5] END bootstrap=True, max_depth=15, max_features=None, min_samples_leaf=1, min_samples_split=10, n_estimators=2250;, score=(train=0.900, test=0.500) total time=   3.4s\n",
      "[CV 2/5] END bootstrap=False, max_depth=13, max_features=log2, min_samples_leaf=10, min_samples_split=2, n_estimators=1700;, score=(train=0.500, test=0.500) total time=   1.5s\n"
     ]
    },
    {
     "name": "stderr",
     "output_type": "stream",
     "text": [
      "/Users/sezaiufukoral/anaconda3/lib/python3.11/site-packages/sklearn/metrics/_classification.py:395: UserWarning: A single label was found in 'y_true' and 'y_pred'. For the confusion matrix to have the correct shape, use the 'labels' parameter to pass all known labels.\n",
      "  warnings.warn(\n"
     ]
    },
    {
     "name": "stdout",
     "output_type": "stream",
     "text": [
      "[CV 5/5] END bootstrap=True, max_depth=15, max_features=None, min_samples_leaf=1, min_samples_split=10, n_estimators=2250;, score=(train=0.929, test=1.000) total time=   3.4s\n",
      "[CV 1/5] END bootstrap=False, max_depth=7, max_features=None, min_samples_leaf=10, min_samples_split=10, n_estimators=1150;, score=(train=0.500, test=0.500) total time=   0.9s\n",
      "[CV 2/5] END bootstrap=False, max_depth=7, max_features=None, min_samples_leaf=10, min_samples_split=10, n_estimators=1150;, score=(train=0.500, test=0.500) total time=   0.9s\n",
      "[CV 3/5] END bootstrap=False, max_depth=7, max_features=None, min_samples_leaf=10, min_samples_split=10, n_estimators=1150;, score=(train=0.500, test=0.500) total time=   1.0s\n",
      "[CV 4/5] END bootstrap=False, max_depth=7, max_features=None, min_samples_leaf=10, min_samples_split=10, n_estimators=1150;, score=(train=0.500, test=0.500) total time=   1.0s\n"
     ]
    },
    {
     "name": "stderr",
     "output_type": "stream",
     "text": [
      "/Users/sezaiufukoral/anaconda3/lib/python3.11/site-packages/sklearn/metrics/_classification.py:2466: UserWarning: y_pred contains classes not in y_true\n",
      "  warnings.warn(\"y_pred contains classes not in y_true\")\n"
     ]
    },
    {
     "name": "stdout",
     "output_type": "stream",
     "text": [
      "[CV 5/5] END bootstrap=False, max_depth=13, max_features=log2, min_samples_leaf=10, min_samples_split=2, n_estimators=1700;, score=(train=0.500, test=0.000) total time=   1.4s\n",
      "[CV 3/5] END bootstrap=False, max_depth=13, max_features=log2, min_samples_leaf=10, min_samples_split=2, n_estimators=1700;, score=(train=0.500, test=0.500) total time=   1.5s\n"
     ]
    },
    {
     "name": "stderr",
     "output_type": "stream",
     "text": [
      "/Users/sezaiufukoral/anaconda3/lib/python3.11/site-packages/sklearn/metrics/_classification.py:2466: UserWarning: y_pred contains classes not in y_true\n",
      "  warnings.warn(\"y_pred contains classes not in y_true\")\n"
     ]
    },
    {
     "name": "stdout",
     "output_type": "stream",
     "text": [
      "[CV 4/5] END bootstrap=False, max_depth=13, max_features=log2, min_samples_leaf=10, min_samples_split=2, n_estimators=1700;, score=(train=0.500, test=0.500) total time=   1.6s\n",
      "[CV 5/5] END bootstrap=False, max_depth=7, max_features=None, min_samples_leaf=10, min_samples_split=10, n_estimators=1150;, score=(train=0.500, test=0.000) total time=   1.0s\n",
      "[CV 4/5] END bootstrap=True, max_depth=17, max_features=sqrt, min_samples_leaf=10, min_samples_split=10, n_estimators=2250;, score=(train=0.500, test=0.500) total time=   2.7s\n",
      "[CV 3/5] END bootstrap=True, max_depth=17, max_features=sqrt, min_samples_leaf=10, min_samples_split=10, n_estimators=2250;, score=(train=0.500, test=0.500) total time=   2.7s\n",
      "[CV 1/5] END bootstrap=True, max_depth=17, max_features=sqrt, min_samples_leaf=10, min_samples_split=10, n_estimators=2250;, score=(train=0.500, test=0.500) total time=   2.9s\n",
      "[CV 2/5] END bootstrap=True, max_depth=17, max_features=sqrt, min_samples_leaf=10, min_samples_split=10, n_estimators=2250;, score=(train=0.500, test=0.500) total time=   2.9s\n"
     ]
    },
    {
     "name": "stderr",
     "output_type": "stream",
     "text": [
      "/Users/sezaiufukoral/anaconda3/lib/python3.11/site-packages/sklearn/metrics/_classification.py:2466: UserWarning: y_pred contains classes not in y_true\n",
      "  warnings.warn(\"y_pred contains classes not in y_true\")\n"
     ]
    },
    {
     "name": "stdout",
     "output_type": "stream",
     "text": [
      "[CV 5/5] END bootstrap=True, max_depth=17, max_features=sqrt, min_samples_leaf=10, min_samples_split=10, n_estimators=2250;, score=(train=0.500, test=0.000) total time=   2.7s\n",
      "[CV 1/5] END bootstrap=True, max_depth=10, max_features=None, min_samples_leaf=10, min_samples_split=2, n_estimators=5000;, score=(train=0.500, test=0.500) total time=   6.1s\n",
      "[CV 3/5] END bootstrap=True, max_depth=10, max_features=None, min_samples_leaf=10, min_samples_split=2, n_estimators=5000;, score=(train=0.500, test=0.500) total time=   6.0s\n",
      "[CV 2/5] END bootstrap=True, max_depth=10, max_features=None, min_samples_leaf=10, min_samples_split=2, n_estimators=5000;, score=(train=0.500, test=0.500) total time=   6.2s\n",
      "[CV 1/5] END bootstrap=True, max_depth=9, max_features=sqrt, min_samples_leaf=1, min_samples_split=2, n_estimators=4450;, score=(train=1.000, test=0.500) total time=   5.8s\n",
      "[CV 2/5] END bootstrap=True, max_depth=9, max_features=sqrt, min_samples_leaf=1, min_samples_split=2, n_estimators=4450;, score=(train=1.000, test=0.833) total time=   5.8s\n",
      "[CV 3/5] END bootstrap=True, max_depth=9, max_features=sqrt, min_samples_leaf=1, min_samples_split=2, n_estimators=4450;, score=(train=1.000, test=0.500) total time=   5.8s\n",
      "[CV 4/5] END bootstrap=True, max_depth=10, max_features=None, min_samples_leaf=10, min_samples_split=2, n_estimators=5000;, score=(train=0.500, test=0.500) total time=   6.4s\n"
     ]
    },
    {
     "name": "stderr",
     "output_type": "stream",
     "text": [
      "/Users/sezaiufukoral/anaconda3/lib/python3.11/site-packages/sklearn/metrics/_classification.py:2466: UserWarning: y_pred contains classes not in y_true\n",
      "  warnings.warn(\"y_pred contains classes not in y_true\")\n"
     ]
    },
    {
     "name": "stdout",
     "output_type": "stream",
     "text": [
      "[CV 5/5] END bootstrap=True, max_depth=10, max_features=None, min_samples_leaf=10, min_samples_split=2, n_estimators=5000;, score=(train=0.500, test=0.000) total time=   6.6s\n",
      "[CV 1/5] END bootstrap=False, max_depth=3, max_features=None, min_samples_leaf=10, min_samples_split=10, n_estimators=4450;, score=(train=0.500, test=0.500) total time=   3.8s\n"
     ]
    },
    {
     "name": "stderr",
     "output_type": "stream",
     "text": [
      "/Users/sezaiufukoral/anaconda3/lib/python3.11/site-packages/sklearn/metrics/_classification.py:395: UserWarning: A single label was found in 'y_true' and 'y_pred'. For the confusion matrix to have the correct shape, use the 'labels' parameter to pass all known labels.\n",
      "  warnings.warn(\n"
     ]
    },
    {
     "name": "stdout",
     "output_type": "stream",
     "text": [
      "[CV 4/5] END bootstrap=True, max_depth=9, max_features=sqrt, min_samples_leaf=1, min_samples_split=2, n_estimators=4450;, score=(train=1.000, test=0.667) total time=   6.0s\n",
      "[CV 5/5] END bootstrap=True, max_depth=9, max_features=sqrt, min_samples_leaf=1, min_samples_split=2, n_estimators=4450;, score=(train=1.000, test=1.000) total time=   5.9s\n",
      "[CV 2/5] END bootstrap=False, max_depth=3, max_features=None, min_samples_leaf=10, min_samples_split=10, n_estimators=4450;, score=(train=0.500, test=0.500) total time=   3.8s\n",
      "[CV 3/5] END bootstrap=False, max_depth=3, max_features=None, min_samples_leaf=10, min_samples_split=10, n_estimators=4450;, score=(train=0.500, test=0.500) total time=   3.8s\n",
      "[CV 4/5] END bootstrap=False, max_depth=3, max_features=None, min_samples_leaf=10, min_samples_split=10, n_estimators=4450;, score=(train=0.500, test=0.500) total time=   3.8s\n"
     ]
    },
    {
     "name": "stderr",
     "output_type": "stream",
     "text": [
      "/Users/sezaiufukoral/anaconda3/lib/python3.11/site-packages/sklearn/metrics/_classification.py:2466: UserWarning: y_pred contains classes not in y_true\n",
      "  warnings.warn(\"y_pred contains classes not in y_true\")\n"
     ]
    },
    {
     "name": "stdout",
     "output_type": "stream",
     "text": [
      "[CV 5/5] END bootstrap=False, max_depth=3, max_features=None, min_samples_leaf=10, min_samples_split=10, n_estimators=4450;, score=(train=0.500, test=0.000) total time=   3.9s\n",
      "[CV 1/5] END bootstrap=True, max_depth=20, max_features=None, min_samples_leaf=1, min_samples_split=10, n_estimators=600;, score=(train=0.900, test=0.750) total time=   1.0s\n",
      "[CV 2/5] END bootstrap=True, max_depth=20, max_features=None, min_samples_leaf=1, min_samples_split=10, n_estimators=600;, score=(train=0.929, test=0.333) total time=   0.9s\n",
      "[CV 3/5] END bootstrap=True, max_depth=20, max_features=None, min_samples_leaf=1, min_samples_split=10, n_estimators=600;, score=(train=0.900, test=0.500) total time=   0.9s\n"
     ]
    },
    {
     "name": "stderr",
     "output_type": "stream",
     "text": [
      "/Users/sezaiufukoral/anaconda3/lib/python3.11/site-packages/sklearn/metrics/_classification.py:395: UserWarning: A single label was found in 'y_true' and 'y_pred'. For the confusion matrix to have the correct shape, use the 'labels' parameter to pass all known labels.\n",
      "  warnings.warn(\n"
     ]
    },
    {
     "name": "stdout",
     "output_type": "stream",
     "text": [
      "[CV 5/5] END bootstrap=True, max_depth=20, max_features=None, min_samples_leaf=1, min_samples_split=10, n_estimators=600;, score=(train=0.929, test=1.000) total time=   0.9s\n",
      "[CV 4/5] END bootstrap=True, max_depth=20, max_features=None, min_samples_leaf=1, min_samples_split=10, n_estimators=600;, score=(train=0.917, test=0.833) total time=   0.9s\n",
      "[CV 1/5] END bootstrap=True, max_depth=10, max_features=sqrt, min_samples_leaf=10, min_samples_split=10, n_estimators=5000;, score=(train=0.500, test=0.500) total time=   6.3s\n",
      "[CV 2/5] END bootstrap=True, max_depth=10, max_features=sqrt, min_samples_leaf=10, min_samples_split=10, n_estimators=5000;, score=(train=0.500, test=0.500) total time=   6.3s\n",
      "[CV 1/5] END bootstrap=False, max_depth=8, max_features=log2, min_samples_leaf=10, min_samples_split=10, n_estimators=5000;, score=(train=0.500, test=0.500) total time=   4.4s\n",
      "[CV 1/5] END bootstrap=True, max_depth=10, max_features=log2, min_samples_leaf=10, min_samples_split=2, n_estimators=50;, score=(train=0.500, test=0.500) total time=   0.1s\n",
      "[CV 3/5] END bootstrap=True, max_depth=10, max_features=sqrt, min_samples_leaf=10, min_samples_split=10, n_estimators=5000;, score=(train=0.500, test=0.500) total time=   6.2s\n",
      "[CV 2/5] END bootstrap=True, max_depth=10, max_features=log2, min_samples_leaf=10, min_samples_split=2, n_estimators=50;, score=(train=0.500, test=0.500) total time=   0.1s\n",
      "[CV 3/5] END bootstrap=True, max_depth=10, max_features=log2, min_samples_leaf=10, min_samples_split=2, n_estimators=50;, score=(train=0.500, test=0.500) total time=   0.1s\n",
      "[CV 4/5] END bootstrap=True, max_depth=10, max_features=sqrt, min_samples_leaf=10, min_samples_split=10, n_estimators=5000;, score=(train=0.500, test=0.500) total time=   6.2s\n",
      "[CV 4/5] END bootstrap=True, max_depth=10, max_features=log2, min_samples_leaf=10, min_samples_split=2, n_estimators=50;, score=(train=0.500, test=0.500) total time=   0.1s\n",
      "[CV 5/5] END bootstrap=True, max_depth=10, max_features=log2, min_samples_leaf=10, min_samples_split=2, n_estimators=50;, score=(train=0.500, test=0.000) total time=   0.1s\n"
     ]
    },
    {
     "name": "stderr",
     "output_type": "stream",
     "text": [
      "/Users/sezaiufukoral/anaconda3/lib/python3.11/site-packages/sklearn/metrics/_classification.py:2466: UserWarning: y_pred contains classes not in y_true\n",
      "  warnings.warn(\"y_pred contains classes not in y_true\")\n",
      "/Users/sezaiufukoral/anaconda3/lib/python3.11/site-packages/sklearn/metrics/_classification.py:2466: UserWarning: y_pred contains classes not in y_true\n",
      "  warnings.warn(\"y_pred contains classes not in y_true\")\n"
     ]
    },
    {
     "name": "stdout",
     "output_type": "stream",
     "text": [
      "[CV 3/5] END bootstrap=False, max_depth=8, max_features=log2, min_samples_leaf=10, min_samples_split=10, n_estimators=5000;, score=(train=0.500, test=0.500) total time=   4.4s\n",
      "[CV 5/5] END bootstrap=True, max_depth=10, max_features=sqrt, min_samples_leaf=10, min_samples_split=10, n_estimators=5000;, score=(train=0.500, test=0.000) total time=   6.5s\n",
      "[CV 2/5] END bootstrap=False, max_depth=8, max_features=log2, min_samples_leaf=10, min_samples_split=10, n_estimators=5000;, score=(train=0.500, test=0.500) total time=   4.5s\n",
      "[CV 1/5] END bootstrap=True, max_depth=17, max_features=log2, min_samples_leaf=10, min_samples_split=10, n_estimators=50;, score=(train=0.500, test=0.500) total time=   0.1s\n",
      "[CV 2/5] END bootstrap=True, max_depth=17, max_features=log2, min_samples_leaf=10, min_samples_split=10, n_estimators=50;, score=(train=0.500, test=0.500) total time=   0.1s\n",
      "[CV 3/5] END bootstrap=True, max_depth=17, max_features=log2, min_samples_leaf=10, min_samples_split=10, n_estimators=50;, score=(train=0.500, test=0.500) total time=   0.1s\n",
      "[CV 4/5] END bootstrap=True, max_depth=17, max_features=log2, min_samples_leaf=10, min_samples_split=10, n_estimators=50;, score=(train=0.500, test=0.500) total time=   0.0s\n"
     ]
    },
    {
     "name": "stderr",
     "output_type": "stream",
     "text": [
      "/Users/sezaiufukoral/anaconda3/lib/python3.11/site-packages/sklearn/metrics/_classification.py:2466: UserWarning: y_pred contains classes not in y_true\n",
      "  warnings.warn(\"y_pred contains classes not in y_true\")\n"
     ]
    },
    {
     "name": "stdout",
     "output_type": "stream",
     "text": [
      "[CV 5/5] END bootstrap=True, max_depth=17, max_features=log2, min_samples_leaf=10, min_samples_split=10, n_estimators=50;, score=(train=0.500, test=0.000) total time=   0.1s\n",
      "[CV 4/5] END bootstrap=False, max_depth=8, max_features=log2, min_samples_leaf=10, min_samples_split=10, n_estimators=5000;, score=(train=0.500, test=0.500) total time=   4.2s\n",
      "[CV 1/5] END bootstrap=True, max_depth=17, max_features=sqrt, min_samples_leaf=1, min_samples_split=10, n_estimators=600;, score=(train=0.500, test=0.500) total time=   0.9s\n",
      "[CV 2/5] END bootstrap=True, max_depth=17, max_features=sqrt, min_samples_leaf=1, min_samples_split=10, n_estimators=600;, score=(train=0.786, test=0.500) total time=   0.7s\n",
      "[CV 3/5] END bootstrap=True, max_depth=17, max_features=sqrt, min_samples_leaf=1, min_samples_split=10, n_estimators=600;, score=(train=0.500, test=0.500) total time=   0.7s\n"
     ]
    },
    {
     "name": "stderr",
     "output_type": "stream",
     "text": [
      "/Users/sezaiufukoral/anaconda3/lib/python3.11/site-packages/sklearn/metrics/_classification.py:2466: UserWarning: y_pred contains classes not in y_true\n",
      "  warnings.warn(\"y_pred contains classes not in y_true\")\n"
     ]
    },
    {
     "name": "stdout",
     "output_type": "stream",
     "text": [
      "[CV 3/5] END bootstrap=True, max_depth=2, max_features=None, min_samples_leaf=1, min_samples_split=10, n_estimators=1700;, score=(train=0.900, test=0.500) total time=   2.5s\n",
      "[CV 1/5] END bootstrap=True, max_depth=13, max_features=sqrt, min_samples_leaf=10, min_samples_split=10, n_estimators=50;, score=(train=0.500, test=0.500) total time=   0.2s\n",
      "[CV 5/5] END bootstrap=False, max_depth=8, max_features=log2, min_samples_leaf=10, min_samples_split=10, n_estimators=5000;, score=(train=0.500, test=0.000) total time=   4.5s\n",
      "[CV 4/5] END bootstrap=True, max_depth=17, max_features=sqrt, min_samples_leaf=1, min_samples_split=10, n_estimators=600;, score=(train=0.500, test=0.500) total time=   1.0s\n",
      "[CV 1/5] END bootstrap=True, max_depth=2, max_features=None, min_samples_leaf=1, min_samples_split=10, n_estimators=1700;, score=(train=0.900, test=0.750) total time=   3.0s\n",
      "[CV 2/5] END bootstrap=True, max_depth=13, max_features=sqrt, min_samples_leaf=10, min_samples_split=10, n_estimators=50;, score=(train=0.500, test=0.500) total time=   0.2s\n",
      "[CV 3/5] END bootstrap=True, max_depth=13, max_features=sqrt, min_samples_leaf=10, min_samples_split=10, n_estimators=50;, score=(train=0.500, test=0.500) total time=   0.1s\n",
      "[CV 4/5] END bootstrap=True, max_depth=13, max_features=sqrt, min_samples_leaf=10, min_samples_split=10, n_estimators=50;, score=(train=0.500, test=0.500) total time=   0.1s\n",
      "[CV 4/5] END bootstrap=True, max_depth=2, max_features=None, min_samples_leaf=1, min_samples_split=10, n_estimators=1700;, score=(train=0.833, test=0.833) total time=   2.9s\n"
     ]
    },
    {
     "name": "stderr",
     "output_type": "stream",
     "text": [
      "/Users/sezaiufukoral/anaconda3/lib/python3.11/site-packages/sklearn/metrics/_classification.py:2466: UserWarning: y_pred contains classes not in y_true\n",
      "  warnings.warn(\"y_pred contains classes not in y_true\")\n"
     ]
    },
    {
     "name": "stdout",
     "output_type": "stream",
     "text": [
      "[CV 5/5] END bootstrap=True, max_depth=13, max_features=sqrt, min_samples_leaf=10, min_samples_split=10, n_estimators=50;, score=(train=0.500, test=0.000) total time=   0.2s\n"
     ]
    },
    {
     "name": "stderr",
     "output_type": "stream",
     "text": [
      "/Users/sezaiufukoral/anaconda3/lib/python3.11/site-packages/sklearn/metrics/_classification.py:395: UserWarning: A single label was found in 'y_true' and 'y_pred'. For the confusion matrix to have the correct shape, use the 'labels' parameter to pass all known labels.\n",
      "  warnings.warn(\n"
     ]
    },
    {
     "name": "stdout",
     "output_type": "stream",
     "text": [
      "[CV 2/5] END bootstrap=True, max_depth=2, max_features=None, min_samples_leaf=1, min_samples_split=10, n_estimators=1700;, score=(train=1.000, test=0.333) total time=   3.7s\n",
      "[CV 5/5] END bootstrap=True, max_depth=2, max_features=None, min_samples_leaf=1, min_samples_split=10, n_estimators=1700;, score=(train=0.929, test=1.000) total time=   3.3s\n",
      "[CV 5/5] END bootstrap=True, max_depth=17, max_features=sqrt, min_samples_leaf=1, min_samples_split=10, n_estimators=600;, score=(train=0.929, test=0.250) total time=   1.6s\n"
     ]
    },
    {
     "name": "stderr",
     "output_type": "stream",
     "text": [
      "/Users/sezaiufukoral/anaconda3/lib/python3.11/site-packages/sklearn/metrics/_classification.py:2466: UserWarning: y_pred contains classes not in y_true\n",
      "  warnings.warn(\"y_pred contains classes not in y_true\")\n"
     ]
    },
    {
     "name": "stdout",
     "output_type": "stream",
     "text": [
      "[CV 1/5] END bootstrap=False, max_depth=11, max_features=sqrt, min_samples_leaf=10, min_samples_split=10, n_estimators=2800;, score=(train=0.500, test=0.500) total time=   3.2s\n"
     ]
    },
    {
     "name": "stderr",
     "output_type": "stream",
     "text": [
      "/Users/sezaiufukoral/anaconda3/lib/python3.11/site-packages/sklearn/metrics/_classification.py:2466: UserWarning: y_pred contains classes not in y_true\n",
      "  warnings.warn(\"y_pred contains classes not in y_true\")\n"
     ]
    },
    {
     "name": "stdout",
     "output_type": "stream",
     "text": [
      "[CV 3/5] END bootstrap=False, max_depth=11, max_features=sqrt, min_samples_leaf=10, min_samples_split=10, n_estimators=2800;, score=(train=0.500, test=0.500) total time=   3.2s\n",
      "[CV 2/5] END bootstrap=False, max_depth=11, max_features=sqrt, min_samples_leaf=10, min_samples_split=10, n_estimators=2800;, score=(train=0.500, test=0.500) total time=   3.3s\n",
      "[CV 4/5] END bootstrap=True, max_depth=5, max_features=sqrt, min_samples_leaf=1, min_samples_split=2, n_estimators=2250;, score=(train=1.000, test=0.667) total time=   4.0s\n",
      "[CV 5/5] END bootstrap=True, max_depth=5, max_features=sqrt, min_samples_leaf=1, min_samples_split=2, n_estimators=2250;, score=(train=1.000, test=0.750) total time=   4.1s\n",
      "[CV 1/5] END bootstrap=True, max_depth=5, max_features=sqrt, min_samples_leaf=1, min_samples_split=2, n_estimators=2250;, score=(train=1.000, test=0.500) total time=   4.1s\n",
      "[CV 3/5] END bootstrap=True, max_depth=5, max_features=sqrt, min_samples_leaf=1, min_samples_split=2, n_estimators=2250;, score=(train=1.000, test=0.500) total time=   4.2s\n",
      "[CV 2/5] END bootstrap=True, max_depth=5, max_features=sqrt, min_samples_leaf=1, min_samples_split=2, n_estimators=2250;, score=(train=1.000, test=0.833) total time=   4.4s\n",
      "[CV 1/5] END bootstrap=False, max_depth=15, max_features=None, min_samples_leaf=1, min_samples_split=10, n_estimators=50;, score=(train=1.000, test=0.750) total time=   0.2s\n",
      "[CV 2/5] END bootstrap=False, max_depth=15, max_features=None, min_samples_leaf=1, min_samples_split=10, n_estimators=50;, score=(train=1.000, test=0.333) total time=   0.3s\n",
      "[CV 3/5] END bootstrap=False, max_depth=15, max_features=None, min_samples_leaf=1, min_samples_split=10, n_estimators=50;, score=(train=1.000, test=0.500) total time=   0.1s\n",
      "[CV 4/5] END bootstrap=False, max_depth=15, max_features=None, min_samples_leaf=1, min_samples_split=10, n_estimators=50;, score=(train=1.000, test=0.833) total time=   0.1s\n",
      "[CV 5/5] END bootstrap=False, max_depth=15, max_features=None, min_samples_leaf=1, min_samples_split=10, n_estimators=50;, score=(train=0.817, test=1.000) total time=   0.1s\n"
     ]
    },
    {
     "name": "stderr",
     "output_type": "stream",
     "text": [
      "/Users/sezaiufukoral/anaconda3/lib/python3.11/site-packages/sklearn/metrics/_classification.py:395: UserWarning: A single label was found in 'y_true' and 'y_pred'. For the confusion matrix to have the correct shape, use the 'labels' parameter to pass all known labels.\n",
      "  warnings.warn(\n"
     ]
    },
    {
     "name": "stdout",
     "output_type": "stream",
     "text": [
      "[CV 1/5] END bootstrap=False, max_depth=11, max_features=log2, min_samples_leaf=1, min_samples_split=10, n_estimators=1150;, score=(train=1.000, test=0.500) total time=   1.4s\n"
     ]
    },
    {
     "name": "stderr",
     "output_type": "stream",
     "text": [
      "/Users/sezaiufukoral/anaconda3/lib/python3.11/site-packages/sklearn/metrics/_classification.py:2466: UserWarning: y_pred contains classes not in y_true\n",
      "  warnings.warn(\"y_pred contains classes not in y_true\")\n"
     ]
    },
    {
     "name": "stdout",
     "output_type": "stream",
     "text": [
      "[CV 5/5] END bootstrap=False, max_depth=19, max_features=sqrt, min_samples_leaf=10, min_samples_split=10, n_estimators=2800;, score=(train=0.500, test=0.000) total time=   3.1s\n",
      "[CV 4/5] END bootstrap=False, max_depth=11, max_features=sqrt, min_samples_leaf=10, min_samples_split=10, n_estimators=2800;, score=(train=0.500, test=0.500) total time=   3.5s\n",
      "[CV 1/5] END bootstrap=False, max_depth=19, max_features=sqrt, min_samples_leaf=10, min_samples_split=10, n_estimators=2800;, score=(train=0.500, test=0.500) total time=   3.3s\n",
      "[CV 4/5] END bootstrap=False, max_depth=19, max_features=sqrt, min_samples_leaf=10, min_samples_split=10, n_estimators=2800;, score=(train=0.500, test=0.500) total time=   3.3s\n",
      "[CV 3/5] END bootstrap=False, max_depth=19, max_features=sqrt, min_samples_leaf=10, min_samples_split=10, n_estimators=2800;, score=(train=0.500, test=0.500) total time=   3.3s\n",
      "[CV 2/5] END bootstrap=False, max_depth=19, max_features=sqrt, min_samples_leaf=10, min_samples_split=10, n_estimators=2800;, score=(train=0.500, test=0.500) total time=   3.4s\n"
     ]
    },
    {
     "name": "stderr",
     "output_type": "stream",
     "text": [
      "/Users/sezaiufukoral/anaconda3/lib/python3.11/site-packages/sklearn/metrics/_classification.py:2466: UserWarning: y_pred contains classes not in y_true\n",
      "  warnings.warn(\"y_pred contains classes not in y_true\")\n"
     ]
    },
    {
     "name": "stdout",
     "output_type": "stream",
     "text": [
      "[CV 5/5] END bootstrap=False, max_depth=11, max_features=sqrt, min_samples_leaf=10, min_samples_split=10, n_estimators=2800;, score=(train=0.500, test=0.000) total time=   3.6s\n",
      "[CV 2/5] END bootstrap=False, max_depth=11, max_features=log2, min_samples_leaf=1, min_samples_split=10, n_estimators=1150;, score=(train=1.000, test=0.833) total time=   1.3s\n",
      "[CV 3/5] END bootstrap=False, max_depth=11, max_features=log2, min_samples_leaf=1, min_samples_split=10, n_estimators=1150;, score=(train=1.000, test=0.500) total time=   1.5s\n",
      "[CV 5/5] END bootstrap=False, max_depth=11, max_features=log2, min_samples_leaf=1, min_samples_split=10, n_estimators=1150;, score=(train=1.000, test=0.750) total time=   1.4s\n",
      "[CV 4/5] END bootstrap=False, max_depth=11, max_features=log2, min_samples_leaf=1, min_samples_split=10, n_estimators=1150;, score=(train=1.000, test=0.667) total time=   1.6s\n"
     ]
    },
    {
     "name": "stderr",
     "output_type": "stream",
     "text": [
      "/Users/sezaiufukoral/anaconda3/lib/python3.11/site-packages/sklearn/metrics/_classification.py:2466: UserWarning: y_pred contains classes not in y_true\n",
      "  warnings.warn(\"y_pred contains classes not in y_true\")\n"
     ]
    },
    {
     "name": "stdout",
     "output_type": "stream",
     "text": [
      "[CV 2/5] END bootstrap=True, max_depth=17, max_features=None, min_samples_leaf=1, min_samples_split=10, n_estimators=3350;, score=(train=1.000, test=0.333) total time=   6.9s\n",
      "[CV 1/5] END bootstrap=True, max_depth=17, max_features=None, min_samples_leaf=1, min_samples_split=10, n_estimators=3350;, score=(train=0.900, test=0.750) total time=   7.1s\n",
      "[CV 3/5] END bootstrap=True, max_depth=17, max_features=None, min_samples_leaf=1, min_samples_split=10, n_estimators=3350;, score=(train=0.900, test=0.500) total time=   7.5s\n",
      "[CV 2/5] END bootstrap=True, max_depth=7, max_features=sqrt, min_samples_leaf=1, min_samples_split=10, n_estimators=5000;, score=(train=0.786, test=0.500) total time=   9.0s\n",
      "[CV 1/5] END bootstrap=True, max_depth=7, max_features=sqrt, min_samples_leaf=1, min_samples_split=10, n_estimators=5000;, score=(train=0.500, test=0.500) total time=   9.2s\n"
     ]
    },
    {
     "name": "stderr",
     "output_type": "stream",
     "text": [
      "/Users/sezaiufukoral/anaconda3/lib/python3.11/site-packages/sklearn/metrics/_classification.py:2466: UserWarning: y_pred contains classes not in y_true\n",
      "  warnings.warn(\"y_pred contains classes not in y_true\")\n"
     ]
    },
    {
     "name": "stdout",
     "output_type": "stream",
     "text": [
      "[CV 5/5] END bootstrap=True, max_depth=7, max_features=sqrt, min_samples_leaf=1, min_samples_split=10, n_estimators=5000;, score=(train=0.857, test=0.000) total time=   8.8s\n",
      "[CV 3/5] END bootstrap=True, max_depth=7, max_features=sqrt, min_samples_leaf=1, min_samples_split=10, n_estimators=5000;, score=(train=0.500, test=0.500) total time=   9.2s\n",
      "[CV 4/5] END bootstrap=True, max_depth=7, max_features=sqrt, min_samples_leaf=1, min_samples_split=10, n_estimators=5000;, score=(train=0.500, test=0.500) total time=   9.2s\n",
      "[CV 1/5] END bootstrap=False, max_depth=10, max_features=None, min_samples_leaf=10, min_samples_split=10, n_estimators=1150;, score=(train=0.500, test=0.500) total time=   1.3s\n",
      "[CV 2/5] END bootstrap=False, max_depth=10, max_features=None, min_samples_leaf=10, min_samples_split=10, n_estimators=1150;, score=(train=0.500, test=0.500) total time=   1.2s\n",
      "[CV 3/5] END bootstrap=False, max_depth=10, max_features=None, min_samples_leaf=10, min_samples_split=10, n_estimators=1150;, score=(train=0.500, test=0.500) total time=   1.2s\n",
      "[CV 4/5] END bootstrap=False, max_depth=10, max_features=None, min_samples_leaf=10, min_samples_split=10, n_estimators=1150;, score=(train=0.500, test=0.500) total time=   1.4s\n"
     ]
    },
    {
     "name": "stderr",
     "output_type": "stream",
     "text": [
      "/Users/sezaiufukoral/anaconda3/lib/python3.11/site-packages/sklearn/metrics/_classification.py:395: UserWarning: A single label was found in 'y_true' and 'y_pred'. For the confusion matrix to have the correct shape, use the 'labels' parameter to pass all known labels.\n",
      "  warnings.warn(\n"
     ]
    },
    {
     "name": "stdout",
     "output_type": "stream",
     "text": [
      "[CV 4/5] END bootstrap=True, max_depth=17, max_features=None, min_samples_leaf=1, min_samples_split=10, n_estimators=3350;, score=(train=0.917, test=0.833) total time=   7.0s\n",
      "[CV 5/5] END bootstrap=True, max_depth=17, max_features=None, min_samples_leaf=1, min_samples_split=10, n_estimators=3350;, score=(train=0.929, test=1.000) total time=   7.0s\n",
      "[CV 1/5] END bootstrap=True, max_depth=4, max_features=sqrt, min_samples_leaf=1, min_samples_split=2, n_estimators=3900;, score=(train=1.000, test=0.500) total time=   6.7s\n",
      "[CV 3/5] END bootstrap=True, max_depth=4, max_features=sqrt, min_samples_leaf=1, min_samples_split=2, n_estimators=3900;, score=(train=1.000, test=0.500) total time=   6.6s\n",
      "[CV 4/5] END bootstrap=True, max_depth=4, max_features=sqrt, min_samples_leaf=1, min_samples_split=2, n_estimators=3900;, score=(train=1.000, test=0.667) total time=   6.6s\n",
      "[CV 2/5] END bootstrap=True, max_depth=4, max_features=sqrt, min_samples_leaf=1, min_samples_split=2, n_estimators=3900;, score=(train=1.000, test=0.833) total time=   7.0s\n"
     ]
    },
    {
     "name": "stderr",
     "output_type": "stream",
     "text": [
      "/Users/sezaiufukoral/anaconda3/lib/python3.11/site-packages/sklearn/metrics/_classification.py:2466: UserWarning: y_pred contains classes not in y_true\n",
      "  warnings.warn(\"y_pred contains classes not in y_true\")\n",
      "/Users/sezaiufukoral/anaconda3/lib/python3.11/site-packages/sklearn/metrics/_classification.py:2466: UserWarning: y_pred contains classes not in y_true\n",
      "  warnings.warn(\"y_pred contains classes not in y_true\")\n"
     ]
    },
    {
     "name": "stdout",
     "output_type": "stream",
     "text": [
      "[CV 5/5] END bootstrap=False, max_depth=10, max_features=None, min_samples_leaf=10, min_samples_split=10, n_estimators=1150;, score=(train=0.500, test=0.000) total time=   1.2s\n",
      "[CV 5/5] END bootstrap=True, max_depth=4, max_features=sqrt, min_samples_leaf=1, min_samples_split=2, n_estimators=3900;, score=(train=1.000, test=0.750) total time=   7.1s\n",
      "[CV 1/5] END bootstrap=False, max_depth=13, max_features=None, min_samples_leaf=10, min_samples_split=2, n_estimators=1150;, score=(train=0.500, test=0.500) total time=   1.2s\n",
      "[CV 2/5] END bootstrap=False, max_depth=13, max_features=None, min_samples_leaf=10, min_samples_split=2, n_estimators=1150;, score=(train=0.500, test=0.500) total time=   1.1s\n",
      "[CV 3/5] END bootstrap=False, max_depth=13, max_features=None, min_samples_leaf=10, min_samples_split=2, n_estimators=1150;, score=(train=0.500, test=0.500) total time=   1.1s\n"
     ]
    },
    {
     "name": "stderr",
     "output_type": "stream",
     "text": [
      "/Users/sezaiufukoral/anaconda3/lib/python3.11/site-packages/sklearn/metrics/_classification.py:2466: UserWarning: y_pred contains classes not in y_true\n",
      "  warnings.warn(\"y_pred contains classes not in y_true\")\n"
     ]
    },
    {
     "name": "stdout",
     "output_type": "stream",
     "text": [
      "[CV 4/5] END bootstrap=False, max_depth=13, max_features=None, min_samples_leaf=10, min_samples_split=2, n_estimators=1150;, score=(train=0.500, test=0.500) total time=   1.4s\n",
      "[CV 1/5] END bootstrap=True, max_depth=19, max_features=sqrt, min_samples_leaf=1, min_samples_split=10, n_estimators=600;, score=(train=0.500, test=0.500) total time=   0.9s\n",
      "[CV 5/5] END bootstrap=False, max_depth=13, max_features=None, min_samples_leaf=10, min_samples_split=2, n_estimators=1150;, score=(train=0.500, test=0.000) total time=   1.3s\n",
      "[CV 2/5] END bootstrap=True, max_depth=19, max_features=sqrt, min_samples_leaf=1, min_samples_split=10, n_estimators=600;, score=(train=0.857, test=0.500) total time=   1.0s\n",
      "[CV 3/5] END bootstrap=True, max_depth=19, max_features=sqrt, min_samples_leaf=1, min_samples_split=10, n_estimators=600;, score=(train=0.500, test=0.500) total time=   1.0s\n",
      "[CV 4/5] END bootstrap=True, max_depth=19, max_features=sqrt, min_samples_leaf=1, min_samples_split=10, n_estimators=600;, score=(train=0.500, test=0.500) total time=   1.0s\n",
      "[CV 1/5] END bootstrap=True, max_depth=13, max_features=log2, min_samples_leaf=1, min_samples_split=2, n_estimators=2800;, score=(train=1.000, test=0.500) total time=   4.8s\n",
      "[CV 2/5] END bootstrap=True, max_depth=13, max_features=log2, min_samples_leaf=1, min_samples_split=2, n_estimators=2800;, score=(train=1.000, test=0.833) total time=   4.9s\n",
      "[CV 1/5] END bootstrap=False, max_depth=8, max_features=None, min_samples_leaf=10, min_samples_split=2, n_estimators=600;, score=(train=0.500, test=0.500) total time=   0.6s\n",
      "[CV 4/5] END bootstrap=True, max_depth=13, max_features=log2, min_samples_leaf=1, min_samples_split=2, n_estimators=2800;, score=(train=1.000, test=0.667) total time=   4.9s\n",
      "[CV 3/5] END bootstrap=True, max_depth=13, max_features=log2, min_samples_leaf=1, min_samples_split=2, n_estimators=2800;, score=(train=1.000, test=0.500) total time=   4.9s\n",
      "[CV 2/5] END bootstrap=False, max_depth=8, max_features=None, min_samples_leaf=10, min_samples_split=2, n_estimators=600;, score=(train=0.500, test=0.500) total time=   0.8s\n",
      "[CV 3/5] END bootstrap=False, max_depth=8, max_features=None, min_samples_leaf=10, min_samples_split=2, n_estimators=600;, score=(train=0.500, test=0.500) total time=   0.6s\n",
      "[CV 1/5] END bootstrap=True, max_depth=4, max_features=sqrt, min_samples_leaf=1, min_samples_split=10, n_estimators=50;, score=(train=0.500, test=0.500) total time=   0.1s\n",
      "[CV 3/5] END bootstrap=True, max_depth=4, max_features=sqrt, min_samples_leaf=1, min_samples_split=10, n_estimators=50;, score=(train=0.500, test=0.500) total time=   0.1s\n"
     ]
    },
    {
     "name": "stderr",
     "output_type": "stream",
     "text": [
      "/Users/sezaiufukoral/anaconda3/lib/python3.11/site-packages/sklearn/metrics/_classification.py:395: UserWarning: A single label was found in 'y_true' and 'y_pred'. For the confusion matrix to have the correct shape, use the 'labels' parameter to pass all known labels.\n",
      "  warnings.warn(\n",
      "/Users/sezaiufukoral/anaconda3/lib/python3.11/site-packages/sklearn/metrics/_classification.py:2466: UserWarning: y_pred contains classes not in y_true\n",
      "  warnings.warn(\"y_pred contains classes not in y_true\")\n",
      "/Users/sezaiufukoral/anaconda3/lib/python3.11/site-packages/sklearn/metrics/_classification.py:2466: UserWarning: y_pred contains classes not in y_true\n",
      "  warnings.warn(\"y_pred contains classes not in y_true\")\n"
     ]
    },
    {
     "name": "stdout",
     "output_type": "stream",
     "text": [
      "[CV 5/5] END bootstrap=True, max_depth=13, max_features=log2, min_samples_leaf=1, min_samples_split=2, n_estimators=2800;, score=(train=1.000, test=1.000) total time=   4.8s\n",
      "[CV 4/5] END bootstrap=True, max_depth=4, max_features=sqrt, min_samples_leaf=1, min_samples_split=10, n_estimators=50;, score=(train=0.500, test=0.500) total time=   0.1s\n",
      "[CV 5/5] END bootstrap=True, max_depth=4, max_features=sqrt, min_samples_leaf=1, min_samples_split=10, n_estimators=50;, score=(train=0.857, test=0.500) total time=   0.1s\n",
      "[CV 5/5] END bootstrap=True, max_depth=19, max_features=sqrt, min_samples_leaf=1, min_samples_split=10, n_estimators=600;, score=(train=0.857, test=0.250) total time=   1.0s\n",
      "[CV 2/5] END bootstrap=True, max_depth=4, max_features=sqrt, min_samples_leaf=1, min_samples_split=10, n_estimators=50;, score=(train=0.714, test=0.500) total time=   0.3s\n"
     ]
    },
    {
     "name": "stderr",
     "output_type": "stream",
     "text": [
      "/Users/sezaiufukoral/anaconda3/lib/python3.11/site-packages/sklearn/metrics/_classification.py:2466: UserWarning: y_pred contains classes not in y_true\n",
      "  warnings.warn(\"y_pred contains classes not in y_true\")\n"
     ]
    },
    {
     "name": "stdout",
     "output_type": "stream",
     "text": [
      "[CV 5/5] END bootstrap=False, max_depth=8, max_features=None, min_samples_leaf=10, min_samples_split=2, n_estimators=600;, score=(train=0.500, test=0.000) total time=   0.5s\n",
      "[CV 4/5] END bootstrap=False, max_depth=8, max_features=None, min_samples_leaf=10, min_samples_split=2, n_estimators=600;, score=(train=0.500, test=0.500) total time=   0.7s\n",
      "[CV 3/5] END bootstrap=False, max_depth=18, max_features=None, min_samples_leaf=1, min_samples_split=2, n_estimators=1150;, score=(train=1.000, test=0.500) total time=   2.0s\n",
      "[CV 1/5] END bootstrap=False, max_depth=18, max_features=None, min_samples_leaf=1, min_samples_split=2, n_estimators=1150;, score=(train=1.000, test=0.750) total time=   2.3s\n",
      "[CV 2/5] END bootstrap=False, max_depth=18, max_features=None, min_samples_leaf=1, min_samples_split=2, n_estimators=1150;, score=(train=1.000, test=0.333) total time=   2.3s\n",
      "[CV 4/5] END bootstrap=False, max_depth=18, max_features=None, min_samples_leaf=1, min_samples_split=2, n_estimators=1150;, score=(train=1.000, test=0.833) total time=   2.4s\n"
     ]
    },
    {
     "name": "stderr",
     "output_type": "stream",
     "text": [
      "/Users/sezaiufukoral/anaconda3/lib/python3.11/site-packages/sklearn/metrics/_classification.py:2466: UserWarning: y_pred contains classes not in y_true\n",
      "  warnings.warn(\"y_pred contains classes not in y_true\")\n"
     ]
    },
    {
     "name": "stdout",
     "output_type": "stream",
     "text": [
      "[CV 5/5] END bootstrap=False, max_depth=18, max_features=None, min_samples_leaf=1, min_samples_split=2, n_estimators=1150;, score=(train=1.000, test=0.750) total time=   2.6s\n",
      "[CV 1/5] END bootstrap=True, max_depth=17, max_features=log2, min_samples_leaf=1, min_samples_split=2, n_estimators=1700;, score=(train=1.000, test=0.500) total time=   2.8s\n",
      "[CV 2/5] END bootstrap=True, max_depth=17, max_features=log2, min_samples_leaf=1, min_samples_split=2, n_estimators=1700;, score=(train=1.000, test=0.667) total time=   2.9s\n",
      "[CV 3/5] END bootstrap=True, max_depth=17, max_features=log2, min_samples_leaf=1, min_samples_split=2, n_estimators=1700;, score=(train=1.000, test=0.500) total time=   2.8s\n",
      "[CV 1/5] END bootstrap=False, max_depth=13, max_features=None, min_samples_leaf=1, min_samples_split=2, n_estimators=3900;, score=(train=1.000, test=0.750) total time=   7.0s\n",
      "[CV 3/5] END bootstrap=False, max_depth=13, max_features=None, min_samples_leaf=1, min_samples_split=2, n_estimators=3900;, score=(train=1.000, test=0.500) total time=   7.2s\n",
      "[CV 2/5] END bootstrap=False, max_depth=13, max_features=None, min_samples_leaf=1, min_samples_split=2, n_estimators=3900;, score=(train=1.000, test=0.333) total time=   7.6s\n"
     ]
    },
    {
     "name": "stderr",
     "output_type": "stream",
     "text": [
      "/Users/sezaiufukoral/anaconda3/lib/python3.11/site-packages/sklearn/metrics/_classification.py:395: UserWarning: A single label was found in 'y_true' and 'y_pred'. For the confusion matrix to have the correct shape, use the 'labels' parameter to pass all known labels.\n",
      "  warnings.warn(\n"
     ]
    },
    {
     "name": "stdout",
     "output_type": "stream",
     "text": [
      "[CV 4/5] END bootstrap=True, max_depth=17, max_features=log2, min_samples_leaf=1, min_samples_split=2, n_estimators=1700;, score=(train=1.000, test=0.667) total time=   2.9s\n",
      "[CV 5/5] END bootstrap=True, max_depth=17, max_features=log2, min_samples_leaf=1, min_samples_split=2, n_estimators=1700;, score=(train=1.000, test=1.000) total time=   2.8s\n",
      "[CV 4/5] END bootstrap=False, max_depth=13, max_features=None, min_samples_leaf=1, min_samples_split=2, n_estimators=3900;, score=(train=1.000, test=0.833) total time=   7.3s\n"
     ]
    },
    {
     "name": "stderr",
     "output_type": "stream",
     "text": [
      "/Users/sezaiufukoral/anaconda3/lib/python3.11/site-packages/sklearn/metrics/_classification.py:2466: UserWarning: y_pred contains classes not in y_true\n",
      "  warnings.warn(\"y_pred contains classes not in y_true\")\n"
     ]
    },
    {
     "name": "stdout",
     "output_type": "stream",
     "text": [
      "[CV 5/5] END bootstrap=False, max_depth=13, max_features=None, min_samples_leaf=1, min_samples_split=2, n_estimators=3900;, score=(train=1.000, test=0.750) total time=   7.6s\n",
      "[CV 1/5] END bootstrap=True, max_depth=8, max_features=log2, min_samples_leaf=10, min_samples_split=10, n_estimators=1150;, score=(train=0.500, test=0.500) total time=   2.0s\n",
      "[CV 1/5] END bootstrap=True, max_depth=15, max_features=log2, min_samples_leaf=1, min_samples_split=2, n_estimators=2800;, score=(train=1.000, test=0.500) total time=   4.8s\n",
      "[CV 2/5] END bootstrap=True, max_depth=8, max_features=log2, min_samples_leaf=10, min_samples_split=10, n_estimators=1150;, score=(train=0.500, test=0.500) total time=   1.8s\n",
      "[CV 3/5] END bootstrap=True, max_depth=8, max_features=log2, min_samples_leaf=10, min_samples_split=10, n_estimators=1150;, score=(train=0.500, test=0.500) total time=   1.8s\n",
      "[CV 2/5] END bootstrap=True, max_depth=15, max_features=log2, min_samples_leaf=1, min_samples_split=2, n_estimators=2800;, score=(train=1.000, test=0.833) total time=   4.8s\n"
     ]
    },
    {
     "name": "stderr",
     "output_type": "stream",
     "text": [
      "/Users/sezaiufukoral/anaconda3/lib/python3.11/site-packages/sklearn/metrics/_classification.py:2466: UserWarning: y_pred contains classes not in y_true\n",
      "  warnings.warn(\"y_pred contains classes not in y_true\")\n"
     ]
    },
    {
     "name": "stdout",
     "output_type": "stream",
     "text": [
      "[CV 4/5] END bootstrap=True, max_depth=8, max_features=log2, min_samples_leaf=10, min_samples_split=10, n_estimators=1150;, score=(train=0.500, test=0.500) total time=   2.1s\n",
      "[CV 5/5] END bootstrap=True, max_depth=8, max_features=log2, min_samples_leaf=10, min_samples_split=10, n_estimators=1150;, score=(train=0.500, test=0.000) total time=   1.9s\n",
      "[CV 3/5] END bootstrap=True, max_depth=15, max_features=log2, min_samples_leaf=1, min_samples_split=2, n_estimators=2800;, score=(train=1.000, test=0.500) total time=   5.0s\n",
      "[CV 4/5] END bootstrap=True, max_depth=15, max_features=log2, min_samples_leaf=1, min_samples_split=2, n_estimators=2800;, score=(train=1.000, test=0.667) total time=   4.9s\n"
     ]
    },
    {
     "name": "stderr",
     "output_type": "stream",
     "text": [
      "/Users/sezaiufukoral/anaconda3/lib/python3.11/site-packages/sklearn/metrics/_classification.py:2466: UserWarning: y_pred contains classes not in y_true\n",
      "  warnings.warn(\"y_pred contains classes not in y_true\")\n"
     ]
    },
    {
     "name": "stdout",
     "output_type": "stream",
     "text": [
      "[CV 5/5] END bootstrap=True, max_depth=15, max_features=log2, min_samples_leaf=1, min_samples_split=2, n_estimators=2800;, score=(train=1.000, test=0.750) total time=   5.1s\n",
      "[CV 1/5] END bootstrap=True, max_depth=13, max_features=None, min_samples_leaf=10, min_samples_split=2, n_estimators=3350;, score=(train=0.500, test=0.500) total time=   6.0s\n",
      "[CV 2/5] END bootstrap=True, max_depth=13, max_features=None, min_samples_leaf=10, min_samples_split=2, n_estimators=3350;, score=(train=0.500, test=0.500) total time=   5.4s\n",
      "[CV 3/5] END bootstrap=True, max_depth=13, max_features=None, min_samples_leaf=10, min_samples_split=2, n_estimators=3350;, score=(train=0.500, test=0.500) total time=   5.4s\n",
      "[CV 4/5] END bootstrap=True, max_depth=13, max_features=None, min_samples_leaf=10, min_samples_split=2, n_estimators=3350;, score=(train=0.500, test=0.500) total time=   5.5s\n",
      "[CV 5/5] END bootstrap=True, max_depth=13, max_features=None, min_samples_leaf=10, min_samples_split=2, n_estimators=3350;, score=(train=0.500, test=0.000) total time=   5.7s\n"
     ]
    },
    {
     "name": "stderr",
     "output_type": "stream",
     "text": [
      "/Users/sezaiufukoral/anaconda3/lib/python3.11/site-packages/sklearn/metrics/_classification.py:2466: UserWarning: y_pred contains classes not in y_true\n",
      "  warnings.warn(\"y_pred contains classes not in y_true\")\n"
     ]
    },
    {
     "name": "stdout",
     "output_type": "stream",
     "text": [
      "[CV 1/5] END bootstrap=False, max_depth=4, max_features=log2, min_samples_leaf=10, min_samples_split=10, n_estimators=5000;, score=(train=0.500, test=0.500) total time=   5.8s\n",
      "[CV 2/5] END bootstrap=False, max_depth=4, max_features=log2, min_samples_leaf=10, min_samples_split=10, n_estimators=5000;, score=(train=0.500, test=0.500) total time=   5.6s\n",
      "[CV 3/5] END bootstrap=False, max_depth=4, max_features=log2, min_samples_leaf=10, min_samples_split=10, n_estimators=5000;, score=(train=0.500, test=0.500) total time=   5.6s\n",
      "[CV 1/5] END bootstrap=True, max_depth=11, max_features=None, min_samples_leaf=1, min_samples_split=10, n_estimators=600;, score=(train=0.900, test=0.750) total time=   1.2s\n",
      "[CV 1/5] END bootstrap=True, max_depth=15, max_features=sqrt, min_samples_leaf=10, min_samples_split=10, n_estimators=1700;, score=(train=0.500, test=0.500) total time=   2.7s\n",
      "[CV 2/5] END bootstrap=True, max_depth=15, max_features=sqrt, min_samples_leaf=10, min_samples_split=10, n_estimators=1700;, score=(train=0.500, test=0.500) total time=   2.7s\n",
      "[CV 3/5] END bootstrap=True, max_depth=15, max_features=sqrt, min_samples_leaf=10, min_samples_split=10, n_estimators=1700;, score=(train=0.500, test=0.500) total time=   2.8s\n",
      "[CV 4/5] END bootstrap=True, max_depth=15, max_features=sqrt, min_samples_leaf=10, min_samples_split=10, n_estimators=1700;, score=(train=0.500, test=0.500) total time=   2.8s\n",
      "[CV 5/5] END bootstrap=True, max_depth=15, max_features=sqrt, min_samples_leaf=10, min_samples_split=10, n_estimators=1700;, score=(train=0.500, test=0.000) total time=   2.9s\n"
     ]
    },
    {
     "name": "stderr",
     "output_type": "stream",
     "text": [
      "/Users/sezaiufukoral/anaconda3/lib/python3.11/site-packages/sklearn/metrics/_classification.py:2466: UserWarning: y_pred contains classes not in y_true\n",
      "  warnings.warn(\"y_pred contains classes not in y_true\")\n"
     ]
    },
    {
     "name": "stdout",
     "output_type": "stream",
     "text": [
      "[CV 2/5] END bootstrap=True, max_depth=11, max_features=None, min_samples_leaf=1, min_samples_split=10, n_estimators=600;, score=(train=1.000, test=0.333) total time=   1.3s\n",
      "[CV 3/5] END bootstrap=True, max_depth=11, max_features=None, min_samples_leaf=1, min_samples_split=10, n_estimators=600;, score=(train=0.900, test=0.500) total time=   1.2s\n",
      "[CV 4/5] END bootstrap=True, max_depth=11, max_features=None, min_samples_leaf=1, min_samples_split=10, n_estimators=600;, score=(train=0.917, test=0.833) total time=   1.3s\n"
     ]
    },
    {
     "name": "stderr",
     "output_type": "stream",
     "text": [
      "/Users/sezaiufukoral/anaconda3/lib/python3.11/site-packages/sklearn/metrics/_classification.py:395: UserWarning: A single label was found in 'y_true' and 'y_pred'. For the confusion matrix to have the correct shape, use the 'labels' parameter to pass all known labels.\n",
      "  warnings.warn(\n"
     ]
    },
    {
     "name": "stdout",
     "output_type": "stream",
     "text": [
      "[CV 5/5] END bootstrap=True, max_depth=11, max_features=None, min_samples_leaf=1, min_samples_split=10, n_estimators=600;, score=(train=0.929, test=1.000) total time=   1.4s\n",
      "[CV 4/5] END bootstrap=False, max_depth=4, max_features=log2, min_samples_leaf=10, min_samples_split=10, n_estimators=5000;, score=(train=0.500, test=0.500) total time=   5.5s\n"
     ]
    },
    {
     "name": "stderr",
     "output_type": "stream",
     "text": [
      "/Users/sezaiufukoral/anaconda3/lib/python3.11/site-packages/sklearn/metrics/_classification.py:2466: UserWarning: y_pred contains classes not in y_true\n",
      "  warnings.warn(\"y_pred contains classes not in y_true\")\n"
     ]
    },
    {
     "name": "stdout",
     "output_type": "stream",
     "text": [
      "[CV 5/5] END bootstrap=False, max_depth=4, max_features=log2, min_samples_leaf=10, min_samples_split=10, n_estimators=5000;, score=(train=0.500, test=0.000) total time=   5.7s\n",
      "[CV 1/5] END bootstrap=True, max_depth=19, max_features=None, min_samples_leaf=1, min_samples_split=2, n_estimators=1700;, score=(train=1.000, test=0.750) total time=   3.7s\n",
      "[CV 2/5] END bootstrap=True, max_depth=19, max_features=None, min_samples_leaf=1, min_samples_split=2, n_estimators=1700;, score=(train=1.000, test=0.333) total time=   3.7s\n",
      "[CV 3/5] END bootstrap=True, max_depth=19, max_features=None, min_samples_leaf=1, min_samples_split=2, n_estimators=1700;, score=(train=1.000, test=0.500) total time=   3.8s\n",
      "[CV 1/5] END bootstrap=False, max_depth=3, max_features=sqrt, min_samples_leaf=10, min_samples_split=10, n_estimators=50;, score=(train=0.500, test=0.500) total time=   0.1s\n",
      "[CV 2/5] END bootstrap=False, max_depth=3, max_features=sqrt, min_samples_leaf=10, min_samples_split=10, n_estimators=50;, score=(train=0.500, test=0.500) total time=   0.1s\n",
      "[CV 3/5] END bootstrap=False, max_depth=3, max_features=sqrt, min_samples_leaf=10, min_samples_split=10, n_estimators=50;, score=(train=0.500, test=0.500) total time=   0.1s\n",
      "[CV 4/5] END bootstrap=False, max_depth=3, max_features=sqrt, min_samples_leaf=10, min_samples_split=10, n_estimators=50;, score=(train=0.500, test=0.500) total time=   0.1s\n",
      "[CV 4/5] END bootstrap=True, max_depth=19, max_features=None, min_samples_leaf=1, min_samples_split=2, n_estimators=1700;, score=(train=1.000, test=0.833) total time=   4.0s\n",
      "[CV 5/5] END bootstrap=False, max_depth=3, max_features=sqrt, min_samples_leaf=10, min_samples_split=10, n_estimators=50;, score=(train=0.500, test=0.000) total time=   0.1s\n"
     ]
    },
    {
     "name": "stderr",
     "output_type": "stream",
     "text": [
      "/Users/sezaiufukoral/anaconda3/lib/python3.11/site-packages/sklearn/metrics/_classification.py:395: UserWarning: A single label was found in 'y_true' and 'y_pred'. For the confusion matrix to have the correct shape, use the 'labels' parameter to pass all known labels.\n",
      "  warnings.warn(\n",
      "/Users/sezaiufukoral/anaconda3/lib/python3.11/site-packages/sklearn/metrics/_classification.py:2466: UserWarning: y_pred contains classes not in y_true\n",
      "  warnings.warn(\"y_pred contains classes not in y_true\")\n"
     ]
    },
    {
     "name": "stdout",
     "output_type": "stream",
     "text": [
      "[CV 5/5] END bootstrap=True, max_depth=19, max_features=None, min_samples_leaf=1, min_samples_split=2, n_estimators=1700;, score=(train=1.000, test=1.000) total time=   3.9s\n",
      "[CV 2/5] END bootstrap=True, max_depth=11, max_features=sqrt, min_samples_leaf=1, min_samples_split=10, n_estimators=2800;, score=(train=0.786, test=0.500) total time=   4.8s\n",
      "[CV 1/5] END bootstrap=True, max_depth=11, max_features=sqrt, min_samples_leaf=1, min_samples_split=10, n_estimators=2800;, score=(train=0.500, test=0.500) total time=   5.2s\n",
      "[CV 3/5] END bootstrap=True, max_depth=11, max_features=sqrt, min_samples_leaf=1, min_samples_split=10, n_estimators=2800;, score=(train=0.500, test=0.500) total time=   4.6s\n"
     ]
    },
    {
     "name": "stderr",
     "output_type": "stream",
     "text": [
      "/Users/sezaiufukoral/anaconda3/lib/python3.11/site-packages/sklearn/metrics/_classification.py:2466: UserWarning: y_pred contains classes not in y_true\n",
      "  warnings.warn(\"y_pred contains classes not in y_true\")\n"
     ]
    },
    {
     "name": "stdout",
     "output_type": "stream",
     "text": [
      "[CV 4/5] END bootstrap=True, max_depth=11, max_features=sqrt, min_samples_leaf=1, min_samples_split=10, n_estimators=2800;, score=(train=0.500, test=0.500) total time=   5.0s\n",
      "[CV 5/5] END bootstrap=True, max_depth=11, max_features=sqrt, min_samples_leaf=1, min_samples_split=10, n_estimators=2800;, score=(train=0.929, test=0.250) total time=   4.9s\n",
      "[CV 1/5] END bootstrap=True, max_depth=11, max_features=None, min_samples_leaf=1, min_samples_split=10, n_estimators=2800;, score=(train=0.900, test=0.750) total time=   5.8s\n",
      "[CV 2/5] END bootstrap=True, max_depth=11, max_features=None, min_samples_leaf=1, min_samples_split=10, n_estimators=2800;, score=(train=1.000, test=0.333) total time=   6.1s\n",
      "[CV 3/5] END bootstrap=True, max_depth=11, max_features=None, min_samples_leaf=1, min_samples_split=10, n_estimators=2800;, score=(train=0.900, test=0.500) total time=   6.0s\n"
     ]
    },
    {
     "name": "stderr",
     "output_type": "stream",
     "text": [
      "/Users/sezaiufukoral/anaconda3/lib/python3.11/site-packages/sklearn/metrics/_classification.py:395: UserWarning: A single label was found in 'y_true' and 'y_pred'. For the confusion matrix to have the correct shape, use the 'labels' parameter to pass all known labels.\n",
      "  warnings.warn(\n"
     ]
    },
    {
     "name": "stdout",
     "output_type": "stream",
     "text": [
      "[CV 4/5] END bootstrap=True, max_depth=11, max_features=None, min_samples_leaf=1, min_samples_split=10, n_estimators=2800;, score=(train=0.917, test=0.833) total time=   5.8s\n",
      "[CV 5/5] END bootstrap=True, max_depth=11, max_features=None, min_samples_leaf=1, min_samples_split=10, n_estimators=2800;, score=(train=0.929, test=1.000) total time=   5.7s\n",
      "[CV 1/5] END bootstrap=True, max_depth=17, max_features=None, min_samples_leaf=1, min_samples_split=10, n_estimators=3900;, score=(train=0.900, test=0.750) total time=   8.0s\n",
      "[CV 2/5] END bootstrap=True, max_depth=17, max_features=None, min_samples_leaf=1, min_samples_split=10, n_estimators=3900;, score=(train=1.000, test=0.333) total time=   8.0s\n",
      "[CV 3/5] END bootstrap=True, max_depth=17, max_features=None, min_samples_leaf=1, min_samples_split=10, n_estimators=3900;, score=(train=0.900, test=0.500) total time=   7.9s\n"
     ]
    },
    {
     "name": "stderr",
     "output_type": "stream",
     "text": [
      "/Users/sezaiufukoral/anaconda3/lib/python3.11/site-packages/sklearn/metrics/_classification.py:2466: UserWarning: y_pred contains classes not in y_true\n",
      "  warnings.warn(\"y_pred contains classes not in y_true\")\n"
     ]
    },
    {
     "name": "stdout",
     "output_type": "stream",
     "text": [
      "[CV 5/5] END bootstrap=True, max_depth=17, max_features=None, min_samples_leaf=1, min_samples_split=10, n_estimators=3900;, score=(train=0.929, test=0.750) total time=   7.9s\n",
      "[CV 4/5] END bootstrap=True, max_depth=17, max_features=None, min_samples_leaf=1, min_samples_split=10, n_estimators=3900;, score=(train=0.917, test=0.833) total time=   8.4s\n",
      "[CV 1/5] END bootstrap=False, max_depth=16, max_features=None, min_samples_leaf=1, min_samples_split=2, n_estimators=4450;, score=(train=1.000, test=0.750) total time=   8.4s\n",
      "[CV 1/5] END bootstrap=False, max_depth=11, max_features=sqrt, min_samples_leaf=1, min_samples_split=10, n_estimators=2250;, score=(train=1.000, test=0.500) total time=   3.0s\n",
      "[CV 2/5] END bootstrap=False, max_depth=16, max_features=None, min_samples_leaf=1, min_samples_split=2, n_estimators=4450;, score=(train=1.000, test=0.333) total time=   8.1s\n",
      "[CV 3/5] END bootstrap=False, max_depth=16, max_features=None, min_samples_leaf=1, min_samples_split=2, n_estimators=4450;, score=(train=1.000, test=0.500) total time=   8.7s\n",
      "[CV 3/5] END bootstrap=False, max_depth=11, max_features=sqrt, min_samples_leaf=1, min_samples_split=10, n_estimators=2250;, score=(train=1.000, test=0.500) total time=   2.9s\n",
      "[CV 2/5] END bootstrap=False, max_depth=11, max_features=sqrt, min_samples_leaf=1, min_samples_split=10, n_estimators=2250;, score=(train=1.000, test=0.833) total time=   2.9s\n",
      "[CV 1/5] END bootstrap=True, max_depth=18, max_features=sqrt, min_samples_leaf=10, min_samples_split=2, n_estimators=1150;, score=(train=0.500, test=0.500) total time=   1.8s\n",
      "[CV 4/5] END bootstrap=False, max_depth=11, max_features=sqrt, min_samples_leaf=1, min_samples_split=10, n_estimators=2250;, score=(train=1.000, test=0.833) total time=   3.1s\n"
     ]
    },
    {
     "name": "stderr",
     "output_type": "stream",
     "text": [
      "/Users/sezaiufukoral/anaconda3/lib/python3.11/site-packages/sklearn/metrics/_classification.py:2466: UserWarning: y_pred contains classes not in y_true\n",
      "  warnings.warn(\"y_pred contains classes not in y_true\")\n"
     ]
    },
    {
     "name": "stdout",
     "output_type": "stream",
     "text": [
      "[CV 2/5] END bootstrap=True, max_depth=18, max_features=sqrt, min_samples_leaf=10, min_samples_split=2, n_estimators=1150;, score=(train=0.500, test=0.500) total time=   1.9s\n",
      "[CV 5/5] END bootstrap=False, max_depth=11, max_features=sqrt, min_samples_leaf=1, min_samples_split=10, n_estimators=2250;, score=(train=1.000, test=0.750) total time=   2.8s\n",
      "[CV 3/5] END bootstrap=True, max_depth=18, max_features=sqrt, min_samples_leaf=10, min_samples_split=2, n_estimators=1150;, score=(train=0.500, test=0.500) total time=   1.8s\n",
      "[CV 4/5] END bootstrap=False, max_depth=16, max_features=None, min_samples_leaf=1, min_samples_split=2, n_estimators=4450;, score=(train=1.000, test=0.833) total time=   8.7s\n",
      "[CV 4/5] END bootstrap=True, max_depth=18, max_features=sqrt, min_samples_leaf=10, min_samples_split=2, n_estimators=1150;, score=(train=0.500, test=0.500) total time=   2.1s\n"
     ]
    },
    {
     "name": "stderr",
     "output_type": "stream",
     "text": [
      "/Users/sezaiufukoral/anaconda3/lib/python3.11/site-packages/sklearn/metrics/_classification.py:2466: UserWarning: y_pred contains classes not in y_true\n",
      "  warnings.warn(\"y_pred contains classes not in y_true\")\n"
     ]
    },
    {
     "name": "stdout",
     "output_type": "stream",
     "text": [
      "[CV 5/5] END bootstrap=True, max_depth=18, max_features=sqrt, min_samples_leaf=10, min_samples_split=2, n_estimators=1150;, score=(train=0.500, test=0.000) total time=   2.0s\n"
     ]
    },
    {
     "name": "stderr",
     "output_type": "stream",
     "text": [
      "/Users/sezaiufukoral/anaconda3/lib/python3.11/site-packages/sklearn/metrics/_classification.py:2466: UserWarning: y_pred contains classes not in y_true\n",
      "  warnings.warn(\"y_pred contains classes not in y_true\")\n"
     ]
    },
    {
     "name": "stdout",
     "output_type": "stream",
     "text": [
      "[CV 5/5] END bootstrap=False, max_depth=16, max_features=None, min_samples_leaf=1, min_samples_split=2, n_estimators=4450;, score=(train=1.000, test=0.750) total time=   9.5s\n",
      "[CV 1/5] END bootstrap=False, max_depth=13, max_features=sqrt, min_samples_leaf=1, min_samples_split=10, n_estimators=3900;, score=(train=1.000, test=0.500) total time=   5.3s\n",
      "[CV 3/5] END bootstrap=False, max_depth=13, max_features=sqrt, min_samples_leaf=1, min_samples_split=10, n_estimators=3900;, score=(train=1.000, test=0.500) total time=   5.0s\n",
      "[CV 2/5] END bootstrap=False, max_depth=13, max_features=sqrt, min_samples_leaf=1, min_samples_split=10, n_estimators=3900;, score=(train=1.000, test=0.833) total time=   5.1s\n",
      "[CV 4/5] END bootstrap=False, max_depth=13, max_features=sqrt, min_samples_leaf=1, min_samples_split=10, n_estimators=3900;, score=(train=1.000, test=0.833) total time=   4.7s\n"
     ]
    },
    {
     "name": "stderr",
     "output_type": "stream",
     "text": [
      "/Users/sezaiufukoral/anaconda3/lib/python3.11/site-packages/sklearn/metrics/_classification.py:2466: UserWarning: y_pred contains classes not in y_true\n",
      "  warnings.warn(\"y_pred contains classes not in y_true\")\n"
     ]
    },
    {
     "name": "stdout",
     "output_type": "stream",
     "text": [
      "[CV 1/5] END bootstrap=True, max_depth=3, max_features=None, min_samples_leaf=1, min_samples_split=10, n_estimators=2250;, score=(train=0.900, test=0.750) total time=   4.9s\n",
      "[CV 5/5] END bootstrap=False, max_depth=13, max_features=sqrt, min_samples_leaf=1, min_samples_split=10, n_estimators=3900;, score=(train=1.000, test=0.750) total time=   5.1s\n",
      "[CV 2/5] END bootstrap=True, max_depth=3, max_features=None, min_samples_leaf=1, min_samples_split=10, n_estimators=2250;, score=(train=1.000, test=0.333) total time=   4.5s\n",
      "[CV 2/5] END bootstrap=True, max_depth=3, max_features=sqrt, min_samples_leaf=1, min_samples_split=10, n_estimators=1700;, score=(train=0.786, test=0.500) total time=   2.9s\n",
      "[CV 3/5] END bootstrap=True, max_depth=3, max_features=None, min_samples_leaf=1, min_samples_split=10, n_estimators=2250;, score=(train=0.900, test=0.500) total time=   4.7s\n",
      "[CV 1/5] END bootstrap=True, max_depth=3, max_features=sqrt, min_samples_leaf=1, min_samples_split=10, n_estimators=1700;, score=(train=0.500, test=0.500) total time=   3.3s\n",
      "[CV 3/5] END bootstrap=True, max_depth=3, max_features=sqrt, min_samples_leaf=1, min_samples_split=10, n_estimators=1700;, score=(train=0.500, test=0.500) total time=   3.0s\n",
      "[CV 4/5] END bootstrap=True, max_depth=3, max_features=sqrt, min_samples_leaf=1, min_samples_split=10, n_estimators=1700;, score=(train=0.500, test=0.500) total time=   3.0s\n",
      "[CV 5/5] END bootstrap=True, max_depth=3, max_features=sqrt, min_samples_leaf=1, min_samples_split=10, n_estimators=1700;, score=(train=0.857, test=0.000) total time=   2.9s\n"
     ]
    },
    {
     "name": "stderr",
     "output_type": "stream",
     "text": [
      "/Users/sezaiufukoral/anaconda3/lib/python3.11/site-packages/sklearn/metrics/_classification.py:2466: UserWarning: y_pred contains classes not in y_true\n",
      "  warnings.warn(\"y_pred contains classes not in y_true\")\n"
     ]
    },
    {
     "name": "stdout",
     "output_type": "stream",
     "text": [
      "[CV 4/5] END bootstrap=True, max_depth=3, max_features=None, min_samples_leaf=1, min_samples_split=10, n_estimators=2250;, score=(train=0.917, test=0.833) total time=   4.9s\n"
     ]
    },
    {
     "name": "stderr",
     "output_type": "stream",
     "text": [
      "/Users/sezaiufukoral/anaconda3/lib/python3.11/site-packages/sklearn/metrics/_classification.py:395: UserWarning: A single label was found in 'y_true' and 'y_pred'. For the confusion matrix to have the correct shape, use the 'labels' parameter to pass all known labels.\n",
      "  warnings.warn(\n"
     ]
    },
    {
     "name": "stdout",
     "output_type": "stream",
     "text": [
      "[CV 5/5] END bootstrap=True, max_depth=3, max_features=None, min_samples_leaf=1, min_samples_split=10, n_estimators=2250;, score=(train=0.929, test=1.000) total time=   4.8s\n",
      "[CV 1/5] END bootstrap=False, max_depth=10, max_features=None, min_samples_leaf=1, min_samples_split=10, n_estimators=5000;, score=(train=1.000, test=0.750) total time=   9.1s\n",
      "[CV 1/5] END bootstrap=True, max_depth=10, max_features=None, min_samples_leaf=1, min_samples_split=10, n_estimators=5000;, score=(train=0.900, test=0.750) total time=  10.1s\n",
      "[CV 2/5] END bootstrap=True, max_depth=10, max_features=None, min_samples_leaf=1, min_samples_split=10, n_estimators=5000;, score=(train=1.000, test=0.333) total time=  10.2s\n"
     ]
    },
    {
     "name": "stderr",
     "output_type": "stream",
     "text": [
      "/Users/sezaiufukoral/anaconda3/lib/python3.11/site-packages/sklearn/metrics/_classification.py:395: UserWarning: A single label was found in 'y_true' and 'y_pred'. For the confusion matrix to have the correct shape, use the 'labels' parameter to pass all known labels.\n",
      "  warnings.warn(\n"
     ]
    },
    {
     "name": "stdout",
     "output_type": "stream",
     "text": [
      "[CV 5/5] END bootstrap=True, max_depth=10, max_features=None, min_samples_leaf=1, min_samples_split=10, n_estimators=5000;, score=(train=0.929, test=1.000) total time=  10.1s\n",
      "[CV 4/5] END bootstrap=True, max_depth=10, max_features=None, min_samples_leaf=1, min_samples_split=10, n_estimators=5000;, score=(train=0.917, test=0.833) total time=  10.4s\n",
      "[CV 3/5] END bootstrap=True, max_depth=10, max_features=None, min_samples_leaf=1, min_samples_split=10, n_estimators=5000;, score=(train=0.900, test=0.500) total time=  10.7s\n",
      "[CV 2/5] END bootstrap=False, max_depth=10, max_features=None, min_samples_leaf=1, min_samples_split=10, n_estimators=5000;, score=(train=1.000, test=0.333) total time=   9.7s\n",
      "[CV 3/5] END bootstrap=False, max_depth=10, max_features=None, min_samples_leaf=1, min_samples_split=10, n_estimators=5000;, score=(train=1.000, test=0.500) total time=   9.5s\n",
      "[CV 1/5] END bootstrap=False, max_depth=4, max_features=sqrt, min_samples_leaf=1, min_samples_split=10, n_estimators=3900;, score=(train=1.000, test=0.500) total time=   4.7s\n",
      "[CV 2/5] END bootstrap=False, max_depth=4, max_features=sqrt, min_samples_leaf=1, min_samples_split=10, n_estimators=3900;, score=(train=1.000, test=1.000) total time=   4.8s\n",
      "[CV 1/5] END bootstrap=True, max_depth=11, max_features=None, min_samples_leaf=1, min_samples_split=10, n_estimators=2250;, score=(train=0.900, test=0.750) total time=   4.3s\n"
     ]
    },
    {
     "name": "stderr",
     "output_type": "stream",
     "text": [
      "/Users/sezaiufukoral/anaconda3/lib/python3.11/site-packages/sklearn/metrics/_classification.py:2466: UserWarning: y_pred contains classes not in y_true\n",
      "  warnings.warn(\"y_pred contains classes not in y_true\")\n"
     ]
    },
    {
     "name": "stdout",
     "output_type": "stream",
     "text": [
      "[CV 5/5] END bootstrap=False, max_depth=4, max_features=sqrt, min_samples_leaf=1, min_samples_split=10, n_estimators=3900;, score=(train=1.000, test=0.750) total time=   4.7s\n",
      "[CV 4/5] END bootstrap=False, max_depth=4, max_features=sqrt, min_samples_leaf=1, min_samples_split=10, n_estimators=3900;, score=(train=1.000, test=0.667) total time=   4.9s\n",
      "[CV 3/5] END bootstrap=False, max_depth=4, max_features=sqrt, min_samples_leaf=1, min_samples_split=10, n_estimators=3900;, score=(train=1.000, test=0.500) total time=   5.0s\n"
     ]
    },
    {
     "name": "stderr",
     "output_type": "stream",
     "text": [
      "/Users/sezaiufukoral/anaconda3/lib/python3.11/site-packages/sklearn/metrics/_classification.py:395: UserWarning: A single label was found in 'y_true' and 'y_pred'. For the confusion matrix to have the correct shape, use the 'labels' parameter to pass all known labels.\n",
      "  warnings.warn(\n"
     ]
    },
    {
     "name": "stdout",
     "output_type": "stream",
     "text": [
      "[CV 5/5] END bootstrap=False, max_depth=10, max_features=None, min_samples_leaf=1, min_samples_split=10, n_estimators=5000;, score=(train=0.817, test=1.000) total time=   9.4s\n",
      "[CV 4/5] END bootstrap=False, max_depth=10, max_features=None, min_samples_leaf=1, min_samples_split=10, n_estimators=5000;, score=(train=1.000, test=0.833) total time=   9.9s\n",
      "[CV 4/5] END bootstrap=True, max_depth=11, max_features=None, min_samples_leaf=1, min_samples_split=10, n_estimators=2250;, score=(train=0.917, test=0.833) total time=   5.0s\n",
      "[CV 2/5] END bootstrap=True, max_depth=11, max_features=None, min_samples_leaf=1, min_samples_split=10, n_estimators=2250;, score=(train=1.000, test=0.333) total time=   5.3s\n",
      "[CV 5/5] END bootstrap=True, max_depth=11, max_features=None, min_samples_leaf=1, min_samples_split=10, n_estimators=2250;, score=(train=0.929, test=1.000) total time=   4.6s\n"
     ]
    },
    {
     "name": "stderr",
     "output_type": "stream",
     "text": [
      "/Users/sezaiufukoral/anaconda3/lib/python3.11/site-packages/sklearn/metrics/_classification.py:395: UserWarning: A single label was found in 'y_true' and 'y_pred'. For the confusion matrix to have the correct shape, use the 'labels' parameter to pass all known labels.\n",
      "  warnings.warn(\n"
     ]
    },
    {
     "name": "stdout",
     "output_type": "stream",
     "text": [
      "[CV 3/5] END bootstrap=True, max_depth=11, max_features=None, min_samples_leaf=1, min_samples_split=10, n_estimators=2250;, score=(train=0.900, test=0.500) total time=   5.4s\n",
      "[CV 1/5] END bootstrap=True, max_depth=18, max_features=log2, min_samples_leaf=1, min_samples_split=2, n_estimators=600;, score=(train=1.000, test=0.500) total time=   1.0s\n",
      "[CV 2/5] END bootstrap=True, max_depth=18, max_features=log2, min_samples_leaf=1, min_samples_split=2, n_estimators=600;, score=(train=1.000, test=0.833) total time=   1.1s\n",
      "[CV 3/5] END bootstrap=True, max_depth=18, max_features=log2, min_samples_leaf=1, min_samples_split=2, n_estimators=600;, score=(train=1.000, test=0.500) total time=   1.1s\n",
      "[CV 1/5] END bootstrap=True, max_depth=17, max_features=log2, min_samples_leaf=10, min_samples_split=10, n_estimators=3350;, score=(train=0.500, test=0.500) total time=   6.1s\n",
      "[CV 2/5] END bootstrap=True, max_depth=17, max_features=log2, min_samples_leaf=10, min_samples_split=10, n_estimators=3350;, score=(train=0.500, test=0.500) total time=   6.2s\n",
      "[CV 4/5] END bootstrap=True, max_depth=18, max_features=log2, min_samples_leaf=1, min_samples_split=2, n_estimators=600;, score=(train=1.000, test=0.667) total time=   1.1s\n",
      "[CV 5/5] END bootstrap=True, max_depth=18, max_features=log2, min_samples_leaf=1, min_samples_split=2, n_estimators=600;, score=(train=1.000, test=0.750) total time=   1.0s\n"
     ]
    },
    {
     "name": "stderr",
     "output_type": "stream",
     "text": [
      "/Users/sezaiufukoral/anaconda3/lib/python3.11/site-packages/sklearn/metrics/_classification.py:2466: UserWarning: y_pred contains classes not in y_true\n",
      "  warnings.warn(\"y_pred contains classes not in y_true\")\n"
     ]
    },
    {
     "name": "stdout",
     "output_type": "stream",
     "text": [
      "[CV 3/5] END bootstrap=True, max_depth=17, max_features=log2, min_samples_leaf=10, min_samples_split=10, n_estimators=3350;, score=(train=0.500, test=0.500) total time=   5.2s\n",
      "[CV 4/5] END bootstrap=True, max_depth=17, max_features=log2, min_samples_leaf=10, min_samples_split=10, n_estimators=3350;, score=(train=0.500, test=0.500) total time=   5.4s\n"
     ]
    },
    {
     "name": "stderr",
     "output_type": "stream",
     "text": [
      "/Users/sezaiufukoral/anaconda3/lib/python3.11/site-packages/sklearn/metrics/_classification.py:2466: UserWarning: y_pred contains classes not in y_true\n",
      "  warnings.warn(\"y_pred contains classes not in y_true\")\n"
     ]
    },
    {
     "name": "stdout",
     "output_type": "stream",
     "text": [
      "[CV 5/5] END bootstrap=True, max_depth=17, max_features=log2, min_samples_leaf=10, min_samples_split=10, n_estimators=3350;, score=(train=0.500, test=0.000) total time=   5.3s\n",
      "[CV 1/5] END bootstrap=True, max_depth=14, max_features=sqrt, min_samples_leaf=10, min_samples_split=10, n_estimators=1700;, score=(train=0.500, test=0.500) total time=   2.5s\n",
      "[CV 2/5] END bootstrap=True, max_depth=14, max_features=sqrt, min_samples_leaf=10, min_samples_split=10, n_estimators=1700;, score=(train=0.500, test=0.500) total time=   2.3s\n",
      "[CV 3/5] END bootstrap=True, max_depth=14, max_features=sqrt, min_samples_leaf=10, min_samples_split=10, n_estimators=1700;, score=(train=0.500, test=0.500) total time=   2.3s\n",
      "[CV 1/5] END bootstrap=True, max_depth=10, max_features=sqrt, min_samples_leaf=1, min_samples_split=10, n_estimators=4450;, score=(train=0.500, test=0.500) total time=   6.3s\n",
      "[CV 2/5] END bootstrap=True, max_depth=10, max_features=sqrt, min_samples_leaf=1, min_samples_split=10, n_estimators=4450;, score=(train=0.786, test=0.500) total time=   6.7s\n",
      "[CV 4/5] END bootstrap=True, max_depth=10, max_features=sqrt, min_samples_leaf=1, min_samples_split=10, n_estimators=4450;, score=(train=0.500, test=0.500) total time=   6.2s\n",
      "[CV 3/5] END bootstrap=True, max_depth=10, max_features=sqrt, min_samples_leaf=1, min_samples_split=10, n_estimators=4450;, score=(train=0.500, test=0.500) total time=   6.6s\n"
     ]
    },
    {
     "name": "stderr",
     "output_type": "stream",
     "text": [
      "/Users/sezaiufukoral/anaconda3/lib/python3.11/site-packages/sklearn/metrics/_classification.py:2466: UserWarning: y_pred contains classes not in y_true\n",
      "  warnings.warn(\"y_pred contains classes not in y_true\")\n"
     ]
    },
    {
     "name": "stdout",
     "output_type": "stream",
     "text": [
      "[CV 5/5] END bootstrap=True, max_depth=10, max_features=sqrt, min_samples_leaf=1, min_samples_split=10, n_estimators=4450;, score=(train=0.929, test=0.000) total time=   6.6s\n",
      "[CV 4/5] END bootstrap=True, max_depth=14, max_features=sqrt, min_samples_leaf=10, min_samples_split=10, n_estimators=1700;, score=(train=0.500, test=0.500) total time=   2.6s\n",
      "[CV 5/5] END bootstrap=True, max_depth=14, max_features=sqrt, min_samples_leaf=10, min_samples_split=10, n_estimators=1700;, score=(train=0.500, test=0.000) total time=   2.4s\n"
     ]
    },
    {
     "name": "stderr",
     "output_type": "stream",
     "text": [
      "/Users/sezaiufukoral/anaconda3/lib/python3.11/site-packages/sklearn/metrics/_classification.py:2466: UserWarning: y_pred contains classes not in y_true\n",
      "  warnings.warn(\"y_pred contains classes not in y_true\")\n"
     ]
    },
    {
     "name": "stdout",
     "output_type": "stream",
     "text": [
      "[CV 1/5] END bootstrap=False, max_depth=5, max_features=log2, min_samples_leaf=1, min_samples_split=2, n_estimators=2250;, score=(train=1.000, test=0.500) total time=   2.4s\n",
      "[CV 2/5] END bootstrap=False, max_depth=5, max_features=log2, min_samples_leaf=1, min_samples_split=2, n_estimators=2250;, score=(train=1.000, test=0.833) total time=   2.4s\n",
      "[CV 3/5] END bootstrap=False, max_depth=5, max_features=log2, min_samples_leaf=1, min_samples_split=2, n_estimators=2250;, score=(train=1.000, test=0.500) total time=   2.4s\n",
      "[CV 4/5] END bootstrap=False, max_depth=5, max_features=log2, min_samples_leaf=1, min_samples_split=2, n_estimators=2250;, score=(train=1.000, test=0.667) total time=   2.4s\n",
      "[CV 5/5] END bootstrap=False, max_depth=5, max_features=log2, min_samples_leaf=1, min_samples_split=2, n_estimators=2250;, score=(train=1.000, test=0.750) total time=   2.3s\n"
     ]
    },
    {
     "name": "stderr",
     "output_type": "stream",
     "text": [
      "/Users/sezaiufukoral/anaconda3/lib/python3.11/site-packages/sklearn/metrics/_classification.py:2466: UserWarning: y_pred contains classes not in y_true\n",
      "  warnings.warn(\"y_pred contains classes not in y_true\")\n"
     ]
    },
    {
     "name": "stdout",
     "output_type": "stream",
     "text": [
      "[CV 1/5] END bootstrap=False, max_depth=20, max_features=sqrt, min_samples_leaf=1, min_samples_split=10, n_estimators=3350;, score=(train=1.000, test=0.500) total time=   3.5s\n",
      "[CV 2/5] END bootstrap=False, max_depth=20, max_features=sqrt, min_samples_leaf=1, min_samples_split=10, n_estimators=3350;, score=(train=1.000, test=0.833) total time=   3.5s\n",
      "[CV 3/5] END bootstrap=False, max_depth=20, max_features=sqrt, min_samples_leaf=1, min_samples_split=10, n_estimators=3350;, score=(train=1.000, test=0.500) total time=   3.5s\n",
      "[CV 1/5] END bootstrap=False, max_depth=7, max_features=sqrt, min_samples_leaf=1, min_samples_split=10, n_estimators=50;, score=(train=1.000, test=0.500) total time=   0.0s\n",
      "[CV 2/5] END bootstrap=False, max_depth=7, max_features=sqrt, min_samples_leaf=1, min_samples_split=10, n_estimators=50;, score=(train=1.000, test=0.833) total time=   0.1s\n",
      "[CV 3/5] END bootstrap=False, max_depth=7, max_features=sqrt, min_samples_leaf=1, min_samples_split=10, n_estimators=50;, score=(train=1.000, test=0.500) total time=   0.1s\n",
      "[CV 4/5] END bootstrap=False, max_depth=7, max_features=sqrt, min_samples_leaf=1, min_samples_split=10, n_estimators=50;, score=(train=1.000, test=0.500) total time=   0.1s\n"
     ]
    },
    {
     "name": "stderr",
     "output_type": "stream",
     "text": [
      "/Users/sezaiufukoral/anaconda3/lib/python3.11/site-packages/sklearn/metrics/_classification.py:2466: UserWarning: y_pred contains classes not in y_true\n",
      "  warnings.warn(\"y_pred contains classes not in y_true\")\n"
     ]
    },
    {
     "name": "stdout",
     "output_type": "stream",
     "text": [
      "[CV 5/5] END bootstrap=False, max_depth=7, max_features=sqrt, min_samples_leaf=1, min_samples_split=10, n_estimators=50;, score=(train=1.000, test=0.750) total time=   0.1s\n",
      "[CV 4/5] END bootstrap=False, max_depth=20, max_features=sqrt, min_samples_leaf=1, min_samples_split=10, n_estimators=3350;, score=(train=1.000, test=0.667) total time=   3.1s\n",
      "[CV 1/5] END bootstrap=False, max_depth=17, max_features=sqrt, min_samples_leaf=10, min_samples_split=10, n_estimators=2800;, score=(train=0.500, test=0.500) total time=   2.6s\n"
     ]
    },
    {
     "name": "stderr",
     "output_type": "stream",
     "text": [
      "/Users/sezaiufukoral/anaconda3/lib/python3.11/site-packages/sklearn/metrics/_classification.py:2466: UserWarning: y_pred contains classes not in y_true\n",
      "  warnings.warn(\"y_pred contains classes not in y_true\")\n"
     ]
    },
    {
     "name": "stdout",
     "output_type": "stream",
     "text": [
      "[CV 2/5] END bootstrap=False, max_depth=17, max_features=sqrt, min_samples_leaf=10, min_samples_split=10, n_estimators=2800;, score=(train=0.500, test=0.500) total time=   2.6s\n",
      "[CV 5/5] END bootstrap=False, max_depth=20, max_features=sqrt, min_samples_leaf=1, min_samples_split=10, n_estimators=3350;, score=(train=1.000, test=0.750) total time=   3.4s\n",
      "[CV 3/5] END bootstrap=False, max_depth=17, max_features=sqrt, min_samples_leaf=10, min_samples_split=10, n_estimators=2800;, score=(train=0.500, test=0.500) total time=   3.0s\n",
      "[CV 2/5] END bootstrap=False, max_depth=19, max_features=sqrt, min_samples_leaf=10, min_samples_split=10, n_estimators=1700;, score=(train=0.500, test=0.500) total time=   1.7s\n",
      "[CV 1/5] END bootstrap=False, max_depth=19, max_features=sqrt, min_samples_leaf=10, min_samples_split=10, n_estimators=1700;, score=(train=0.500, test=0.500) total time=   1.8s\n",
      "[CV 4/5] END bootstrap=False, max_depth=17, max_features=sqrt, min_samples_leaf=10, min_samples_split=10, n_estimators=2800;, score=(train=0.500, test=0.500) total time=   2.5s\n",
      "[CV 5/5] END bootstrap=False, max_depth=19, max_features=sqrt, min_samples_leaf=10, min_samples_split=10, n_estimators=1700;, score=(train=0.500, test=0.000) total time=   1.5s\n",
      "[CV 4/5] END bootstrap=False, max_depth=19, max_features=sqrt, min_samples_leaf=10, min_samples_split=10, n_estimators=1700;, score=(train=0.500, test=0.500) total time=   1.6s\n"
     ]
    },
    {
     "name": "stderr",
     "output_type": "stream",
     "text": [
      "/Users/sezaiufukoral/anaconda3/lib/python3.11/site-packages/sklearn/metrics/_classification.py:2466: UserWarning: y_pred contains classes not in y_true\n",
      "  warnings.warn(\"y_pred contains classes not in y_true\")\n"
     ]
    },
    {
     "name": "stdout",
     "output_type": "stream",
     "text": [
      "[CV 3/5] END bootstrap=False, max_depth=19, max_features=sqrt, min_samples_leaf=10, min_samples_split=10, n_estimators=1700;, score=(train=0.500, test=0.500) total time=   1.7s\n",
      "[CV 5/5] END bootstrap=False, max_depth=17, max_features=sqrt, min_samples_leaf=10, min_samples_split=10, n_estimators=2800;, score=(train=0.500, test=0.000) total time=   2.6s\n"
     ]
    },
    {
     "name": "stderr",
     "output_type": "stream",
     "text": [
      "/Users/sezaiufukoral/anaconda3/lib/python3.11/site-packages/sklearn/metrics/_classification.py:2466: UserWarning: y_pred contains classes not in y_true\n",
      "  warnings.warn(\"y_pred contains classes not in y_true\")\n"
     ]
    },
    {
     "name": "stdout",
     "output_type": "stream",
     "text": [
      "[CV 1/5] END bootstrap=True, max_depth=15, max_features=sqrt, min_samples_leaf=1, min_samples_split=2, n_estimators=4450;, score=(train=1.000, test=0.500) total time=   6.5s\n",
      "[CV 1/5] END bootstrap=True, max_depth=14, max_features=log2, min_samples_leaf=10, min_samples_split=10, n_estimators=4450;, score=(train=0.500, test=0.500) total time=   6.1s\n",
      "[CV 2/5] END bootstrap=True, max_depth=14, max_features=log2, min_samples_leaf=10, min_samples_split=10, n_estimators=4450;, score=(train=0.500, test=0.500) total time=   6.3s\n",
      "[CV 3/5] END bootstrap=True, max_depth=15, max_features=sqrt, min_samples_leaf=1, min_samples_split=2, n_estimators=4450;, score=(train=1.000, test=0.500) total time=   6.7s\n",
      "[CV 3/5] END bootstrap=True, max_depth=14, max_features=log2, min_samples_leaf=10, min_samples_split=10, n_estimators=4450;, score=(train=0.500, test=0.500) total time=   6.4s\n",
      "[CV 4/5] END bootstrap=True, max_depth=15, max_features=sqrt, min_samples_leaf=1, min_samples_split=2, n_estimators=4450;, score=(train=1.000, test=0.667) total time=   7.1s\n",
      "[CV 2/5] END bootstrap=True, max_depth=15, max_features=sqrt, min_samples_leaf=1, min_samples_split=2, n_estimators=4450;, score=(train=1.000, test=0.833) total time=   7.2s\n"
     ]
    },
    {
     "name": "stderr",
     "output_type": "stream",
     "text": [
      "/Users/sezaiufukoral/anaconda3/lib/python3.11/site-packages/sklearn/metrics/_classification.py:395: UserWarning: A single label was found in 'y_true' and 'y_pred'. For the confusion matrix to have the correct shape, use the 'labels' parameter to pass all known labels.\n",
      "  warnings.warn(\n"
     ]
    },
    {
     "name": "stdout",
     "output_type": "stream",
     "text": [
      "[CV 5/5] END bootstrap=True, max_depth=15, max_features=sqrt, min_samples_leaf=1, min_samples_split=2, n_estimators=4450;, score=(train=1.000, test=1.000) total time=   7.5s\n",
      "[CV 1/5] END bootstrap=True, max_depth=10, max_features=log2, min_samples_leaf=1, min_samples_split=10, n_estimators=600;, score=(train=0.500, test=0.500) total time=   1.2s\n",
      "[CV 2/5] END bootstrap=True, max_depth=10, max_features=log2, min_samples_leaf=1, min_samples_split=10, n_estimators=600;, score=(train=0.643, test=0.500) total time=   0.9s\n",
      "[CV 3/5] END bootstrap=True, max_depth=10, max_features=log2, min_samples_leaf=1, min_samples_split=10, n_estimators=600;, score=(train=0.500, test=0.500) total time=   1.0s\n",
      "[CV 4/5] END bootstrap=True, max_depth=10, max_features=log2, min_samples_leaf=1, min_samples_split=10, n_estimators=600;, score=(train=0.500, test=0.500) total time=   1.0s\n"
     ]
    },
    {
     "name": "stderr",
     "output_type": "stream",
     "text": [
      "/Users/sezaiufukoral/anaconda3/lib/python3.11/site-packages/sklearn/metrics/_classification.py:2466: UserWarning: y_pred contains classes not in y_true\n",
      "  warnings.warn(\"y_pred contains classes not in y_true\")\n"
     ]
    },
    {
     "name": "stdout",
     "output_type": "stream",
     "text": [
      "[CV 4/5] END bootstrap=True, max_depth=14, max_features=log2, min_samples_leaf=10, min_samples_split=10, n_estimators=4450;, score=(train=0.500, test=0.500) total time=   7.2s\n",
      "[CV 5/5] END bootstrap=True, max_depth=10, max_features=log2, min_samples_leaf=1, min_samples_split=10, n_estimators=600;, score=(train=0.643, test=0.000) total time=   1.0s\n"
     ]
    },
    {
     "name": "stderr",
     "output_type": "stream",
     "text": [
      "/Users/sezaiufukoral/anaconda3/lib/python3.11/site-packages/sklearn/metrics/_classification.py:2466: UserWarning: y_pred contains classes not in y_true\n",
      "  warnings.warn(\"y_pred contains classes not in y_true\")\n"
     ]
    },
    {
     "name": "stdout",
     "output_type": "stream",
     "text": [
      "[CV 5/5] END bootstrap=True, max_depth=14, max_features=log2, min_samples_leaf=10, min_samples_split=10, n_estimators=4450;, score=(train=0.500, test=0.000) total time=   8.0s\n",
      "[CV 2/5] END bootstrap=True, max_depth=18, max_features=sqrt, min_samples_leaf=1, min_samples_split=10, n_estimators=4450;, score=(train=0.786, test=0.500) total time=   8.0s\n",
      "[CV 1/5] END bootstrap=True, max_depth=18, max_features=sqrt, min_samples_leaf=1, min_samples_split=10, n_estimators=4450;, score=(train=0.500, test=0.500) total time=   8.2s\n",
      "[CV 3/5] END bootstrap=True, max_depth=18, max_features=sqrt, min_samples_leaf=1, min_samples_split=10, n_estimators=4450;, score=(train=0.500, test=0.500) total time=   8.2s\n"
     ]
    },
    {
     "name": "stderr",
     "output_type": "stream",
     "text": [
      "/Users/sezaiufukoral/anaconda3/lib/python3.11/site-packages/sklearn/metrics/_classification.py:2466: UserWarning: y_pred contains classes not in y_true\n",
      "  warnings.warn(\"y_pred contains classes not in y_true\")\n"
     ]
    },
    {
     "name": "stdout",
     "output_type": "stream",
     "text": [
      "[CV 5/5] END bootstrap=True, max_depth=18, max_features=sqrt, min_samples_leaf=1, min_samples_split=10, n_estimators=4450;, score=(train=0.929, test=0.000) total time=   8.2s\n",
      "[CV 4/5] END bootstrap=True, max_depth=18, max_features=sqrt, min_samples_leaf=1, min_samples_split=10, n_estimators=4450;, score=(train=0.500, test=0.500) total time=   8.4s\n",
      "[CV 1/5] END bootstrap=False, max_depth=14, max_features=sqrt, min_samples_leaf=1, min_samples_split=2, n_estimators=4450;, score=(train=1.000, test=0.500) total time=   6.2s\n",
      "[CV 2/5] END bootstrap=False, max_depth=14, max_features=sqrt, min_samples_leaf=1, min_samples_split=2, n_estimators=4450;, score=(train=1.000, test=0.833) total time=   6.2s\n",
      "[CV 3/5] END bootstrap=False, max_depth=14, max_features=sqrt, min_samples_leaf=1, min_samples_split=2, n_estimators=4450;, score=(train=1.000, test=0.500) total time=   6.0s\n",
      "[CV 4/5] END bootstrap=False, max_depth=14, max_features=sqrt, min_samples_leaf=1, min_samples_split=2, n_estimators=4450;, score=(train=1.000, test=0.833) total time=   5.9s\n"
     ]
    },
    {
     "name": "stderr",
     "output_type": "stream",
     "text": [
      "/Users/sezaiufukoral/anaconda3/lib/python3.11/site-packages/sklearn/metrics/_classification.py:2466: UserWarning: y_pred contains classes not in y_true\n",
      "  warnings.warn(\"y_pred contains classes not in y_true\")\n"
     ]
    },
    {
     "name": "stdout",
     "output_type": "stream",
     "text": [
      "[CV 5/5] END bootstrap=False, max_depth=14, max_features=sqrt, min_samples_leaf=1, min_samples_split=2, n_estimators=4450;, score=(train=1.000, test=0.750) total time=   5.9s\n",
      "[CV 1/5] END bootstrap=True, max_depth=14, max_features=sqrt, min_samples_leaf=10, min_samples_split=10, n_estimators=4450;, score=(train=0.500, test=0.500) total time=   8.0s\n",
      "[CV 2/5] END bootstrap=True, max_depth=14, max_features=sqrt, min_samples_leaf=10, min_samples_split=10, n_estimators=4450;, score=(train=0.500, test=0.500) total time=   7.9s\n",
      "[CV 3/5] END bootstrap=True, max_depth=14, max_features=sqrt, min_samples_leaf=10, min_samples_split=10, n_estimators=4450;, score=(train=0.500, test=0.500) total time=   8.1s\n",
      "[CV 2/5] END bootstrap=False, max_depth=18, max_features=log2, min_samples_leaf=1, min_samples_split=10, n_estimators=3900;, score=(train=1.000, test=0.833) total time=   4.7s\n",
      "[CV 3/5] END bootstrap=False, max_depth=18, max_features=log2, min_samples_leaf=1, min_samples_split=10, n_estimators=3900;, score=(train=1.000, test=0.500) total time=   4.8s\n",
      "[CV 1/5] END bootstrap=False, max_depth=18, max_features=log2, min_samples_leaf=1, min_samples_split=10, n_estimators=3900;, score=(train=1.000, test=0.500) total time=   5.1s\n"
     ]
    },
    {
     "name": "stderr",
     "output_type": "stream",
     "text": [
      "/Users/sezaiufukoral/anaconda3/lib/python3.11/site-packages/sklearn/metrics/_classification.py:2466: UserWarning: y_pred contains classes not in y_true\n",
      "  warnings.warn(\"y_pred contains classes not in y_true\")\n"
     ]
    },
    {
     "name": "stdout",
     "output_type": "stream",
     "text": [
      "[CV 4/5] END bootstrap=True, max_depth=14, max_features=sqrt, min_samples_leaf=10, min_samples_split=10, n_estimators=4450;, score=(train=0.500, test=0.500) total time=   7.6s\n",
      "[CV 5/5] END bootstrap=True, max_depth=14, max_features=sqrt, min_samples_leaf=10, min_samples_split=10, n_estimators=4450;, score=(train=0.500, test=0.000) total time=   7.6s\n",
      "[CV 1/5] END bootstrap=False, max_depth=11, max_features=log2, min_samples_leaf=1, min_samples_split=10, n_estimators=2800;, score=(train=1.000, test=0.500) total time=   3.6s\n",
      "[CV 4/5] END bootstrap=False, max_depth=18, max_features=log2, min_samples_leaf=1, min_samples_split=10, n_estimators=3900;, score=(train=1.000, test=0.667) total time=   4.7s\n"
     ]
    },
    {
     "name": "stderr",
     "output_type": "stream",
     "text": [
      "/Users/sezaiufukoral/anaconda3/lib/python3.11/site-packages/sklearn/metrics/_classification.py:2466: UserWarning: y_pred contains classes not in y_true\n",
      "  warnings.warn(\"y_pred contains classes not in y_true\")\n"
     ]
    },
    {
     "name": "stdout",
     "output_type": "stream",
     "text": [
      "[CV 5/5] END bootstrap=False, max_depth=18, max_features=log2, min_samples_leaf=1, min_samples_split=10, n_estimators=3900;, score=(train=1.000, test=0.750) total time=   5.1s\n",
      "[CV 2/5] END bootstrap=False, max_depth=11, max_features=log2, min_samples_leaf=1, min_samples_split=10, n_estimators=2800;, score=(train=1.000, test=0.833) total time=   3.6s\n",
      "[CV 3/5] END bootstrap=False, max_depth=11, max_features=log2, min_samples_leaf=1, min_samples_split=10, n_estimators=2800;, score=(train=1.000, test=0.500) total time=   3.4s\n",
      "[CV 4/5] END bootstrap=False, max_depth=11, max_features=log2, min_samples_leaf=1, min_samples_split=10, n_estimators=2800;, score=(train=1.000, test=0.667) total time=   3.7s\n"
     ]
    },
    {
     "name": "stderr",
     "output_type": "stream",
     "text": [
      "/Users/sezaiufukoral/anaconda3/lib/python3.11/site-packages/sklearn/metrics/_classification.py:2466: UserWarning: y_pred contains classes not in y_true\n",
      "  warnings.warn(\"y_pred contains classes not in y_true\")\n"
     ]
    },
    {
     "name": "stdout",
     "output_type": "stream",
     "text": [
      "[CV 5/5] END bootstrap=False, max_depth=11, max_features=log2, min_samples_leaf=1, min_samples_split=10, n_estimators=2800;, score=(train=1.000, test=0.750) total time=   3.6s\n",
      "[CV 2/5] END bootstrap=False, max_depth=15, max_features=sqrt, min_samples_leaf=1, min_samples_split=10, n_estimators=1700;, score=(train=1.000, test=0.833) total time=   2.1s\n",
      "[CV 1/5] END bootstrap=False, max_depth=15, max_features=sqrt, min_samples_leaf=1, min_samples_split=10, n_estimators=1700;, score=(train=1.000, test=0.500) total time=   2.5s\n",
      "[CV 3/5] END bootstrap=False, max_depth=15, max_features=sqrt, min_samples_leaf=1, min_samples_split=10, n_estimators=1700;, score=(train=1.000, test=0.500) total time=   2.0s\n",
      "[CV 4/5] END bootstrap=False, max_depth=15, max_features=sqrt, min_samples_leaf=1, min_samples_split=10, n_estimators=1700;, score=(train=1.000, test=0.667) total time=   2.2s\n",
      "[CV 5/5] END bootstrap=False, max_depth=15, max_features=sqrt, min_samples_leaf=1, min_samples_split=10, n_estimators=1700;, score=(train=1.000, test=0.750) total time=   2.4s\n"
     ]
    },
    {
     "name": "stderr",
     "output_type": "stream",
     "text": [
      "/Users/sezaiufukoral/anaconda3/lib/python3.11/site-packages/sklearn/metrics/_classification.py:2466: UserWarning: y_pred contains classes not in y_true\n",
      "  warnings.warn(\"y_pred contains classes not in y_true\")\n"
     ]
    },
    {
     "name": "stdout",
     "output_type": "stream",
     "text": [
      "[CV 1/5] END bootstrap=True, max_depth=7, max_features=log2, min_samples_leaf=10, min_samples_split=10, n_estimators=3900;, score=(train=0.500, test=0.500) total time=   7.3s\n",
      "[CV 2/5] END bootstrap=True, max_depth=7, max_features=log2, min_samples_leaf=10, min_samples_split=10, n_estimators=3900;, score=(train=0.500, test=0.500) total time=   6.9s\n",
      "[CV 3/5] END bootstrap=True, max_depth=7, max_features=log2, min_samples_leaf=10, min_samples_split=10, n_estimators=3900;, score=(train=0.500, test=0.500) total time=   7.1s\n"
     ]
    },
    {
     "name": "stderr",
     "output_type": "stream",
     "text": [
      "/Users/sezaiufukoral/anaconda3/lib/python3.11/site-packages/sklearn/metrics/_classification.py:2466: UserWarning: y_pred contains classes not in y_true\n",
      "  warnings.warn(\"y_pred contains classes not in y_true\")\n"
     ]
    },
    {
     "name": "stdout",
     "output_type": "stream",
     "text": [
      "[CV 4/5] END bootstrap=True, max_depth=7, max_features=log2, min_samples_leaf=10, min_samples_split=10, n_estimators=3900;, score=(train=0.500, test=0.500) total time=   7.4s\n",
      "[CV 5/5] END bootstrap=True, max_depth=7, max_features=log2, min_samples_leaf=10, min_samples_split=10, n_estimators=3900;, score=(train=0.500, test=0.000) total time=   7.0s\n",
      "[CV 1/5] END bootstrap=True, max_depth=4, max_features=sqrt, min_samples_leaf=1, min_samples_split=2, n_estimators=3350;, score=(train=1.000, test=0.500) total time=   6.4s\n",
      "[CV 2/5] END bootstrap=True, max_depth=4, max_features=sqrt, min_samples_leaf=1, min_samples_split=2, n_estimators=3350;, score=(train=1.000, test=0.833) total time=   6.1s\n"
     ]
    },
    {
     "name": "stderr",
     "output_type": "stream",
     "text": [
      "/Users/sezaiufukoral/anaconda3/lib/python3.11/site-packages/sklearn/metrics/_classification.py:2466: UserWarning: y_pred contains classes not in y_true\n",
      "  warnings.warn(\"y_pred contains classes not in y_true\")\n"
     ]
    },
    {
     "name": "stdout",
     "output_type": "stream",
     "text": [
      "[CV 5/5] END bootstrap=True, max_depth=4, max_features=sqrt, min_samples_leaf=1, min_samples_split=2, n_estimators=3350;, score=(train=1.000, test=0.750) total time=   5.9s\n",
      "[CV 4/5] END bootstrap=True, max_depth=4, max_features=sqrt, min_samples_leaf=1, min_samples_split=2, n_estimators=3350;, score=(train=1.000, test=0.667) total time=   6.3s\n",
      "[CV 3/5] END bootstrap=True, max_depth=4, max_features=sqrt, min_samples_leaf=1, min_samples_split=2, n_estimators=3350;, score=(train=1.000, test=0.500) total time=   6.5s\n",
      "[CV 1/5] END bootstrap=True, max_depth=19, max_features=sqrt, min_samples_leaf=10, min_samples_split=10, n_estimators=3900;, score=(train=0.500, test=0.500) total time=   6.6s\n",
      "[CV 2/5] END bootstrap=True, max_depth=19, max_features=sqrt, min_samples_leaf=10, min_samples_split=10, n_estimators=3900;, score=(train=0.500, test=0.500) total time=   7.3s\n",
      "[CV 3/5] END bootstrap=True, max_depth=19, max_features=sqrt, min_samples_leaf=10, min_samples_split=10, n_estimators=3900;, score=(train=0.500, test=0.500) total time=   7.3s\n",
      "[CV 1/5] END bootstrap=False, max_depth=3, max_features=sqrt, min_samples_leaf=1, min_samples_split=2, n_estimators=2250;, score=(train=1.000, test=0.500) total time=   2.6s\n",
      "[CV 4/5] END bootstrap=True, max_depth=19, max_features=sqrt, min_samples_leaf=10, min_samples_split=10, n_estimators=3900;, score=(train=0.500, test=0.500) total time=   7.0s\n"
     ]
    },
    {
     "name": "stderr",
     "output_type": "stream",
     "text": [
      "/Users/sezaiufukoral/anaconda3/lib/python3.11/site-packages/sklearn/metrics/_classification.py:2466: UserWarning: y_pred contains classes not in y_true\n",
      "  warnings.warn(\"y_pred contains classes not in y_true\")\n"
     ]
    },
    {
     "name": "stdout",
     "output_type": "stream",
     "text": [
      "[CV 5/5] END bootstrap=True, max_depth=19, max_features=sqrt, min_samples_leaf=10, min_samples_split=10, n_estimators=3900;, score=(train=0.500, test=0.000) total time=   6.6s\n",
      "[CV 3/5] END bootstrap=False, max_depth=17, max_features=None, min_samples_leaf=1, min_samples_split=2, n_estimators=3350;, score=(train=1.000, test=0.500) total time=   6.0s\n",
      "[CV 1/5] END bootstrap=False, max_depth=17, max_features=None, min_samples_leaf=1, min_samples_split=2, n_estimators=3350;, score=(train=1.000, test=0.750) total time=   6.6s\n",
      "[CV 2/5] END bootstrap=False, max_depth=17, max_features=None, min_samples_leaf=1, min_samples_split=2, n_estimators=3350;, score=(train=1.000, test=0.333) total time=   6.5s\n",
      "[CV 1/5] END bootstrap=False, max_depth=11, max_features=None, min_samples_leaf=10, min_samples_split=2, n_estimators=600;, score=(train=0.500, test=0.500) total time=   0.7s\n",
      "[CV 2/5] END bootstrap=False, max_depth=11, max_features=None, min_samples_leaf=10, min_samples_split=2, n_estimators=600;, score=(train=0.500, test=0.500) total time=   0.6s\n",
      "[CV 4/5] END bootstrap=False, max_depth=17, max_features=None, min_samples_leaf=1, min_samples_split=2, n_estimators=3350;, score=(train=1.000, test=0.833) total time=   6.2s\n",
      "[CV 4/5] END bootstrap=False, max_depth=11, max_features=None, min_samples_leaf=10, min_samples_split=2, n_estimators=600;, score=(train=0.500, test=0.500) total time=   0.6s\n",
      "[CV 3/5] END bootstrap=False, max_depth=3, max_features=sqrt, min_samples_leaf=1, min_samples_split=2, n_estimators=2250;, score=(train=1.000, test=0.500) total time=   2.3s\n",
      "[CV 2/5] END bootstrap=False, max_depth=3, max_features=sqrt, min_samples_leaf=1, min_samples_split=2, n_estimators=2250;, score=(train=1.000, test=0.500) total time=   2.3s\n",
      "[CV 1/5] END bootstrap=False, max_depth=7, max_features=log2, min_samples_leaf=1, min_samples_split=2, n_estimators=50;, score=(train=1.000, test=0.500) total time=   0.1s\n",
      "[CV 2/5] END bootstrap=False, max_depth=7, max_features=log2, min_samples_leaf=1, min_samples_split=2, n_estimators=50;, score=(train=1.000, test=0.833) total time=   0.1s\n",
      "[CV 3/5] END bootstrap=False, max_depth=7, max_features=log2, min_samples_leaf=1, min_samples_split=2, n_estimators=50;, score=(train=1.000, test=0.500) total time=   0.1s\n",
      "[CV 3/5] END bootstrap=False, max_depth=11, max_features=None, min_samples_leaf=10, min_samples_split=2, n_estimators=600;, score=(train=0.500, test=0.500) total time=   0.7s\n",
      "[CV 4/5] END bootstrap=False, max_depth=7, max_features=log2, min_samples_leaf=1, min_samples_split=2, n_estimators=50;, score=(train=1.000, test=0.500) total time=   0.1s\n",
      "[CV 5/5] END bootstrap=False, max_depth=7, max_features=log2, min_samples_leaf=1, min_samples_split=2, n_estimators=50;, score=(train=1.000, test=0.750) total time=   0.1s\n"
     ]
    },
    {
     "name": "stderr",
     "output_type": "stream",
     "text": [
      "/Users/sezaiufukoral/anaconda3/lib/python3.11/site-packages/sklearn/metrics/_classification.py:2466: UserWarning: y_pred contains classes not in y_true\n",
      "  warnings.warn(\"y_pred contains classes not in y_true\")\n",
      "/Users/sezaiufukoral/anaconda3/lib/python3.11/site-packages/sklearn/metrics/_classification.py:2466: UserWarning: y_pred contains classes not in y_true\n",
      "  warnings.warn(\"y_pred contains classes not in y_true\")\n"
     ]
    },
    {
     "name": "stdout",
     "output_type": "stream",
     "text": [
      "[CV 5/5] END bootstrap=False, max_depth=11, max_features=None, min_samples_leaf=10, min_samples_split=2, n_estimators=600;, score=(train=0.500, test=0.000) total time=   0.6s\n"
     ]
    },
    {
     "name": "stderr",
     "output_type": "stream",
     "text": [
      "/Users/sezaiufukoral/anaconda3/lib/python3.11/site-packages/sklearn/metrics/_classification.py:2466: UserWarning: y_pred contains classes not in y_true\n",
      "  warnings.warn(\"y_pred contains classes not in y_true\")\n",
      "/Users/sezaiufukoral/anaconda3/lib/python3.11/site-packages/sklearn/metrics/_classification.py:2466: UserWarning: y_pred contains classes not in y_true\n",
      "  warnings.warn(\"y_pred contains classes not in y_true\")\n"
     ]
    },
    {
     "name": "stdout",
     "output_type": "stream",
     "text": [
      "[CV 5/5] END bootstrap=False, max_depth=3, max_features=sqrt, min_samples_leaf=1, min_samples_split=2, n_estimators=2250;, score=(train=1.000, test=0.750) total time=   2.2s\n",
      "[CV 4/5] END bootstrap=False, max_depth=3, max_features=sqrt, min_samples_leaf=1, min_samples_split=2, n_estimators=2250;, score=(train=1.000, test=0.667) total time=   2.4s\n",
      "[CV 5/5] END bootstrap=False, max_depth=17, max_features=None, min_samples_leaf=1, min_samples_split=2, n_estimators=3350;, score=(train=1.000, test=0.750) total time=   5.8s\n"
     ]
    },
    {
     "name": "stderr",
     "output_type": "stream",
     "text": [
      "/Users/sezaiufukoral/anaconda3/lib/python3.11/site-packages/sklearn/metrics/_classification.py:2466: UserWarning: y_pred contains classes not in y_true\n",
      "  warnings.warn(\"y_pred contains classes not in y_true\")\n"
     ]
    },
    {
     "name": "stdout",
     "output_type": "stream",
     "text": [
      "[CV 1/5] END bootstrap=True, max_depth=18, max_features=None, min_samples_leaf=10, min_samples_split=2, n_estimators=1700;, score=(train=0.500, test=0.500) total time=   2.4s\n",
      "[CV 4/5] END bootstrap=True, max_depth=18, max_features=None, min_samples_leaf=10, min_samples_split=2, n_estimators=1700;, score=(train=0.500, test=0.500) total time=   2.4s\n",
      "[CV 5/5] END bootstrap=True, max_depth=18, max_features=None, min_samples_leaf=10, min_samples_split=2, n_estimators=1700;, score=(train=0.500, test=0.000) total time=   2.4s\n",
      "[CV 3/5] END bootstrap=True, max_depth=18, max_features=None, min_samples_leaf=10, min_samples_split=2, n_estimators=1700;, score=(train=0.500, test=0.500) total time=   2.5s\n",
      "[CV 2/5] END bootstrap=True, max_depth=18, max_features=None, min_samples_leaf=10, min_samples_split=2, n_estimators=1700;, score=(train=0.500, test=0.500) total time=   2.5s\n",
      "[CV 1/5] END bootstrap=True, max_depth=18, max_features=sqrt, min_samples_leaf=10, min_samples_split=10, n_estimators=600;, score=(train=0.500, test=0.500) total time=   0.8s\n",
      "[CV 2/5] END bootstrap=True, max_depth=18, max_features=sqrt, min_samples_leaf=10, min_samples_split=10, n_estimators=600;, score=(train=0.500, test=0.500) total time=   0.8s\n",
      "[CV 3/5] END bootstrap=True, max_depth=18, max_features=sqrt, min_samples_leaf=10, min_samples_split=10, n_estimators=600;, score=(train=0.500, test=0.500) total time=   0.8s\n"
     ]
    },
    {
     "name": "stderr",
     "output_type": "stream",
     "text": [
      "/Users/sezaiufukoral/anaconda3/lib/python3.11/site-packages/sklearn/metrics/_classification.py:2466: UserWarning: y_pred contains classes not in y_true\n",
      "  warnings.warn(\"y_pred contains classes not in y_true\")\n"
     ]
    },
    {
     "name": "stdout",
     "output_type": "stream",
     "text": [
      "[CV 5/5] END bootstrap=True, max_depth=18, max_features=sqrt, min_samples_leaf=10, min_samples_split=10, n_estimators=600;, score=(train=0.500, test=0.000) total time=   0.8s\n",
      "[CV 4/5] END bootstrap=True, max_depth=18, max_features=sqrt, min_samples_leaf=10, min_samples_split=10, n_estimators=600;, score=(train=0.500, test=0.500) total time=   0.8s\n",
      "[CV 1/5] END bootstrap=False, max_depth=14, max_features=None, min_samples_leaf=1, min_samples_split=10, n_estimators=4450;, score=(train=1.000, test=0.750) total time=   7.1s\n",
      "[CV 3/5] END bootstrap=False, max_depth=14, max_features=None, min_samples_leaf=1, min_samples_split=10, n_estimators=4450;, score=(train=1.000, test=0.500) total time=   7.0s\n",
      "[CV 2/5] END bootstrap=False, max_depth=14, max_features=None, min_samples_leaf=1, min_samples_split=10, n_estimators=4450;, score=(train=1.000, test=0.333) total time=   7.6s\n",
      "[CV 1/5] END bootstrap=False, max_depth=16, max_features=log2, min_samples_leaf=1, min_samples_split=2, n_estimators=4450;, score=(train=1.000, test=0.750) total time=   5.0s\n",
      "[CV 3/5] END bootstrap=False, max_depth=16, max_features=log2, min_samples_leaf=1, min_samples_split=2, n_estimators=4450;, score=(train=1.000, test=0.500) total time=   4.8s\n",
      "[CV 2/5] END bootstrap=False, max_depth=16, max_features=log2, min_samples_leaf=1, min_samples_split=2, n_estimators=4450;, score=(train=1.000, test=0.667) total time=   4.8s\n"
     ]
    },
    {
     "name": "stderr",
     "output_type": "stream",
     "text": [
      "/Users/sezaiufukoral/anaconda3/lib/python3.11/site-packages/sklearn/metrics/_classification.py:395: UserWarning: A single label was found in 'y_true' and 'y_pred'. For the confusion matrix to have the correct shape, use the 'labels' parameter to pass all known labels.\n",
      "  warnings.warn(\n"
     ]
    },
    {
     "name": "stdout",
     "output_type": "stream",
     "text": [
      "[CV 5/5] END bootstrap=False, max_depth=14, max_features=None, min_samples_leaf=1, min_samples_split=10, n_estimators=4450;, score=(train=0.817, test=1.000) total time=   6.8s\n",
      "[CV 4/5] END bootstrap=False, max_depth=14, max_features=None, min_samples_leaf=1, min_samples_split=10, n_estimators=4450;, score=(train=1.000, test=0.833) total time=   7.3s\n",
      "[CV 1/5] END bootstrap=False, max_depth=12, max_features=sqrt, min_samples_leaf=10, min_samples_split=10, n_estimators=3900;, score=(train=0.500, test=0.500) total time=   3.8s\n",
      "[CV 2/5] END bootstrap=False, max_depth=12, max_features=sqrt, min_samples_leaf=10, min_samples_split=10, n_estimators=3900;, score=(train=0.500, test=0.500) total time=   3.5s\n",
      "[CV 4/5] END bootstrap=False, max_depth=16, max_features=log2, min_samples_leaf=1, min_samples_split=2, n_estimators=4450;, score=(train=1.000, test=0.667) total time=   4.6s\n"
     ]
    },
    {
     "name": "stderr",
     "output_type": "stream",
     "text": [
      "/Users/sezaiufukoral/anaconda3/lib/python3.11/site-packages/sklearn/metrics/_classification.py:395: UserWarning: A single label was found in 'y_true' and 'y_pred'. For the confusion matrix to have the correct shape, use the 'labels' parameter to pass all known labels.\n",
      "  warnings.warn(\n"
     ]
    },
    {
     "name": "stdout",
     "output_type": "stream",
     "text": [
      "[CV 5/5] END bootstrap=False, max_depth=16, max_features=log2, min_samples_leaf=1, min_samples_split=2, n_estimators=4450;, score=(train=1.000, test=1.000) total time=   4.8s\n",
      "[CV 3/5] END bootstrap=False, max_depth=12, max_features=sqrt, min_samples_leaf=10, min_samples_split=10, n_estimators=3900;, score=(train=0.500, test=0.500) total time=   3.9s\n",
      "[CV 4/5] END bootstrap=False, max_depth=12, max_features=sqrt, min_samples_leaf=10, min_samples_split=10, n_estimators=3900;, score=(train=0.500, test=0.500) total time=   3.9s\n"
     ]
    },
    {
     "name": "stderr",
     "output_type": "stream",
     "text": [
      "/Users/sezaiufukoral/anaconda3/lib/python3.11/site-packages/sklearn/metrics/_classification.py:2466: UserWarning: y_pred contains classes not in y_true\n",
      "  warnings.warn(\"y_pred contains classes not in y_true\")\n"
     ]
    },
    {
     "name": "stdout",
     "output_type": "stream",
     "text": [
      "[CV 5/5] END bootstrap=False, max_depth=12, max_features=sqrt, min_samples_leaf=10, min_samples_split=10, n_estimators=3900;, score=(train=0.500, test=0.000) total time=   3.7s\n",
      "[CV 1/5] END bootstrap=True, max_depth=11, max_features=None, min_samples_leaf=10, min_samples_split=10, n_estimators=3900;, score=(train=0.500, test=0.500) total time=   5.4s\n",
      "[CV 1/5] END bootstrap=False, max_depth=17, max_features=None, min_samples_leaf=10, min_samples_split=10, n_estimators=4450;, score=(train=0.500, test=0.500) total time=   4.1s\n",
      "[CV 2/5] END bootstrap=False, max_depth=17, max_features=None, min_samples_leaf=10, min_samples_split=10, n_estimators=4450;, score=(train=0.500, test=0.500) total time=   4.4s\n",
      "[CV 3/5] END bootstrap=False, max_depth=17, max_features=None, min_samples_leaf=10, min_samples_split=10, n_estimators=4450;, score=(train=0.500, test=0.500) total time=   4.3s\n",
      "[CV 2/5] END bootstrap=True, max_depth=11, max_features=None, min_samples_leaf=10, min_samples_split=10, n_estimators=3900;, score=(train=0.500, test=0.500) total time=   5.5s\n",
      "[CV 3/5] END bootstrap=True, max_depth=11, max_features=None, min_samples_leaf=10, min_samples_split=10, n_estimators=3900;, score=(train=0.500, test=0.500) total time=   5.6s\n",
      "[CV 4/5] END bootstrap=True, max_depth=11, max_features=None, min_samples_leaf=10, min_samples_split=10, n_estimators=3900;, score=(train=0.500, test=0.500) total time=   5.6s\n"
     ]
    },
    {
     "name": "stderr",
     "output_type": "stream",
     "text": [
      "/Users/sezaiufukoral/anaconda3/lib/python3.11/site-packages/sklearn/metrics/_classification.py:2466: UserWarning: y_pred contains classes not in y_true\n",
      "  warnings.warn(\"y_pred contains classes not in y_true\")\n"
     ]
    },
    {
     "name": "stdout",
     "output_type": "stream",
     "text": [
      "[CV 5/5] END bootstrap=True, max_depth=11, max_features=None, min_samples_leaf=10, min_samples_split=10, n_estimators=3900;, score=(train=0.500, test=0.000) total time=   5.5s\n",
      "[CV 4/5] END bootstrap=False, max_depth=17, max_features=None, min_samples_leaf=10, min_samples_split=10, n_estimators=4450;, score=(train=0.500, test=0.500) total time=   4.2s\n",
      "[CV 1/5] END bootstrap=False, max_depth=20, max_features=None, min_samples_leaf=10, min_samples_split=2, n_estimators=2250;, score=(train=0.500, test=0.500) total time=   2.2s\n",
      "[CV 2/5] END bootstrap=False, max_depth=20, max_features=None, min_samples_leaf=10, min_samples_split=2, n_estimators=2250;, score=(train=0.500, test=0.500) total time=   2.3s\n",
      "[CV 3/5] END bootstrap=False, max_depth=20, max_features=None, min_samples_leaf=10, min_samples_split=2, n_estimators=2250;, score=(train=0.500, test=0.500) total time=   2.3s\n"
     ]
    },
    {
     "name": "stderr",
     "output_type": "stream",
     "text": [
      "/Users/sezaiufukoral/anaconda3/lib/python3.11/site-packages/sklearn/metrics/_classification.py:2466: UserWarning: y_pred contains classes not in y_true\n",
      "  warnings.warn(\"y_pred contains classes not in y_true\")\n"
     ]
    },
    {
     "name": "stdout",
     "output_type": "stream",
     "text": [
      "[CV 4/5] END bootstrap=False, max_depth=20, max_features=None, min_samples_leaf=10, min_samples_split=2, n_estimators=2250;, score=(train=0.500, test=0.500) total time=   2.2s\n",
      "[CV 5/5] END bootstrap=False, max_depth=20, max_features=None, min_samples_leaf=10, min_samples_split=2, n_estimators=2250;, score=(train=0.500, test=0.000) total time=   2.1s\n"
     ]
    },
    {
     "name": "stderr",
     "output_type": "stream",
     "text": [
      "/Users/sezaiufukoral/anaconda3/lib/python3.11/site-packages/sklearn/metrics/_classification.py:2466: UserWarning: y_pred contains classes not in y_true\n",
      "  warnings.warn(\"y_pred contains classes not in y_true\")\n"
     ]
    },
    {
     "name": "stdout",
     "output_type": "stream",
     "text": [
      "[CV 5/5] END bootstrap=False, max_depth=17, max_features=None, min_samples_leaf=10, min_samples_split=10, n_estimators=4450;, score=(train=0.500, test=0.000) total time=   4.6s\n",
      "[CV 1/5] END bootstrap=False, max_depth=7, max_features=sqrt, min_samples_leaf=1, min_samples_split=10, n_estimators=3900;, score=(train=1.000, test=0.500) total time=   4.1s\n",
      "[CV 4/5] END bootstrap=False, max_depth=7, max_features=sqrt, min_samples_leaf=1, min_samples_split=10, n_estimators=3900;, score=(train=1.000, test=0.833) total time=   4.5s\n",
      "[CV 3/5] END bootstrap=False, max_depth=7, max_features=sqrt, min_samples_leaf=1, min_samples_split=10, n_estimators=3900;, score=(train=1.000, test=0.500) total time=   4.6s\n",
      "[CV 2/5] END bootstrap=False, max_depth=7, max_features=sqrt, min_samples_leaf=1, min_samples_split=10, n_estimators=3900;, score=(train=1.000, test=0.833) total time=   4.8s\n"
     ]
    },
    {
     "name": "stderr",
     "output_type": "stream",
     "text": [
      "/Users/sezaiufukoral/anaconda3/lib/python3.11/site-packages/sklearn/metrics/_classification.py:2466: UserWarning: y_pred contains classes not in y_true\n",
      "  warnings.warn(\"y_pred contains classes not in y_true\")\n"
     ]
    },
    {
     "name": "stdout",
     "output_type": "stream",
     "text": [
      "[CV 5/5] END bootstrap=False, max_depth=7, max_features=sqrt, min_samples_leaf=1, min_samples_split=10, n_estimators=3900;, score=(train=1.000, test=0.750) total time=   4.7s\n",
      "[CV 2/5] END bootstrap=False, max_depth=13, max_features=log2, min_samples_leaf=1, min_samples_split=2, n_estimators=5000;, score=(train=1.000, test=0.667) total time=   6.2s\n",
      "[CV 1/5] END bootstrap=False, max_depth=13, max_features=log2, min_samples_leaf=1, min_samples_split=2, n_estimators=5000;, score=(train=1.000, test=0.500) total time=   6.2s\n",
      "[CV 3/5] END bootstrap=False, max_depth=13, max_features=log2, min_samples_leaf=1, min_samples_split=2, n_estimators=5000;, score=(train=1.000, test=0.500) total time=   6.2s\n",
      "[CV 4/5] END bootstrap=False, max_depth=13, max_features=log2, min_samples_leaf=1, min_samples_split=2, n_estimators=5000;, score=(train=1.000, test=0.667) total time=   6.8s\n"
     ]
    },
    {
     "name": "stderr",
     "output_type": "stream",
     "text": [
      "/Users/sezaiufukoral/anaconda3/lib/python3.11/site-packages/sklearn/metrics/_classification.py:395: UserWarning: A single label was found in 'y_true' and 'y_pred'. For the confusion matrix to have the correct shape, use the 'labels' parameter to pass all known labels.\n",
      "  warnings.warn(\n"
     ]
    },
    {
     "name": "stdout",
     "output_type": "stream",
     "text": [
      "[CV 5/5] END bootstrap=False, max_depth=13, max_features=log2, min_samples_leaf=1, min_samples_split=2, n_estimators=5000;, score=(train=1.000, test=1.000) total time=   6.5s\n",
      "[CV 1/5] END bootstrap=False, max_depth=13, max_features=None, min_samples_leaf=1, min_samples_split=2, n_estimators=4450;, score=(train=1.000, test=0.750) total time=   8.5s\n",
      "[CV 1/5] END bootstrap=True, max_depth=3, max_features=log2, min_samples_leaf=10, min_samples_split=2, n_estimators=2800;, score=(train=0.500, test=0.500) total time=   4.8s\n",
      "[CV 2/5] END bootstrap=False, max_depth=13, max_features=None, min_samples_leaf=1, min_samples_split=2, n_estimators=4450;, score=(train=1.000, test=0.333) total time=   8.8s\n",
      "[CV 3/5] END bootstrap=False, max_depth=13, max_features=None, min_samples_leaf=1, min_samples_split=2, n_estimators=4450;, score=(train=1.000, test=0.500) total time=   8.8s\n",
      "[CV 2/5] END bootstrap=True, max_depth=3, max_features=log2, min_samples_leaf=10, min_samples_split=2, n_estimators=2800;, score=(train=0.500, test=0.500) total time=   4.6s\n"
     ]
    },
    {
     "name": "stderr",
     "output_type": "stream",
     "text": [
      "/Users/sezaiufukoral/anaconda3/lib/python3.11/site-packages/sklearn/metrics/_classification.py:2466: UserWarning: y_pred contains classes not in y_true\n",
      "  warnings.warn(\"y_pred contains classes not in y_true\")\n"
     ]
    },
    {
     "name": "stdout",
     "output_type": "stream",
     "text": [
      "[CV 5/5] END bootstrap=False, max_depth=13, max_features=None, min_samples_leaf=1, min_samples_split=2, n_estimators=4450;, score=(train=1.000, test=0.750) total time=   8.7s\n",
      "[CV 4/5] END bootstrap=False, max_depth=13, max_features=None, min_samples_leaf=1, min_samples_split=2, n_estimators=4450;, score=(train=1.000, test=0.833) total time=   8.8s\n",
      "[CV 3/5] END bootstrap=True, max_depth=3, max_features=log2, min_samples_leaf=10, min_samples_split=2, n_estimators=2800;, score=(train=0.500, test=0.500) total time=   4.3s\n",
      "[CV 1/5] END bootstrap=True, max_depth=9, max_features=log2, min_samples_leaf=1, min_samples_split=10, n_estimators=2250;, score=(train=0.500, test=0.500) total time=   3.2s\n",
      "[CV 2/5] END bootstrap=True, max_depth=9, max_features=log2, min_samples_leaf=1, min_samples_split=10, n_estimators=2250;, score=(train=0.714, test=0.500) total time=   3.3s\n"
     ]
    },
    {
     "name": "stderr",
     "output_type": "stream",
     "text": [
      "/Users/sezaiufukoral/anaconda3/lib/python3.11/site-packages/sklearn/metrics/_classification.py:2466: UserWarning: y_pred contains classes not in y_true\n",
      "  warnings.warn(\"y_pred contains classes not in y_true\")\n"
     ]
    },
    {
     "name": "stdout",
     "output_type": "stream",
     "text": [
      "[CV 5/5] END bootstrap=True, max_depth=3, max_features=log2, min_samples_leaf=10, min_samples_split=2, n_estimators=2800;, score=(train=0.500, test=0.000) total time=   4.0s\n",
      "[CV 4/5] END bootstrap=True, max_depth=3, max_features=log2, min_samples_leaf=10, min_samples_split=2, n_estimators=2800;, score=(train=0.500, test=0.500) total time=   4.2s\n",
      "[CV 3/5] END bootstrap=True, max_depth=9, max_features=log2, min_samples_leaf=1, min_samples_split=10, n_estimators=2250;, score=(train=0.500, test=0.500) total time=   3.5s\n"
     ]
    },
    {
     "name": "stderr",
     "output_type": "stream",
     "text": [
      "/Users/sezaiufukoral/anaconda3/lib/python3.11/site-packages/sklearn/metrics/_classification.py:2466: UserWarning: y_pred contains classes not in y_true\n",
      "  warnings.warn(\"y_pred contains classes not in y_true\")\n"
     ]
    },
    {
     "name": "stdout",
     "output_type": "stream",
     "text": [
      "[CV 4/5] END bootstrap=True, max_depth=9, max_features=log2, min_samples_leaf=1, min_samples_split=10, n_estimators=2250;, score=(train=0.500, test=0.500) total time=   3.2s\n",
      "[CV 5/5] END bootstrap=True, max_depth=9, max_features=log2, min_samples_leaf=1, min_samples_split=10, n_estimators=2250;, score=(train=0.714, test=0.000) total time=   3.2s\n",
      "[CV 1/5] END bootstrap=False, max_depth=16, max_features=log2, min_samples_leaf=1, min_samples_split=10, n_estimators=4450;, score=(train=1.000, test=0.500) total time=   4.6s\n",
      "[CV 2/5] END bootstrap=False, max_depth=16, max_features=log2, min_samples_leaf=1, min_samples_split=10, n_estimators=4450;, score=(train=1.000, test=0.833) total time=   4.6s\n",
      "[CV 3/5] END bootstrap=False, max_depth=16, max_features=log2, min_samples_leaf=1, min_samples_split=10, n_estimators=4450;, score=(train=1.000, test=0.500) total time=   4.7s\n",
      "[CV 1/5] END bootstrap=False, max_depth=10, max_features=log2, min_samples_leaf=1, min_samples_split=10, n_estimators=50;, score=(train=1.000, test=0.500) total time=   0.1s\n",
      "[CV 2/5] END bootstrap=False, max_depth=10, max_features=log2, min_samples_leaf=1, min_samples_split=10, n_estimators=50;, score=(train=1.000, test=0.833) total time=   0.1s\n",
      "[CV 3/5] END bootstrap=False, max_depth=10, max_features=log2, min_samples_leaf=1, min_samples_split=10, n_estimators=50;, score=(train=1.000, test=0.500) total time=   0.0s\n",
      "[CV 4/5] END bootstrap=False, max_depth=10, max_features=log2, min_samples_leaf=1, min_samples_split=10, n_estimators=50;, score=(train=1.000, test=0.833) total time=   0.0s\n",
      "[CV 5/5] END bootstrap=False, max_depth=10, max_features=log2, min_samples_leaf=1, min_samples_split=10, n_estimators=50;, score=(train=1.000, test=0.750) total time=   0.1s\n",
      "[CV 1/5] END bootstrap=False, max_depth=9, max_features=sqrt, min_samples_leaf=1, min_samples_split=10, n_estimators=4450;, score=(train=1.000, test=0.500) total time=   4.4s\n",
      "[CV 4/5] END bootstrap=False, max_depth=16, max_features=log2, min_samples_leaf=1, min_samples_split=10, n_estimators=4450;, score=(train=1.000, test=0.667) total time=   4.7s\n"
     ]
    },
    {
     "name": "stderr",
     "output_type": "stream",
     "text": [
      "/Users/sezaiufukoral/anaconda3/lib/python3.11/site-packages/sklearn/metrics/_classification.py:2466: UserWarning: y_pred contains classes not in y_true\n",
      "  warnings.warn(\"y_pred contains classes not in y_true\")\n",
      "/Users/sezaiufukoral/anaconda3/lib/python3.11/site-packages/sklearn/metrics/_classification.py:2466: UserWarning: y_pred contains classes not in y_true\n",
      "  warnings.warn(\"y_pred contains classes not in y_true\")\n"
     ]
    },
    {
     "name": "stdout",
     "output_type": "stream",
     "text": [
      "[CV 5/5] END bootstrap=False, max_depth=16, max_features=log2, min_samples_leaf=1, min_samples_split=10, n_estimators=4450;, score=(train=1.000, test=0.750) total time=   4.8s\n",
      "[CV 3/5] END bootstrap=False, max_depth=9, max_features=sqrt, min_samples_leaf=1, min_samples_split=10, n_estimators=4450;, score=(train=1.000, test=0.500) total time=   4.7s\n",
      "[CV 2/5] END bootstrap=False, max_depth=9, max_features=sqrt, min_samples_leaf=1, min_samples_split=10, n_estimators=4450;, score=(train=1.000, test=0.833) total time=   4.7s\n",
      "[CV 4/5] END bootstrap=False, max_depth=9, max_features=sqrt, min_samples_leaf=1, min_samples_split=10, n_estimators=4450;, score=(train=1.000, test=0.667) total time=   5.1s\n"
     ]
    },
    {
     "name": "stderr",
     "output_type": "stream",
     "text": [
      "/Users/sezaiufukoral/anaconda3/lib/python3.11/site-packages/sklearn/metrics/_classification.py:2466: UserWarning: y_pred contains classes not in y_true\n",
      "  warnings.warn(\"y_pred contains classes not in y_true\")\n"
     ]
    },
    {
     "name": "stdout",
     "output_type": "stream",
     "text": [
      "[CV 1/5] END bootstrap=False, max_depth=13, max_features=log2, min_samples_leaf=1, min_samples_split=10, n_estimators=4450;, score=(train=1.000, test=0.500) total time=   4.2s\n",
      "[CV 5/5] END bootstrap=False, max_depth=9, max_features=sqrt, min_samples_leaf=1, min_samples_split=10, n_estimators=4450;, score=(train=1.000, test=0.750) total time=   4.9s\n",
      "[CV 3/5] END bootstrap=False, max_depth=13, max_features=log2, min_samples_leaf=1, min_samples_split=10, n_estimators=4450;, score=(train=1.000, test=0.500) total time=   4.5s\n",
      "[CV 2/5] END bootstrap=False, max_depth=13, max_features=log2, min_samples_leaf=1, min_samples_split=10, n_estimators=4450;, score=(train=1.000, test=0.833) total time=   4.6s\n",
      "[CV 1/5] END bootstrap=True, max_depth=2, max_features=sqrt, min_samples_leaf=1, min_samples_split=10, n_estimators=50;, score=(train=0.500, test=0.500) total time=   0.1s\n",
      "[CV 2/5] END bootstrap=True, max_depth=2, max_features=sqrt, min_samples_leaf=1, min_samples_split=10, n_estimators=50;, score=(train=0.857, test=0.500) total time=   0.1s\n",
      "[CV 3/5] END bootstrap=True, max_depth=2, max_features=sqrt, min_samples_leaf=1, min_samples_split=10, n_estimators=50;, score=(train=0.500, test=0.500) total time=   0.1s\n",
      "[CV 4/5] END bootstrap=False, max_depth=13, max_features=log2, min_samples_leaf=1, min_samples_split=10, n_estimators=4450;, score=(train=1.000, test=0.667) total time=   4.6s\n",
      "[CV 4/5] END bootstrap=True, max_depth=2, max_features=sqrt, min_samples_leaf=1, min_samples_split=10, n_estimators=50;, score=(train=0.500, test=0.500) total time=   0.1s\n",
      "[CV 5/5] END bootstrap=True, max_depth=2, max_features=sqrt, min_samples_leaf=1, min_samples_split=10, n_estimators=50;, score=(train=0.714, test=0.000) total time=   0.1s\n"
     ]
    },
    {
     "name": "stderr",
     "output_type": "stream",
     "text": [
      "/Users/sezaiufukoral/anaconda3/lib/python3.11/site-packages/sklearn/metrics/_classification.py:2466: UserWarning: y_pred contains classes not in y_true\n",
      "  warnings.warn(\"y_pred contains classes not in y_true\")\n",
      "/Users/sezaiufukoral/anaconda3/lib/python3.11/site-packages/sklearn/metrics/_classification.py:2466: UserWarning: y_pred contains classes not in y_true\n",
      "  warnings.warn(\"y_pred contains classes not in y_true\")\n"
     ]
    },
    {
     "name": "stdout",
     "output_type": "stream",
     "text": [
      "[CV 5/5] END bootstrap=False, max_depth=13, max_features=log2, min_samples_leaf=1, min_samples_split=10, n_estimators=4450;, score=(train=1.000, test=0.750) total time=   4.6s\n",
      "[CV 1/5] END bootstrap=False, max_depth=3, max_features=None, min_samples_leaf=1, min_samples_split=10, n_estimators=3350;, score=(train=1.000, test=0.750) total time=   5.2s\n",
      "[CV 2/5] END bootstrap=False, max_depth=3, max_features=None, min_samples_leaf=1, min_samples_split=10, n_estimators=3350;, score=(train=1.000, test=0.333) total time=   5.6s\n"
     ]
    },
    {
     "name": "stderr",
     "output_type": "stream",
     "text": [
      "/Users/sezaiufukoral/anaconda3/lib/python3.11/site-packages/sklearn/metrics/_classification.py:395: UserWarning: A single label was found in 'y_true' and 'y_pred'. For the confusion matrix to have the correct shape, use the 'labels' parameter to pass all known labels.\n",
      "  warnings.warn(\n"
     ]
    },
    {
     "name": "stdout",
     "output_type": "stream",
     "text": [
      "[CV 5/5] END bootstrap=False, max_depth=3, max_features=None, min_samples_leaf=1, min_samples_split=10, n_estimators=3350;, score=(train=0.817, test=1.000) total time=   4.9s\n",
      "[CV 3/5] END bootstrap=False, max_depth=3, max_features=None, min_samples_leaf=1, min_samples_split=10, n_estimators=3350;, score=(train=1.000, test=0.500) total time=   5.3s\n",
      "[CV 4/5] END bootstrap=False, max_depth=3, max_features=None, min_samples_leaf=1, min_samples_split=10, n_estimators=3350;, score=(train=1.000, test=0.833) total time=   5.7s\n",
      "[CV 1/5] END bootstrap=False, max_depth=19, max_features=log2, min_samples_leaf=1, min_samples_split=10, n_estimators=5000;, score=(train=1.000, test=0.500) total time=   5.2s\n",
      "[CV 2/5] END bootstrap=False, max_depth=19, max_features=log2, min_samples_leaf=1, min_samples_split=10, n_estimators=5000;, score=(train=1.000, test=0.833) total time=   5.3s\n",
      "[CV 1/5] END bootstrap=False, max_depth=17, max_features=sqrt, min_samples_leaf=1, min_samples_split=2, n_estimators=1150;, score=(train=1.000, test=0.500) total time=   1.3s\n",
      "[CV 2/5] END bootstrap=False, max_depth=17, max_features=sqrt, min_samples_leaf=1, min_samples_split=2, n_estimators=1150;, score=(train=1.000, test=0.667) total time=   1.4s\n",
      "[CV 3/5] END bootstrap=False, max_depth=19, max_features=log2, min_samples_leaf=1, min_samples_split=10, n_estimators=5000;, score=(train=1.000, test=0.500) total time=   5.2s\n",
      "[CV 3/5] END bootstrap=False, max_depth=17, max_features=sqrt, min_samples_leaf=1, min_samples_split=2, n_estimators=1150;, score=(train=1.000, test=0.500) total time=   1.2s\n",
      "[CV 4/5] END bootstrap=False, max_depth=17, max_features=sqrt, min_samples_leaf=1, min_samples_split=2, n_estimators=1150;, score=(train=1.000, test=0.833) total time=   1.3s\n"
     ]
    },
    {
     "name": "stderr",
     "output_type": "stream",
     "text": [
      "/Users/sezaiufukoral/anaconda3/lib/python3.11/site-packages/sklearn/metrics/_classification.py:2466: UserWarning: y_pred contains classes not in y_true\n",
      "  warnings.warn(\"y_pred contains classes not in y_true\")\n"
     ]
    },
    {
     "name": "stdout",
     "output_type": "stream",
     "text": [
      "[CV 5/5] END bootstrap=False, max_depth=17, max_features=sqrt, min_samples_leaf=1, min_samples_split=2, n_estimators=1150;, score=(train=1.000, test=0.750) total time=   1.3s\n",
      "[CV 4/5] END bootstrap=False, max_depth=19, max_features=log2, min_samples_leaf=1, min_samples_split=10, n_estimators=5000;, score=(train=1.000, test=0.667) total time=   5.4s\n"
     ]
    },
    {
     "name": "stderr",
     "output_type": "stream",
     "text": [
      "/Users/sezaiufukoral/anaconda3/lib/python3.11/site-packages/sklearn/metrics/_classification.py:2466: UserWarning: y_pred contains classes not in y_true\n",
      "  warnings.warn(\"y_pred contains classes not in y_true\")\n"
     ]
    },
    {
     "name": "stdout",
     "output_type": "stream",
     "text": [
      "[CV 5/5] END bootstrap=False, max_depth=19, max_features=log2, min_samples_leaf=1, min_samples_split=10, n_estimators=5000;, score=(train=1.000, test=0.750) total time=   5.4s\n",
      "[CV 1/5] END bootstrap=True, max_depth=6, max_features=None, min_samples_leaf=10, min_samples_split=10, n_estimators=4450;, score=(train=0.500, test=0.500) total time=   6.2s\n",
      "[CV 2/5] END bootstrap=True, max_depth=6, max_features=None, min_samples_leaf=10, min_samples_split=10, n_estimators=4450;, score=(train=0.500, test=0.500) total time=   6.3s\n",
      "[CV 3/5] END bootstrap=True, max_depth=6, max_features=None, min_samples_leaf=10, min_samples_split=10, n_estimators=4450;, score=(train=0.500, test=0.500) total time=   6.2s\n",
      "[CV 4/5] END bootstrap=True, max_depth=6, max_features=None, min_samples_leaf=10, min_samples_split=10, n_estimators=4450;, score=(train=0.500, test=0.500) total time=   6.1s\n"
     ]
    },
    {
     "name": "stderr",
     "output_type": "stream",
     "text": [
      "/Users/sezaiufukoral/anaconda3/lib/python3.11/site-packages/sklearn/metrics/_classification.py:2466: UserWarning: y_pred contains classes not in y_true\n",
      "  warnings.warn(\"y_pred contains classes not in y_true\")\n"
     ]
    },
    {
     "name": "stdout",
     "output_type": "stream",
     "text": [
      "[CV 5/5] END bootstrap=True, max_depth=6, max_features=None, min_samples_leaf=10, min_samples_split=10, n_estimators=4450;, score=(train=0.500, test=0.000) total time=   6.3s\n",
      "[CV 1/5] END bootstrap=True, max_depth=6, max_features=log2, min_samples_leaf=1, min_samples_split=10, n_estimators=1150;, score=(train=0.500, test=0.500) total time=   1.6s\n",
      "[CV 1/5] END bootstrap=True, max_depth=8, max_features=None, min_samples_leaf=1, min_samples_split=2, n_estimators=3900;, score=(train=1.000, test=0.750) total time=   7.4s\n",
      "[CV 2/5] END bootstrap=True, max_depth=6, max_features=log2, min_samples_leaf=1, min_samples_split=10, n_estimators=1150;, score=(train=0.643, test=0.500) total time=   1.8s\n",
      "[CV 2/5] END bootstrap=True, max_depth=8, max_features=None, min_samples_leaf=1, min_samples_split=2, n_estimators=3900;, score=(train=1.000, test=0.333) total time=   7.6s\n",
      "[CV 3/5] END bootstrap=True, max_depth=6, max_features=log2, min_samples_leaf=1, min_samples_split=10, n_estimators=1150;, score=(train=0.500, test=0.500) total time=   1.7s\n",
      "[CV 4/5] END bootstrap=True, max_depth=6, max_features=log2, min_samples_leaf=1, min_samples_split=10, n_estimators=1150;, score=(train=0.500, test=0.500) total time=   1.6s\n"
     ]
    },
    {
     "name": "stderr",
     "output_type": "stream",
     "text": [
      "/Users/sezaiufukoral/anaconda3/lib/python3.11/site-packages/sklearn/metrics/_classification.py:2466: UserWarning: y_pred contains classes not in y_true\n",
      "  warnings.warn(\"y_pred contains classes not in y_true\")\n"
     ]
    },
    {
     "name": "stdout",
     "output_type": "stream",
     "text": [
      "[CV 5/5] END bootstrap=True, max_depth=6, max_features=log2, min_samples_leaf=1, min_samples_split=10, n_estimators=1150;, score=(train=0.786, test=0.000) total time=   1.9s\n",
      "[CV 3/5] END bootstrap=True, max_depth=8, max_features=None, min_samples_leaf=1, min_samples_split=2, n_estimators=3900;, score=(train=1.000, test=0.500) total time=   7.9s\n"
     ]
    },
    {
     "name": "stderr",
     "output_type": "stream",
     "text": [
      "/Users/sezaiufukoral/anaconda3/lib/python3.11/site-packages/sklearn/metrics/_classification.py:395: UserWarning: A single label was found in 'y_true' and 'y_pred'. For the confusion matrix to have the correct shape, use the 'labels' parameter to pass all known labels.\n",
      "  warnings.warn(\n"
     ]
    },
    {
     "name": "stdout",
     "output_type": "stream",
     "text": [
      "[CV 5/5] END bootstrap=True, max_depth=8, max_features=None, min_samples_leaf=1, min_samples_split=2, n_estimators=3900;, score=(train=1.000, test=1.000) total time=   7.4s\n",
      "[CV 4/5] END bootstrap=True, max_depth=8, max_features=None, min_samples_leaf=1, min_samples_split=2, n_estimators=3900;, score=(train=1.000, test=0.833) total time=   7.8s\n",
      "[CV 1/5] END bootstrap=False, max_depth=7, max_features=None, min_samples_leaf=1, min_samples_split=10, n_estimators=3900;, score=(train=1.000, test=0.750) total time=   6.4s\n",
      "[CV 2/5] END bootstrap=False, max_depth=7, max_features=None, min_samples_leaf=1, min_samples_split=10, n_estimators=3900;, score=(train=1.000, test=0.333) total time=   6.4s\n",
      "[CV 3/5] END bootstrap=False, max_depth=7, max_features=None, min_samples_leaf=1, min_samples_split=10, n_estimators=3900;, score=(train=1.000, test=0.500) total time=   6.3s\n"
     ]
    },
    {
     "name": "stderr",
     "output_type": "stream",
     "text": [
      "/Users/sezaiufukoral/anaconda3/lib/python3.11/site-packages/sklearn/metrics/_classification.py:395: UserWarning: A single label was found in 'y_true' and 'y_pred'. For the confusion matrix to have the correct shape, use the 'labels' parameter to pass all known labels.\n",
      "  warnings.warn(\n"
     ]
    },
    {
     "name": "stdout",
     "output_type": "stream",
     "text": [
      "[CV 5/5] END bootstrap=False, max_depth=7, max_features=None, min_samples_leaf=1, min_samples_split=10, n_estimators=3900;, score=(train=0.817, test=1.000) total time=   5.6s\n",
      "[CV 1/5] END bootstrap=False, max_depth=6, max_features=None, min_samples_leaf=10, min_samples_split=10, n_estimators=5000;, score=(train=0.500, test=0.500) total time=   4.8s\n",
      "[CV 4/5] END bootstrap=False, max_depth=7, max_features=None, min_samples_leaf=1, min_samples_split=10, n_estimators=3900;, score=(train=1.000, test=0.833) total time=   6.8s\n",
      "[CV 2/5] END bootstrap=False, max_depth=6, max_features=None, min_samples_leaf=10, min_samples_split=10, n_estimators=5000;, score=(train=0.500, test=0.500) total time=   4.7s\n",
      "[CV 1/5] END bootstrap=True, max_depth=16, max_features=sqrt, min_samples_leaf=10, min_samples_split=10, n_estimators=2800;, score=(train=0.500, test=0.500) total time=   3.9s\n",
      "[CV 3/5] END bootstrap=False, max_depth=6, max_features=None, min_samples_leaf=10, min_samples_split=10, n_estimators=5000;, score=(train=0.500, test=0.500) total time=   5.0s\n"
     ]
    },
    {
     "name": "stderr",
     "output_type": "stream",
     "text": [
      "/Users/sezaiufukoral/anaconda3/lib/python3.11/site-packages/sklearn/metrics/_classification.py:2466: UserWarning: y_pred contains classes not in y_true\n",
      "  warnings.warn(\"y_pred contains classes not in y_true\")\n"
     ]
    },
    {
     "name": "stdout",
     "output_type": "stream",
     "text": [
      "[CV 4/5] END bootstrap=False, max_depth=6, max_features=None, min_samples_leaf=10, min_samples_split=10, n_estimators=5000;, score=(train=0.500, test=0.500) total time=   4.6s\n",
      "[CV 5/5] END bootstrap=False, max_depth=6, max_features=None, min_samples_leaf=10, min_samples_split=10, n_estimators=5000;, score=(train=0.500, test=0.000) total time=   4.8s\n",
      "[CV 2/5] END bootstrap=True, max_depth=16, max_features=sqrt, min_samples_leaf=10, min_samples_split=10, n_estimators=2800;, score=(train=0.500, test=0.500) total time=   4.1s\n",
      "[CV 3/5] END bootstrap=True, max_depth=16, max_features=sqrt, min_samples_leaf=10, min_samples_split=10, n_estimators=2800;, score=(train=0.500, test=0.500) total time=   4.0s\n",
      "[CV 4/5] END bootstrap=True, max_depth=16, max_features=sqrt, min_samples_leaf=10, min_samples_split=10, n_estimators=2800;, score=(train=0.500, test=0.500) total time=   4.0s\n"
     ]
    },
    {
     "name": "stderr",
     "output_type": "stream",
     "text": [
      "/Users/sezaiufukoral/anaconda3/lib/python3.11/site-packages/sklearn/metrics/_classification.py:2466: UserWarning: y_pred contains classes not in y_true\n",
      "  warnings.warn(\"y_pred contains classes not in y_true\")\n"
     ]
    },
    {
     "name": "stdout",
     "output_type": "stream",
     "text": [
      "[CV 1/5] END bootstrap=True, max_depth=11, max_features=None, min_samples_leaf=1, min_samples_split=10, n_estimators=1150;, score=(train=0.900, test=0.750) total time=   2.0s\n",
      "[CV 5/5] END bootstrap=True, max_depth=16, max_features=sqrt, min_samples_leaf=10, min_samples_split=10, n_estimators=2800;, score=(train=0.500, test=0.000) total time=   3.9s\n",
      "[CV 2/5] END bootstrap=True, max_depth=11, max_features=None, min_samples_leaf=1, min_samples_split=10, n_estimators=1150;, score=(train=1.000, test=0.333) total time=   1.9s\n",
      "[CV 4/5] END bootstrap=True, max_depth=11, max_features=None, min_samples_leaf=1, min_samples_split=10, n_estimators=1150;, score=(train=0.917, test=0.833) total time=   1.9s\n",
      "[CV 3/5] END bootstrap=True, max_depth=11, max_features=None, min_samples_leaf=1, min_samples_split=10, n_estimators=1150;, score=(train=0.900, test=0.500) total time=   2.0s\n",
      "[CV 1/5] END bootstrap=True, max_depth=14, max_features=sqrt, min_samples_leaf=10, min_samples_split=2, n_estimators=3900;, score=(train=0.500, test=0.500) total time=   5.4s\n",
      "[CV 2/5] END bootstrap=True, max_depth=14, max_features=sqrt, min_samples_leaf=10, min_samples_split=2, n_estimators=3900;, score=(train=0.500, test=0.500) total time=   5.4s\n"
     ]
    },
    {
     "name": "stderr",
     "output_type": "stream",
     "text": [
      "/Users/sezaiufukoral/anaconda3/lib/python3.11/site-packages/sklearn/metrics/_classification.py:2466: UserWarning: y_pred contains classes not in y_true\n",
      "  warnings.warn(\"y_pred contains classes not in y_true\")\n"
     ]
    },
    {
     "name": "stdout",
     "output_type": "stream",
     "text": [
      "[CV 5/5] END bootstrap=True, max_depth=11, max_features=None, min_samples_leaf=1, min_samples_split=10, n_estimators=1150;, score=(train=0.929, test=0.750) total time=   2.0s\n"
     ]
    },
    {
     "name": "stderr",
     "output_type": "stream",
     "text": [
      "/Users/sezaiufukoral/anaconda3/lib/python3.11/site-packages/sklearn/metrics/_classification.py:2466: UserWarning: y_pred contains classes not in y_true\n",
      "  warnings.warn(\"y_pred contains classes not in y_true\")\n"
     ]
    },
    {
     "name": "stdout",
     "output_type": "stream",
     "text": [
      "[CV 3/5] END bootstrap=True, max_depth=14, max_features=sqrt, min_samples_leaf=10, min_samples_split=2, n_estimators=3900;, score=(train=0.500, test=0.500) total time=   5.6s\n",
      "[CV 4/5] END bootstrap=True, max_depth=14, max_features=sqrt, min_samples_leaf=10, min_samples_split=2, n_estimators=3900;, score=(train=0.500, test=0.500) total time=   5.6s\n",
      "[CV 5/5] END bootstrap=True, max_depth=14, max_features=sqrt, min_samples_leaf=10, min_samples_split=2, n_estimators=3900;, score=(train=0.500, test=0.000) total time=   5.6s\n",
      "[CV 2/5] END bootstrap=False, max_depth=15, max_features=None, min_samples_leaf=1, min_samples_split=10, n_estimators=600;, score=(train=1.000, test=0.333) total time=   1.0s\n",
      "[CV 1/5] END bootstrap=False, max_depth=15, max_features=None, min_samples_leaf=1, min_samples_split=10, n_estimators=600;, score=(train=1.000, test=0.750) total time=   1.0s\n",
      "[CV 3/5] END bootstrap=False, max_depth=15, max_features=None, min_samples_leaf=1, min_samples_split=10, n_estimators=600;, score=(train=1.000, test=0.500) total time=   1.0s\n",
      "[CV 1/5] END bootstrap=True, max_depth=5, max_features=log2, min_samples_leaf=10, min_samples_split=2, n_estimators=1700;, score=(train=0.500, test=0.500) total time=   2.3s\n",
      "[CV 2/5] END bootstrap=True, max_depth=5, max_features=log2, min_samples_leaf=10, min_samples_split=2, n_estimators=1700;, score=(train=0.500, test=0.500) total time=   2.3s\n"
     ]
    },
    {
     "name": "stderr",
     "output_type": "stream",
     "text": [
      "/Users/sezaiufukoral/anaconda3/lib/python3.11/site-packages/sklearn/metrics/_classification.py:2466: UserWarning: y_pred contains classes not in y_true\n",
      "  warnings.warn(\"y_pred contains classes not in y_true\")\n"
     ]
    },
    {
     "name": "stdout",
     "output_type": "stream",
     "text": [
      "[CV 5/5] END bootstrap=True, max_depth=5, max_features=log2, min_samples_leaf=10, min_samples_split=2, n_estimators=1700;, score=(train=0.500, test=0.000) total time=   2.3s\n",
      "[CV 3/5] END bootstrap=True, max_depth=5, max_features=log2, min_samples_leaf=10, min_samples_split=2, n_estimators=1700;, score=(train=0.500, test=0.500) total time=   2.5s\n",
      "[CV 4/5] END bootstrap=True, max_depth=5, max_features=log2, min_samples_leaf=10, min_samples_split=2, n_estimators=1700;, score=(train=0.500, test=0.500) total time=   2.4s\n",
      "[CV 1/5] END bootstrap=True, max_depth=8, max_features=None, min_samples_leaf=10, min_samples_split=2, n_estimators=600;, score=(train=0.500, test=0.500) total time=   0.8s\n",
      "[CV 2/5] END bootstrap=True, max_depth=8, max_features=None, min_samples_leaf=10, min_samples_split=2, n_estimators=600;, score=(train=0.500, test=0.500) total time=   0.8s\n",
      "[CV 4/5] END bootstrap=False, max_depth=15, max_features=None, min_samples_leaf=1, min_samples_split=10, n_estimators=600;, score=(train=1.000, test=0.833) total time=   1.0s\n",
      "[CV 3/5] END bootstrap=True, max_depth=8, max_features=None, min_samples_leaf=10, min_samples_split=2, n_estimators=600;, score=(train=0.500, test=0.500) total time=   0.9s\n"
     ]
    },
    {
     "name": "stderr",
     "output_type": "stream",
     "text": [
      "/Users/sezaiufukoral/anaconda3/lib/python3.11/site-packages/sklearn/metrics/_classification.py:395: UserWarning: A single label was found in 'y_true' and 'y_pred'. For the confusion matrix to have the correct shape, use the 'labels' parameter to pass all known labels.\n",
      "  warnings.warn(\n"
     ]
    },
    {
     "name": "stdout",
     "output_type": "stream",
     "text": [
      "[CV 5/5] END bootstrap=False, max_depth=15, max_features=None, min_samples_leaf=1, min_samples_split=10, n_estimators=600;, score=(train=0.817, test=1.000) total time=   1.0s\n",
      "[CV 1/5] END bootstrap=True, max_depth=8, max_features=None, min_samples_leaf=10, min_samples_split=10, n_estimators=50;, score=(train=0.500, test=0.500) total time=   0.1s\n",
      "[CV 4/5] END bootstrap=True, max_depth=8, max_features=None, min_samples_leaf=10, min_samples_split=2, n_estimators=600;, score=(train=0.500, test=0.500) total time=   0.8s\n",
      "[CV 2/5] END bootstrap=True, max_depth=8, max_features=None, min_samples_leaf=10, min_samples_split=10, n_estimators=50;, score=(train=0.500, test=0.500) total time=   0.1s\n"
     ]
    },
    {
     "name": "stderr",
     "output_type": "stream",
     "text": [
      "/Users/sezaiufukoral/anaconda3/lib/python3.11/site-packages/sklearn/metrics/_classification.py:2466: UserWarning: y_pred contains classes not in y_true\n",
      "  warnings.warn(\"y_pred contains classes not in y_true\")\n",
      "/Users/sezaiufukoral/anaconda3/lib/python3.11/site-packages/sklearn/metrics/_classification.py:2466: UserWarning: y_pred contains classes not in y_true\n",
      "  warnings.warn(\"y_pred contains classes not in y_true\")\n"
     ]
    },
    {
     "name": "stdout",
     "output_type": "stream",
     "text": [
      "[CV 5/5] END bootstrap=True, max_depth=8, max_features=None, min_samples_leaf=10, min_samples_split=2, n_estimators=600;, score=(train=0.500, test=0.000) total time=   0.9s\n",
      "[CV 3/5] END bootstrap=True, max_depth=8, max_features=None, min_samples_leaf=10, min_samples_split=10, n_estimators=50;, score=(train=0.500, test=0.500) total time=   0.1s\n",
      "[CV 4/5] END bootstrap=True, max_depth=8, max_features=None, min_samples_leaf=10, min_samples_split=10, n_estimators=50;, score=(train=0.500, test=0.500) total time=   0.1s\n",
      "[CV 5/5] END bootstrap=True, max_depth=8, max_features=None, min_samples_leaf=10, min_samples_split=10, n_estimators=50;, score=(train=0.500, test=0.000) total time=   0.1s\n",
      "[CV 1/5] END bootstrap=False, max_depth=4, max_features=sqrt, min_samples_leaf=1, min_samples_split=10, n_estimators=50;, score=(train=1.000, test=0.500) total time=   0.1s\n",
      "[CV 2/5] END bootstrap=False, max_depth=4, max_features=sqrt, min_samples_leaf=1, min_samples_split=10, n_estimators=50;, score=(train=1.000, test=0.500) total time=   0.1s\n",
      "[CV 3/5] END bootstrap=False, max_depth=4, max_features=sqrt, min_samples_leaf=1, min_samples_split=10, n_estimators=50;, score=(train=1.000, test=0.500) total time=   0.0s\n",
      "[CV 4/5] END bootstrap=False, max_depth=4, max_features=sqrt, min_samples_leaf=1, min_samples_split=10, n_estimators=50;, score=(train=0.917, test=0.500) total time=   0.1s\n"
     ]
    },
    {
     "name": "stderr",
     "output_type": "stream",
     "text": [
      "/Users/sezaiufukoral/anaconda3/lib/python3.11/site-packages/sklearn/metrics/_classification.py:2466: UserWarning: y_pred contains classes not in y_true\n",
      "  warnings.warn(\"y_pred contains classes not in y_true\")\n"
     ]
    },
    {
     "name": "stdout",
     "output_type": "stream",
     "text": [
      "[CV 5/5] END bootstrap=False, max_depth=4, max_features=sqrt, min_samples_leaf=1, min_samples_split=10, n_estimators=50;, score=(train=1.000, test=0.750) total time=   0.2s\n",
      "[CV 1/5] END bootstrap=True, max_depth=13, max_features=None, min_samples_leaf=1, min_samples_split=10, n_estimators=2800;, score=(train=0.900, test=0.750) total time=   4.7s\n"
     ]
    },
    {
     "name": "stderr",
     "output_type": "stream",
     "text": [
      "/Users/sezaiufukoral/anaconda3/lib/python3.11/site-packages/sklearn/metrics/_classification.py:395: UserWarning: A single label was found in 'y_true' and 'y_pred'. For the confusion matrix to have the correct shape, use the 'labels' parameter to pass all known labels.\n",
      "  warnings.warn(\n"
     ]
    },
    {
     "name": "stdout",
     "output_type": "stream",
     "text": [
      "[CV 4/5] END bootstrap=True, max_depth=13, max_features=None, min_samples_leaf=1, min_samples_split=10, n_estimators=2800;, score=(train=0.833, test=0.833) total time=   4.8s\n",
      "[CV 3/5] END bootstrap=True, max_depth=13, max_features=None, min_samples_leaf=1, min_samples_split=10, n_estimators=2800;, score=(train=0.900, test=0.500) total time=   5.0s\n",
      "[CV 5/5] END bootstrap=True, max_depth=13, max_features=None, min_samples_leaf=1, min_samples_split=10, n_estimators=2800;, score=(train=0.929, test=1.000) total time=   4.8s\n",
      "[CV 2/5] END bootstrap=True, max_depth=13, max_features=None, min_samples_leaf=1, min_samples_split=10, n_estimators=2800;, score=(train=1.000, test=0.333) total time=   5.2s\n",
      "[CV 2/5] END bootstrap=True, max_depth=13, max_features=None, min_samples_leaf=10, min_samples_split=2, n_estimators=3350;, score=(train=0.500, test=0.500) total time=   4.6s\n",
      "[CV 1/5] END bootstrap=True, max_depth=13, max_features=None, min_samples_leaf=10, min_samples_split=2, n_estimators=3350;, score=(train=0.500, test=0.500) total time=   4.9s\n",
      "[CV 3/5] END bootstrap=True, max_depth=13, max_features=None, min_samples_leaf=10, min_samples_split=2, n_estimators=3350;, score=(train=0.500, test=0.500) total time=   4.9s\n",
      "[CV 1/5] END bootstrap=True, max_depth=4, max_features=sqrt, min_samples_leaf=1, min_samples_split=2, n_estimators=600;, score=(train=1.000, test=0.500) total time=   0.9s\n",
      "[CV 2/5] END bootstrap=True, max_depth=4, max_features=sqrt, min_samples_leaf=1, min_samples_split=2, n_estimators=600;, score=(train=1.000, test=0.833) total time=   0.9s\n",
      "[CV 3/5] END bootstrap=True, max_depth=4, max_features=sqrt, min_samples_leaf=1, min_samples_split=2, n_estimators=600;, score=(train=1.000, test=0.500) total time=   0.9s\n",
      "[CV 4/5] END bootstrap=True, max_depth=4, max_features=sqrt, min_samples_leaf=1, min_samples_split=2, n_estimators=600;, score=(train=1.000, test=0.500) total time=   0.9s\n"
     ]
    },
    {
     "name": "stderr",
     "output_type": "stream",
     "text": [
      "/Users/sezaiufukoral/anaconda3/lib/python3.11/site-packages/sklearn/metrics/_classification.py:2466: UserWarning: y_pred contains classes not in y_true\n",
      "  warnings.warn(\"y_pred contains classes not in y_true\")\n"
     ]
    },
    {
     "name": "stdout",
     "output_type": "stream",
     "text": [
      "[CV 5/5] END bootstrap=True, max_depth=4, max_features=sqrt, min_samples_leaf=1, min_samples_split=2, n_estimators=600;, score=(train=1.000, test=0.750) total time=   0.9s\n",
      "[CV 1/5] END bootstrap=False, max_depth=3, max_features=log2, min_samples_leaf=10, min_samples_split=10, n_estimators=2250;, score=(train=0.500, test=0.500) total time=   2.0s\n",
      "[CV 4/5] END bootstrap=True, max_depth=13, max_features=None, min_samples_leaf=10, min_samples_split=2, n_estimators=3350;, score=(train=0.500, test=0.500) total time=   4.5s\n"
     ]
    },
    {
     "name": "stderr",
     "output_type": "stream",
     "text": [
      "/Users/sezaiufukoral/anaconda3/lib/python3.11/site-packages/sklearn/metrics/_classification.py:2466: UserWarning: y_pred contains classes not in y_true\n",
      "  warnings.warn(\"y_pred contains classes not in y_true\")\n"
     ]
    },
    {
     "name": "stdout",
     "output_type": "stream",
     "text": [
      "[CV 5/5] END bootstrap=True, max_depth=13, max_features=None, min_samples_leaf=10, min_samples_split=2, n_estimators=3350;, score=(train=0.500, test=0.000) total time=   4.8s\n",
      "[CV 2/5] END bootstrap=False, max_depth=3, max_features=log2, min_samples_leaf=10, min_samples_split=10, n_estimators=2250;, score=(train=0.500, test=0.500) total time=   2.2s\n",
      "[CV 3/5] END bootstrap=False, max_depth=3, max_features=log2, min_samples_leaf=10, min_samples_split=10, n_estimators=2250;, score=(train=0.500, test=0.500) total time=   2.1s\n",
      "[CV 4/5] END bootstrap=False, max_depth=3, max_features=log2, min_samples_leaf=10, min_samples_split=10, n_estimators=2250;, score=(train=0.500, test=0.500) total time=   2.1s\n",
      "[CV 1/5] END bootstrap=False, max_depth=8, max_features=None, min_samples_leaf=10, min_samples_split=2, n_estimators=1700;, score=(train=0.500, test=0.500) total time=   1.6s\n"
     ]
    },
    {
     "name": "stderr",
     "output_type": "stream",
     "text": [
      "/Users/sezaiufukoral/anaconda3/lib/python3.11/site-packages/sklearn/metrics/_classification.py:2466: UserWarning: y_pred contains classes not in y_true\n",
      "  warnings.warn(\"y_pred contains classes not in y_true\")\n"
     ]
    },
    {
     "name": "stdout",
     "output_type": "stream",
     "text": [
      "[CV 5/5] END bootstrap=False, max_depth=3, max_features=log2, min_samples_leaf=10, min_samples_split=10, n_estimators=2250;, score=(train=0.500, test=0.000) total time=   2.2s\n",
      "[CV 1/5] END bootstrap=True, max_depth=17, max_features=log2, min_samples_leaf=1, min_samples_split=2, n_estimators=5000;, score=(train=1.000, test=0.500) total time=   7.5s\n",
      "[CV 2/5] END bootstrap=True, max_depth=17, max_features=log2, min_samples_leaf=1, min_samples_split=2, n_estimators=5000;, score=(train=1.000, test=0.833) total time=   7.7s\n",
      "[CV 3/5] END bootstrap=True, max_depth=17, max_features=log2, min_samples_leaf=1, min_samples_split=2, n_estimators=5000;, score=(train=1.000, test=0.500) total time=   7.6s\n",
      "[CV 4/5] END bootstrap=True, max_depth=17, max_features=log2, min_samples_leaf=1, min_samples_split=2, n_estimators=5000;, score=(train=1.000, test=0.667) total time=   7.4s\n",
      "[CV 2/5] END bootstrap=False, max_depth=8, max_features=None, min_samples_leaf=10, min_samples_split=2, n_estimators=1700;, score=(train=0.500, test=0.500) total time=   1.7s\n"
     ]
    },
    {
     "name": "stderr",
     "output_type": "stream",
     "text": [
      "/Users/sezaiufukoral/anaconda3/lib/python3.11/site-packages/sklearn/metrics/_classification.py:395: UserWarning: A single label was found in 'y_true' and 'y_pred'. For the confusion matrix to have the correct shape, use the 'labels' parameter to pass all known labels.\n",
      "  warnings.warn(\n"
     ]
    },
    {
     "name": "stdout",
     "output_type": "stream",
     "text": [
      "[CV 5/5] END bootstrap=True, max_depth=17, max_features=log2, min_samples_leaf=1, min_samples_split=2, n_estimators=5000;, score=(train=1.000, test=1.000) total time=   7.6s\n",
      "[CV 3/5] END bootstrap=False, max_depth=8, max_features=None, min_samples_leaf=10, min_samples_split=2, n_estimators=1700;, score=(train=0.500, test=0.500) total time=   1.6s\n"
     ]
    },
    {
     "name": "stderr",
     "output_type": "stream",
     "text": [
      "/Users/sezaiufukoral/anaconda3/lib/python3.11/site-packages/sklearn/metrics/_classification.py:2466: UserWarning: y_pred contains classes not in y_true\n",
      "  warnings.warn(\"y_pred contains classes not in y_true\")\n"
     ]
    },
    {
     "name": "stdout",
     "output_type": "stream",
     "text": [
      "[CV 4/5] END bootstrap=False, max_depth=8, max_features=None, min_samples_leaf=10, min_samples_split=2, n_estimators=1700;, score=(train=0.500, test=0.500) total time=   1.7s\n",
      "[CV 5/5] END bootstrap=False, max_depth=8, max_features=None, min_samples_leaf=10, min_samples_split=2, n_estimators=1700;, score=(train=0.500, test=0.000) total time=   1.5s\n",
      "[CV 1/5] END bootstrap=True, max_depth=9, max_features=sqrt, min_samples_leaf=1, min_samples_split=2, n_estimators=1700;, score=(train=1.000, test=0.500) total time=   2.5s\n",
      "[CV 1/5] END bootstrap=False, max_depth=10, max_features=None, min_samples_leaf=1, min_samples_split=2, n_estimators=1150;, score=(train=1.000, test=0.750) total time=   1.8s\n",
      "[CV 2/5] END bootstrap=True, max_depth=9, max_features=sqrt, min_samples_leaf=1, min_samples_split=2, n_estimators=1700;, score=(train=1.000, test=0.833) total time=   2.5s\n",
      "[CV 3/5] END bootstrap=True, max_depth=9, max_features=sqrt, min_samples_leaf=1, min_samples_split=2, n_estimators=1700;, score=(train=1.000, test=0.500) total time=   2.6s\n",
      "[CV 4/5] END bootstrap=True, max_depth=9, max_features=sqrt, min_samples_leaf=1, min_samples_split=2, n_estimators=1700;, score=(train=1.000, test=0.667) total time=   2.6s\n",
      "[CV 5/5] END bootstrap=True, max_depth=9, max_features=sqrt, min_samples_leaf=1, min_samples_split=2, n_estimators=1700;, score=(train=1.000, test=0.750) total time=   2.6s\n"
     ]
    },
    {
     "name": "stderr",
     "output_type": "stream",
     "text": [
      "/Users/sezaiufukoral/anaconda3/lib/python3.11/site-packages/sklearn/metrics/_classification.py:2466: UserWarning: y_pred contains classes not in y_true\n",
      "  warnings.warn(\"y_pred contains classes not in y_true\")\n"
     ]
    },
    {
     "name": "stdout",
     "output_type": "stream",
     "text": [
      "[CV 3/5] END bootstrap=False, max_depth=10, max_features=None, min_samples_leaf=1, min_samples_split=2, n_estimators=1150;, score=(train=1.000, test=0.500) total time=   1.9s\n",
      "[CV 2/5] END bootstrap=False, max_depth=10, max_features=None, min_samples_leaf=1, min_samples_split=2, n_estimators=1150;, score=(train=1.000, test=0.333) total time=   2.0s\n",
      "[CV 1/5] END bootstrap=True, max_depth=18, max_features=sqrt, min_samples_leaf=1, min_samples_split=2, n_estimators=1150;, score=(train=1.000, test=0.500) total time=   1.7s\n",
      "[CV 4/5] END bootstrap=False, max_depth=10, max_features=None, min_samples_leaf=1, min_samples_split=2, n_estimators=1150;, score=(train=1.000, test=0.833) total time=   1.8s\n",
      "[CV 3/5] END bootstrap=True, max_depth=18, max_features=sqrt, min_samples_leaf=1, min_samples_split=2, n_estimators=1150;, score=(train=1.000, test=0.500) total time=   1.6s\n",
      "[CV 2/5] END bootstrap=True, max_depth=18, max_features=sqrt, min_samples_leaf=1, min_samples_split=2, n_estimators=1150;, score=(train=1.000, test=0.833) total time=   1.7s\n",
      "[CV 5/5] END bootstrap=False, max_depth=10, max_features=None, min_samples_leaf=1, min_samples_split=2, n_estimators=1150;, score=(train=1.000, test=0.750) total time=   1.9s\n"
     ]
    },
    {
     "name": "stderr",
     "output_type": "stream",
     "text": [
      "/Users/sezaiufukoral/anaconda3/lib/python3.11/site-packages/sklearn/metrics/_classification.py:2466: UserWarning: y_pred contains classes not in y_true\n",
      "  warnings.warn(\"y_pred contains classes not in y_true\")\n"
     ]
    },
    {
     "name": "stdout",
     "output_type": "stream",
     "text": [
      "[CV 4/5] END bootstrap=True, max_depth=18, max_features=sqrt, min_samples_leaf=1, min_samples_split=2, n_estimators=1150;, score=(train=1.000, test=0.667) total time=   1.7s\n"
     ]
    },
    {
     "name": "stderr",
     "output_type": "stream",
     "text": [
      "/Users/sezaiufukoral/anaconda3/lib/python3.11/site-packages/sklearn/metrics/_classification.py:395: UserWarning: A single label was found in 'y_true' and 'y_pred'. For the confusion matrix to have the correct shape, use the 'labels' parameter to pass all known labels.\n",
      "  warnings.warn(\n"
     ]
    },
    {
     "name": "stdout",
     "output_type": "stream",
     "text": [
      "[CV 5/5] END bootstrap=True, max_depth=18, max_features=sqrt, min_samples_leaf=1, min_samples_split=2, n_estimators=1150;, score=(train=1.000, test=1.000) total time=   1.7s\n",
      "[CV 1/5] END bootstrap=False, max_depth=12, max_features=sqrt, min_samples_leaf=10, min_samples_split=10, n_estimators=2800;, score=(train=0.500, test=0.500) total time=   3.0s\n",
      "[CV 3/5] END bootstrap=False, max_depth=12, max_features=sqrt, min_samples_leaf=10, min_samples_split=10, n_estimators=2800;, score=(train=0.500, test=0.500) total time=   2.6s\n",
      "[CV 2/5] END bootstrap=False, max_depth=12, max_features=sqrt, min_samples_leaf=10, min_samples_split=10, n_estimators=2800;, score=(train=0.500, test=0.500) total time=   2.7s\n",
      "[CV 4/5] END bootstrap=False, max_depth=12, max_features=sqrt, min_samples_leaf=10, min_samples_split=10, n_estimators=2800;, score=(train=0.500, test=0.500) total time=   2.7s\n"
     ]
    },
    {
     "name": "stderr",
     "output_type": "stream",
     "text": [
      "/Users/sezaiufukoral/anaconda3/lib/python3.11/site-packages/sklearn/metrics/_classification.py:2466: UserWarning: y_pred contains classes not in y_true\n",
      "  warnings.warn(\"y_pred contains classes not in y_true\")\n"
     ]
    },
    {
     "name": "stdout",
     "output_type": "stream",
     "text": [
      "[CV 5/5] END bootstrap=False, max_depth=12, max_features=sqrt, min_samples_leaf=10, min_samples_split=10, n_estimators=2800;, score=(train=0.500, test=0.000) total time=   2.7s\n",
      "[CV 1/5] END bootstrap=True, max_depth=8, max_features=log2, min_samples_leaf=1, min_samples_split=2, n_estimators=2800;, score=(train=1.000, test=0.500) total time=   4.3s\n",
      "[CV 2/5] END bootstrap=True, max_depth=8, max_features=log2, min_samples_leaf=1, min_samples_split=2, n_estimators=2800;, score=(train=1.000, test=0.833) total time=   4.4s\n",
      "[CV 3/5] END bootstrap=True, max_depth=8, max_features=log2, min_samples_leaf=1, min_samples_split=2, n_estimators=2800;, score=(train=1.000, test=0.500) total time=   4.2s\n",
      "[CV 4/5] END bootstrap=True, max_depth=8, max_features=log2, min_samples_leaf=1, min_samples_split=2, n_estimators=2800;, score=(train=1.000, test=0.667) total time=   4.4s\n",
      "[CV 1/5] END bootstrap=True, max_depth=17, max_features=sqrt, min_samples_leaf=10, min_samples_split=10, n_estimators=2800;, score=(train=0.500, test=0.500) total time=   4.2s\n",
      "[CV 2/5] END bootstrap=True, max_depth=17, max_features=sqrt, min_samples_leaf=10, min_samples_split=10, n_estimators=2800;, score=(train=0.500, test=0.500) total time=   4.2s\n",
      "[CV 5/5] END bootstrap=True, max_depth=8, max_features=log2, min_samples_leaf=1, min_samples_split=2, n_estimators=2800;, score=(train=1.000, test=0.750) total time=   4.5s\n"
     ]
    },
    {
     "name": "stderr",
     "output_type": "stream",
     "text": [
      "/Users/sezaiufukoral/anaconda3/lib/python3.11/site-packages/sklearn/metrics/_classification.py:2466: UserWarning: y_pred contains classes not in y_true\n",
      "  warnings.warn(\"y_pred contains classes not in y_true\")\n"
     ]
    },
    {
     "name": "stdout",
     "output_type": "stream",
     "text": [
      "[CV 3/5] END bootstrap=True, max_depth=17, max_features=sqrt, min_samples_leaf=10, min_samples_split=10, n_estimators=2800;, score=(train=0.500, test=0.500) total time=   4.3s\n",
      "[CV 4/5] END bootstrap=True, max_depth=17, max_features=sqrt, min_samples_leaf=10, min_samples_split=10, n_estimators=2800;, score=(train=0.500, test=0.500) total time=   4.0s\n"
     ]
    },
    {
     "name": "stderr",
     "output_type": "stream",
     "text": [
      "/Users/sezaiufukoral/anaconda3/lib/python3.11/site-packages/sklearn/metrics/_classification.py:2466: UserWarning: y_pred contains classes not in y_true\n",
      "  warnings.warn(\"y_pred contains classes not in y_true\")\n"
     ]
    },
    {
     "name": "stdout",
     "output_type": "stream",
     "text": [
      "[CV 5/5] END bootstrap=True, max_depth=17, max_features=sqrt, min_samples_leaf=10, min_samples_split=10, n_estimators=2800;, score=(train=0.500, test=0.000) total time=   4.2s\n",
      "[CV 1/5] END bootstrap=False, max_depth=8, max_features=log2, min_samples_leaf=1, min_samples_split=2, n_estimators=2250;, score=(train=1.000, test=0.500) total time=   2.4s\n",
      "[CV 1/5] END bootstrap=True, max_depth=13, max_features=None, min_samples_leaf=1, min_samples_split=10, n_estimators=2800;, score=(train=0.900, test=0.750) total time=   5.2s\n",
      "[CV 2/5] END bootstrap=False, max_depth=8, max_features=log2, min_samples_leaf=1, min_samples_split=2, n_estimators=2250;, score=(train=1.000, test=0.667) total time=   2.3s\n",
      "[CV 2/5] END bootstrap=True, max_depth=13, max_features=None, min_samples_leaf=1, min_samples_split=10, n_estimators=2800;, score=(train=1.000, test=0.333) total time=   4.8s\n",
      "[CV 3/5] END bootstrap=False, max_depth=8, max_features=log2, min_samples_leaf=1, min_samples_split=2, n_estimators=2250;, score=(train=1.000, test=0.500) total time=   2.3s\n",
      "[CV 4/5] END bootstrap=True, max_depth=13, max_features=None, min_samples_leaf=1, min_samples_split=10, n_estimators=2800;, score=(train=0.917, test=0.833) total time=   4.8s\n",
      "[CV 3/5] END bootstrap=True, max_depth=13, max_features=None, min_samples_leaf=1, min_samples_split=10, n_estimators=2800;, score=(train=0.900, test=0.500) total time=   5.0s\n",
      "[CV 5/5] END bootstrap=True, max_depth=13, max_features=None, min_samples_leaf=1, min_samples_split=10, n_estimators=2800;, score=(train=0.929, test=1.000) total time=   4.9s\n",
      "[CV 4/5] END bootstrap=False, max_depth=8, max_features=log2, min_samples_leaf=1, min_samples_split=2, n_estimators=2250;, score=(train=1.000, test=0.667) total time=   2.3s\n"
     ]
    },
    {
     "name": "stderr",
     "output_type": "stream",
     "text": [
      "/Users/sezaiufukoral/anaconda3/lib/python3.11/site-packages/sklearn/metrics/_classification.py:395: UserWarning: A single label was found in 'y_true' and 'y_pred'. For the confusion matrix to have the correct shape, use the 'labels' parameter to pass all known labels.\n",
      "  warnings.warn(\n"
     ]
    },
    {
     "name": "stdout",
     "output_type": "stream",
     "text": [
      "[CV 1/5] END bootstrap=False, max_depth=17, max_features=sqrt, min_samples_leaf=1, min_samples_split=10, n_estimators=1150;, score=(train=1.000, test=0.500) total time=   1.3s\n",
      "[CV 2/5] END bootstrap=False, max_depth=17, max_features=sqrt, min_samples_leaf=1, min_samples_split=10, n_estimators=1150;, score=(train=1.000, test=0.833) total time=   1.2s\n"
     ]
    },
    {
     "name": "stderr",
     "output_type": "stream",
     "text": [
      "/Users/sezaiufukoral/anaconda3/lib/python3.11/site-packages/sklearn/metrics/_classification.py:2466: UserWarning: y_pred contains classes not in y_true\n",
      "  warnings.warn(\"y_pred contains classes not in y_true\")\n"
     ]
    },
    {
     "name": "stdout",
     "output_type": "stream",
     "text": [
      "[CV 5/5] END bootstrap=False, max_depth=8, max_features=log2, min_samples_leaf=1, min_samples_split=2, n_estimators=2250;, score=(train=1.000, test=0.750) total time=   2.4s\n",
      "[CV 3/5] END bootstrap=False, max_depth=17, max_features=sqrt, min_samples_leaf=1, min_samples_split=10, n_estimators=1150;, score=(train=1.000, test=0.500) total time=   1.3s\n",
      "[CV 1/5] END bootstrap=True, max_depth=2, max_features=log2, min_samples_leaf=10, min_samples_split=10, n_estimators=50;, score=(train=0.500, test=0.500) total time=   0.1s\n",
      "[CV 2/5] END bootstrap=True, max_depth=2, max_features=log2, min_samples_leaf=10, min_samples_split=10, n_estimators=50;, score=(train=0.500, test=0.500) total time=   0.1s\n",
      "[CV 3/5] END bootstrap=True, max_depth=2, max_features=log2, min_samples_leaf=10, min_samples_split=10, n_estimators=50;, score=(train=0.500, test=0.500) total time=   0.1s\n",
      "[CV 4/5] END bootstrap=True, max_depth=2, max_features=log2, min_samples_leaf=10, min_samples_split=10, n_estimators=50;, score=(train=0.500, test=0.500) total time=   0.1s\n",
      "[CV 4/5] END bootstrap=False, max_depth=17, max_features=sqrt, min_samples_leaf=1, min_samples_split=10, n_estimators=1150;, score=(train=1.000, test=0.833) total time=   1.3s\n",
      "[CV 5/5] END bootstrap=True, max_depth=2, max_features=log2, min_samples_leaf=10, min_samples_split=10, n_estimators=50;, score=(train=0.500, test=0.000) total time=   0.1s\n"
     ]
    },
    {
     "name": "stderr",
     "output_type": "stream",
     "text": [
      "/Users/sezaiufukoral/anaconda3/lib/python3.11/site-packages/sklearn/metrics/_classification.py:2466: UserWarning: y_pred contains classes not in y_true\n",
      "  warnings.warn(\"y_pred contains classes not in y_true\")\n",
      "/Users/sezaiufukoral/anaconda3/lib/python3.11/site-packages/sklearn/metrics/_classification.py:2466: UserWarning: y_pred contains classes not in y_true\n",
      "  warnings.warn(\"y_pred contains classes not in y_true\")\n"
     ]
    },
    {
     "name": "stdout",
     "output_type": "stream",
     "text": [
      "[CV 5/5] END bootstrap=False, max_depth=17, max_features=sqrt, min_samples_leaf=1, min_samples_split=10, n_estimators=1150;, score=(train=1.000, test=0.750) total time=   1.6s\n",
      "[CV 2/5] END bootstrap=False, max_depth=10, max_features=sqrt, min_samples_leaf=1, min_samples_split=10, n_estimators=1700;, score=(train=1.000, test=0.833) total time=   1.7s\n",
      "[CV 3/5] END bootstrap=False, max_depth=10, max_features=sqrt, min_samples_leaf=1, min_samples_split=10, n_estimators=1700;, score=(train=1.000, test=0.500) total time=   1.7s\n",
      "[CV 1/5] END bootstrap=False, max_depth=10, max_features=sqrt, min_samples_leaf=1, min_samples_split=10, n_estimators=1700;, score=(train=1.000, test=0.500) total time=   1.9s\n",
      "[CV 1/5] END bootstrap=False, max_depth=9, max_features=None, min_samples_leaf=10, min_samples_split=2, n_estimators=50;, score=(train=0.500, test=0.500) total time=   0.1s\n",
      "[CV 2/5] END bootstrap=False, max_depth=9, max_features=None, min_samples_leaf=10, min_samples_split=2, n_estimators=50;, score=(train=0.500, test=0.500) total time=   0.0s\n",
      "[CV 5/5] END bootstrap=False, max_depth=10, max_features=sqrt, min_samples_leaf=1, min_samples_split=10, n_estimators=1700;, score=(train=1.000, test=0.750) total time=   1.7s\n",
      "[CV 3/5] END bootstrap=False, max_depth=9, max_features=None, min_samples_leaf=10, min_samples_split=2, n_estimators=50;, score=(train=0.500, test=0.500) total time=   0.1s\n",
      "[CV 4/5] END bootstrap=False, max_depth=9, max_features=None, min_samples_leaf=10, min_samples_split=2, n_estimators=50;, score=(train=0.500, test=0.500) total time=   0.1s\n"
     ]
    },
    {
     "name": "stderr",
     "output_type": "stream",
     "text": [
      "/Users/sezaiufukoral/anaconda3/lib/python3.11/site-packages/sklearn/metrics/_classification.py:2466: UserWarning: y_pred contains classes not in y_true\n",
      "  warnings.warn(\"y_pred contains classes not in y_true\")\n",
      "/Users/sezaiufukoral/anaconda3/lib/python3.11/site-packages/sklearn/metrics/_classification.py:2466: UserWarning: y_pred contains classes not in y_true\n",
      "  warnings.warn(\"y_pred contains classes not in y_true\")\n"
     ]
    },
    {
     "name": "stdout",
     "output_type": "stream",
     "text": [
      "[CV 5/5] END bootstrap=False, max_depth=9, max_features=None, min_samples_leaf=10, min_samples_split=2, n_estimators=50;, score=(train=0.500, test=0.000) total time=   0.1s\n",
      "[CV 4/5] END bootstrap=False, max_depth=10, max_features=sqrt, min_samples_leaf=1, min_samples_split=10, n_estimators=1700;, score=(train=1.000, test=0.667) total time=   2.0s\n",
      "[CV 1/5] END bootstrap=False, max_depth=18, max_features=sqrt, min_samples_leaf=10, min_samples_split=2, n_estimators=1700;, score=(train=0.500, test=0.500) total time=   1.7s\n",
      "[CV 2/5] END bootstrap=False, max_depth=18, max_features=sqrt, min_samples_leaf=10, min_samples_split=2, n_estimators=1700;, score=(train=0.500, test=0.500) total time=   1.8s\n",
      "[CV 3/5] END bootstrap=False, max_depth=18, max_features=sqrt, min_samples_leaf=10, min_samples_split=2, n_estimators=1700;, score=(train=0.500, test=0.500) total time=   1.8s\n",
      "[CV 1/5] END bootstrap=False, max_depth=7, max_features=log2, min_samples_leaf=10, min_samples_split=10, n_estimators=50;, score=(train=0.500, test=0.500) total time=   0.1s\n",
      "[CV 2/5] END bootstrap=False, max_depth=7, max_features=log2, min_samples_leaf=10, min_samples_split=10, n_estimators=50;, score=(train=0.500, test=0.500) total time=   0.1s\n",
      "[CV 3/5] END bootstrap=False, max_depth=7, max_features=log2, min_samples_leaf=10, min_samples_split=10, n_estimators=50;, score=(train=0.500, test=0.500) total time=   0.1s\n",
      "[CV 4/5] END bootstrap=False, max_depth=7, max_features=log2, min_samples_leaf=10, min_samples_split=10, n_estimators=50;, score=(train=0.500, test=0.500) total time=   0.0s\n",
      "[CV 5/5] END bootstrap=False, max_depth=7, max_features=log2, min_samples_leaf=10, min_samples_split=10, n_estimators=50;, score=(train=0.500, test=0.000) total time=   0.1s\n"
     ]
    },
    {
     "name": "stderr",
     "output_type": "stream",
     "text": [
      "/Users/sezaiufukoral/anaconda3/lib/python3.11/site-packages/sklearn/metrics/_classification.py:2466: UserWarning: y_pred contains classes not in y_true\n",
      "  warnings.warn(\"y_pred contains classes not in y_true\")\n"
     ]
    },
    {
     "name": "stdout",
     "output_type": "stream",
     "text": [
      "[CV 4/5] END bootstrap=False, max_depth=18, max_features=sqrt, min_samples_leaf=10, min_samples_split=2, n_estimators=1700;, score=(train=0.500, test=0.500) total time=   1.7s\n"
     ]
    },
    {
     "name": "stderr",
     "output_type": "stream",
     "text": [
      "/Users/sezaiufukoral/anaconda3/lib/python3.11/site-packages/sklearn/metrics/_classification.py:2466: UserWarning: y_pred contains classes not in y_true\n",
      "  warnings.warn(\"y_pred contains classes not in y_true\")\n"
     ]
    },
    {
     "name": "stdout",
     "output_type": "stream",
     "text": [
      "[CV 5/5] END bootstrap=False, max_depth=18, max_features=sqrt, min_samples_leaf=10, min_samples_split=2, n_estimators=1700;, score=(train=0.500, test=0.000) total time=   1.7s\n",
      "[CV 1/5] END bootstrap=False, max_depth=12, max_features=sqrt, min_samples_leaf=10, min_samples_split=10, n_estimators=2250;, score=(train=0.500, test=0.500) total time=   2.2s\n",
      "[CV 1/5] END bootstrap=True, max_depth=11, max_features=sqrt, min_samples_leaf=1, min_samples_split=10, n_estimators=4450;, score=(train=0.500, test=0.500) total time=   6.5s\n",
      "[CV 2/5] END bootstrap=True, max_depth=11, max_features=sqrt, min_samples_leaf=1, min_samples_split=10, n_estimators=4450;, score=(train=0.786, test=0.500) total time=   6.8s\n",
      "[CV 2/5] END bootstrap=False, max_depth=12, max_features=sqrt, min_samples_leaf=10, min_samples_split=10, n_estimators=2250;, score=(train=0.500, test=0.500) total time=   2.3s\n",
      "[CV 3/5] END bootstrap=False, max_depth=12, max_features=sqrt, min_samples_leaf=10, min_samples_split=10, n_estimators=2250;, score=(train=0.500, test=0.500) total time=   2.2s\n",
      "[CV 3/5] END bootstrap=True, max_depth=11, max_features=sqrt, min_samples_leaf=1, min_samples_split=10, n_estimators=4450;, score=(train=0.500, test=0.500) total time=   6.9s\n"
     ]
    },
    {
     "name": "stderr",
     "output_type": "stream",
     "text": [
      "/Users/sezaiufukoral/anaconda3/lib/python3.11/site-packages/sklearn/metrics/_classification.py:2466: UserWarning: y_pred contains classes not in y_true\n",
      "  warnings.warn(\"y_pred contains classes not in y_true\")\n"
     ]
    },
    {
     "name": "stdout",
     "output_type": "stream",
     "text": [
      "[CV 4/5] END bootstrap=True, max_depth=11, max_features=sqrt, min_samples_leaf=1, min_samples_split=10, n_estimators=4450;, score=(train=0.500, test=0.500) total time=   6.8s\n",
      "[CV 5/5] END bootstrap=True, max_depth=11, max_features=sqrt, min_samples_leaf=1, min_samples_split=10, n_estimators=4450;, score=(train=0.929, test=0.250) total time=   6.9s\n",
      "[CV 4/5] END bootstrap=False, max_depth=12, max_features=sqrt, min_samples_leaf=10, min_samples_split=10, n_estimators=2250;, score=(train=0.500, test=0.500) total time=   2.4s\n"
     ]
    },
    {
     "name": "stderr",
     "output_type": "stream",
     "text": [
      "/Users/sezaiufukoral/anaconda3/lib/python3.11/site-packages/sklearn/metrics/_classification.py:2466: UserWarning: y_pred contains classes not in y_true\n",
      "  warnings.warn(\"y_pred contains classes not in y_true\")\n"
     ]
    },
    {
     "name": "stdout",
     "output_type": "stream",
     "text": [
      "[CV 5/5] END bootstrap=False, max_depth=12, max_features=sqrt, min_samples_leaf=10, min_samples_split=10, n_estimators=2250;, score=(train=0.500, test=0.000) total time=   2.5s\n",
      "[CV 1/5] END bootstrap=False, max_depth=3, max_features=sqrt, min_samples_leaf=1, min_samples_split=10, n_estimators=3350;, score=(train=1.000, test=0.500) total time=   3.6s\n",
      "[CV 2/5] END bootstrap=False, max_depth=3, max_features=sqrt, min_samples_leaf=1, min_samples_split=10, n_estimators=3350;, score=(train=1.000, test=0.500) total time=   3.5s\n",
      "[CV 1/5] END bootstrap=True, max_depth=11, max_features=sqrt, min_samples_leaf=1, min_samples_split=2, n_estimators=3350;, score=(train=1.000, test=0.500) total time=   5.5s\n",
      "[CV 2/5] END bootstrap=True, max_depth=11, max_features=sqrt, min_samples_leaf=1, min_samples_split=2, n_estimators=3350;, score=(train=1.000, test=0.833) total time=   5.4s\n",
      "[CV 3/5] END bootstrap=True, max_depth=11, max_features=sqrt, min_samples_leaf=1, min_samples_split=2, n_estimators=3350;, score=(train=1.000, test=0.500) total time=   5.5s\n",
      "[CV 4/5] END bootstrap=True, max_depth=11, max_features=sqrt, min_samples_leaf=1, min_samples_split=2, n_estimators=3350;, score=(train=1.000, test=0.667) total time=   5.3s\n",
      "[CV 3/5] END bootstrap=False, max_depth=3, max_features=sqrt, min_samples_leaf=1, min_samples_split=10, n_estimators=3350;, score=(train=0.900, test=0.500) total time=   3.7s\n",
      "[CV 5/5] END bootstrap=True, max_depth=11, max_features=sqrt, min_samples_leaf=1, min_samples_split=2, n_estimators=3350;, score=(train=1.000, test=1.000) total time=   5.4s\n"
     ]
    },
    {
     "name": "stderr",
     "output_type": "stream",
     "text": [
      "/Users/sezaiufukoral/anaconda3/lib/python3.11/site-packages/sklearn/metrics/_classification.py:395: UserWarning: A single label was found in 'y_true' and 'y_pred'. For the confusion matrix to have the correct shape, use the 'labels' parameter to pass all known labels.\n",
      "  warnings.warn(\n"
     ]
    },
    {
     "name": "stdout",
     "output_type": "stream",
     "text": [
      "[CV 1/5] END bootstrap=True, max_depth=13, max_features=sqrt, min_samples_leaf=10, min_samples_split=2, n_estimators=1150;, score=(train=0.500, test=0.500) total time=   1.8s\n",
      "[CV 2/5] END bootstrap=True, max_depth=13, max_features=sqrt, min_samples_leaf=10, min_samples_split=2, n_estimators=1150;, score=(train=0.500, test=0.500) total time=   1.8s\n",
      "[CV 3/5] END bootstrap=True, max_depth=13, max_features=sqrt, min_samples_leaf=10, min_samples_split=2, n_estimators=1150;, score=(train=0.500, test=0.500) total time=   1.7s\n",
      "[CV 4/5] END bootstrap=True, max_depth=13, max_features=sqrt, min_samples_leaf=10, min_samples_split=2, n_estimators=1150;, score=(train=0.500, test=0.500) total time=   1.7s\n",
      "[CV 5/5] END bootstrap=True, max_depth=13, max_features=sqrt, min_samples_leaf=10, min_samples_split=2, n_estimators=1150;, score=(train=0.500, test=0.000) total time=   1.6s\n"
     ]
    },
    {
     "name": "stderr",
     "output_type": "stream",
     "text": [
      "/Users/sezaiufukoral/anaconda3/lib/python3.11/site-packages/sklearn/metrics/_classification.py:2466: UserWarning: y_pred contains classes not in y_true\n",
      "  warnings.warn(\"y_pred contains classes not in y_true\")\n"
     ]
    },
    {
     "name": "stdout",
     "output_type": "stream",
     "text": [
      "[CV 1/5] END bootstrap=True, max_depth=7, max_features=None, min_samples_leaf=1, min_samples_split=2, n_estimators=50;, score=(train=1.000, test=0.750) total time=   0.1s\n",
      "[CV 2/5] END bootstrap=True, max_depth=7, max_features=None, min_samples_leaf=1, min_samples_split=2, n_estimators=50;, score=(train=1.000, test=0.333) total time=   0.1s\n",
      "[CV 3/5] END bootstrap=True, max_depth=7, max_features=None, min_samples_leaf=1, min_samples_split=2, n_estimators=50;, score=(train=1.000, test=0.500) total time=   0.1s\n",
      "[CV 4/5] END bootstrap=True, max_depth=7, max_features=None, min_samples_leaf=1, min_samples_split=2, n_estimators=50;, score=(train=1.000, test=0.833) total time=   0.1s\n"
     ]
    },
    {
     "name": "stderr",
     "output_type": "stream",
     "text": [
      "/Users/sezaiufukoral/anaconda3/lib/python3.11/site-packages/sklearn/metrics/_classification.py:2466: UserWarning: y_pred contains classes not in y_true\n",
      "  warnings.warn(\"y_pred contains classes not in y_true\")\n"
     ]
    },
    {
     "name": "stdout",
     "output_type": "stream",
     "text": [
      "[CV 5/5] END bootstrap=True, max_depth=7, max_features=None, min_samples_leaf=1, min_samples_split=2, n_estimators=50;, score=(train=1.000, test=0.750) total time=   0.1s\n",
      "[CV 4/5] END bootstrap=False, max_depth=3, max_features=sqrt, min_samples_leaf=1, min_samples_split=10, n_estimators=3350;, score=(train=0.917, test=0.500) total time=   3.8s\n"
     ]
    },
    {
     "name": "stderr",
     "output_type": "stream",
     "text": [
      "/Users/sezaiufukoral/anaconda3/lib/python3.11/site-packages/sklearn/metrics/_classification.py:2466: UserWarning: y_pred contains classes not in y_true\n",
      "  warnings.warn(\"y_pred contains classes not in y_true\")\n"
     ]
    },
    {
     "name": "stdout",
     "output_type": "stream",
     "text": [
      "[CV 5/5] END bootstrap=False, max_depth=3, max_features=sqrt, min_samples_leaf=1, min_samples_split=10, n_estimators=3350;, score=(train=1.000, test=0.750) total time=   3.6s\n",
      "[CV 1/5] END bootstrap=True, max_depth=15, max_features=None, min_samples_leaf=10, min_samples_split=10, n_estimators=5000;, score=(train=0.500, test=0.500) total time=   7.3s\n",
      "[CV 2/5] END bootstrap=True, max_depth=15, max_features=None, min_samples_leaf=10, min_samples_split=10, n_estimators=5000;, score=(train=0.500, test=0.500) total time=   7.0s\n",
      "[CV 3/5] END bootstrap=True, max_depth=15, max_features=None, min_samples_leaf=10, min_samples_split=10, n_estimators=5000;, score=(train=0.500, test=0.500) total time=   7.1s\n"
     ]
    },
    {
     "name": "stderr",
     "output_type": "stream",
     "text": [
      "/Users/sezaiufukoral/anaconda3/lib/python3.11/site-packages/sklearn/metrics/_classification.py:2466: UserWarning: y_pred contains classes not in y_true\n",
      "  warnings.warn(\"y_pred contains classes not in y_true\")\n"
     ]
    },
    {
     "name": "stdout",
     "output_type": "stream",
     "text": [
      "[CV 5/5] END bootstrap=True, max_depth=15, max_features=None, min_samples_leaf=10, min_samples_split=10, n_estimators=5000;, score=(train=0.500, test=0.000) total time=   7.0s\n",
      "[CV 1/5] END bootstrap=True, max_depth=17, max_features=None, min_samples_leaf=10, min_samples_split=10, n_estimators=4450;, score=(train=0.500, test=0.500) total time=   6.4s\n",
      "[CV 4/5] END bootstrap=True, max_depth=15, max_features=None, min_samples_leaf=10, min_samples_split=10, n_estimators=5000;, score=(train=0.500, test=0.500) total time=   7.3s\n",
      "[CV 2/5] END bootstrap=True, max_depth=17, max_features=None, min_samples_leaf=10, min_samples_split=10, n_estimators=4450;, score=(train=0.500, test=0.500) total time=   6.6s\n",
      "[CV 3/5] END bootstrap=True, max_depth=17, max_features=None, min_samples_leaf=10, min_samples_split=10, n_estimators=4450;, score=(train=0.500, test=0.500) total time=   6.4s\n",
      "[CV 1/5] END bootstrap=True, max_depth=12, max_features=sqrt, min_samples_leaf=10, min_samples_split=10, n_estimators=1700;, score=(train=0.500, test=0.500) total time=   2.4s\n",
      "[CV 3/5] END bootstrap=True, max_depth=12, max_features=sqrt, min_samples_leaf=10, min_samples_split=10, n_estimators=1700;, score=(train=0.500, test=0.500) total time=   2.4s\n",
      "[CV 2/5] END bootstrap=True, max_depth=12, max_features=sqrt, min_samples_leaf=10, min_samples_split=10, n_estimators=1700;, score=(train=0.500, test=0.500) total time=   2.4s\n"
     ]
    },
    {
     "name": "stderr",
     "output_type": "stream",
     "text": [
      "/Users/sezaiufukoral/anaconda3/lib/python3.11/site-packages/sklearn/metrics/_classification.py:2466: UserWarning: y_pred contains classes not in y_true\n",
      "  warnings.warn(\"y_pred contains classes not in y_true\")\n"
     ]
    },
    {
     "name": "stdout",
     "output_type": "stream",
     "text": [
      "[CV 5/5] END bootstrap=True, max_depth=12, max_features=sqrt, min_samples_leaf=10, min_samples_split=10, n_estimators=1700;, score=(train=0.500, test=0.000) total time=   2.3s\n",
      "[CV 4/5] END bootstrap=True, max_depth=12, max_features=sqrt, min_samples_leaf=10, min_samples_split=10, n_estimators=1700;, score=(train=0.500, test=0.500) total time=   2.7s\n",
      "[CV 1/5] END bootstrap=True, max_depth=9, max_features=sqrt, min_samples_leaf=10, min_samples_split=10, n_estimators=3350;, score=(train=0.500, test=0.500) total time=   4.4s\n",
      "[CV 4/5] END bootstrap=True, max_depth=17, max_features=None, min_samples_leaf=10, min_samples_split=10, n_estimators=4450;, score=(train=0.500, test=0.500) total time=   6.1s\n"
     ]
    },
    {
     "name": "stderr",
     "output_type": "stream",
     "text": [
      "/Users/sezaiufukoral/anaconda3/lib/python3.11/site-packages/sklearn/metrics/_classification.py:2466: UserWarning: y_pred contains classes not in y_true\n",
      "  warnings.warn(\"y_pred contains classes not in y_true\")\n"
     ]
    },
    {
     "name": "stdout",
     "output_type": "stream",
     "text": [
      "[CV 5/5] END bootstrap=True, max_depth=17, max_features=None, min_samples_leaf=10, min_samples_split=10, n_estimators=4450;, score=(train=0.500, test=0.000) total time=   6.5s\n",
      "[CV 1/5] END bootstrap=True, max_depth=4, max_features=log2, min_samples_leaf=1, min_samples_split=2, n_estimators=2250;, score=(train=1.000, test=0.500) total time=   3.6s\n",
      "[CV 2/5] END bootstrap=True, max_depth=9, max_features=sqrt, min_samples_leaf=10, min_samples_split=10, n_estimators=3350;, score=(train=0.500, test=0.500) total time=   4.9s\n",
      "[CV 4/5] END bootstrap=True, max_depth=9, max_features=sqrt, min_samples_leaf=10, min_samples_split=10, n_estimators=3350;, score=(train=0.500, test=0.500) total time=   4.8s\n"
     ]
    },
    {
     "name": "stderr",
     "output_type": "stream",
     "text": [
      "/Users/sezaiufukoral/anaconda3/lib/python3.11/site-packages/sklearn/metrics/_classification.py:2466: UserWarning: y_pred contains classes not in y_true\n",
      "  warnings.warn(\"y_pred contains classes not in y_true\")\n"
     ]
    },
    {
     "name": "stdout",
     "output_type": "stream",
     "text": [
      "[CV 3/5] END bootstrap=True, max_depth=9, max_features=sqrt, min_samples_leaf=10, min_samples_split=10, n_estimators=3350;, score=(train=0.500, test=0.500) total time=   4.8s\n",
      "[CV 5/5] END bootstrap=True, max_depth=9, max_features=sqrt, min_samples_leaf=10, min_samples_split=10, n_estimators=3350;, score=(train=0.500, test=0.000) total time=   4.6s\n",
      "[CV 3/5] END bootstrap=True, max_depth=4, max_features=log2, min_samples_leaf=1, min_samples_split=2, n_estimators=2250;, score=(train=1.000, test=0.500) total time=   3.4s\n",
      "[CV 2/5] END bootstrap=True, max_depth=4, max_features=log2, min_samples_leaf=1, min_samples_split=2, n_estimators=2250;, score=(train=1.000, test=0.833) total time=   3.5s\n",
      "[CV 1/5] END bootstrap=False, max_depth=9, max_features=sqrt, min_samples_leaf=1, min_samples_split=10, n_estimators=50;, score=(train=1.000, test=0.500) total time=   0.1s\n",
      "[CV 2/5] END bootstrap=False, max_depth=9, max_features=sqrt, min_samples_leaf=1, min_samples_split=10, n_estimators=50;, score=(train=1.000, test=1.000) total time=   0.0s\n",
      "[CV 3/5] END bootstrap=False, max_depth=9, max_features=sqrt, min_samples_leaf=1, min_samples_split=10, n_estimators=50;, score=(train=1.000, test=0.500) total time=   0.0s\n",
      "[CV 4/5] END bootstrap=False, max_depth=9, max_features=sqrt, min_samples_leaf=1, min_samples_split=10, n_estimators=50;, score=(train=1.000, test=0.667) total time=   0.0s\n",
      "[CV 5/5] END bootstrap=False, max_depth=9, max_features=sqrt, min_samples_leaf=1, min_samples_split=10, n_estimators=50;, score=(train=1.000, test=0.750) total time=   0.0s\n"
     ]
    },
    {
     "name": "stderr",
     "output_type": "stream",
     "text": [
      "/Users/sezaiufukoral/anaconda3/lib/python3.11/site-packages/sklearn/metrics/_classification.py:2466: UserWarning: y_pred contains classes not in y_true\n",
      "  warnings.warn(\"y_pred contains classes not in y_true\")\n"
     ]
    },
    {
     "name": "stdout",
     "output_type": "stream",
     "text": [
      "[CV 1/5] END bootstrap=True, max_depth=2, max_features=log2, min_samples_leaf=10, min_samples_split=10, n_estimators=1700;, score=(train=0.500, test=0.500) total time=   2.4s\n",
      "[CV 4/5] END bootstrap=True, max_depth=4, max_features=log2, min_samples_leaf=1, min_samples_split=2, n_estimators=2250;, score=(train=1.000, test=0.500) total time=   3.3s\n",
      "[CV 3/5] END bootstrap=True, max_depth=2, max_features=log2, min_samples_leaf=10, min_samples_split=10, n_estimators=1700;, score=(train=0.500, test=0.500) total time=   2.4s\n",
      "[CV 2/5] END bootstrap=True, max_depth=2, max_features=log2, min_samples_leaf=10, min_samples_split=10, n_estimators=1700;, score=(train=0.500, test=0.500) total time=   2.5s\n",
      "[CV 4/5] END bootstrap=True, max_depth=2, max_features=log2, min_samples_leaf=10, min_samples_split=10, n_estimators=1700;, score=(train=0.500, test=0.500) total time=   2.4s\n",
      "[CV 1/5] END bootstrap=True, max_depth=18, max_features=sqrt, min_samples_leaf=1, min_samples_split=2, n_estimators=50;, score=(train=1.000, test=0.750) total time=   0.1s\n"
     ]
    },
    {
     "name": "stderr",
     "output_type": "stream",
     "text": [
      "/Users/sezaiufukoral/anaconda3/lib/python3.11/site-packages/sklearn/metrics/_classification.py:2466: UserWarning: y_pred contains classes not in y_true\n",
      "  warnings.warn(\"y_pred contains classes not in y_true\")\n"
     ]
    },
    {
     "name": "stdout",
     "output_type": "stream",
     "text": [
      "[CV 5/5] END bootstrap=True, max_depth=4, max_features=log2, min_samples_leaf=1, min_samples_split=2, n_estimators=2250;, score=(train=1.000, test=0.750) total time=   3.5s\n",
      "[CV 2/5] END bootstrap=True, max_depth=18, max_features=sqrt, min_samples_leaf=1, min_samples_split=2, n_estimators=50;, score=(train=1.000, test=0.833) total time=   0.1s\n",
      "[CV 4/5] END bootstrap=True, max_depth=18, max_features=sqrt, min_samples_leaf=1, min_samples_split=2, n_estimators=50;, score=(train=1.000, test=0.833) total time=   0.1s\n",
      "[CV 3/5] END bootstrap=True, max_depth=18, max_features=sqrt, min_samples_leaf=1, min_samples_split=2, n_estimators=50;, score=(train=1.000, test=0.500) total time=   0.1s\n"
     ]
    },
    {
     "name": "stderr",
     "output_type": "stream",
     "text": [
      "/Users/sezaiufukoral/anaconda3/lib/python3.11/site-packages/sklearn/metrics/_classification.py:2466: UserWarning: y_pred contains classes not in y_true\n",
      "  warnings.warn(\"y_pred contains classes not in y_true\")\n"
     ]
    },
    {
     "name": "stdout",
     "output_type": "stream",
     "text": [
      "[CV 5/5] END bootstrap=True, max_depth=18, max_features=sqrt, min_samples_leaf=1, min_samples_split=2, n_estimators=50;, score=(train=1.000, test=0.750) total time=   0.1s\n"
     ]
    },
    {
     "name": "stderr",
     "output_type": "stream",
     "text": [
      "/Users/sezaiufukoral/anaconda3/lib/python3.11/site-packages/sklearn/metrics/_classification.py:2466: UserWarning: y_pred contains classes not in y_true\n",
      "  warnings.warn(\"y_pred contains classes not in y_true\")\n"
     ]
    },
    {
     "name": "stdout",
     "output_type": "stream",
     "text": [
      "[CV 5/5] END bootstrap=True, max_depth=2, max_features=log2, min_samples_leaf=10, min_samples_split=10, n_estimators=1700;, score=(train=0.500, test=0.000) total time=   2.4s\n",
      "[CV 1/5] END bootstrap=False, max_depth=2, max_features=sqrt, min_samples_leaf=10, min_samples_split=10, n_estimators=2250;, score=(train=0.500, test=0.500) total time=   2.3s\n",
      "[CV 3/5] END bootstrap=False, max_depth=2, max_features=sqrt, min_samples_leaf=10, min_samples_split=10, n_estimators=2250;, score=(train=0.500, test=0.500) total time=   2.3s\n",
      "[CV 2/5] END bootstrap=False, max_depth=2, max_features=sqrt, min_samples_leaf=10, min_samples_split=10, n_estimators=2250;, score=(train=0.500, test=0.500) total time=   2.4s\n",
      "[CV 5/5] END bootstrap=False, max_depth=2, max_features=sqrt, min_samples_leaf=10, min_samples_split=10, n_estimators=2250;, score=(train=0.500, test=0.000) total time=   2.2s\n"
     ]
    },
    {
     "name": "stderr",
     "output_type": "stream",
     "text": [
      "/Users/sezaiufukoral/anaconda3/lib/python3.11/site-packages/sklearn/metrics/_classification.py:2466: UserWarning: y_pred contains classes not in y_true\n",
      "  warnings.warn(\"y_pred contains classes not in y_true\")\n"
     ]
    },
    {
     "name": "stdout",
     "output_type": "stream",
     "text": [
      "[CV 4/5] END bootstrap=False, max_depth=2, max_features=sqrt, min_samples_leaf=10, min_samples_split=10, n_estimators=2250;, score=(train=0.500, test=0.500) total time=   2.5s\n",
      "[CV 1/5] END bootstrap=True, max_depth=7, max_features=None, min_samples_leaf=10, min_samples_split=2, n_estimators=3350;, score=(train=0.500, test=0.500) total time=   5.2s\n",
      "[CV 2/5] END bootstrap=True, max_depth=7, max_features=None, min_samples_leaf=10, min_samples_split=2, n_estimators=3350;, score=(train=0.500, test=0.500) total time=   5.2s\n",
      "[CV 3/5] END bootstrap=True, max_depth=7, max_features=None, min_samples_leaf=10, min_samples_split=2, n_estimators=3350;, score=(train=0.500, test=0.500) total time=   5.2s\n",
      "[CV 4/5] END bootstrap=True, max_depth=7, max_features=None, min_samples_leaf=10, min_samples_split=2, n_estimators=3350;, score=(train=0.500, test=0.500) total time=   5.1s\n",
      "[CV 1/5] END bootstrap=True, max_depth=4, max_features=log2, min_samples_leaf=10, min_samples_split=2, n_estimators=2800;, score=(train=0.500, test=0.500) total time=   4.2s\n",
      "[CV 2/5] END bootstrap=True, max_depth=4, max_features=log2, min_samples_leaf=10, min_samples_split=2, n_estimators=2800;, score=(train=0.500, test=0.500) total time=   4.2s\n",
      "[CV 3/5] END bootstrap=True, max_depth=4, max_features=log2, min_samples_leaf=10, min_samples_split=2, n_estimators=2800;, score=(train=0.500, test=0.500) total time=   4.2s\n"
     ]
    },
    {
     "name": "stderr",
     "output_type": "stream",
     "text": [
      "/Users/sezaiufukoral/anaconda3/lib/python3.11/site-packages/sklearn/metrics/_classification.py:2466: UserWarning: y_pred contains classes not in y_true\n",
      "  warnings.warn(\"y_pred contains classes not in y_true\")\n"
     ]
    },
    {
     "name": "stdout",
     "output_type": "stream",
     "text": [
      "[CV 1/5] END bootstrap=True, max_depth=2, max_features=log2, min_samples_leaf=10, min_samples_split=10, n_estimators=600;, score=(train=0.500, test=0.500) total time=   1.0s\n",
      "[CV 5/5] END bootstrap=True, max_depth=7, max_features=None, min_samples_leaf=10, min_samples_split=2, n_estimators=3350;, score=(train=0.500, test=0.000) total time=   5.0s\n",
      "[CV 4/5] END bootstrap=True, max_depth=2, max_features=log2, min_samples_leaf=10, min_samples_split=10, n_estimators=600;, score=(train=0.500, test=0.500) total time=   0.8s\n",
      "[CV 2/5] END bootstrap=True, max_depth=2, max_features=log2, min_samples_leaf=10, min_samples_split=10, n_estimators=600;, score=(train=0.500, test=0.500) total time=   0.9s\n",
      "[CV 3/5] END bootstrap=True, max_depth=2, max_features=log2, min_samples_leaf=10, min_samples_split=10, n_estimators=600;, score=(train=0.500, test=0.500) total time=   0.9s\n"
     ]
    },
    {
     "name": "stderr",
     "output_type": "stream",
     "text": [
      "/Users/sezaiufukoral/anaconda3/lib/python3.11/site-packages/sklearn/metrics/_classification.py:2466: UserWarning: y_pred contains classes not in y_true\n",
      "  warnings.warn(\"y_pred contains classes not in y_true\")\n"
     ]
    },
    {
     "name": "stdout",
     "output_type": "stream",
     "text": [
      "[CV 5/5] END bootstrap=True, max_depth=2, max_features=log2, min_samples_leaf=10, min_samples_split=10, n_estimators=600;, score=(train=0.500, test=0.000) total time=   0.9s\n",
      "[CV 1/5] END bootstrap=False, max_depth=4, max_features=log2, min_samples_leaf=10, min_samples_split=2, n_estimators=1150;, score=(train=0.500, test=0.500) total time=   1.1s\n",
      "[CV 2/5] END bootstrap=False, max_depth=4, max_features=log2, min_samples_leaf=10, min_samples_split=2, n_estimators=1150;, score=(train=0.500, test=0.500) total time=   1.1s\n",
      "[CV 3/5] END bootstrap=False, max_depth=4, max_features=log2, min_samples_leaf=10, min_samples_split=2, n_estimators=1150;, score=(train=0.500, test=0.500) total time=   1.2s\n"
     ]
    },
    {
     "name": "stderr",
     "output_type": "stream",
     "text": [
      "/Users/sezaiufukoral/anaconda3/lib/python3.11/site-packages/sklearn/metrics/_classification.py:2466: UserWarning: y_pred contains classes not in y_true\n",
      "  warnings.warn(\"y_pred contains classes not in y_true\")\n"
     ]
    },
    {
     "name": "stdout",
     "output_type": "stream",
     "text": [
      "[CV 4/5] END bootstrap=False, max_depth=4, max_features=log2, min_samples_leaf=10, min_samples_split=2, n_estimators=1150;, score=(train=0.500, test=0.500) total time=   1.3s\n",
      "[CV 5/5] END bootstrap=False, max_depth=4, max_features=log2, min_samples_leaf=10, min_samples_split=2, n_estimators=1150;, score=(train=0.500, test=0.000) total time=   1.2s\n"
     ]
    },
    {
     "name": "stderr",
     "output_type": "stream",
     "text": [
      "/Users/sezaiufukoral/anaconda3/lib/python3.11/site-packages/sklearn/metrics/_classification.py:2466: UserWarning: y_pred contains classes not in y_true\n",
      "  warnings.warn(\"y_pred contains classes not in y_true\")\n"
     ]
    },
    {
     "name": "stdout",
     "output_type": "stream",
     "text": [
      "[CV 5/5] END bootstrap=True, max_depth=4, max_features=log2, min_samples_leaf=10, min_samples_split=2, n_estimators=2800;, score=(train=0.500, test=0.000) total time=   4.1s\n",
      "[CV 4/5] END bootstrap=True, max_depth=4, max_features=log2, min_samples_leaf=10, min_samples_split=2, n_estimators=2800;, score=(train=0.500, test=0.500) total time=   4.3s\n",
      "[CV 1/5] END bootstrap=True, max_depth=9, max_features=None, min_samples_leaf=1, min_samples_split=2, n_estimators=1700;, score=(train=1.000, test=0.750) total time=   3.4s\n",
      "[CV 3/5] END bootstrap=True, max_depth=9, max_features=None, min_samples_leaf=1, min_samples_split=2, n_estimators=1700;, score=(train=1.000, test=0.500) total time=   3.3s\n",
      "[CV 2/5] END bootstrap=True, max_depth=9, max_features=None, min_samples_leaf=1, min_samples_split=2, n_estimators=1700;, score=(train=1.000, test=0.333) total time=   3.6s\n",
      "[CV 1/5] END bootstrap=False, max_depth=7, max_features=None, min_samples_leaf=1, min_samples_split=10, n_estimators=1150;, score=(train=1.000, test=0.750) total time=   2.2s\n",
      "[CV 4/5] END bootstrap=True, max_depth=9, max_features=None, min_samples_leaf=1, min_samples_split=2, n_estimators=1700;, score=(train=1.000, test=0.833) total time=   4.1s\n",
      "[CV 1/5] END bootstrap=True, max_depth=8, max_features=sqrt, min_samples_leaf=1, min_samples_split=10, n_estimators=5000;, score=(train=0.500, test=0.500) total time=   8.5s\n",
      "[CV 4/5] END bootstrap=True, max_depth=8, max_features=sqrt, min_samples_leaf=1, min_samples_split=10, n_estimators=5000;, score=(train=0.500, test=0.500) total time=   8.3s\n",
      "[CV 2/5] END bootstrap=True, max_depth=8, max_features=sqrt, min_samples_leaf=1, min_samples_split=10, n_estimators=5000;, score=(train=0.786, test=0.500) total time=   8.5s\n",
      "[CV 3/5] END bootstrap=True, max_depth=8, max_features=sqrt, min_samples_leaf=1, min_samples_split=10, n_estimators=5000;, score=(train=0.500, test=0.500) total time=   8.6s\n"
     ]
    },
    {
     "name": "stderr",
     "output_type": "stream",
     "text": [
      "/Users/sezaiufukoral/anaconda3/lib/python3.11/site-packages/sklearn/metrics/_classification.py:2466: UserWarning: y_pred contains classes not in y_true\n",
      "  warnings.warn(\"y_pred contains classes not in y_true\")\n"
     ]
    },
    {
     "name": "stdout",
     "output_type": "stream",
     "text": [
      "[CV 5/5] END bootstrap=True, max_depth=8, max_features=sqrt, min_samples_leaf=1, min_samples_split=10, n_estimators=5000;, score=(train=0.857, test=0.000) total time=   8.4s\n"
     ]
    },
    {
     "name": "stderr",
     "output_type": "stream",
     "text": [
      "/Users/sezaiufukoral/anaconda3/lib/python3.11/site-packages/sklearn/metrics/_classification.py:395: UserWarning: A single label was found in 'y_true' and 'y_pred'. For the confusion matrix to have the correct shape, use the 'labels' parameter to pass all known labels.\n",
      "  warnings.warn(\n"
     ]
    },
    {
     "name": "stdout",
     "output_type": "stream",
     "text": [
      "[CV 5/5] END bootstrap=True, max_depth=9, max_features=None, min_samples_leaf=1, min_samples_split=2, n_estimators=1700;, score=(train=1.000, test=1.000) total time=   4.0s\n",
      "[CV 2/5] END bootstrap=False, max_depth=7, max_features=None, min_samples_leaf=1, min_samples_split=10, n_estimators=1150;, score=(train=1.000, test=0.333) total time=   2.4s\n",
      "[CV 3/5] END bootstrap=False, max_depth=7, max_features=None, min_samples_leaf=1, min_samples_split=10, n_estimators=1150;, score=(train=1.000, test=0.500) total time=   2.3s\n",
      "[CV 4/5] END bootstrap=False, max_depth=7, max_features=None, min_samples_leaf=1, min_samples_split=10, n_estimators=1150;, score=(train=1.000, test=0.833) total time=   2.3s\n",
      "[CV 5/5] END bootstrap=False, max_depth=7, max_features=None, min_samples_leaf=1, min_samples_split=10, n_estimators=1150;, score=(train=0.817, test=1.000) total time=   1.9s\n"
     ]
    },
    {
     "name": "stderr",
     "output_type": "stream",
     "text": [
      "/Users/sezaiufukoral/anaconda3/lib/python3.11/site-packages/sklearn/metrics/_classification.py:395: UserWarning: A single label was found in 'y_true' and 'y_pred'. For the confusion matrix to have the correct shape, use the 'labels' parameter to pass all known labels.\n",
      "  warnings.warn(\n"
     ]
    },
    {
     "name": "stdout",
     "output_type": "stream",
     "text": [
      "[CV 1/5] END bootstrap=False, max_depth=3, max_features=None, min_samples_leaf=1, min_samples_split=2, n_estimators=2800;, score=(train=1.000, test=0.750) total time=   4.7s\n",
      "[CV 1/5] END bootstrap=False, max_depth=8, max_features=log2, min_samples_leaf=1, min_samples_split=10, n_estimators=2800;, score=(train=1.000, test=0.500) total time=   3.2s\n",
      "[CV 2/5] END bootstrap=False, max_depth=8, max_features=log2, min_samples_leaf=1, min_samples_split=10, n_estimators=2800;, score=(train=1.000, test=0.833) total time=   3.1s\n",
      "[CV 3/5] END bootstrap=False, max_depth=8, max_features=log2, min_samples_leaf=1, min_samples_split=10, n_estimators=2800;, score=(train=1.000, test=0.500) total time=   3.3s\n",
      "[CV 2/5] END bootstrap=False, max_depth=3, max_features=None, min_samples_leaf=1, min_samples_split=2, n_estimators=2800;, score=(train=1.000, test=0.333) total time=   5.2s\n",
      "[CV 3/5] END bootstrap=False, max_depth=3, max_features=None, min_samples_leaf=1, min_samples_split=2, n_estimators=2800;, score=(train=1.000, test=0.500) total time=   5.2s\n",
      "[CV 4/5] END bootstrap=False, max_depth=3, max_features=None, min_samples_leaf=1, min_samples_split=2, n_estimators=2800;, score=(train=1.000, test=0.833) total time=   5.3s\n"
     ]
    },
    {
     "name": "stderr",
     "output_type": "stream",
     "text": [
      "/Users/sezaiufukoral/anaconda3/lib/python3.11/site-packages/sklearn/metrics/_classification.py:2466: UserWarning: y_pred contains classes not in y_true\n",
      "  warnings.warn(\"y_pred contains classes not in y_true\")\n"
     ]
    },
    {
     "name": "stdout",
     "output_type": "stream",
     "text": [
      "[CV 5/5] END bootstrap=False, max_depth=3, max_features=None, min_samples_leaf=1, min_samples_split=2, n_estimators=2800;, score=(train=1.000, test=0.750) total time=   5.3s\n",
      "[CV 4/5] END bootstrap=False, max_depth=8, max_features=log2, min_samples_leaf=1, min_samples_split=10, n_estimators=2800;, score=(train=1.000, test=0.667) total time=   3.8s\n"
     ]
    },
    {
     "name": "stderr",
     "output_type": "stream",
     "text": [
      "/Users/sezaiufukoral/anaconda3/lib/python3.11/site-packages/sklearn/metrics/_classification.py:2466: UserWarning: y_pred contains classes not in y_true\n",
      "  warnings.warn(\"y_pred contains classes not in y_true\")\n"
     ]
    },
    {
     "name": "stdout",
     "output_type": "stream",
     "text": [
      "[CV 5/5] END bootstrap=False, max_depth=8, max_features=log2, min_samples_leaf=1, min_samples_split=10, n_estimators=2800;, score=(train=1.000, test=0.750) total time=   4.2s\n",
      "[CV 1/5] END bootstrap=False, max_depth=9, max_features=log2, min_samples_leaf=1, min_samples_split=2, n_estimators=2250;, score=(train=1.000, test=0.500) total time=   3.8s\n",
      "[CV 2/5] END bootstrap=False, max_depth=9, max_features=log2, min_samples_leaf=1, min_samples_split=2, n_estimators=2250;, score=(train=1.000, test=0.667) total time=   2.9s\n",
      "[CV 3/5] END bootstrap=False, max_depth=9, max_features=log2, min_samples_leaf=1, min_samples_split=2, n_estimators=2250;, score=(train=1.000, test=0.500) total time=   2.7s\n",
      "[CV 4/5] END bootstrap=False, max_depth=9, max_features=log2, min_samples_leaf=1, min_samples_split=2, n_estimators=2250;, score=(train=1.000, test=0.667) total time=   2.5s\n"
     ]
    },
    {
     "name": "stderr",
     "output_type": "stream",
     "text": [
      "/Users/sezaiufukoral/anaconda3/lib/python3.11/site-packages/sklearn/metrics/_classification.py:395: UserWarning: A single label was found in 'y_true' and 'y_pred'. For the confusion matrix to have the correct shape, use the 'labels' parameter to pass all known labels.\n",
      "  warnings.warn(\n"
     ]
    },
    {
     "name": "stdout",
     "output_type": "stream",
     "text": [
      "[CV 1/5] END bootstrap=False, max_depth=10, max_features=None, min_samples_leaf=1, min_samples_split=10, n_estimators=4450;, score=(train=1.000, test=0.750) total time=   8.8s\n",
      "[CV 5/5] END bootstrap=False, max_depth=10, max_features=None, min_samples_leaf=1, min_samples_split=10, n_estimators=4450;, score=(train=0.817, test=1.000) total time=   8.2s\n",
      "[CV 3/5] END bootstrap=False, max_depth=10, max_features=None, min_samples_leaf=1, min_samples_split=10, n_estimators=4450;, score=(train=1.000, test=0.500) total time=   9.0s\n"
     ]
    },
    {
     "name": "stderr",
     "output_type": "stream",
     "text": [
      "/Users/sezaiufukoral/anaconda3/lib/python3.11/site-packages/sklearn/metrics/_classification.py:2466: UserWarning: y_pred contains classes not in y_true\n",
      "  warnings.warn(\"y_pred contains classes not in y_true\")\n"
     ]
    },
    {
     "name": "stdout",
     "output_type": "stream",
     "text": [
      "[CV 5/5] END bootstrap=False, max_depth=9, max_features=log2, min_samples_leaf=1, min_samples_split=2, n_estimators=2250;, score=(train=1.000, test=0.750) total time=   2.7s\n",
      "[CV 4/5] END bootstrap=False, max_depth=10, max_features=None, min_samples_leaf=1, min_samples_split=10, n_estimators=4450;, score=(train=1.000, test=0.833) total time=   9.3s\n",
      "[CV 2/5] END bootstrap=False, max_depth=10, max_features=None, min_samples_leaf=1, min_samples_split=10, n_estimators=4450;, score=(train=1.000, test=0.333) total time=   9.7s\n",
      "[CV 1/5] END bootstrap=True, max_depth=17, max_features=None, min_samples_leaf=10, min_samples_split=10, n_estimators=2250;, score=(train=0.500, test=0.500) total time=   3.6s\n",
      "[CV 2/5] END bootstrap=True, max_depth=17, max_features=None, min_samples_leaf=10, min_samples_split=10, n_estimators=2250;, score=(train=0.500, test=0.500) total time=   3.5s\n",
      "[CV 3/5] END bootstrap=True, max_depth=17, max_features=None, min_samples_leaf=10, min_samples_split=10, n_estimators=2250;, score=(train=0.500, test=0.500) total time=   3.6s\n",
      "[CV 4/5] END bootstrap=True, max_depth=17, max_features=None, min_samples_leaf=10, min_samples_split=10, n_estimators=2250;, score=(train=0.500, test=0.500) total time=   3.6s\n"
     ]
    },
    {
     "name": "stderr",
     "output_type": "stream",
     "text": [
      "/Users/sezaiufukoral/anaconda3/lib/python3.11/site-packages/sklearn/metrics/_classification.py:2466: UserWarning: y_pred contains classes not in y_true\n",
      "  warnings.warn(\"y_pred contains classes not in y_true\")\n"
     ]
    },
    {
     "name": "stdout",
     "output_type": "stream",
     "text": [
      "[CV 5/5] END bootstrap=True, max_depth=17, max_features=None, min_samples_leaf=10, min_samples_split=10, n_estimators=2250;, score=(train=0.500, test=0.000) total time=   3.7s\n",
      "[CV 1/5] END bootstrap=False, max_depth=19, max_features=sqrt, min_samples_leaf=1, min_samples_split=2, n_estimators=3350;, score=(train=1.000, test=0.500) total time=   4.2s\n",
      "[CV 2/5] END bootstrap=False, max_depth=19, max_features=sqrt, min_samples_leaf=1, min_samples_split=2, n_estimators=3350;, score=(train=1.000, test=0.667) total time=   4.1s\n",
      "[CV 3/5] END bootstrap=False, max_depth=19, max_features=sqrt, min_samples_leaf=1, min_samples_split=2, n_estimators=3350;, score=(train=1.000, test=0.500) total time=   4.6s\n",
      "[CV 1/5] END bootstrap=True, max_depth=18, max_features=log2, min_samples_leaf=10, min_samples_split=10, n_estimators=50;, score=(train=0.500, test=0.500) total time=   0.1s\n",
      "[CV 2/5] END bootstrap=True, max_depth=18, max_features=log2, min_samples_leaf=10, min_samples_split=10, n_estimators=50;, score=(train=0.500, test=0.500) total time=   0.1s\n",
      "[CV 3/5] END bootstrap=True, max_depth=18, max_features=log2, min_samples_leaf=10, min_samples_split=10, n_estimators=50;, score=(train=0.500, test=0.500) total time=   0.1s\n",
      "[CV 4/5] END bootstrap=True, max_depth=18, max_features=log2, min_samples_leaf=10, min_samples_split=10, n_estimators=50;, score=(train=0.500, test=0.500) total time=   0.1s\n",
      "[CV 5/5] END bootstrap=True, max_depth=18, max_features=log2, min_samples_leaf=10, min_samples_split=10, n_estimators=50;, score=(train=0.500, test=0.000) total time=   0.1s\n"
     ]
    },
    {
     "name": "stderr",
     "output_type": "stream",
     "text": [
      "/Users/sezaiufukoral/anaconda3/lib/python3.11/site-packages/sklearn/metrics/_classification.py:2466: UserWarning: y_pred contains classes not in y_true\n",
      "  warnings.warn(\"y_pred contains classes not in y_true\")\n"
     ]
    },
    {
     "name": "stdout",
     "output_type": "stream",
     "text": [
      "[CV 4/5] END bootstrap=False, max_depth=19, max_features=sqrt, min_samples_leaf=1, min_samples_split=2, n_estimators=3350;, score=(train=1.000, test=0.833) total time=   4.6s\n"
     ]
    },
    {
     "name": "stderr",
     "output_type": "stream",
     "text": [
      "/Users/sezaiufukoral/anaconda3/lib/python3.11/site-packages/sklearn/metrics/_classification.py:2466: UserWarning: y_pred contains classes not in y_true\n",
      "  warnings.warn(\"y_pred contains classes not in y_true\")\n"
     ]
    },
    {
     "name": "stdout",
     "output_type": "stream",
     "text": [
      "[CV 5/5] END bootstrap=False, max_depth=19, max_features=sqrt, min_samples_leaf=1, min_samples_split=2, n_estimators=3350;, score=(train=1.000, test=0.750) total time=   4.4s\n",
      "[CV 1/5] END bootstrap=True, max_depth=15, max_features=sqrt, min_samples_leaf=10, min_samples_split=10, n_estimators=600;, score=(train=0.500, test=0.500) total time=   1.0s\n",
      "[CV 1/5] END bootstrap=True, max_depth=19, max_features=log2, min_samples_leaf=1, min_samples_split=2, n_estimators=1700;, score=(train=1.000, test=0.500) total time=   3.7s\n",
      "[CV 2/5] END bootstrap=True, max_depth=19, max_features=log2, min_samples_leaf=1, min_samples_split=2, n_estimators=1700;, score=(train=1.000, test=0.833) total time=   3.8s\n",
      "[CV 2/5] END bootstrap=True, max_depth=15, max_features=sqrt, min_samples_leaf=10, min_samples_split=10, n_estimators=600;, score=(train=0.500, test=0.500) total time=   1.0s\n",
      "[CV 1/5] END bootstrap=False, max_depth=15, max_features=sqrt, min_samples_leaf=1, min_samples_split=2, n_estimators=50;, score=(train=1.000, test=0.750) total time=   0.1s\n",
      "[CV 3/5] END bootstrap=True, max_depth=19, max_features=log2, min_samples_leaf=1, min_samples_split=2, n_estimators=1700;, score=(train=1.000, test=0.500) total time=   3.4s\n",
      "[CV 2/5] END bootstrap=False, max_depth=15, max_features=sqrt, min_samples_leaf=1, min_samples_split=2, n_estimators=50;, score=(train=1.000, test=0.667) total time=   0.1s\n",
      "[CV 3/5] END bootstrap=False, max_depth=15, max_features=sqrt, min_samples_leaf=1, min_samples_split=2, n_estimators=50;, score=(train=1.000, test=0.333) total time=   0.1s\n",
      "[CV 4/5] END bootstrap=False, max_depth=15, max_features=sqrt, min_samples_leaf=1, min_samples_split=2, n_estimators=50;, score=(train=1.000, test=0.833) total time=   0.1s\n",
      "[CV 5/5] END bootstrap=False, max_depth=15, max_features=sqrt, min_samples_leaf=1, min_samples_split=2, n_estimators=50;, score=(train=1.000, test=1.000) total time=   0.1s\n"
     ]
    },
    {
     "name": "stderr",
     "output_type": "stream",
     "text": [
      "/Users/sezaiufukoral/anaconda3/lib/python3.11/site-packages/sklearn/metrics/_classification.py:395: UserWarning: A single label was found in 'y_true' and 'y_pred'. For the confusion matrix to have the correct shape, use the 'labels' parameter to pass all known labels.\n",
      "  warnings.warn(\n"
     ]
    },
    {
     "name": "stdout",
     "output_type": "stream",
     "text": [
      "[CV 3/5] END bootstrap=True, max_depth=15, max_features=sqrt, min_samples_leaf=10, min_samples_split=10, n_estimators=600;, score=(train=0.500, test=0.500) total time=   1.0s\n",
      "[CV 4/5] END bootstrap=True, max_depth=19, max_features=log2, min_samples_leaf=1, min_samples_split=2, n_estimators=1700;, score=(train=1.000, test=0.667) total time=   3.3s\n",
      "[CV 4/5] END bootstrap=True, max_depth=15, max_features=sqrt, min_samples_leaf=10, min_samples_split=10, n_estimators=600;, score=(train=0.500, test=0.500) total time=   0.9s\n",
      "[CV 5/5] END bootstrap=True, max_depth=15, max_features=sqrt, min_samples_leaf=10, min_samples_split=10, n_estimators=600;, score=(train=0.500, test=0.000) total time=   0.9s\n"
     ]
    },
    {
     "name": "stderr",
     "output_type": "stream",
     "text": [
      "/Users/sezaiufukoral/anaconda3/lib/python3.11/site-packages/sklearn/metrics/_classification.py:2466: UserWarning: y_pred contains classes not in y_true\n",
      "  warnings.warn(\"y_pred contains classes not in y_true\")\n",
      "/Users/sezaiufukoral/anaconda3/lib/python3.11/site-packages/sklearn/metrics/_classification.py:395: UserWarning: A single label was found in 'y_true' and 'y_pred'. For the confusion matrix to have the correct shape, use the 'labels' parameter to pass all known labels.\n",
      "  warnings.warn(\n"
     ]
    },
    {
     "name": "stdout",
     "output_type": "stream",
     "text": [
      "[CV 5/5] END bootstrap=True, max_depth=19, max_features=log2, min_samples_leaf=1, min_samples_split=2, n_estimators=1700;, score=(train=1.000, test=1.000) total time=   3.1s\n",
      "[CV 1/5] END bootstrap=True, max_depth=13, max_features=log2, min_samples_leaf=10, min_samples_split=10, n_estimators=600;, score=(train=0.500, test=0.500) total time=   1.0s\n",
      "[CV 2/5] END bootstrap=True, max_depth=13, max_features=log2, min_samples_leaf=10, min_samples_split=10, n_estimators=600;, score=(train=0.500, test=0.500) total time=   0.9s\n",
      "[CV 3/5] END bootstrap=True, max_depth=13, max_features=log2, min_samples_leaf=10, min_samples_split=10, n_estimators=600;, score=(train=0.500, test=0.500) total time=   1.1s\n",
      "[CV 1/5] END bootstrap=True, max_depth=5, max_features=log2, min_samples_leaf=10, min_samples_split=2, n_estimators=50;, score=(train=0.500, test=0.500) total time=   0.1s\n",
      "[CV 2/5] END bootstrap=True, max_depth=5, max_features=log2, min_samples_leaf=10, min_samples_split=2, n_estimators=50;, score=(train=0.500, test=0.500) total time=   0.1s\n",
      "[CV 3/5] END bootstrap=True, max_depth=5, max_features=log2, min_samples_leaf=10, min_samples_split=2, n_estimators=50;, score=(train=0.500, test=0.500) total time=   0.1s\n",
      "[CV 4/5] END bootstrap=True, max_depth=5, max_features=log2, min_samples_leaf=10, min_samples_split=2, n_estimators=50;, score=(train=0.500, test=0.500) total time=   0.1s\n"
     ]
    },
    {
     "name": "stderr",
     "output_type": "stream",
     "text": [
      "/Users/sezaiufukoral/anaconda3/lib/python3.11/site-packages/sklearn/metrics/_classification.py:2466: UserWarning: y_pred contains classes not in y_true\n",
      "  warnings.warn(\"y_pred contains classes not in y_true\")\n",
      "/Users/sezaiufukoral/anaconda3/lib/python3.11/site-packages/sklearn/metrics/_classification.py:2466: UserWarning: y_pred contains classes not in y_true\n",
      "  warnings.warn(\"y_pred contains classes not in y_true\")\n"
     ]
    },
    {
     "name": "stdout",
     "output_type": "stream",
     "text": [
      "[CV 5/5] END bootstrap=True, max_depth=5, max_features=log2, min_samples_leaf=10, min_samples_split=2, n_estimators=50;, score=(train=0.500, test=0.000) total time=   0.1s\n",
      "[CV 4/5] END bootstrap=True, max_depth=13, max_features=log2, min_samples_leaf=10, min_samples_split=10, n_estimators=600;, score=(train=0.500, test=0.500) total time=   1.0s\n",
      "[CV 5/5] END bootstrap=True, max_depth=13, max_features=log2, min_samples_leaf=10, min_samples_split=10, n_estimators=600;, score=(train=0.500, test=0.000) total time=   1.0s\n",
      "[CV 2/5] END bootstrap=False, max_depth=18, max_features=sqrt, min_samples_leaf=1, min_samples_split=10, n_estimators=2250;, score=(train=1.000, test=1.000) total time=   2.7s\n",
      "[CV 1/5] END bootstrap=False, max_depth=18, max_features=sqrt, min_samples_leaf=1, min_samples_split=10, n_estimators=2250;, score=(train=1.000, test=0.500) total time=   2.9s\n",
      "[CV 3/5] END bootstrap=False, max_depth=18, max_features=sqrt, min_samples_leaf=1, min_samples_split=10, n_estimators=2250;, score=(train=1.000, test=0.500) total time=   2.9s\n",
      "[CV 4/5] END bootstrap=False, max_depth=18, max_features=sqrt, min_samples_leaf=1, min_samples_split=10, n_estimators=2250;, score=(train=1.000, test=0.833) total time=   2.6s\n"
     ]
    },
    {
     "name": "stderr",
     "output_type": "stream",
     "text": [
      "/Users/sezaiufukoral/anaconda3/lib/python3.11/site-packages/sklearn/metrics/_classification.py:2466: UserWarning: y_pred contains classes not in y_true\n",
      "  warnings.warn(\"y_pred contains classes not in y_true\")\n"
     ]
    },
    {
     "name": "stdout",
     "output_type": "stream",
     "text": [
      "[CV 5/5] END bootstrap=False, max_depth=18, max_features=sqrt, min_samples_leaf=1, min_samples_split=10, n_estimators=2250;, score=(train=1.000, test=0.750) total time=   2.8s\n",
      "[CV 1/5] END bootstrap=False, max_depth=14, max_features=None, min_samples_leaf=1, min_samples_split=2, n_estimators=600;, score=(train=1.000, test=0.750) total time=   1.1s\n",
      "[CV 2/5] END bootstrap=False, max_depth=14, max_features=None, min_samples_leaf=1, min_samples_split=2, n_estimators=600;, score=(train=1.000, test=0.333) total time=   1.2s\n",
      "[CV 3/5] END bootstrap=False, max_depth=14, max_features=None, min_samples_leaf=1, min_samples_split=2, n_estimators=600;, score=(train=1.000, test=0.500) total time=   1.2s\n",
      "[CV 4/5] END bootstrap=False, max_depth=14, max_features=None, min_samples_leaf=1, min_samples_split=2, n_estimators=600;, score=(train=1.000, test=0.833) total time=   1.3s\n"
     ]
    },
    {
     "name": "stderr",
     "output_type": "stream",
     "text": [
      "/Users/sezaiufukoral/anaconda3/lib/python3.11/site-packages/sklearn/metrics/_classification.py:2466: UserWarning: y_pred contains classes not in y_true\n",
      "  warnings.warn(\"y_pred contains classes not in y_true\")\n"
     ]
    },
    {
     "name": "stdout",
     "output_type": "stream",
     "text": [
      "[CV 5/5] END bootstrap=False, max_depth=14, max_features=None, min_samples_leaf=1, min_samples_split=2, n_estimators=600;, score=(train=1.000, test=0.750) total time=   1.3s\n",
      "[CV 1/5] END bootstrap=False, max_depth=19, max_features=None, min_samples_leaf=1, min_samples_split=2, n_estimators=2250;, score=(train=1.000, test=0.750) total time=   4.4s\n",
      "[CV 2/5] END bootstrap=False, max_depth=19, max_features=None, min_samples_leaf=1, min_samples_split=2, n_estimators=2250;, score=(train=1.000, test=0.333) total time=   4.5s\n",
      "[CV 3/5] END bootstrap=False, max_depth=19, max_features=None, min_samples_leaf=1, min_samples_split=2, n_estimators=2250;, score=(train=1.000, test=0.500) total time=   4.5s\n",
      "[CV 4/5] END bootstrap=False, max_depth=19, max_features=None, min_samples_leaf=1, min_samples_split=2, n_estimators=2250;, score=(train=1.000, test=0.833) total time=   4.6s\n"
     ]
    },
    {
     "name": "stderr",
     "output_type": "stream",
     "text": [
      "/Users/sezaiufukoral/anaconda3/lib/python3.11/site-packages/sklearn/metrics/_classification.py:2466: UserWarning: y_pred contains classes not in y_true\n",
      "  warnings.warn(\"y_pred contains classes not in y_true\")\n"
     ]
    },
    {
     "name": "stdout",
     "output_type": "stream",
     "text": [
      "[CV 5/5] END bootstrap=False, max_depth=19, max_features=None, min_samples_leaf=1, min_samples_split=2, n_estimators=2250;, score=(train=1.000, test=0.750) total time=   4.7s\n",
      "[CV 1/5] END bootstrap=True, max_depth=7, max_features=log2, min_samples_leaf=10, min_samples_split=2, n_estimators=3900;, score=(train=0.500, test=0.500) total time=   6.7s\n",
      "[CV 2/5] END bootstrap=True, max_depth=7, max_features=log2, min_samples_leaf=10, min_samples_split=2, n_estimators=3900;, score=(train=0.500, test=0.500) total time=   6.8s\n",
      "[CV 3/5] END bootstrap=True, max_depth=7, max_features=log2, min_samples_leaf=10, min_samples_split=2, n_estimators=3900;, score=(train=0.500, test=0.500) total time=   6.9s\n",
      "[CV 1/5] END bootstrap=False, max_depth=14, max_features=log2, min_samples_leaf=10, min_samples_split=10, n_estimators=4450;, score=(train=0.500, test=0.500) total time=   5.3s\n",
      "[CV 3/5] END bootstrap=False, max_depth=14, max_features=log2, min_samples_leaf=10, min_samples_split=10, n_estimators=4450;, score=(train=0.500, test=0.500) total time=   4.9s\n",
      "[CV 2/5] END bootstrap=False, max_depth=14, max_features=log2, min_samples_leaf=10, min_samples_split=10, n_estimators=4450;, score=(train=0.500, test=0.500) total time=   5.2s\n"
     ]
    },
    {
     "name": "stderr",
     "output_type": "stream",
     "text": [
      "/Users/sezaiufukoral/anaconda3/lib/python3.11/site-packages/sklearn/metrics/_classification.py:2466: UserWarning: y_pred contains classes not in y_true\n",
      "  warnings.warn(\"y_pred contains classes not in y_true\")\n"
     ]
    },
    {
     "name": "stdout",
     "output_type": "stream",
     "text": [
      "[CV 5/5] END bootstrap=True, max_depth=7, max_features=log2, min_samples_leaf=10, min_samples_split=2, n_estimators=3900;, score=(train=0.500, test=0.000) total time=   6.5s\n",
      "[CV 4/5] END bootstrap=True, max_depth=7, max_features=log2, min_samples_leaf=10, min_samples_split=2, n_estimators=3900;, score=(train=0.500, test=0.500) total time=   6.9s\n",
      "[CV 4/5] END bootstrap=False, max_depth=14, max_features=log2, min_samples_leaf=10, min_samples_split=10, n_estimators=4450;, score=(train=0.500, test=0.500) total time=   4.8s\n",
      "[CV 1/5] END bootstrap=True, max_depth=16, max_features=None, min_samples_leaf=1, min_samples_split=10, n_estimators=2250;, score=(train=0.900, test=0.750) total time=   4.4s\n"
     ]
    },
    {
     "name": "stderr",
     "output_type": "stream",
     "text": [
      "/Users/sezaiufukoral/anaconda3/lib/python3.11/site-packages/sklearn/metrics/_classification.py:2466: UserWarning: y_pred contains classes not in y_true\n",
      "  warnings.warn(\"y_pred contains classes not in y_true\")\n"
     ]
    },
    {
     "name": "stdout",
     "output_type": "stream",
     "text": [
      "[CV 5/5] END bootstrap=False, max_depth=14, max_features=log2, min_samples_leaf=10, min_samples_split=10, n_estimators=4450;, score=(train=0.500, test=0.000) total time=   5.4s\n",
      "[CV 1/5] END bootstrap=True, max_depth=17, max_features=sqrt, min_samples_leaf=10, min_samples_split=10, n_estimators=1150;, score=(train=0.500, test=0.500) total time=   2.0s\n",
      "[CV 2/5] END bootstrap=True, max_depth=17, max_features=sqrt, min_samples_leaf=10, min_samples_split=10, n_estimators=1150;, score=(train=0.500, test=0.500) total time=   2.0s\n",
      "[CV 3/5] END bootstrap=True, max_depth=17, max_features=sqrt, min_samples_leaf=10, min_samples_split=10, n_estimators=1150;, score=(train=0.500, test=0.500) total time=   1.9s\n",
      "[CV 2/5] END bootstrap=True, max_depth=16, max_features=None, min_samples_leaf=1, min_samples_split=10, n_estimators=2250;, score=(train=1.000, test=0.333) total time=   4.7s\n",
      "[CV 3/5] END bootstrap=True, max_depth=16, max_features=None, min_samples_leaf=1, min_samples_split=10, n_estimators=2250;, score=(train=0.900, test=0.500) total time=   4.7s\n",
      "[CV 4/5] END bootstrap=True, max_depth=16, max_features=None, min_samples_leaf=1, min_samples_split=10, n_estimators=2250;, score=(train=0.917, test=0.833) total time=   4.7s\n",
      "[CV 4/5] END bootstrap=True, max_depth=17, max_features=sqrt, min_samples_leaf=10, min_samples_split=10, n_estimators=1150;, score=(train=0.500, test=0.500) total time=   1.9s\n"
     ]
    },
    {
     "name": "stderr",
     "output_type": "stream",
     "text": [
      "/Users/sezaiufukoral/anaconda3/lib/python3.11/site-packages/sklearn/metrics/_classification.py:2466: UserWarning: y_pred contains classes not in y_true\n",
      "  warnings.warn(\"y_pred contains classes not in y_true\")\n"
     ]
    },
    {
     "name": "stdout",
     "output_type": "stream",
     "text": [
      "[CV 5/5] END bootstrap=True, max_depth=17, max_features=sqrt, min_samples_leaf=10, min_samples_split=10, n_estimators=1150;, score=(train=0.500, test=0.000) total time=   1.9s\n"
     ]
    },
    {
     "name": "stderr",
     "output_type": "stream",
     "text": [
      "/Users/sezaiufukoral/anaconda3/lib/python3.11/site-packages/sklearn/metrics/_classification.py:395: UserWarning: A single label was found in 'y_true' and 'y_pred'. For the confusion matrix to have the correct shape, use the 'labels' parameter to pass all known labels.\n",
      "  warnings.warn(\n"
     ]
    },
    {
     "name": "stdout",
     "output_type": "stream",
     "text": [
      "[CV 5/5] END bootstrap=True, max_depth=16, max_features=None, min_samples_leaf=1, min_samples_split=10, n_estimators=2250;, score=(train=0.929, test=1.000) total time=   4.6s\n",
      "[CV 1/5] END bootstrap=False, max_depth=11, max_features=log2, min_samples_leaf=10, min_samples_split=2, n_estimators=2250;, score=(train=0.500, test=0.500) total time=   2.6s\n",
      "[CV 2/5] END bootstrap=False, max_depth=11, max_features=log2, min_samples_leaf=10, min_samples_split=2, n_estimators=2250;, score=(train=0.500, test=0.500) total time=   2.6s\n",
      "[CV 3/5] END bootstrap=False, max_depth=11, max_features=log2, min_samples_leaf=10, min_samples_split=2, n_estimators=2250;, score=(train=0.500, test=0.500) total time=   2.5s\n",
      "[CV 4/5] END bootstrap=False, max_depth=11, max_features=log2, min_samples_leaf=10, min_samples_split=2, n_estimators=2250;, score=(train=0.500, test=0.500) total time=   2.7s\n",
      "[CV 5/5] END bootstrap=False, max_depth=11, max_features=log2, min_samples_leaf=10, min_samples_split=2, n_estimators=2250;, score=(train=0.500, test=0.000) total time=   2.6s\n"
     ]
    },
    {
     "name": "stderr",
     "output_type": "stream",
     "text": [
      "/Users/sezaiufukoral/anaconda3/lib/python3.11/site-packages/sklearn/metrics/_classification.py:2466: UserWarning: y_pred contains classes not in y_true\n",
      "  warnings.warn(\"y_pred contains classes not in y_true\")\n"
     ]
    },
    {
     "name": "stdout",
     "output_type": "stream",
     "text": [
      "[CV 1/5] END bootstrap=False, max_depth=17, max_features=log2, min_samples_leaf=1, min_samples_split=10, n_estimators=2250;, score=(train=1.000, test=0.500) total time=   2.7s\n",
      "[CV 3/5] END bootstrap=False, max_depth=17, max_features=log2, min_samples_leaf=1, min_samples_split=10, n_estimators=2250;, score=(train=1.000, test=0.500) total time=   2.7s\n",
      "[CV 2/5] END bootstrap=False, max_depth=17, max_features=log2, min_samples_leaf=1, min_samples_split=10, n_estimators=2250;, score=(train=1.000, test=0.833) total time=   3.1s\n",
      "[CV 4/5] END bootstrap=False, max_depth=17, max_features=log2, min_samples_leaf=1, min_samples_split=10, n_estimators=2250;, score=(train=1.000, test=0.667) total time=   2.8s\n",
      "[CV 1/5] END bootstrap=True, max_depth=10, max_features=None, min_samples_leaf=1, min_samples_split=2, n_estimators=5000;, score=(train=1.000, test=0.750) total time=  12.0s\n",
      "[CV 2/5] END bootstrap=True, max_depth=10, max_features=None, min_samples_leaf=1, min_samples_split=2, n_estimators=5000;, score=(train=1.000, test=0.333) total time=  12.0s\n"
     ]
    },
    {
     "name": "stderr",
     "output_type": "stream",
     "text": [
      "/Users/sezaiufukoral/anaconda3/lib/python3.11/site-packages/sklearn/metrics/_classification.py:2466: UserWarning: y_pred contains classes not in y_true\n",
      "  warnings.warn(\"y_pred contains classes not in y_true\")\n",
      "/Users/sezaiufukoral/anaconda3/lib/python3.11/site-packages/sklearn/metrics/_classification.py:395: UserWarning: A single label was found in 'y_true' and 'y_pred'. For the confusion matrix to have the correct shape, use the 'labels' parameter to pass all known labels.\n",
      "  warnings.warn(\n"
     ]
    },
    {
     "name": "stdout",
     "output_type": "stream",
     "text": [
      "[CV 5/5] END bootstrap=False, max_depth=17, max_features=log2, min_samples_leaf=1, min_samples_split=10, n_estimators=2250;, score=(train=1.000, test=0.750) total time=   3.1s\n",
      "[CV 3/5] END bootstrap=True, max_depth=10, max_features=None, min_samples_leaf=1, min_samples_split=2, n_estimators=5000;, score=(train=1.000, test=0.500) total time=  11.9s\n",
      "[CV 1/5] END bootstrap=True, max_depth=4, max_features=log2, min_samples_leaf=1, min_samples_split=10, n_estimators=1700;, score=(train=0.500, test=0.500) total time=   3.3s\n",
      "[CV 5/5] END bootstrap=True, max_depth=10, max_features=None, min_samples_leaf=1, min_samples_split=2, n_estimators=5000;, score=(train=1.000, test=1.000) total time=  12.0s\n",
      "[CV 2/5] END bootstrap=True, max_depth=4, max_features=log2, min_samples_leaf=1, min_samples_split=10, n_estimators=1700;, score=(train=0.786, test=0.500) total time=   3.3s\n",
      "[CV 4/5] END bootstrap=True, max_depth=10, max_features=None, min_samples_leaf=1, min_samples_split=2, n_estimators=5000;, score=(train=1.000, test=0.833) total time=  12.5s\n",
      "[CV 1/5] END bootstrap=False, max_depth=7, max_features=sqrt, min_samples_leaf=10, min_samples_split=10, n_estimators=1700;, score=(train=0.500, test=0.500) total time=   2.0s\n",
      "[CV 2/5] END bootstrap=False, max_depth=7, max_features=sqrt, min_samples_leaf=10, min_samples_split=10, n_estimators=1700;, score=(train=0.500, test=0.500) total time=   1.9s\n",
      "[CV 3/5] END bootstrap=False, max_depth=7, max_features=sqrt, min_samples_leaf=10, min_samples_split=10, n_estimators=1700;, score=(train=0.500, test=0.500) total time=   2.1s\n",
      "[CV 4/5] END bootstrap=False, max_depth=7, max_features=sqrt, min_samples_leaf=10, min_samples_split=10, n_estimators=1700;, score=(train=0.500, test=0.500) total time=   2.0s\n",
      "[CV 4/5] END bootstrap=True, max_depth=4, max_features=log2, min_samples_leaf=1, min_samples_split=10, n_estimators=1700;, score=(train=0.500, test=0.500) total time=   3.1s\n"
     ]
    },
    {
     "name": "stderr",
     "output_type": "stream",
     "text": [
      "/Users/sezaiufukoral/anaconda3/lib/python3.11/site-packages/sklearn/metrics/_classification.py:2466: UserWarning: y_pred contains classes not in y_true\n",
      "  warnings.warn(\"y_pred contains classes not in y_true\")\n"
     ]
    },
    {
     "name": "stdout",
     "output_type": "stream",
     "text": [
      "[CV 5/5] END bootstrap=False, max_depth=7, max_features=sqrt, min_samples_leaf=10, min_samples_split=10, n_estimators=1700;, score=(train=0.500, test=0.000) total time=   2.2s\n",
      "[CV 1/5] END bootstrap=False, max_depth=10, max_features=sqrt, min_samples_leaf=1, min_samples_split=10, n_estimators=50;, score=(train=1.000, test=0.500) total time=   0.1s\n",
      "[CV 2/5] END bootstrap=False, max_depth=10, max_features=sqrt, min_samples_leaf=1, min_samples_split=10, n_estimators=50;, score=(train=1.000, test=0.500) total time=   0.1s\n"
     ]
    },
    {
     "name": "stderr",
     "output_type": "stream",
     "text": [
      "/Users/sezaiufukoral/anaconda3/lib/python3.11/site-packages/sklearn/metrics/_classification.py:2466: UserWarning: y_pred contains classes not in y_true\n",
      "  warnings.warn(\"y_pred contains classes not in y_true\")\n"
     ]
    },
    {
     "name": "stdout",
     "output_type": "stream",
     "text": [
      "[CV 5/5] END bootstrap=True, max_depth=4, max_features=log2, min_samples_leaf=1, min_samples_split=10, n_estimators=1700;, score=(train=0.571, test=0.000) total time=   3.2s\n",
      "[CV 3/5] END bootstrap=False, max_depth=10, max_features=sqrt, min_samples_leaf=1, min_samples_split=10, n_estimators=50;, score=(train=1.000, test=0.500) total time=   0.1s\n",
      "[CV 3/5] END bootstrap=True, max_depth=4, max_features=log2, min_samples_leaf=1, min_samples_split=10, n_estimators=1700;, score=(train=0.500, test=0.500) total time=   3.7s\n",
      "[CV 4/5] END bootstrap=False, max_depth=10, max_features=sqrt, min_samples_leaf=1, min_samples_split=10, n_estimators=50;, score=(train=1.000, test=0.667) total time=   0.1s\n",
      "[CV 5/5] END bootstrap=False, max_depth=10, max_features=sqrt, min_samples_leaf=1, min_samples_split=10, n_estimators=50;, score=(train=1.000, test=0.750) total time=   0.1s\n"
     ]
    },
    {
     "name": "stderr",
     "output_type": "stream",
     "text": [
      "/Users/sezaiufukoral/anaconda3/lib/python3.11/site-packages/sklearn/metrics/_classification.py:2466: UserWarning: y_pred contains classes not in y_true\n",
      "  warnings.warn(\"y_pred contains classes not in y_true\")\n"
     ]
    },
    {
     "name": "stdout",
     "output_type": "stream",
     "text": [
      "[CV 2/5] END bootstrap=True, max_depth=2, max_features=None, min_samples_leaf=1, min_samples_split=10, n_estimators=1150;, score=(train=0.929, test=0.333) total time=   2.2s\n",
      "[CV 1/5] END bootstrap=True, max_depth=2, max_features=None, min_samples_leaf=1, min_samples_split=10, n_estimators=1150;, score=(train=0.900, test=0.750) total time=   2.6s\n",
      "[CV 3/5] END bootstrap=True, max_depth=2, max_features=None, min_samples_leaf=1, min_samples_split=10, n_estimators=1150;, score=(train=0.900, test=0.500) total time=   2.6s\n",
      "[CV 1/5] END bootstrap=True, max_depth=16, max_features=sqrt, min_samples_leaf=1, min_samples_split=10, n_estimators=2250;, score=(train=0.500, test=0.500) total time=   3.9s\n",
      "[CV 1/5] END bootstrap=True, max_depth=20, max_features=None, min_samples_leaf=1, min_samples_split=2, n_estimators=50;, score=(train=1.000, test=0.750) total time=   0.1s\n",
      "[CV 2/5] END bootstrap=True, max_depth=20, max_features=None, min_samples_leaf=1, min_samples_split=2, n_estimators=50;, score=(train=1.000, test=0.833) total time=   0.1s\n",
      "[CV 3/5] END bootstrap=True, max_depth=20, max_features=None, min_samples_leaf=1, min_samples_split=2, n_estimators=50;, score=(train=1.000, test=0.500) total time=   0.2s\n",
      "[CV 2/5] END bootstrap=True, max_depth=16, max_features=sqrt, min_samples_leaf=1, min_samples_split=10, n_estimators=2250;, score=(train=0.786, test=0.500) total time=   4.1s\n",
      "[CV 4/5] END bootstrap=True, max_depth=20, max_features=None, min_samples_leaf=1, min_samples_split=2, n_estimators=50;, score=(train=1.000, test=0.833) total time=   0.1s\n",
      "[CV 3/5] END bootstrap=True, max_depth=16, max_features=sqrt, min_samples_leaf=1, min_samples_split=10, n_estimators=2250;, score=(train=0.500, test=0.500) total time=   4.1s\n",
      "[CV 5/5] END bootstrap=True, max_depth=20, max_features=None, min_samples_leaf=1, min_samples_split=2, n_estimators=50;, score=(train=1.000, test=1.000) total time=   0.2s\n",
      "[CV 4/5] END bootstrap=True, max_depth=16, max_features=sqrt, min_samples_leaf=1, min_samples_split=10, n_estimators=2250;, score=(train=0.500, test=0.500) total time=   3.9s\n"
     ]
    },
    {
     "name": "stderr",
     "output_type": "stream",
     "text": [
      "/Users/sezaiufukoral/anaconda3/lib/python3.11/site-packages/sklearn/metrics/_classification.py:395: UserWarning: A single label was found in 'y_true' and 'y_pred'. For the confusion matrix to have the correct shape, use the 'labels' parameter to pass all known labels.\n",
      "  warnings.warn(\n",
      "/Users/sezaiufukoral/anaconda3/lib/python3.11/site-packages/sklearn/metrics/_classification.py:2466: UserWarning: y_pred contains classes not in y_true\n",
      "  warnings.warn(\"y_pred contains classes not in y_true\")\n"
     ]
    },
    {
     "name": "stdout",
     "output_type": "stream",
     "text": [
      "[CV 5/5] END bootstrap=True, max_depth=16, max_features=sqrt, min_samples_leaf=1, min_samples_split=10, n_estimators=2250;, score=(train=0.786, test=0.000) total time=   4.5s\n",
      "[CV 4/5] END bootstrap=True, max_depth=2, max_features=None, min_samples_leaf=1, min_samples_split=10, n_estimators=1150;, score=(train=0.917, test=0.833) total time=   2.7s\n"
     ]
    },
    {
     "name": "stderr",
     "output_type": "stream",
     "text": [
      "/Users/sezaiufukoral/anaconda3/lib/python3.11/site-packages/sklearn/metrics/_classification.py:395: UserWarning: A single label was found in 'y_true' and 'y_pred'. For the confusion matrix to have the correct shape, use the 'labels' parameter to pass all known labels.\n",
      "  warnings.warn(\n"
     ]
    },
    {
     "name": "stdout",
     "output_type": "stream",
     "text": [
      "[CV 5/5] END bootstrap=True, max_depth=2, max_features=None, min_samples_leaf=1, min_samples_split=10, n_estimators=1150;, score=(train=0.929, test=1.000) total time=   2.8s\n"
     ]
    },
    {
     "name": "stderr",
     "output_type": "stream",
     "text": [
      "/Users/sezaiufukoral/anaconda3/lib/python3.11/site-packages/sklearn/metrics/_classification.py:2466: UserWarning: y_pred contains classes not in y_true\n",
      "  warnings.warn(\"y_pred contains classes not in y_true\")\n"
     ]
    },
    {
     "name": "stdout",
     "output_type": "stream",
     "text": [
      "[CV 4/5] END bootstrap=False, max_depth=11, max_features=sqrt, min_samples_leaf=10, min_samples_split=10, n_estimators=2250;, score=(train=0.500, test=0.500) total time=   3.4s\n",
      "[CV 1/5] END bootstrap=False, max_depth=11, max_features=sqrt, min_samples_leaf=10, min_samples_split=10, n_estimators=2250;, score=(train=0.500, test=0.500) total time=   3.5s\n",
      "[CV 5/5] END bootstrap=False, max_depth=11, max_features=sqrt, min_samples_leaf=10, min_samples_split=10, n_estimators=2250;, score=(train=0.500, test=0.000) total time=   3.4s\n",
      "[CV 3/5] END bootstrap=False, max_depth=11, max_features=sqrt, min_samples_leaf=10, min_samples_split=10, n_estimators=2250;, score=(train=0.500, test=0.500) total time=   3.5s\n",
      "[CV 2/5] END bootstrap=False, max_depth=11, max_features=sqrt, min_samples_leaf=10, min_samples_split=10, n_estimators=2250;, score=(train=0.500, test=0.500) total time=   3.6s\n",
      "[CV 1/5] END bootstrap=False, max_depth=18, max_features=log2, min_samples_leaf=10, min_samples_split=10, n_estimators=2800;, score=(train=0.500, test=0.500) total time=   3.4s\n",
      "[CV 2/5] END bootstrap=False, max_depth=18, max_features=log2, min_samples_leaf=10, min_samples_split=10, n_estimators=2800;, score=(train=0.500, test=0.500) total time=   3.5s\n",
      "[CV 3/5] END bootstrap=False, max_depth=18, max_features=log2, min_samples_leaf=10, min_samples_split=10, n_estimators=2800;, score=(train=0.500, test=0.500) total time=   3.5s\n",
      "[CV 4/5] END bootstrap=False, max_depth=18, max_features=log2, min_samples_leaf=10, min_samples_split=10, n_estimators=2800;, score=(train=0.500, test=0.500) total time=   3.1s\n"
     ]
    },
    {
     "name": "stderr",
     "output_type": "stream",
     "text": [
      "/Users/sezaiufukoral/anaconda3/lib/python3.11/site-packages/sklearn/metrics/_classification.py:2466: UserWarning: y_pred contains classes not in y_true\n",
      "  warnings.warn(\"y_pred contains classes not in y_true\")\n"
     ]
    },
    {
     "name": "stdout",
     "output_type": "stream",
     "text": [
      "[CV 5/5] END bootstrap=False, max_depth=18, max_features=log2, min_samples_leaf=10, min_samples_split=10, n_estimators=2800;, score=(train=0.500, test=0.000) total time=   3.3s\n",
      "[CV 1/5] END bootstrap=False, max_depth=10, max_features=None, min_samples_leaf=1, min_samples_split=10, n_estimators=5000;, score=(train=1.000, test=0.750) total time=  10.5s\n",
      "[CV 1/5] END bootstrap=False, max_depth=4, max_features=log2, min_samples_leaf=1, min_samples_split=10, n_estimators=3900;, score=(train=1.000, test=0.500) total time=   4.9s\n"
     ]
    },
    {
     "name": "stderr",
     "output_type": "stream",
     "text": [
      "/Users/sezaiufukoral/anaconda3/lib/python3.11/site-packages/sklearn/metrics/_classification.py:395: UserWarning: A single label was found in 'y_true' and 'y_pred'. For the confusion matrix to have the correct shape, use the 'labels' parameter to pass all known labels.\n",
      "  warnings.warn(\n"
     ]
    },
    {
     "name": "stdout",
     "output_type": "stream",
     "text": [
      "[CV 2/5] END bootstrap=False, max_depth=10, max_features=None, min_samples_leaf=1, min_samples_split=10, n_estimators=5000;, score=(train=1.000, test=0.333) total time=  10.7s\n",
      "[CV 5/5] END bootstrap=False, max_depth=10, max_features=None, min_samples_leaf=1, min_samples_split=10, n_estimators=5000;, score=(train=0.817, test=1.000) total time=   9.1s\n",
      "[CV 3/5] END bootstrap=False, max_depth=10, max_features=None, min_samples_leaf=1, min_samples_split=10, n_estimators=5000;, score=(train=1.000, test=0.500) total time=  10.6s\n",
      "[CV 4/5] END bootstrap=False, max_depth=10, max_features=None, min_samples_leaf=1, min_samples_split=10, n_estimators=5000;, score=(train=1.000, test=0.833) total time=  10.0s\n",
      "[CV 2/5] END bootstrap=False, max_depth=4, max_features=log2, min_samples_leaf=1, min_samples_split=10, n_estimators=3900;, score=(train=1.000, test=1.000) total time=   4.5s\n",
      "[CV 3/5] END bootstrap=False, max_depth=4, max_features=log2, min_samples_leaf=1, min_samples_split=10, n_estimators=3900;, score=(train=0.900, test=0.500) total time=   4.4s\n",
      "[CV 1/5] END bootstrap=False, max_depth=10, max_features=log2, min_samples_leaf=1, min_samples_split=10, n_estimators=50;, score=(train=1.000, test=0.500) total time=   0.1s\n",
      "[CV 2/5] END bootstrap=False, max_depth=10, max_features=log2, min_samples_leaf=1, min_samples_split=10, n_estimators=50;, score=(train=1.000, test=1.000) total time=   0.1s\n",
      "[CV 3/5] END bootstrap=False, max_depth=10, max_features=log2, min_samples_leaf=1, min_samples_split=10, n_estimators=50;, score=(train=0.800, test=0.333) total time=   0.1s\n",
      "[CV 4/5] END bootstrap=False, max_depth=10, max_features=log2, min_samples_leaf=1, min_samples_split=10, n_estimators=50;, score=(train=1.000, test=0.667) total time=   0.1s\n",
      "[CV 1/5] END bootstrap=False, max_depth=13, max_features=None, min_samples_leaf=10, min_samples_split=10, n_estimators=2250;, score=(train=0.500, test=0.500) total time=   2.6s\n",
      "[CV 5/5] END bootstrap=False, max_depth=10, max_features=log2, min_samples_leaf=1, min_samples_split=10, n_estimators=50;, score=(train=1.000, test=0.750) total time=   0.1s\n"
     ]
    },
    {
     "name": "stderr",
     "output_type": "stream",
     "text": [
      "/Users/sezaiufukoral/anaconda3/lib/python3.11/site-packages/sklearn/metrics/_classification.py:2466: UserWarning: y_pred contains classes not in y_true\n",
      "  warnings.warn(\"y_pred contains classes not in y_true\")\n"
     ]
    },
    {
     "name": "stdout",
     "output_type": "stream",
     "text": [
      "[CV 2/5] END bootstrap=False, max_depth=13, max_features=None, min_samples_leaf=10, min_samples_split=10, n_estimators=2250;, score=(train=0.500, test=0.500) total time=   2.7s\n",
      "[CV 3/5] END bootstrap=False, max_depth=13, max_features=None, min_samples_leaf=10, min_samples_split=10, n_estimators=2250;, score=(train=0.500, test=0.500) total time=   2.7s\n",
      "[CV 4/5] END bootstrap=False, max_depth=4, max_features=log2, min_samples_leaf=1, min_samples_split=10, n_estimators=3900;, score=(train=0.917, test=0.500) total time=   4.8s\n",
      "[CV 4/5] END bootstrap=False, max_depth=13, max_features=None, min_samples_leaf=10, min_samples_split=10, n_estimators=2250;, score=(train=0.500, test=0.500) total time=   2.7s\n",
      "[CV 2/5] END bootstrap=False, max_depth=10, max_features=None, min_samples_leaf=10, min_samples_split=2, n_estimators=1150;, score=(train=0.500, test=0.500) total time=   1.4s\n",
      "[CV 1/5] END bootstrap=False, max_depth=10, max_features=None, min_samples_leaf=10, min_samples_split=2, n_estimators=1150;, score=(train=0.500, test=0.500) total time=   1.4s\n",
      "[CV 3/5] END bootstrap=False, max_depth=10, max_features=None, min_samples_leaf=10, min_samples_split=2, n_estimators=1150;, score=(train=0.500, test=0.500) total time=   1.3s\n",
      "[CV 4/5] END bootstrap=False, max_depth=10, max_features=None, min_samples_leaf=10, min_samples_split=2, n_estimators=1150;, score=(train=0.500, test=0.500) total time=   1.3s\n"
     ]
    },
    {
     "name": "stderr",
     "output_type": "stream",
     "text": [
      "/Users/sezaiufukoral/anaconda3/lib/python3.11/site-packages/sklearn/metrics/_classification.py:2466: UserWarning: y_pred contains classes not in y_true\n",
      "  warnings.warn(\"y_pred contains classes not in y_true\")\n",
      "/Users/sezaiufukoral/anaconda3/lib/python3.11/site-packages/sklearn/metrics/_classification.py:2466: UserWarning: y_pred contains classes not in y_true\n",
      "  warnings.warn(\"y_pred contains classes not in y_true\")\n"
     ]
    },
    {
     "name": "stdout",
     "output_type": "stream",
     "text": [
      "[CV 5/5] END bootstrap=False, max_depth=4, max_features=log2, min_samples_leaf=1, min_samples_split=10, n_estimators=3900;, score=(train=1.000, test=0.750) total time=   5.0s\n",
      "[CV 5/5] END bootstrap=False, max_depth=10, max_features=None, min_samples_leaf=10, min_samples_split=2, n_estimators=1150;, score=(train=0.500, test=0.000) total time=   1.2s\n"
     ]
    },
    {
     "name": "stderr",
     "output_type": "stream",
     "text": [
      "/Users/sezaiufukoral/anaconda3/lib/python3.11/site-packages/sklearn/metrics/_classification.py:2466: UserWarning: y_pred contains classes not in y_true\n",
      "  warnings.warn(\"y_pred contains classes not in y_true\")\n"
     ]
    },
    {
     "name": "stdout",
     "output_type": "stream",
     "text": [
      "[CV 5/5] END bootstrap=False, max_depth=13, max_features=None, min_samples_leaf=10, min_samples_split=10, n_estimators=2250;, score=(train=0.500, test=0.000) total time=   2.7s\n",
      "[CV 1/5] END bootstrap=True, max_depth=7, max_features=None, min_samples_leaf=10, min_samples_split=10, n_estimators=1150;, score=(train=0.500, test=0.500) total time=   2.0s\n",
      "[CV 1/5] END bootstrap=True, max_depth=14, max_features=log2, min_samples_leaf=10, min_samples_split=2, n_estimators=600;, score=(train=0.500, test=0.500) total time=   1.0s\n",
      "[CV 2/5] END bootstrap=True, max_depth=14, max_features=log2, min_samples_leaf=10, min_samples_split=2, n_estimators=600;, score=(train=0.500, test=0.500) total time=   1.0s\n",
      "[CV 3/5] END bootstrap=True, max_depth=7, max_features=None, min_samples_leaf=10, min_samples_split=10, n_estimators=1150;, score=(train=0.500, test=0.500) total time=   1.9s\n",
      "[CV 3/5] END bootstrap=True, max_depth=14, max_features=log2, min_samples_leaf=10, min_samples_split=2, n_estimators=600;, score=(train=0.500, test=0.500) total time=   1.0s\n",
      "[CV 4/5] END bootstrap=True, max_depth=7, max_features=None, min_samples_leaf=10, min_samples_split=10, n_estimators=1150;, score=(train=0.500, test=0.500) total time=   1.8s\n",
      "[CV 2/5] END bootstrap=True, max_depth=7, max_features=None, min_samples_leaf=10, min_samples_split=10, n_estimators=1150;, score=(train=0.500, test=0.500) total time=   2.0s\n",
      "[CV 5/5] END bootstrap=True, max_depth=7, max_features=None, min_samples_leaf=10, min_samples_split=10, n_estimators=1150;, score=(train=0.500, test=0.000) total time=   1.9s\n"
     ]
    },
    {
     "name": "stderr",
     "output_type": "stream",
     "text": [
      "/Users/sezaiufukoral/anaconda3/lib/python3.11/site-packages/sklearn/metrics/_classification.py:2466: UserWarning: y_pred contains classes not in y_true\n",
      "  warnings.warn(\"y_pred contains classes not in y_true\")\n",
      "/Users/sezaiufukoral/anaconda3/lib/python3.11/site-packages/sklearn/metrics/_classification.py:2466: UserWarning: y_pred contains classes not in y_true\n",
      "  warnings.warn(\"y_pred contains classes not in y_true\")\n"
     ]
    },
    {
     "name": "stdout",
     "output_type": "stream",
     "text": [
      "[CV 5/5] END bootstrap=True, max_depth=14, max_features=log2, min_samples_leaf=10, min_samples_split=2, n_estimators=600;, score=(train=0.500, test=0.000) total time=   0.9s\n",
      "[CV 4/5] END bootstrap=True, max_depth=14, max_features=log2, min_samples_leaf=10, min_samples_split=2, n_estimators=600;, score=(train=0.500, test=0.500) total time=   1.0s\n",
      "[CV 1/5] END bootstrap=False, max_depth=11, max_features=sqrt, min_samples_leaf=10, min_samples_split=2, n_estimators=2800;, score=(train=0.500, test=0.500) total time=   3.1s\n",
      "[CV 3/5] END bootstrap=False, max_depth=11, max_features=sqrt, min_samples_leaf=10, min_samples_split=2, n_estimators=2800;, score=(train=0.500, test=0.500) total time=   3.1s\n",
      "[CV 2/5] END bootstrap=False, max_depth=11, max_features=sqrt, min_samples_leaf=10, min_samples_split=2, n_estimators=2800;, score=(train=0.500, test=0.500) total time=   3.5s\n",
      "[CV 1/5] END bootstrap=False, max_depth=17, max_features=log2, min_samples_leaf=1, min_samples_split=2, n_estimators=5000;, score=(train=1.000, test=0.500) total time=   6.0s\n",
      "[CV 4/5] END bootstrap=False, max_depth=17, max_features=log2, min_samples_leaf=1, min_samples_split=2, n_estimators=5000;, score=(train=1.000, test=0.667) total time=   6.2s\n",
      "[CV 3/5] END bootstrap=False, max_depth=17, max_features=log2, min_samples_leaf=1, min_samples_split=2, n_estimators=5000;, score=(train=1.000, test=0.500) total time=   6.3s\n",
      "[CV 2/5] END bootstrap=False, max_depth=17, max_features=log2, min_samples_leaf=1, min_samples_split=2, n_estimators=5000;, score=(train=1.000, test=0.667) total time=   6.4s\n"
     ]
    },
    {
     "name": "stderr",
     "output_type": "stream",
     "text": [
      "/Users/sezaiufukoral/anaconda3/lib/python3.11/site-packages/sklearn/metrics/_classification.py:395: UserWarning: A single label was found in 'y_true' and 'y_pred'. For the confusion matrix to have the correct shape, use the 'labels' parameter to pass all known labels.\n",
      "  warnings.warn(\n"
     ]
    },
    {
     "name": "stdout",
     "output_type": "stream",
     "text": [
      "[CV 5/5] END bootstrap=False, max_depth=17, max_features=log2, min_samples_leaf=1, min_samples_split=2, n_estimators=5000;, score=(train=1.000, test=1.000) total time=   6.5s\n",
      "[CV 4/5] END bootstrap=False, max_depth=11, max_features=sqrt, min_samples_leaf=10, min_samples_split=2, n_estimators=2800;, score=(train=0.500, test=0.500) total time=   3.4s\n"
     ]
    },
    {
     "name": "stderr",
     "output_type": "stream",
     "text": [
      "/Users/sezaiufukoral/anaconda3/lib/python3.11/site-packages/sklearn/metrics/_classification.py:2466: UserWarning: y_pred contains classes not in y_true\n",
      "  warnings.warn(\"y_pred contains classes not in y_true\")\n"
     ]
    },
    {
     "name": "stdout",
     "output_type": "stream",
     "text": [
      "[CV 5/5] END bootstrap=False, max_depth=11, max_features=sqrt, min_samples_leaf=10, min_samples_split=2, n_estimators=2800;, score=(train=0.500, test=0.000) total time=   3.1s\n",
      "[CV 1/5] END bootstrap=True, max_depth=10, max_features=log2, min_samples_leaf=10, min_samples_split=10, n_estimators=3350;, score=(train=0.500, test=0.500) total time=   5.6s\n",
      "[CV 1/5] END bootstrap=True, max_depth=12, max_features=log2, min_samples_leaf=1, min_samples_split=10, n_estimators=2250;, score=(train=0.500, test=0.500) total time=   3.7s\n",
      "[CV 3/5] END bootstrap=True, max_depth=12, max_features=log2, min_samples_leaf=1, min_samples_split=10, n_estimators=2250;, score=(train=0.500, test=0.500) total time=   3.6s\n",
      "[CV 2/5] END bootstrap=True, max_depth=12, max_features=log2, min_samples_leaf=1, min_samples_split=10, n_estimators=2250;, score=(train=0.714, test=0.500) total time=   4.0s\n",
      "[CV 2/5] END bootstrap=True, max_depth=10, max_features=log2, min_samples_leaf=10, min_samples_split=10, n_estimators=3350;, score=(train=0.500, test=0.500) total time=   5.4s\n",
      "[CV 4/5] END bootstrap=True, max_depth=10, max_features=log2, min_samples_leaf=10, min_samples_split=10, n_estimators=3350;, score=(train=0.500, test=0.500) total time=   5.5s\n",
      "[CV 3/5] END bootstrap=True, max_depth=10, max_features=log2, min_samples_leaf=10, min_samples_split=10, n_estimators=3350;, score=(train=0.500, test=0.500) total time=   5.5s\n"
     ]
    },
    {
     "name": "stderr",
     "output_type": "stream",
     "text": [
      "/Users/sezaiufukoral/anaconda3/lib/python3.11/site-packages/sklearn/metrics/_classification.py:2466: UserWarning: y_pred contains classes not in y_true\n",
      "  warnings.warn(\"y_pred contains classes not in y_true\")\n"
     ]
    },
    {
     "name": "stdout",
     "output_type": "stream",
     "text": [
      "[CV 5/5] END bootstrap=True, max_depth=10, max_features=log2, min_samples_leaf=10, min_samples_split=10, n_estimators=3350;, score=(train=0.500, test=0.000) total time=   5.6s\n",
      "[CV 1/5] END bootstrap=False, max_depth=19, max_features=log2, min_samples_leaf=1, min_samples_split=10, n_estimators=1700;, score=(train=1.000, test=0.500) total time=   2.0s\n",
      "[CV 2/5] END bootstrap=False, max_depth=19, max_features=log2, min_samples_leaf=1, min_samples_split=10, n_estimators=1700;, score=(train=1.000, test=0.833) total time=   2.0s\n",
      "[CV 3/5] END bootstrap=False, max_depth=19, max_features=log2, min_samples_leaf=1, min_samples_split=10, n_estimators=1700;, score=(train=1.000, test=0.500) total time=   2.1s\n",
      "[CV 4/5] END bootstrap=True, max_depth=12, max_features=log2, min_samples_leaf=1, min_samples_split=10, n_estimators=2250;, score=(train=0.500, test=0.500) total time=   3.8s\n",
      "[CV 4/5] END bootstrap=False, max_depth=19, max_features=log2, min_samples_leaf=1, min_samples_split=10, n_estimators=1700;, score=(train=1.000, test=0.667) total time=   1.9s\n"
     ]
    },
    {
     "name": "stderr",
     "output_type": "stream",
     "text": [
      "/Users/sezaiufukoral/anaconda3/lib/python3.11/site-packages/sklearn/metrics/_classification.py:2466: UserWarning: y_pred contains classes not in y_true\n",
      "  warnings.warn(\"y_pred contains classes not in y_true\")\n"
     ]
    },
    {
     "name": "stdout",
     "output_type": "stream",
     "text": [
      "[CV 1/5] END bootstrap=False, max_depth=7, max_features=sqrt, min_samples_leaf=10, min_samples_split=2, n_estimators=50;, score=(train=0.500, test=0.500) total time=   0.1s\n",
      "[CV 5/5] END bootstrap=False, max_depth=19, max_features=log2, min_samples_leaf=1, min_samples_split=10, n_estimators=1700;, score=(train=1.000, test=0.750) total time=   2.0s\n",
      "[CV 2/5] END bootstrap=False, max_depth=7, max_features=sqrt, min_samples_leaf=10, min_samples_split=2, n_estimators=50;, score=(train=0.500, test=0.500) total time=   0.1s\n",
      "[CV 3/5] END bootstrap=False, max_depth=7, max_features=sqrt, min_samples_leaf=10, min_samples_split=2, n_estimators=50;, score=(train=0.500, test=0.500) total time=   0.1s\n",
      "[CV 4/5] END bootstrap=False, max_depth=7, max_features=sqrt, min_samples_leaf=10, min_samples_split=2, n_estimators=50;, score=(train=0.500, test=0.500) total time=   0.1s\n"
     ]
    },
    {
     "name": "stderr",
     "output_type": "stream",
     "text": [
      "/Users/sezaiufukoral/anaconda3/lib/python3.11/site-packages/sklearn/metrics/_classification.py:2466: UserWarning: y_pred contains classes not in y_true\n",
      "  warnings.warn(\"y_pred contains classes not in y_true\")\n",
      "/Users/sezaiufukoral/anaconda3/lib/python3.11/site-packages/sklearn/metrics/_classification.py:2466: UserWarning: y_pred contains classes not in y_true\n",
      "  warnings.warn(\"y_pred contains classes not in y_true\")\n"
     ]
    },
    {
     "name": "stdout",
     "output_type": "stream",
     "text": [
      "[CV 5/5] END bootstrap=False, max_depth=7, max_features=sqrt, min_samples_leaf=10, min_samples_split=2, n_estimators=50;, score=(train=0.500, test=0.000) total time=   0.1s\n",
      "[CV 5/5] END bootstrap=True, max_depth=12, max_features=log2, min_samples_leaf=1, min_samples_split=10, n_estimators=2250;, score=(train=0.786, test=0.000) total time=   4.0s\n",
      "[CV 1/5] END bootstrap=False, max_depth=8, max_features=sqrt, min_samples_leaf=10, min_samples_split=2, n_estimators=2250;, score=(train=0.500, test=0.500) total time=   2.5s\n",
      "[CV 2/5] END bootstrap=False, max_depth=8, max_features=sqrt, min_samples_leaf=10, min_samples_split=2, n_estimators=2250;, score=(train=0.500, test=0.500) total time=   2.5s\n",
      "[CV 3/5] END bootstrap=False, max_depth=8, max_features=sqrt, min_samples_leaf=10, min_samples_split=2, n_estimators=2250;, score=(train=0.500, test=0.500) total time=   2.7s\n",
      "[CV 1/5] END bootstrap=True, max_depth=6, max_features=None, min_samples_leaf=10, min_samples_split=10, n_estimators=3900;, score=(train=0.500, test=0.500) total time=   6.2s\n"
     ]
    },
    {
     "name": "stderr",
     "output_type": "stream",
     "text": [
      "/Users/sezaiufukoral/anaconda3/lib/python3.11/site-packages/sklearn/metrics/_classification.py:2466: UserWarning: y_pred contains classes not in y_true\n",
      "  warnings.warn(\"y_pred contains classes not in y_true\")\n"
     ]
    },
    {
     "name": "stdout",
     "output_type": "stream",
     "text": [
      "[CV 3/5] END bootstrap=True, max_depth=6, max_features=None, min_samples_leaf=10, min_samples_split=10, n_estimators=3900;, score=(train=0.500, test=0.500) total time=   6.2s\n",
      "[CV 5/5] END bootstrap=False, max_depth=8, max_features=sqrt, min_samples_leaf=10, min_samples_split=2, n_estimators=2250;, score=(train=0.500, test=0.000) total time=   2.4s\n",
      "[CV 4/5] END bootstrap=False, max_depth=8, max_features=sqrt, min_samples_leaf=10, min_samples_split=2, n_estimators=2250;, score=(train=0.500, test=0.500) total time=   2.5s\n",
      "[CV 2/5] END bootstrap=True, max_depth=6, max_features=None, min_samples_leaf=10, min_samples_split=10, n_estimators=3900;, score=(train=0.500, test=0.500) total time=   6.7s\n"
     ]
    },
    {
     "name": "stderr",
     "output_type": "stream",
     "text": [
      "/Users/sezaiufukoral/anaconda3/lib/python3.11/site-packages/sklearn/metrics/_classification.py:2466: UserWarning: y_pred contains classes not in y_true\n",
      "  warnings.warn(\"y_pred contains classes not in y_true\")\n"
     ]
    },
    {
     "name": "stdout",
     "output_type": "stream",
     "text": [
      "[CV 4/5] END bootstrap=True, max_depth=6, max_features=None, min_samples_leaf=10, min_samples_split=10, n_estimators=3900;, score=(train=0.500, test=0.500) total time=   6.6s\n",
      "[CV 5/5] END bootstrap=True, max_depth=6, max_features=None, min_samples_leaf=10, min_samples_split=10, n_estimators=3900;, score=(train=0.500, test=0.000) total time=   6.3s\n",
      "[CV 1/5] END bootstrap=True, max_depth=8, max_features=None, min_samples_leaf=10, min_samples_split=2, n_estimators=2250;, score=(train=0.500, test=0.500) total time=   3.8s\n",
      "[CV 2/5] END bootstrap=True, max_depth=8, max_features=None, min_samples_leaf=10, min_samples_split=2, n_estimators=2250;, score=(train=0.500, test=0.500) total time=   3.5s\n",
      "[CV 1/5] END bootstrap=False, max_depth=6, max_features=sqrt, min_samples_leaf=10, min_samples_split=10, n_estimators=2250;, score=(train=0.500, test=0.500) total time=   2.4s\n",
      "[CV 2/5] END bootstrap=False, max_depth=6, max_features=sqrt, min_samples_leaf=10, min_samples_split=10, n_estimators=2250;, score=(train=0.500, test=0.500) total time=   2.3s\n",
      "[CV 3/5] END bootstrap=False, max_depth=6, max_features=sqrt, min_samples_leaf=10, min_samples_split=10, n_estimators=2250;, score=(train=0.500, test=0.500) total time=   2.5s\n",
      "[CV 4/5] END bootstrap=True, max_depth=8, max_features=None, min_samples_leaf=10, min_samples_split=2, n_estimators=2250;, score=(train=0.500, test=0.500) total time=   3.6s\n",
      "[CV 3/5] END bootstrap=True, max_depth=8, max_features=None, min_samples_leaf=10, min_samples_split=2, n_estimators=2250;, score=(train=0.500, test=0.500) total time=   3.8s\n"
     ]
    },
    {
     "name": "stderr",
     "output_type": "stream",
     "text": [
      "/Users/sezaiufukoral/anaconda3/lib/python3.11/site-packages/sklearn/metrics/_classification.py:2466: UserWarning: y_pred contains classes not in y_true\n",
      "  warnings.warn(\"y_pred contains classes not in y_true\")\n"
     ]
    },
    {
     "name": "stdout",
     "output_type": "stream",
     "text": [
      "[CV 5/5] END bootstrap=True, max_depth=8, max_features=None, min_samples_leaf=10, min_samples_split=2, n_estimators=2250;, score=(train=0.500, test=0.000) total time=   3.8s\n",
      "[CV 4/5] END bootstrap=False, max_depth=6, max_features=sqrt, min_samples_leaf=10, min_samples_split=10, n_estimators=2250;, score=(train=0.500, test=0.500) total time=   2.6s\n"
     ]
    },
    {
     "name": "stderr",
     "output_type": "stream",
     "text": [
      "/Users/sezaiufukoral/anaconda3/lib/python3.11/site-packages/sklearn/metrics/_classification.py:2466: UserWarning: y_pred contains classes not in y_true\n",
      "  warnings.warn(\"y_pred contains classes not in y_true\")\n"
     ]
    },
    {
     "name": "stdout",
     "output_type": "stream",
     "text": [
      "[CV 1/5] END bootstrap=True, max_depth=18, max_features=sqrt, min_samples_leaf=1, min_samples_split=10, n_estimators=600;, score=(train=0.500, test=0.500) total time=   1.1s\n",
      "[CV 5/5] END bootstrap=False, max_depth=6, max_features=sqrt, min_samples_leaf=10, min_samples_split=10, n_estimators=2250;, score=(train=0.500, test=0.000) total time=   2.5s\n",
      "[CV 2/5] END bootstrap=True, max_depth=18, max_features=sqrt, min_samples_leaf=1, min_samples_split=10, n_estimators=600;, score=(train=0.786, test=0.500) total time=   1.0s\n",
      "[CV 3/5] END bootstrap=True, max_depth=18, max_features=sqrt, min_samples_leaf=1, min_samples_split=10, n_estimators=600;, score=(train=0.500, test=0.500) total time=   1.0s\n",
      "[CV 4/5] END bootstrap=True, max_depth=18, max_features=sqrt, min_samples_leaf=1, min_samples_split=10, n_estimators=600;, score=(train=0.500, test=0.500) total time=   1.0s\n"
     ]
    },
    {
     "name": "stderr",
     "output_type": "stream",
     "text": [
      "/Users/sezaiufukoral/anaconda3/lib/python3.11/site-packages/sklearn/metrics/_classification.py:2466: UserWarning: y_pred contains classes not in y_true\n",
      "  warnings.warn(\"y_pred contains classes not in y_true\")\n"
     ]
    },
    {
     "name": "stdout",
     "output_type": "stream",
     "text": [
      "[CV 5/5] END bootstrap=True, max_depth=18, max_features=sqrt, min_samples_leaf=1, min_samples_split=10, n_estimators=600;, score=(train=0.786, test=0.000) total time=   1.1s\n",
      "[CV 1/5] END bootstrap=False, max_depth=18, max_features=log2, min_samples_leaf=1, min_samples_split=10, n_estimators=5000;, score=(train=1.000, test=0.500) total time=   6.2s\n",
      "[CV 2/5] END bootstrap=False, max_depth=18, max_features=log2, min_samples_leaf=1, min_samples_split=10, n_estimators=5000;, score=(train=1.000, test=0.833) total time=   6.1s\n",
      "[CV 3/5] END bootstrap=False, max_depth=18, max_features=log2, min_samples_leaf=1, min_samples_split=10, n_estimators=5000;, score=(train=1.000, test=0.500) total time=   6.0s\n"
     ]
    },
    {
     "name": "stderr",
     "output_type": "stream",
     "text": [
      "/Users/sezaiufukoral/anaconda3/lib/python3.11/site-packages/sklearn/metrics/_classification.py:2466: UserWarning: y_pred contains classes not in y_true\n",
      "  warnings.warn(\"y_pred contains classes not in y_true\")\n"
     ]
    },
    {
     "name": "stdout",
     "output_type": "stream",
     "text": [
      "[CV 4/5] END bootstrap=False, max_depth=18, max_features=log2, min_samples_leaf=1, min_samples_split=10, n_estimators=5000;, score=(train=1.000, test=0.667) total time=   6.1s\n",
      "[CV 5/5] END bootstrap=False, max_depth=18, max_features=log2, min_samples_leaf=1, min_samples_split=10, n_estimators=5000;, score=(train=1.000, test=0.750) total time=   6.0s\n",
      "[CV 1/5] END bootstrap=False, max_depth=10, max_features=sqrt, min_samples_leaf=1, min_samples_split=2, n_estimators=2800;, score=(train=1.000, test=0.500) total time=   3.4s\n",
      "[CV 3/5] END bootstrap=False, max_depth=10, max_features=sqrt, min_samples_leaf=1, min_samples_split=2, n_estimators=2800;, score=(train=1.000, test=0.500) total time=   3.3s\n",
      "[CV 2/5] END bootstrap=False, max_depth=10, max_features=sqrt, min_samples_leaf=1, min_samples_split=2, n_estimators=2800;, score=(train=1.000, test=0.667) total time=   3.6s\n",
      "[CV 1/5] END bootstrap=True, max_depth=15, max_features=None, min_samples_leaf=1, min_samples_split=10, n_estimators=4450;, score=(train=0.900, test=0.750) total time=   9.0s\n",
      "[CV 2/5] END bootstrap=True, max_depth=15, max_features=None, min_samples_leaf=1, min_samples_split=10, n_estimators=4450;, score=(train=1.000, test=0.333) total time=   9.1s\n",
      "[CV 1/5] END bootstrap=False, max_depth=13, max_features=None, min_samples_leaf=1, min_samples_split=10, n_estimators=1150;, score=(train=1.000, test=0.750) total time=   2.0s\n",
      "[CV 3/5] END bootstrap=True, max_depth=15, max_features=None, min_samples_leaf=1, min_samples_split=10, n_estimators=4450;, score=(train=0.900, test=0.500) total time=   9.4s\n",
      "[CV 4/5] END bootstrap=False, max_depth=10, max_features=sqrt, min_samples_leaf=1, min_samples_split=2, n_estimators=2800;, score=(train=1.000, test=0.833) total time=   3.6s\n"
     ]
    },
    {
     "name": "stderr",
     "output_type": "stream",
     "text": [
      "/Users/sezaiufukoral/anaconda3/lib/python3.11/site-packages/sklearn/metrics/_classification.py:2466: UserWarning: y_pred contains classes not in y_true\n",
      "  warnings.warn(\"y_pred contains classes not in y_true\")\n"
     ]
    },
    {
     "name": "stdout",
     "output_type": "stream",
     "text": [
      "[CV 5/5] END bootstrap=False, max_depth=10, max_features=sqrt, min_samples_leaf=1, min_samples_split=2, n_estimators=2800;, score=(train=1.000, test=0.750) total time=   3.6s\n",
      "[CV 2/5] END bootstrap=False, max_depth=13, max_features=None, min_samples_leaf=1, min_samples_split=10, n_estimators=1150;, score=(train=1.000, test=0.333) total time=   2.2s\n",
      "[CV 3/5] END bootstrap=False, max_depth=13, max_features=None, min_samples_leaf=1, min_samples_split=10, n_estimators=1150;, score=(train=1.000, test=0.500) total time=   2.1s\n",
      "[CV 1/5] END bootstrap=True, max_depth=15, max_features=sqrt, min_samples_leaf=1, min_samples_split=10, n_estimators=600;, score=(train=0.500, test=0.500) total time=   1.0s\n"
     ]
    },
    {
     "name": "stderr",
     "output_type": "stream",
     "text": [
      "/Users/sezaiufukoral/anaconda3/lib/python3.11/site-packages/sklearn/metrics/_classification.py:395: UserWarning: A single label was found in 'y_true' and 'y_pred'. For the confusion matrix to have the correct shape, use the 'labels' parameter to pass all known labels.\n",
      "  warnings.warn(\n"
     ]
    },
    {
     "name": "stdout",
     "output_type": "stream",
     "text": [
      "[CV 4/5] END bootstrap=False, max_depth=13, max_features=None, min_samples_leaf=1, min_samples_split=10, n_estimators=1150;, score=(train=1.000, test=0.833) total time=   2.3s\n",
      "[CV 5/5] END bootstrap=False, max_depth=13, max_features=None, min_samples_leaf=1, min_samples_split=10, n_estimators=1150;, score=(train=0.817, test=1.000) total time=   2.0s\n",
      "[CV 4/5] END bootstrap=True, max_depth=15, max_features=None, min_samples_leaf=1, min_samples_split=10, n_estimators=4450;, score=(train=0.917, test=0.833) total time=   9.0s\n",
      "[CV 2/5] END bootstrap=True, max_depth=15, max_features=sqrt, min_samples_leaf=1, min_samples_split=10, n_estimators=600;, score=(train=0.786, test=0.500) total time=   1.0s\n",
      "[CV 3/5] END bootstrap=True, max_depth=15, max_features=sqrt, min_samples_leaf=1, min_samples_split=10, n_estimators=600;, score=(train=0.500, test=0.500) total time=   1.1s\n"
     ]
    },
    {
     "name": "stderr",
     "output_type": "stream",
     "text": [
      "/Users/sezaiufukoral/anaconda3/lib/python3.11/site-packages/sklearn/metrics/_classification.py:395: UserWarning: A single label was found in 'y_true' and 'y_pred'. For the confusion matrix to have the correct shape, use the 'labels' parameter to pass all known labels.\n",
      "  warnings.warn(\n",
      "/Users/sezaiufukoral/anaconda3/lib/python3.11/site-packages/sklearn/metrics/_classification.py:2466: UserWarning: y_pred contains classes not in y_true\n",
      "  warnings.warn(\"y_pred contains classes not in y_true\")\n"
     ]
    },
    {
     "name": "stdout",
     "output_type": "stream",
     "text": [
      "[CV 4/5] END bootstrap=True, max_depth=15, max_features=sqrt, min_samples_leaf=1, min_samples_split=10, n_estimators=600;, score=(train=0.500, test=0.500) total time=   1.0s\n",
      "[CV 5/5] END bootstrap=True, max_depth=15, max_features=sqrt, min_samples_leaf=1, min_samples_split=10, n_estimators=600;, score=(train=0.929, test=0.250) total time=   1.0s\n",
      "[CV 5/5] END bootstrap=True, max_depth=15, max_features=None, min_samples_leaf=1, min_samples_split=10, n_estimators=4450;, score=(train=0.929, test=1.000) total time=   9.2s\n",
      "[CV 2/5] END bootstrap=False, max_depth=5, max_features=sqrt, min_samples_leaf=10, min_samples_split=10, n_estimators=2800;, score=(train=0.500, test=0.500) total time=   3.2s\n",
      "[CV 3/5] END bootstrap=False, max_depth=5, max_features=sqrt, min_samples_leaf=10, min_samples_split=10, n_estimators=2800;, score=(train=0.500, test=0.500) total time=   3.3s\n",
      "[CV 1/5] END bootstrap=False, max_depth=5, max_features=sqrt, min_samples_leaf=10, min_samples_split=10, n_estimators=2800;, score=(train=0.500, test=0.500) total time=   3.4s\n"
     ]
    },
    {
     "name": "stderr",
     "output_type": "stream",
     "text": [
      "/Users/sezaiufukoral/anaconda3/lib/python3.11/site-packages/sklearn/metrics/_classification.py:2466: UserWarning: y_pred contains classes not in y_true\n",
      "  warnings.warn(\"y_pred contains classes not in y_true\")\n"
     ]
    },
    {
     "name": "stdout",
     "output_type": "stream",
     "text": [
      "[CV 5/5] END bootstrap=False, max_depth=5, max_features=sqrt, min_samples_leaf=10, min_samples_split=10, n_estimators=2800;, score=(train=0.500, test=0.000) total time=   3.1s\n",
      "[CV 4/5] END bootstrap=False, max_depth=5, max_features=sqrt, min_samples_leaf=10, min_samples_split=10, n_estimators=2800;, score=(train=0.500, test=0.500) total time=   3.2s\n",
      "[CV 1/5] END bootstrap=False, max_depth=7, max_features=None, min_samples_leaf=1, min_samples_split=10, n_estimators=4450;, score=(train=1.000, test=0.750) total time=   7.9s\n"
     ]
    },
    {
     "name": "stderr",
     "output_type": "stream",
     "text": [
      "/Users/sezaiufukoral/anaconda3/lib/python3.11/site-packages/sklearn/metrics/_classification.py:395: UserWarning: A single label was found in 'y_true' and 'y_pred'. For the confusion matrix to have the correct shape, use the 'labels' parameter to pass all known labels.\n",
      "  warnings.warn(\n"
     ]
    },
    {
     "name": "stdout",
     "output_type": "stream",
     "text": [
      "[CV 5/5] END bootstrap=False, max_depth=7, max_features=None, min_samples_leaf=1, min_samples_split=10, n_estimators=4450;, score=(train=0.817, test=1.000) total time=   7.9s\n",
      "[CV 2/5] END bootstrap=False, max_depth=7, max_features=None, min_samples_leaf=1, min_samples_split=10, n_estimators=4450;, score=(train=1.000, test=0.333) total time=   8.3s\n",
      "[CV 3/5] END bootstrap=False, max_depth=7, max_features=None, min_samples_leaf=1, min_samples_split=10, n_estimators=4450;, score=(train=1.000, test=0.500) total time=   8.7s\n",
      "[CV 4/5] END bootstrap=False, max_depth=7, max_features=None, min_samples_leaf=1, min_samples_split=10, n_estimators=4450;, score=(train=1.000, test=0.833) total time=   8.7s\n",
      "[CV 1/5] END bootstrap=True, max_depth=3, max_features=None, min_samples_leaf=10, min_samples_split=10, n_estimators=4450;, score=(train=0.500, test=0.500) total time=   7.8s\n",
      "[CV 2/5] END bootstrap=True, max_depth=3, max_features=None, min_samples_leaf=10, min_samples_split=10, n_estimators=4450;, score=(train=0.500, test=0.500) total time=   7.9s\n",
      "[CV 1/5] END bootstrap=True, max_depth=10, max_features=log2, min_samples_leaf=1, min_samples_split=10, n_estimators=3900;, score=(train=0.500, test=0.500) total time=   6.6s\n",
      "[CV 3/5] END bootstrap=True, max_depth=3, max_features=None, min_samples_leaf=10, min_samples_split=10, n_estimators=4450;, score=(train=0.500, test=0.500) total time=   7.9s\n",
      "[CV 2/5] END bootstrap=True, max_depth=10, max_features=log2, min_samples_leaf=1, min_samples_split=10, n_estimators=3900;, score=(train=0.786, test=0.500) total time=   6.6s\n",
      "[CV 3/5] END bootstrap=True, max_depth=10, max_features=log2, min_samples_leaf=1, min_samples_split=10, n_estimators=3900;, score=(train=0.500, test=0.500) total time=   6.5s\n",
      "[CV 4/5] END bootstrap=True, max_depth=3, max_features=None, min_samples_leaf=10, min_samples_split=10, n_estimators=4450;, score=(train=0.500, test=0.500) total time=   7.8s\n"
     ]
    },
    {
     "name": "stderr",
     "output_type": "stream",
     "text": [
      "/Users/sezaiufukoral/anaconda3/lib/python3.11/site-packages/sklearn/metrics/_classification.py:2466: UserWarning: y_pred contains classes not in y_true\n",
      "  warnings.warn(\"y_pred contains classes not in y_true\")\n"
     ]
    },
    {
     "name": "stdout",
     "output_type": "stream",
     "text": [
      "[CV 5/5] END bootstrap=True, max_depth=3, max_features=None, min_samples_leaf=10, min_samples_split=10, n_estimators=4450;, score=(train=0.500, test=0.000) total time=   7.5s\n",
      "[CV 4/5] END bootstrap=True, max_depth=10, max_features=log2, min_samples_leaf=1, min_samples_split=10, n_estimators=3900;, score=(train=0.500, test=0.500) total time=   5.9s\n",
      "[CV 1/5] END bootstrap=True, max_depth=14, max_features=None, min_samples_leaf=1, min_samples_split=2, n_estimators=2250;, score=(train=1.000, test=0.750) total time=   4.5s\n",
      "[CV 3/5] END bootstrap=True, max_depth=14, max_features=None, min_samples_leaf=1, min_samples_split=2, n_estimators=2250;, score=(train=1.000, test=0.500) total time=   4.6s\n",
      "[CV 2/5] END bootstrap=True, max_depth=14, max_features=None, min_samples_leaf=1, min_samples_split=2, n_estimators=2250;, score=(train=1.000, test=0.333) total time=   5.0s\n",
      "[CV 4/5] END bootstrap=True, max_depth=14, max_features=None, min_samples_leaf=1, min_samples_split=2, n_estimators=2250;, score=(train=1.000, test=0.833) total time=   4.8s\n"
     ]
    },
    {
     "name": "stderr",
     "output_type": "stream",
     "text": [
      "/Users/sezaiufukoral/anaconda3/lib/python3.11/site-packages/sklearn/metrics/_classification.py:395: UserWarning: A single label was found in 'y_true' and 'y_pred'. For the confusion matrix to have the correct shape, use the 'labels' parameter to pass all known labels.\n",
      "  warnings.warn(\n"
     ]
    },
    {
     "name": "stdout",
     "output_type": "stream",
     "text": [
      "[CV 5/5] END bootstrap=True, max_depth=14, max_features=None, min_samples_leaf=1, min_samples_split=2, n_estimators=2250;, score=(train=1.000, test=1.000) total time=   5.0s\n"
     ]
    },
    {
     "name": "stderr",
     "output_type": "stream",
     "text": [
      "/Users/sezaiufukoral/anaconda3/lib/python3.11/site-packages/sklearn/metrics/_classification.py:2466: UserWarning: y_pred contains classes not in y_true\n",
      "  warnings.warn(\"y_pred contains classes not in y_true\")\n"
     ]
    },
    {
     "name": "stdout",
     "output_type": "stream",
     "text": [
      "[CV 1/5] END bootstrap=True, max_depth=13, max_features=log2, min_samples_leaf=10, min_samples_split=2, n_estimators=3350;, score=(train=0.500, test=0.500) total time=   5.7s\n",
      "[CV 5/5] END bootstrap=True, max_depth=10, max_features=log2, min_samples_leaf=1, min_samples_split=10, n_estimators=3900;, score=(train=0.714, test=0.000) total time=   6.6s\n",
      "[CV 1/5] END bootstrap=False, max_depth=3, max_features=log2, min_samples_leaf=1, min_samples_split=10, n_estimators=1150;, score=(train=0.600, test=0.500) total time=   1.7s\n",
      "[CV 2/5] END bootstrap=False, max_depth=3, max_features=log2, min_samples_leaf=1, min_samples_split=10, n_estimators=1150;, score=(train=1.000, test=1.000) total time=   1.4s\n",
      "[CV 4/5] END bootstrap=False, max_depth=3, max_features=log2, min_samples_leaf=1, min_samples_split=10, n_estimators=1150;, score=(train=0.917, test=0.500) total time=   1.6s\n",
      "[CV 3/5] END bootstrap=False, max_depth=3, max_features=log2, min_samples_leaf=1, min_samples_split=10, n_estimators=1150;, score=(train=0.600, test=0.500) total time=   1.6s\n"
     ]
    },
    {
     "name": "stderr",
     "output_type": "stream",
     "text": [
      "/Users/sezaiufukoral/anaconda3/lib/python3.11/site-packages/sklearn/metrics/_classification.py:2466: UserWarning: y_pred contains classes not in y_true\n",
      "  warnings.warn(\"y_pred contains classes not in y_true\")\n"
     ]
    },
    {
     "name": "stdout",
     "output_type": "stream",
     "text": [
      "[CV 5/5] END bootstrap=False, max_depth=3, max_features=log2, min_samples_leaf=1, min_samples_split=10, n_estimators=1150;, score=(train=0.929, test=0.750) total time=   1.7s\n",
      "[CV 2/5] END bootstrap=True, max_depth=13, max_features=log2, min_samples_leaf=10, min_samples_split=2, n_estimators=3350;, score=(train=0.500, test=0.500) total time=   6.6s\n",
      "[CV 3/5] END bootstrap=True, max_depth=13, max_features=log2, min_samples_leaf=10, min_samples_split=2, n_estimators=3350;, score=(train=0.500, test=0.500) total time=   5.9s\n"
     ]
    },
    {
     "name": "stderr",
     "output_type": "stream",
     "text": [
      "/Users/sezaiufukoral/anaconda3/lib/python3.11/site-packages/sklearn/metrics/_classification.py:2466: UserWarning: y_pred contains classes not in y_true\n",
      "  warnings.warn(\"y_pred contains classes not in y_true\")\n"
     ]
    },
    {
     "name": "stdout",
     "output_type": "stream",
     "text": [
      "[CV 4/5] END bootstrap=True, max_depth=13, max_features=log2, min_samples_leaf=10, min_samples_split=2, n_estimators=3350;, score=(train=0.500, test=0.500) total time=   5.7s\n",
      "[CV 5/5] END bootstrap=True, max_depth=13, max_features=log2, min_samples_leaf=10, min_samples_split=2, n_estimators=3350;, score=(train=0.500, test=0.000) total time=   5.5s\n",
      "----------\n",
      "iter: 1\n",
      "n_candidates: 84\n",
      "n_resources: 60\n",
      "Fitting 5 folds for each of 84 candidates, totalling 420 fits\n",
      "[CV 1/5] END bootstrap=True, max_depth=5, max_features=sqrt, min_samples_leaf=1, min_samples_split=2, n_estimators=2250;, score=(train=1.000, test=0.722) total time=   3.8s\n",
      "[CV 2/5] END bootstrap=True, max_depth=5, max_features=sqrt, min_samples_leaf=1, min_samples_split=2, n_estimators=2250;, score=(train=0.917, test=0.500) total time=   3.8s\n",
      "[CV 3/5] END bootstrap=True, max_depth=5, max_features=sqrt, min_samples_leaf=1, min_samples_split=2, n_estimators=2250;, score=(train=1.000, test=0.557) total time=   3.9s\n",
      "[CV 2/5] END bootstrap=False, max_depth=18, max_features=log2, min_samples_leaf=1, min_samples_split=10, n_estimators=3900;, score=(train=1.000, test=0.500) total time=   4.6s\n",
      "[CV 3/5] END bootstrap=False, max_depth=18, max_features=log2, min_samples_leaf=1, min_samples_split=10, n_estimators=3900;, score=(train=1.000, test=0.586) total time=   4.7s\n",
      "[CV 1/5] END bootstrap=False, max_depth=18, max_features=log2, min_samples_leaf=1, min_samples_split=10, n_estimators=3900;, score=(train=1.000, test=0.722) total time=   4.9s\n",
      "[CV 5/5] END bootstrap=False, max_depth=18, max_features=log2, min_samples_leaf=1, min_samples_split=10, n_estimators=3900;, score=(train=1.000, test=0.667) total time=   5.0s\n",
      "[CV 4/5] END bootstrap=False, max_depth=18, max_features=log2, min_samples_leaf=1, min_samples_split=10, n_estimators=3900;, score=(train=1.000, test=0.757) total time=   5.0s\n",
      "[CV 1/5] END bootstrap=False, max_depth=3, max_features=log2, min_samples_leaf=1, min_samples_split=10, n_estimators=1150;, score=(train=0.977, test=0.500) total time=   1.5s\n",
      "[CV 2/5] END bootstrap=False, max_depth=3, max_features=log2, min_samples_leaf=1, min_samples_split=10, n_estimators=1150;, score=(train=0.500, test=0.500) total time=   1.2s\n",
      "[CV 3/5] END bootstrap=False, max_depth=3, max_features=log2, min_samples_leaf=1, min_samples_split=10, n_estimators=1150;, score=(train=0.932, test=0.600) total time=   1.1s\n",
      "[CV 5/5] END bootstrap=False, max_depth=3, max_features=log2, min_samples_leaf=1, min_samples_split=10, n_estimators=1150;, score=(train=0.978, test=0.750) total time=   1.1s\n",
      "[CV 4/5] END bootstrap=False, max_depth=3, max_features=log2, min_samples_leaf=1, min_samples_split=10, n_estimators=1150;, score=(train=0.955, test=0.500) total time=   1.2s\n",
      "[CV 1/5] END bootstrap=False, max_depth=11, max_features=log2, min_samples_leaf=1, min_samples_split=10, n_estimators=1150;, score=(train=1.000, test=0.722) total time=   1.4s\n",
      "[CV 2/5] END bootstrap=False, max_depth=11, max_features=log2, min_samples_leaf=1, min_samples_split=10, n_estimators=1150;, score=(train=0.972, test=0.500) total time=   1.4s\n",
      "[CV 3/5] END bootstrap=False, max_depth=11, max_features=log2, min_samples_leaf=1, min_samples_split=10, n_estimators=1150;, score=(train=1.000, test=0.457) total time=   1.2s\n",
      "[CV 4/5] END bootstrap=False, max_depth=11, max_features=log2, min_samples_leaf=1, min_samples_split=10, n_estimators=1150;, score=(train=1.000, test=0.757) total time=   1.3s\n",
      "[CV 5/5] END bootstrap=True, max_depth=5, max_features=sqrt, min_samples_leaf=1, min_samples_split=2, n_estimators=2250;, score=(train=1.000, test=0.833) total time=   3.6s\n",
      "[CV 5/5] END bootstrap=False, max_depth=11, max_features=log2, min_samples_leaf=1, min_samples_split=10, n_estimators=1150;, score=(train=1.000, test=0.833) total time=   1.3s\n",
      "[CV 4/5] END bootstrap=True, max_depth=5, max_features=sqrt, min_samples_leaf=1, min_samples_split=2, n_estimators=2250;, score=(train=1.000, test=0.757) total time=   3.7s\n",
      "[CV 1/5] END bootstrap=False, max_depth=8, max_features=log2, min_samples_leaf=1, min_samples_split=10, n_estimators=2800;, score=(train=1.000, test=0.556) total time=   3.0s\n",
      "[CV 3/5] END bootstrap=False, max_depth=8, max_features=log2, min_samples_leaf=1, min_samples_split=10, n_estimators=2800;, score=(train=1.000, test=0.457) total time=   3.1s\n",
      "[CV 2/5] END bootstrap=False, max_depth=8, max_features=log2, min_samples_leaf=1, min_samples_split=10, n_estimators=2800;, score=(train=0.972, test=0.500) total time=   3.2s\n",
      "[CV 2/5] END bootstrap=True, max_depth=4, max_features=sqrt, min_samples_leaf=1, min_samples_split=2, n_estimators=3350;, score=(train=0.806, test=0.500) total time=   5.1s\n",
      "[CV 1/5] END bootstrap=True, max_depth=4, max_features=sqrt, min_samples_leaf=1, min_samples_split=2, n_estimators=3350;, score=(train=1.000, test=0.722) total time=   5.5s\n",
      "[CV 1/5] END bootstrap=True, max_depth=18, max_features=log2, min_samples_leaf=1, min_samples_split=2, n_estimators=600;, score=(train=1.000, test=0.722) total time=   1.0s\n",
      "[CV 3/5] END bootstrap=True, max_depth=4, max_features=sqrt, min_samples_leaf=1, min_samples_split=2, n_estimators=3350;, score=(train=1.000, test=0.557) total time=   5.4s\n",
      "[CV 4/5] END bootstrap=True, max_depth=4, max_features=sqrt, min_samples_leaf=1, min_samples_split=2, n_estimators=3350;, score=(train=1.000, test=0.757) total time=   5.3s\n",
      "[CV 1/5] END bootstrap=False, max_depth=10, max_features=log2, min_samples_leaf=1, min_samples_split=10, n_estimators=50;, score=(train=1.000, test=0.833) total time=   0.1s\n",
      "[CV 3/5] END bootstrap=True, max_depth=18, max_features=log2, min_samples_leaf=1, min_samples_split=2, n_estimators=600;, score=(train=1.000, test=0.514) total time=   0.9s\n",
      "[CV 2/5] END bootstrap=False, max_depth=10, max_features=log2, min_samples_leaf=1, min_samples_split=10, n_estimators=50;, score=(train=0.944, test=0.500) total time=   0.1s\n",
      "[CV 2/5] END bootstrap=True, max_depth=18, max_features=log2, min_samples_leaf=1, min_samples_split=2, n_estimators=600;, score=(train=1.000, test=0.583) total time=   1.0s\n",
      "[CV 3/5] END bootstrap=False, max_depth=10, max_features=log2, min_samples_leaf=1, min_samples_split=10, n_estimators=50;, score=(train=1.000, test=0.486) total time=   0.1s\n",
      "[CV 4/5] END bootstrap=False, max_depth=10, max_features=log2, min_samples_leaf=1, min_samples_split=10, n_estimators=50;, score=(train=0.977, test=0.614) total time=   0.1s\n",
      "[CV 4/5] END bootstrap=True, max_depth=18, max_features=log2, min_samples_leaf=1, min_samples_split=2, n_estimators=600;, score=(train=1.000, test=0.900) total time=   1.0s\n",
      "[CV 5/5] END bootstrap=False, max_depth=10, max_features=log2, min_samples_leaf=1, min_samples_split=10, n_estimators=50;, score=(train=1.000, test=0.583) total time=   0.1s\n",
      "[CV 5/5] END bootstrap=True, max_depth=4, max_features=sqrt, min_samples_leaf=1, min_samples_split=2, n_estimators=3350;, score=(train=1.000, test=0.833) total time=   5.4s\n",
      "[CV 5/5] END bootstrap=True, max_depth=18, max_features=log2, min_samples_leaf=1, min_samples_split=2, n_estimators=600;, score=(train=1.000, test=0.750) total time=   1.0s\n",
      "[CV 5/5] END bootstrap=False, max_depth=8, max_features=log2, min_samples_leaf=1, min_samples_split=10, n_estimators=2800;, score=(train=1.000, test=0.833) total time=   2.6s\n",
      "[CV 4/5] END bootstrap=False, max_depth=8, max_features=log2, min_samples_leaf=1, min_samples_split=10, n_estimators=2800;, score=(train=1.000, test=0.686) total time=   2.8s\n",
      "[CV 3/5] END bootstrap=False, max_depth=19, max_features=sqrt, min_samples_leaf=1, min_samples_split=2, n_estimators=3350;, score=(train=1.000, test=0.586) total time=   4.2s\n",
      "[CV 2/5] END bootstrap=False, max_depth=19, max_features=sqrt, min_samples_leaf=1, min_samples_split=2, n_estimators=3350;, score=(train=1.000, test=0.667) total time=   4.4s\n",
      "[CV 1/5] END bootstrap=False, max_depth=19, max_features=sqrt, min_samples_leaf=1, min_samples_split=2, n_estimators=3350;, score=(train=1.000, test=0.722) total time=   4.5s\n",
      "[CV 4/5] END bootstrap=False, max_depth=19, max_features=sqrt, min_samples_leaf=1, min_samples_split=2, n_estimators=3350;, score=(train=1.000, test=0.900) total time=   4.5s\n",
      "[CV 5/5] END bootstrap=False, max_depth=19, max_features=sqrt, min_samples_leaf=1, min_samples_split=2, n_estimators=3350;, score=(train=1.000, test=0.750) total time=   4.4s\n",
      "[CV 1/5] END bootstrap=False, max_depth=20, max_features=sqrt, min_samples_leaf=1, min_samples_split=10, n_estimators=3350;, score=(train=1.000, test=0.722) total time=   4.2s\n",
      "[CV 2/5] END bootstrap=False, max_depth=20, max_features=sqrt, min_samples_leaf=1, min_samples_split=10, n_estimators=3350;, score=(train=1.000, test=0.583) total time=   4.2s\n",
      "[CV 3/5] END bootstrap=False, max_depth=20, max_features=sqrt, min_samples_leaf=1, min_samples_split=10, n_estimators=3350;, score=(train=1.000, test=0.586) total time=   4.5s\n",
      "[CV 2/5] END bootstrap=False, max_depth=5, max_features=log2, min_samples_leaf=1, min_samples_split=2, n_estimators=2250;, score=(train=0.750, test=0.500) total time=   2.4s\n",
      "[CV 1/5] END bootstrap=False, max_depth=5, max_features=log2, min_samples_leaf=1, min_samples_split=2, n_estimators=2250;, score=(train=1.000, test=0.667) total time=   2.6s\n",
      "[CV 3/5] END bootstrap=False, max_depth=5, max_features=log2, min_samples_leaf=1, min_samples_split=2, n_estimators=2250;, score=(train=1.000, test=0.457) total time=   2.6s\n",
      "[CV 4/5] END bootstrap=False, max_depth=5, max_features=log2, min_samples_leaf=1, min_samples_split=2, n_estimators=2250;, score=(train=1.000, test=0.571) total time=   2.6s\n",
      "[CV 5/5] END bootstrap=False, max_depth=5, max_features=log2, min_samples_leaf=1, min_samples_split=2, n_estimators=2250;, score=(train=1.000, test=0.833) total time=   2.6s\n",
      "[CV 4/5] END bootstrap=False, max_depth=20, max_features=sqrt, min_samples_leaf=1, min_samples_split=10, n_estimators=3350;, score=(train=1.000, test=0.829) total time=   4.1s\n",
      "[CV 1/5] END bootstrap=True, max_depth=9, max_features=sqrt, min_samples_leaf=1, min_samples_split=2, n_estimators=1700;, score=(train=1.000, test=0.722) total time=   3.1s\n",
      "[CV 5/5] END bootstrap=False, max_depth=20, max_features=sqrt, min_samples_leaf=1, min_samples_split=10, n_estimators=3350;, score=(train=1.000, test=0.750) total time=   4.3s\n",
      "[CV 2/5] END bootstrap=True, max_depth=9, max_features=sqrt, min_samples_leaf=1, min_samples_split=2, n_estimators=1700;, score=(train=1.000, test=0.583) total time=   2.7s\n",
      "[CV 3/5] END bootstrap=True, max_depth=9, max_features=sqrt, min_samples_leaf=1, min_samples_split=2, n_estimators=1700;, score=(train=1.000, test=0.586) total time=   2.9s\n",
      "[CV 5/5] END bootstrap=True, max_depth=9, max_features=sqrt, min_samples_leaf=1, min_samples_split=2, n_estimators=1700;, score=(train=1.000, test=0.750) total time=   2.7s\n",
      "[CV 4/5] END bootstrap=True, max_depth=9, max_features=sqrt, min_samples_leaf=1, min_samples_split=2, n_estimators=1700;, score=(train=1.000, test=0.757) total time=   3.1s\n",
      "[CV 1/5] END bootstrap=True, max_depth=4, max_features=sqrt, min_samples_leaf=1, min_samples_split=2, n_estimators=3900;, score=(train=1.000, test=0.722) total time=   9.0s\n",
      "[CV 2/5] END bootstrap=True, max_depth=4, max_features=sqrt, min_samples_leaf=1, min_samples_split=2, n_estimators=3900;, score=(train=0.806, test=0.500) total time=  10.0s\n",
      "[CV 1/5] END bootstrap=True, max_depth=8, max_features=log2, min_samples_leaf=1, min_samples_split=2, n_estimators=2800;, score=(train=1.000, test=0.722) total time=   8.5s\n",
      "[CV 3/5] END bootstrap=True, max_depth=4, max_features=sqrt, min_samples_leaf=1, min_samples_split=2, n_estimators=3900;, score=(train=1.000, test=0.557) total time=  10.3s\n",
      "[CV 2/5] END bootstrap=True, max_depth=8, max_features=log2, min_samples_leaf=1, min_samples_split=2, n_estimators=2800;, score=(train=1.000, test=0.500) total time=   8.9s\n",
      "[CV 3/5] END bootstrap=True, max_depth=8, max_features=log2, min_samples_leaf=1, min_samples_split=2, n_estimators=2800;, score=(train=1.000, test=0.657) total time=   8.8s\n",
      "[CV 4/5] END bootstrap=True, max_depth=4, max_features=sqrt, min_samples_leaf=1, min_samples_split=2, n_estimators=3900;, score=(train=1.000, test=0.757) total time=  10.8s\n",
      "[CV 5/5] END bootstrap=True, max_depth=4, max_features=sqrt, min_samples_leaf=1, min_samples_split=2, n_estimators=3900;, score=(train=1.000, test=0.833) total time=  11.2s\n",
      "[CV 1/5] END bootstrap=False, max_depth=7, max_features=log2, min_samples_leaf=1, min_samples_split=10, n_estimators=2800;, score=(train=1.000, test=0.722) total time=   5.6s\n",
      "[CV 3/5] END bootstrap=False, max_depth=7, max_features=log2, min_samples_leaf=1, min_samples_split=10, n_estimators=2800;, score=(train=1.000, test=0.457) total time=   5.1s\n",
      "[CV 2/5] END bootstrap=False, max_depth=7, max_features=log2, min_samples_leaf=1, min_samples_split=10, n_estimators=2800;, score=(train=0.917, test=0.500) total time=   5.5s\n",
      "[CV 4/5] END bootstrap=True, max_depth=8, max_features=log2, min_samples_leaf=1, min_samples_split=2, n_estimators=2800;, score=(train=1.000, test=0.757) total time=   8.1s\n",
      "[CV 4/5] END bootstrap=False, max_depth=7, max_features=log2, min_samples_leaf=1, min_samples_split=10, n_estimators=2800;, score=(train=1.000, test=0.614) total time=   5.7s\n",
      "[CV 5/5] END bootstrap=False, max_depth=7, max_features=log2, min_samples_leaf=1, min_samples_split=10, n_estimators=2800;, score=(train=1.000, test=0.833) total time=   5.4s\n",
      "[CV 1/5] END bootstrap=False, max_depth=10, max_features=sqrt, min_samples_leaf=1, min_samples_split=10, n_estimators=1700;, score=(train=1.000, test=0.722) total time=   4.1s\n",
      "[CV 5/5] END bootstrap=True, max_depth=8, max_features=log2, min_samples_leaf=1, min_samples_split=2, n_estimators=2800;, score=(train=1.000, test=0.750) total time=   7.3s\n",
      "[CV 2/5] END bootstrap=False, max_depth=10, max_features=sqrt, min_samples_leaf=1, min_samples_split=10, n_estimators=1700;, score=(train=1.000, test=0.583) total time=   2.7s\n",
      "[CV 3/5] END bootstrap=False, max_depth=10, max_features=sqrt, min_samples_leaf=1, min_samples_split=10, n_estimators=1700;, score=(train=1.000, test=0.586) total time=   3.3s\n",
      "[CV 4/5] END bootstrap=False, max_depth=10, max_features=sqrt, min_samples_leaf=1, min_samples_split=10, n_estimators=1700;, score=(train=1.000, test=0.757) total time=   3.2s\n",
      "[CV 5/5] END bootstrap=False, max_depth=10, max_features=sqrt, min_samples_leaf=1, min_samples_split=10, n_estimators=1700;, score=(train=1.000, test=0.833) total time=   3.4s\n",
      "[CV 1/5] END bootstrap=True, max_depth=15, max_features=log2, min_samples_leaf=1, min_samples_split=2, n_estimators=2800;, score=(train=1.000, test=0.722) total time=   6.5s\n",
      "[CV 2/5] END bootstrap=True, max_depth=15, max_features=log2, min_samples_leaf=1, min_samples_split=2, n_estimators=2800;, score=(train=1.000, test=0.583) total time=   6.4s\n",
      "[CV 3/5] END bootstrap=True, max_depth=15, max_features=log2, min_samples_leaf=1, min_samples_split=2, n_estimators=2800;, score=(train=1.000, test=0.586) total time=   6.5s\n",
      "[CV 2/5] END bootstrap=False, max_depth=10, max_features=sqrt, min_samples_leaf=1, min_samples_split=2, n_estimators=2800;, score=(train=1.000, test=0.583) total time=   4.2s\n",
      "[CV 4/5] END bootstrap=True, max_depth=15, max_features=log2, min_samples_leaf=1, min_samples_split=2, n_estimators=2800;, score=(train=1.000, test=0.900) total time=   6.2s\n",
      "[CV 1/5] END bootstrap=False, max_depth=10, max_features=sqrt, min_samples_leaf=1, min_samples_split=2, n_estimators=2800;, score=(train=1.000, test=0.722) total time=   4.5s\n",
      "[CV 3/5] END bootstrap=False, max_depth=10, max_features=sqrt, min_samples_leaf=1, min_samples_split=2, n_estimators=2800;, score=(train=1.000, test=0.586) total time=   4.2s\n",
      "[CV 5/5] END bootstrap=True, max_depth=15, max_features=log2, min_samples_leaf=1, min_samples_split=2, n_estimators=2800;, score=(train=1.000, test=0.750) total time=   6.0s\n",
      "[CV 1/5] END bootstrap=False, max_depth=17, max_features=sqrt, min_samples_leaf=1, min_samples_split=2, n_estimators=1150;, score=(train=1.000, test=0.722) total time=   1.7s\n",
      "[CV 2/5] END bootstrap=False, max_depth=17, max_features=sqrt, min_samples_leaf=1, min_samples_split=2, n_estimators=1150;, score=(train=1.000, test=0.583) total time=   1.7s\n",
      "[CV 4/5] END bootstrap=False, max_depth=17, max_features=sqrt, min_samples_leaf=1, min_samples_split=2, n_estimators=1150;, score=(train=1.000, test=0.829) total time=   1.7s\n",
      "[CV 3/5] END bootstrap=False, max_depth=17, max_features=sqrt, min_samples_leaf=1, min_samples_split=2, n_estimators=1150;, score=(train=1.000, test=0.586) total time=   2.0s\n",
      "[CV 5/5] END bootstrap=False, max_depth=17, max_features=sqrt, min_samples_leaf=1, min_samples_split=2, n_estimators=1150;, score=(train=1.000, test=0.750) total time=   1.6s\n",
      "[CV 1/5] END bootstrap=False, max_depth=19, max_features=log2, min_samples_leaf=1, min_samples_split=10, n_estimators=1700;, score=(train=1.000, test=0.722) total time=   2.3s\n",
      "[CV 4/5] END bootstrap=False, max_depth=10, max_features=sqrt, min_samples_leaf=1, min_samples_split=2, n_estimators=2800;, score=(train=1.000, test=0.757) total time=   4.1s\n",
      "[CV 2/5] END bootstrap=False, max_depth=19, max_features=log2, min_samples_leaf=1, min_samples_split=10, n_estimators=1700;, score=(train=1.000, test=0.583) total time=   2.3s\n",
      "[CV 5/5] END bootstrap=False, max_depth=10, max_features=sqrt, min_samples_leaf=1, min_samples_split=2, n_estimators=2800;, score=(train=1.000, test=0.833) total time=   4.2s\n",
      "[CV 4/5] END bootstrap=False, max_depth=19, max_features=log2, min_samples_leaf=1, min_samples_split=10, n_estimators=1700;, score=(train=1.000, test=0.800) total time=   2.3s\n",
      "[CV 3/5] END bootstrap=False, max_depth=19, max_features=log2, min_samples_leaf=1, min_samples_split=10, n_estimators=1700;, score=(train=1.000, test=0.514) total time=   2.3s\n",
      "[CV 5/5] END bootstrap=False, max_depth=19, max_features=log2, min_samples_leaf=1, min_samples_split=10, n_estimators=1700;, score=(train=1.000, test=0.667) total time=   2.3s\n",
      "[CV 1/5] END bootstrap=False, max_depth=19, max_features=log2, min_samples_leaf=1, min_samples_split=10, n_estimators=5000;, score=(train=1.000, test=0.722) total time=   7.2s\n",
      "[CV 1/5] END bootstrap=False, max_depth=13, max_features=log2, min_samples_leaf=1, min_samples_split=10, n_estimators=4450;, score=(train=1.000, test=0.722) total time=   6.3s\n",
      "[CV 3/5] END bootstrap=False, max_depth=13, max_features=log2, min_samples_leaf=1, min_samples_split=10, n_estimators=4450;, score=(train=1.000, test=0.557) total time=   6.2s\n",
      "[CV 2/5] END bootstrap=False, max_depth=19, max_features=log2, min_samples_leaf=1, min_samples_split=10, n_estimators=5000;, score=(train=1.000, test=0.500) total time=   7.4s\n",
      "[CV 4/5] END bootstrap=False, max_depth=19, max_features=log2, min_samples_leaf=1, min_samples_split=10, n_estimators=5000;, score=(train=1.000, test=0.757) total time=   7.1s\n",
      "[CV 2/5] END bootstrap=False, max_depth=13, max_features=log2, min_samples_leaf=1, min_samples_split=10, n_estimators=4450;, score=(train=1.000, test=0.500) total time=   6.7s\n",
      "[CV 5/5] END bootstrap=False, max_depth=19, max_features=log2, min_samples_leaf=1, min_samples_split=10, n_estimators=5000;, score=(train=1.000, test=0.750) total time=   7.4s\n",
      "[CV 3/5] END bootstrap=False, max_depth=19, max_features=log2, min_samples_leaf=1, min_samples_split=10, n_estimators=5000;, score=(train=1.000, test=0.657) total time=   7.6s\n",
      "[CV 4/5] END bootstrap=False, max_depth=13, max_features=log2, min_samples_leaf=1, min_samples_split=10, n_estimators=4450;, score=(train=1.000, test=0.686) total time=   7.4s\n",
      "[CV 5/5] END bootstrap=False, max_depth=13, max_features=log2, min_samples_leaf=1, min_samples_split=10, n_estimators=4450;, score=(train=1.000, test=0.833) total time=   6.8s\n",
      "[CV 1/5] END bootstrap=False, max_depth=18, max_features=log2, min_samples_leaf=1, min_samples_split=10, n_estimators=5000;, score=(train=1.000, test=0.722) total time=   7.1s\n",
      "[CV 1/5] END bootstrap=False, max_depth=9, max_features=sqrt, min_samples_leaf=1, min_samples_split=10, n_estimators=4450;, score=(train=1.000, test=0.722) total time=   7.1s\n",
      "[CV 2/5] END bootstrap=False, max_depth=18, max_features=log2, min_samples_leaf=1, min_samples_split=10, n_estimators=5000;, score=(train=1.000, test=0.583) total time=   7.7s\n",
      "[CV 4/5] END bootstrap=False, max_depth=18, max_features=log2, min_samples_leaf=1, min_samples_split=10, n_estimators=5000;, score=(train=1.000, test=0.757) total time=   7.7s\n",
      "[CV 3/5] END bootstrap=False, max_depth=18, max_features=log2, min_samples_leaf=1, min_samples_split=10, n_estimators=5000;, score=(train=1.000, test=0.586) total time=   8.0s\n",
      "[CV 5/5] END bootstrap=False, max_depth=18, max_features=log2, min_samples_leaf=1, min_samples_split=10, n_estimators=5000;, score=(train=1.000, test=0.833) total time=   8.5s\n",
      "[CV 2/5] END bootstrap=False, max_depth=9, max_features=sqrt, min_samples_leaf=1, min_samples_split=10, n_estimators=4450;, score=(train=1.000, test=0.583) total time=   6.8s\n",
      "[CV 3/5] END bootstrap=False, max_depth=9, max_features=sqrt, min_samples_leaf=1, min_samples_split=10, n_estimators=4450;, score=(train=1.000, test=0.586) total time=   6.6s\n",
      "[CV 4/5] END bootstrap=False, max_depth=9, max_features=sqrt, min_samples_leaf=1, min_samples_split=10, n_estimators=4450;, score=(train=1.000, test=0.757) total time=   6.9s\n",
      "[CV 3/5] END bootstrap=False, max_depth=16, max_features=log2, min_samples_leaf=1, min_samples_split=10, n_estimators=4450;, score=(train=1.000, test=0.557) total time=   6.0s\n",
      "[CV 5/5] END bootstrap=False, max_depth=9, max_features=sqrt, min_samples_leaf=1, min_samples_split=10, n_estimators=4450;, score=(train=1.000, test=0.833) total time=   6.7s\n",
      "[CV 2/5] END bootstrap=False, max_depth=16, max_features=log2, min_samples_leaf=1, min_samples_split=10, n_estimators=4450;, score=(train=1.000, test=0.500) total time=   6.3s\n",
      "[CV 1/5] END bootstrap=False, max_depth=16, max_features=log2, min_samples_leaf=1, min_samples_split=10, n_estimators=4450;, score=(train=1.000, test=0.722) total time=   6.6s\n",
      "[CV 4/5] END bootstrap=False, max_depth=16, max_features=log2, min_samples_leaf=1, min_samples_split=10, n_estimators=4450;, score=(train=1.000, test=0.586) total time=   6.4s\n",
      "[CV 1/5] END bootstrap=False, max_depth=4, max_features=log2, min_samples_leaf=1, min_samples_split=10, n_estimators=3900;, score=(train=1.000, test=0.500) total time=   5.5s\n",
      "[CV 2/5] END bootstrap=False, max_depth=4, max_features=log2, min_samples_leaf=1, min_samples_split=10, n_estimators=3900;, score=(train=0.556, test=0.500) total time=   5.2s\n",
      "[CV 5/5] END bootstrap=False, max_depth=16, max_features=log2, min_samples_leaf=1, min_samples_split=10, n_estimators=4450;, score=(train=1.000, test=0.833) total time=   6.5s\n",
      "[CV 5/5] END bootstrap=False, max_depth=4, max_features=log2, min_samples_leaf=1, min_samples_split=10, n_estimators=3900;, score=(train=1.000, test=0.750) total time=   5.1s\n",
      "[CV 4/5] END bootstrap=False, max_depth=4, max_features=log2, min_samples_leaf=1, min_samples_split=10, n_estimators=3900;, score=(train=1.000, test=0.571) total time=   5.3s\n",
      "[CV 3/5] END bootstrap=False, max_depth=4, max_features=log2, min_samples_leaf=1, min_samples_split=10, n_estimators=3900;, score=(train=1.000, test=0.600) total time=   5.4s\n",
      "[CV 1/5] END bootstrap=False, max_depth=4, max_features=log2, min_samples_leaf=1, min_samples_split=10, n_estimators=3900;, score=(train=1.000, test=0.500) total time=   5.2s\n",
      "[CV 2/5] END bootstrap=False, max_depth=4, max_features=log2, min_samples_leaf=1, min_samples_split=10, n_estimators=3900;, score=(train=0.556, test=0.500) total time=   5.2s\n",
      "[CV 1/5] END bootstrap=True, max_depth=17, max_features=log2, min_samples_leaf=1, min_samples_split=2, n_estimators=1700;, score=(train=1.000, test=0.722) total time=   4.6s\n",
      "[CV 3/5] END bootstrap=True, max_depth=17, max_features=log2, min_samples_leaf=1, min_samples_split=2, n_estimators=1700;, score=(train=1.000, test=0.514) total time=   5.4s\n",
      "[CV 2/5] END bootstrap=True, max_depth=17, max_features=log2, min_samples_leaf=1, min_samples_split=2, n_estimators=1700;, score=(train=1.000, test=0.583) total time=   5.5s\n",
      "[CV 4/5] END bootstrap=True, max_depth=17, max_features=log2, min_samples_leaf=1, min_samples_split=2, n_estimators=1700;, score=(train=1.000, test=0.900) total time=   5.6s\n",
      "[CV 3/5] END bootstrap=False, max_depth=4, max_features=log2, min_samples_leaf=1, min_samples_split=10, n_estimators=3900;, score=(train=0.977, test=0.529) total time=   7.6s\n",
      "[CV 5/5] END bootstrap=True, max_depth=17, max_features=log2, min_samples_leaf=1, min_samples_split=2, n_estimators=1700;, score=(train=1.000, test=0.750) total time=   6.6s\n",
      "[CV 4/5] END bootstrap=False, max_depth=4, max_features=log2, min_samples_leaf=1, min_samples_split=10, n_estimators=3900;, score=(train=0.977, test=0.571) total time=   8.7s\n",
      "[CV 5/5] END bootstrap=False, max_depth=4, max_features=log2, min_samples_leaf=1, min_samples_split=10, n_estimators=3900;, score=(train=1.000, test=0.833) total time=   9.1s\n",
      "[CV 1/5] END bootstrap=False, max_depth=13, max_features=log2, min_samples_leaf=1, min_samples_split=2, n_estimators=5000;, score=(train=1.000, test=0.722) total time=   9.6s\n",
      "[CV 2/5] END bootstrap=False, max_depth=13, max_features=log2, min_samples_leaf=1, min_samples_split=2, n_estimators=5000;, score=(train=1.000, test=0.500) total time=   9.1s\n",
      "[CV 3/5] END bootstrap=False, max_depth=13, max_features=log2, min_samples_leaf=1, min_samples_split=2, n_estimators=5000;, score=(train=1.000, test=0.557) total time=   9.5s\n",
      "[CV 4/5] END bootstrap=False, max_depth=13, max_features=log2, min_samples_leaf=1, min_samples_split=2, n_estimators=5000;, score=(train=1.000, test=0.686) total time=   9.9s\n",
      "[CV 5/5] END bootstrap=False, max_depth=13, max_features=log2, min_samples_leaf=1, min_samples_split=2, n_estimators=5000;, score=(train=1.000, test=0.750) total time=   8.5s\n",
      "[CV 1/5] END bootstrap=False, max_depth=17, max_features=log2, min_samples_leaf=1, min_samples_split=2, n_estimators=5000;, score=(train=1.000, test=0.722) total time=   8.1s\n",
      "[CV 3/5] END bootstrap=False, max_depth=17, max_features=log2, min_samples_leaf=1, min_samples_split=2, n_estimators=5000;, score=(train=1.000, test=0.514) total time=   7.7s\n",
      "[CV 2/5] END bootstrap=False, max_depth=17, max_features=log2, min_samples_leaf=1, min_samples_split=2, n_estimators=5000;, score=(train=1.000, test=0.583) total time=   7.8s\n",
      "[CV 1/5] END bootstrap=True, max_depth=11, max_features=None, min_samples_leaf=1, min_samples_split=10, n_estimators=600;, score=(train=1.000, test=0.889) total time=   1.8s\n",
      "[CV 1/5] END bootstrap=True, max_depth=2, max_features=None, min_samples_leaf=1, min_samples_split=10, n_estimators=1150;, score=(train=0.955, test=0.889) total time=   3.2s\n",
      "[CV 2/5] END bootstrap=True, max_depth=2, max_features=None, min_samples_leaf=1, min_samples_split=10, n_estimators=1150;, score=(train=0.944, test=0.917) total time=   3.3s\n",
      "[CV 4/5] END bootstrap=True, max_depth=2, max_features=None, min_samples_leaf=1, min_samples_split=10, n_estimators=1150;, score=(train=0.939, test=0.686) total time=   3.1s\n",
      "[CV 3/5] END bootstrap=True, max_depth=2, max_features=None, min_samples_leaf=1, min_samples_split=10, n_estimators=1150;, score=(train=0.981, test=0.657) total time=   3.4s\n",
      "[CV 5/5] END bootstrap=True, max_depth=2, max_features=None, min_samples_leaf=1, min_samples_split=10, n_estimators=1150;, score=(train=0.940, test=0.833) total time=   3.3s\n",
      "[CV 2/5] END bootstrap=True, max_depth=11, max_features=None, min_samples_leaf=1, min_samples_split=10, n_estimators=600;, score=(train=1.000, test=0.917) total time=   1.7s\n",
      "[CV 3/5] END bootstrap=True, max_depth=11, max_features=None, min_samples_leaf=1, min_samples_split=10, n_estimators=600;, score=(train=1.000, test=0.657) total time=   1.8s\n",
      "[CV 4/5] END bootstrap=True, max_depth=11, max_features=None, min_samples_leaf=1, min_samples_split=10, n_estimators=600;, score=(train=1.000, test=0.757) total time=   1.7s\n",
      "[CV 5/5] END bootstrap=True, max_depth=11, max_features=None, min_samples_leaf=1, min_samples_split=10, n_estimators=600;, score=(train=1.000, test=0.750) total time=   1.8s\n",
      "[CV 4/5] END bootstrap=False, max_depth=17, max_features=log2, min_samples_leaf=1, min_samples_split=2, n_estimators=5000;, score=(train=1.000, test=0.729) total time=   7.3s\n",
      "[CV 5/5] END bootstrap=False, max_depth=17, max_features=log2, min_samples_leaf=1, min_samples_split=2, n_estimators=5000;, score=(train=1.000, test=0.750) total time=   7.1s\n",
      "[CV 1/5] END bootstrap=True, max_depth=2, max_features=None, min_samples_leaf=1, min_samples_split=10, n_estimators=1700;, score=(train=0.955, test=0.889) total time=   4.8s\n",
      "[CV 2/5] END bootstrap=True, max_depth=2, max_features=None, min_samples_leaf=1, min_samples_split=10, n_estimators=1700;, score=(train=0.944, test=0.917) total time=   4.6s\n",
      "[CV 3/5] END bootstrap=True, max_depth=2, max_features=None, min_samples_leaf=1, min_samples_split=10, n_estimators=1700;, score=(train=0.981, test=0.657) total time=   4.7s\n",
      "[CV 1/5] END bootstrap=False, max_depth=15, max_features=None, min_samples_leaf=1, min_samples_split=10, n_estimators=50;, score=(train=1.000, test=0.889) total time=   0.1s\n",
      "[CV 4/5] END bootstrap=True, max_depth=2, max_features=None, min_samples_leaf=1, min_samples_split=10, n_estimators=1700;, score=(train=0.939, test=0.686) total time=   4.5s\n",
      "[CV 2/5] END bootstrap=False, max_depth=15, max_features=None, min_samples_leaf=1, min_samples_split=10, n_estimators=50;, score=(train=0.956, test=0.833) total time=   0.1s\n",
      "[CV 3/5] END bootstrap=False, max_depth=15, max_features=None, min_samples_leaf=1, min_samples_split=10, n_estimators=50;, score=(train=0.977, test=0.657) total time=   0.2s\n",
      "[CV 4/5] END bootstrap=False, max_depth=15, max_features=None, min_samples_leaf=1, min_samples_split=10, n_estimators=50;, score=(train=1.000, test=0.757) total time=   0.2s\n",
      "[CV 5/5] END bootstrap=False, max_depth=15, max_features=None, min_samples_leaf=1, min_samples_split=10, n_estimators=50;, score=(train=0.957, test=0.750) total time=   0.2s\n",
      "[CV 5/5] END bootstrap=True, max_depth=2, max_features=None, min_samples_leaf=1, min_samples_split=10, n_estimators=1700;, score=(train=0.940, test=0.833) total time=   5.0s\n",
      "[CV 1/5] END bootstrap=True, max_depth=20, max_features=None, min_samples_leaf=1, min_samples_split=10, n_estimators=600;, score=(train=1.000, test=0.889) total time=   1.6s\n",
      "[CV 2/5] END bootstrap=True, max_depth=20, max_features=None, min_samples_leaf=1, min_samples_split=10, n_estimators=600;, score=(train=1.000, test=1.000) total time=   1.6s\n",
      "[CV 3/5] END bootstrap=True, max_depth=20, max_features=None, min_samples_leaf=1, min_samples_split=10, n_estimators=600;, score=(train=1.000, test=0.657) total time=   1.8s\n",
      "[CV 4/5] END bootstrap=True, max_depth=20, max_features=None, min_samples_leaf=1, min_samples_split=10, n_estimators=600;, score=(train=1.000, test=0.757) total time=   1.7s\n",
      "[CV 5/5] END bootstrap=True, max_depth=20, max_features=None, min_samples_leaf=1, min_samples_split=10, n_estimators=600;, score=(train=1.000, test=0.833) total time=   1.7s\n",
      "[CV 1/5] END bootstrap=True, max_depth=17, max_features=None, min_samples_leaf=1, min_samples_split=10, n_estimators=3350;, score=(train=1.000, test=0.889) total time=   8.8s\n",
      "[CV 2/5] END bootstrap=True, max_depth=17, max_features=None, min_samples_leaf=1, min_samples_split=10, n_estimators=3350;, score=(train=1.000, test=1.000) total time=   9.1s\n",
      "[CV 3/5] END bootstrap=True, max_depth=17, max_features=None, min_samples_leaf=1, min_samples_split=10, n_estimators=3350;, score=(train=1.000, test=0.657) total time=   9.3s\n",
      "[CV 1/5] END bootstrap=True, max_depth=15, max_features=None, min_samples_leaf=1, min_samples_split=10, n_estimators=2250;, score=(train=1.000, test=0.889) total time=   5.8s\n",
      "[CV 4/5] END bootstrap=True, max_depth=17, max_features=None, min_samples_leaf=1, min_samples_split=10, n_estimators=3350;, score=(train=1.000, test=0.757) total time=   9.3s\n",
      "[CV 5/5] END bootstrap=True, max_depth=17, max_features=None, min_samples_leaf=1, min_samples_split=10, n_estimators=3350;, score=(train=1.000, test=0.833) total time=   9.3s\n",
      "[CV 3/5] END bootstrap=True, max_depth=15, max_features=None, min_samples_leaf=1, min_samples_split=10, n_estimators=2250;, score=(train=1.000, test=0.657) total time=   6.0s\n",
      "[CV 2/5] END bootstrap=True, max_depth=15, max_features=None, min_samples_leaf=1, min_samples_split=10, n_estimators=2250;, score=(train=1.000, test=1.000) total time=   6.2s\n",
      "[CV 4/5] END bootstrap=True, max_depth=15, max_features=None, min_samples_leaf=1, min_samples_split=10, n_estimators=2250;, score=(train=1.000, test=0.757) total time=   6.0s\n",
      "[CV 5/5] END bootstrap=True, max_depth=15, max_features=None, min_samples_leaf=1, min_samples_split=10, n_estimators=2250;, score=(train=1.000, test=0.833) total time=   6.6s\n",
      "[CV 1/5] END bootstrap=False, max_depth=13, max_features=None, min_samples_leaf=1, min_samples_split=10, n_estimators=1150;, score=(train=1.000, test=0.889) total time=   3.2s\n",
      "[CV 2/5] END bootstrap=False, max_depth=13, max_features=None, min_samples_leaf=1, min_samples_split=10, n_estimators=1150;, score=(train=0.956, test=0.833) total time=   3.1s\n",
      "[CV 3/5] END bootstrap=False, max_depth=13, max_features=None, min_samples_leaf=1, min_samples_split=10, n_estimators=1150;, score=(train=0.977, test=0.657) total time=   3.3s\n",
      "[CV 4/5] END bootstrap=False, max_depth=13, max_features=None, min_samples_leaf=1, min_samples_split=10, n_estimators=1150;, score=(train=1.000, test=0.829) total time=   3.3s\n",
      "[CV 5/5] END bootstrap=False, max_depth=13, max_features=None, min_samples_leaf=1, min_samples_split=10, n_estimators=1150;, score=(train=0.957, test=0.750) total time=   3.6s\n",
      "[CV 1/5] END bootstrap=True, max_depth=15, max_features=None, min_samples_leaf=1, min_samples_split=10, n_estimators=4450;, score=(train=1.000, test=0.889) total time=  12.1s\n",
      "[CV 2/5] END bootstrap=True, max_depth=15, max_features=None, min_samples_leaf=1, min_samples_split=10, n_estimators=4450;, score=(train=1.000, test=0.917) total time=  12.5s\n",
      "[CV 3/5] END bootstrap=True, max_depth=15, max_features=None, min_samples_leaf=1, min_samples_split=10, n_estimators=4450;, score=(train=1.000, test=0.657) total time=  12.7s\n",
      "[CV 4/5] END bootstrap=True, max_depth=15, max_features=None, min_samples_leaf=1, min_samples_split=10, n_estimators=4450;, score=(train=1.000, test=0.757) total time=  12.9s\n",
      "[CV 5/5] END bootstrap=True, max_depth=15, max_features=None, min_samples_leaf=1, min_samples_split=10, n_estimators=4450;, score=(train=1.000, test=0.833) total time=  13.2s\n",
      "[CV 2/5] END bootstrap=False, max_depth=7, max_features=None, min_samples_leaf=1, min_samples_split=10, n_estimators=4450;, score=(train=0.956, test=0.833) total time=  13.2s\n",
      "[CV 1/5] END bootstrap=False, max_depth=7, max_features=None, min_samples_leaf=1, min_samples_split=10, n_estimators=4450;, score=(train=1.000, test=0.889) total time=  13.5s\n",
      "[CV 3/5] END bootstrap=False, max_depth=7, max_features=None, min_samples_leaf=1, min_samples_split=10, n_estimators=4450;, score=(train=0.977, test=0.657) total time=  13.6s\n",
      "[CV 4/5] END bootstrap=False, max_depth=7, max_features=None, min_samples_leaf=1, min_samples_split=10, n_estimators=4450;, score=(train=1.000, test=0.757) total time=  13.9s\n",
      "[CV 1/5] END bootstrap=False, max_depth=7, max_features=None, min_samples_leaf=1, min_samples_split=10, n_estimators=4450;, score=(train=1.000, test=0.889) total time=  12.7s\n",
      "[CV 5/5] END bootstrap=False, max_depth=7, max_features=None, min_samples_leaf=1, min_samples_split=10, n_estimators=4450;, score=(train=0.957, test=0.750) total time=  14.0s\n",
      "[CV 2/5] END bootstrap=False, max_depth=7, max_features=None, min_samples_leaf=1, min_samples_split=10, n_estimators=4450;, score=(train=0.956, test=0.833) total time=  13.2s\n",
      "[CV 3/5] END bootstrap=False, max_depth=7, max_features=None, min_samples_leaf=1, min_samples_split=10, n_estimators=4450;, score=(train=0.977, test=0.657) total time=  12.8s\n",
      "[CV 1/5] END bootstrap=True, max_depth=14, max_features=None, min_samples_leaf=1, min_samples_split=2, n_estimators=2250;, score=(train=1.000, test=0.889) total time=   6.5s\n",
      "[CV 2/5] END bootstrap=True, max_depth=14, max_features=None, min_samples_leaf=1, min_samples_split=2, n_estimators=2250;, score=(train=1.000, test=0.917) total time=   6.7s\n",
      "[CV 3/5] END bootstrap=True, max_depth=14, max_features=None, min_samples_leaf=1, min_samples_split=2, n_estimators=2250;, score=(train=1.000, test=0.657) total time=   6.7s\n",
      "[CV 4/5] END bootstrap=True, max_depth=14, max_features=None, min_samples_leaf=1, min_samples_split=2, n_estimators=2250;, score=(train=1.000, test=0.757) total time=   6.8s\n",
      "[CV 5/5] END bootstrap=True, max_depth=14, max_features=None, min_samples_leaf=1, min_samples_split=2, n_estimators=2250;, score=(train=1.000, test=0.833) total time=   6.8s\n",
      "[CV 4/5] END bootstrap=False, max_depth=7, max_features=None, min_samples_leaf=1, min_samples_split=10, n_estimators=4450;, score=(train=1.000, test=0.829) total time=  13.4s\n",
      "[CV 5/5] END bootstrap=False, max_depth=7, max_features=None, min_samples_leaf=1, min_samples_split=10, n_estimators=4450;, score=(train=0.957, test=0.750) total time=  13.8s\n",
      "[CV 1/5] END bootstrap=True, max_depth=19, max_features=None, min_samples_leaf=1, min_samples_split=2, n_estimators=1700;, score=(train=1.000, test=0.889) total time=   4.5s\n",
      "[CV 2/5] END bootstrap=True, max_depth=19, max_features=None, min_samples_leaf=1, min_samples_split=2, n_estimators=1700;, score=(train=1.000, test=1.000) total time=   4.6s\n",
      "[CV 3/5] END bootstrap=True, max_depth=19, max_features=None, min_samples_leaf=1, min_samples_split=2, n_estimators=1700;, score=(train=1.000, test=0.657) total time=   4.3s\n",
      "[CV 1/5] END bootstrap=False, max_depth=10, max_features=None, min_samples_leaf=1, min_samples_split=10, n_estimators=5000;, score=(train=1.000, test=0.889) total time=  14.1s\n",
      "[CV 4/5] END bootstrap=True, max_depth=19, max_features=None, min_samples_leaf=1, min_samples_split=2, n_estimators=1700;, score=(train=1.000, test=0.757) total time=   4.7s\n",
      "[CV 2/5] END bootstrap=False, max_depth=10, max_features=None, min_samples_leaf=1, min_samples_split=10, n_estimators=5000;, score=(train=0.956, test=0.833) total time=  13.7s\n",
      "[CV 3/5] END bootstrap=False, max_depth=10, max_features=None, min_samples_leaf=1, min_samples_split=10, n_estimators=5000;, score=(train=0.977, test=0.657) total time=  13.4s\n",
      "[CV 5/5] END bootstrap=True, max_depth=19, max_features=None, min_samples_leaf=1, min_samples_split=2, n_estimators=1700;, score=(train=1.000, test=0.833) total time=   5.2s\n",
      "[CV 1/5] END bootstrap=True, max_depth=3, max_features=None, min_samples_leaf=1, min_samples_split=10, n_estimators=2250;, score=(train=1.000, test=0.889) total time=   6.0s\n",
      "[CV 4/5] END bootstrap=False, max_depth=10, max_features=None, min_samples_leaf=1, min_samples_split=10, n_estimators=5000;, score=(train=1.000, test=0.757) total time=  14.2s\n",
      "[CV 5/5] END bootstrap=False, max_depth=10, max_features=None, min_samples_leaf=1, min_samples_split=10, n_estimators=5000;, score=(train=0.957, test=0.750) total time=  14.1s\n",
      "[CV 2/5] END bootstrap=True, max_depth=3, max_features=None, min_samples_leaf=1, min_samples_split=10, n_estimators=2250;, score=(train=1.000, test=1.000) total time=   5.9s\n",
      "[CV 3/5] END bootstrap=True, max_depth=3, max_features=None, min_samples_leaf=1, min_samples_split=10, n_estimators=2250;, score=(train=1.000, test=0.657) total time=   6.0s\n",
      "[CV 4/5] END bootstrap=True, max_depth=3, max_features=None, min_samples_leaf=1, min_samples_split=10, n_estimators=2250;, score=(train=1.000, test=0.757) total time=   5.9s\n",
      "[CV 5/5] END bootstrap=True, max_depth=3, max_features=None, min_samples_leaf=1, min_samples_split=10, n_estimators=2250;, score=(train=0.980, test=0.833) total time=   6.1s\n",
      "[CV 1/5] END bootstrap=True, max_depth=11, max_features=None, min_samples_leaf=1, min_samples_split=10, n_estimators=2800;, score=(train=1.000, test=0.889) total time=   7.2s\n",
      "[CV 2/5] END bootstrap=True, max_depth=11, max_features=None, min_samples_leaf=1, min_samples_split=10, n_estimators=2800;, score=(train=1.000, test=1.000) total time=   7.5s\n",
      "[CV 3/5] END bootstrap=True, max_depth=11, max_features=None, min_samples_leaf=1, min_samples_split=10, n_estimators=2800;, score=(train=1.000, test=0.657) total time=   8.0s\n",
      "[CV 4/5] END bootstrap=True, max_depth=11, max_features=None, min_samples_leaf=1, min_samples_split=10, n_estimators=2800;, score=(train=1.000, test=0.757) total time=   8.4s\n",
      "[CV 5/5] END bootstrap=True, max_depth=11, max_features=None, min_samples_leaf=1, min_samples_split=10, n_estimators=2800;, score=(train=1.000, test=0.833) total time=   8.7s\n",
      "[CV 1/5] END bootstrap=False, max_depth=15, max_features=None, min_samples_leaf=1, min_samples_split=10, n_estimators=600;, score=(train=1.000, test=0.889) total time=   1.8s\n",
      "[CV 1/5] END bootstrap=True, max_depth=13, max_features=None, min_samples_leaf=1, min_samples_split=10, n_estimators=2800;, score=(train=1.000, test=0.889) total time=   8.2s\n",
      "[CV 2/5] END bootstrap=False, max_depth=15, max_features=None, min_samples_leaf=1, min_samples_split=10, n_estimators=600;, score=(train=0.956, test=0.833) total time=   1.6s\n",
      "[CV 2/5] END bootstrap=True, max_depth=13, max_features=None, min_samples_leaf=1, min_samples_split=10, n_estimators=2800;, score=(train=1.000, test=1.000) total time=   8.3s\n",
      "[CV 3/5] END bootstrap=False, max_depth=15, max_features=None, min_samples_leaf=1, min_samples_split=10, n_estimators=600;, score=(train=0.977, test=0.657) total time=   1.8s\n",
      "[CV 4/5] END bootstrap=False, max_depth=15, max_features=None, min_samples_leaf=1, min_samples_split=10, n_estimators=600;, score=(train=1.000, test=0.757) total time=   1.6s\n",
      "[CV 5/5] END bootstrap=False, max_depth=15, max_features=None, min_samples_leaf=1, min_samples_split=10, n_estimators=600;, score=(train=0.957, test=0.750) total time=   1.9s\n",
      "[CV 3/5] END bootstrap=True, max_depth=13, max_features=None, min_samples_leaf=1, min_samples_split=10, n_estimators=2800;, score=(train=1.000, test=0.657) total time=   8.3s\n",
      "[CV 4/5] END bootstrap=True, max_depth=13, max_features=None, min_samples_leaf=1, min_samples_split=10, n_estimators=2800;, score=(train=1.000, test=0.757) total time=   8.3s\n",
      "[CV 1/5] END bootstrap=False, max_depth=17, max_features=sqrt, min_samples_leaf=1, min_samples_split=10, n_estimators=1150;, score=(train=1.000, test=0.722) total time=   1.5s\n",
      "[CV 5/5] END bootstrap=True, max_depth=13, max_features=None, min_samples_leaf=1, min_samples_split=10, n_estimators=2800;, score=(train=1.000, test=0.833) total time=   8.3s\n",
      "[CV 2/5] END bootstrap=False, max_depth=17, max_features=sqrt, min_samples_leaf=1, min_samples_split=10, n_estimators=1150;, score=(train=1.000, test=0.583) total time=   1.8s\n",
      "[CV 3/5] END bootstrap=False, max_depth=17, max_features=sqrt, min_samples_leaf=1, min_samples_split=10, n_estimators=1150;, score=(train=1.000, test=0.586) total time=   1.6s\n",
      "[CV 4/5] END bootstrap=False, max_depth=17, max_features=sqrt, min_samples_leaf=1, min_samples_split=10, n_estimators=1150;, score=(train=1.000, test=0.829) total time=   1.6s\n",
      "[CV 5/5] END bootstrap=False, max_depth=17, max_features=sqrt, min_samples_leaf=1, min_samples_split=10, n_estimators=1150;, score=(train=1.000, test=0.750) total time=   1.6s\n",
      "[CV 1/5] END bootstrap=True, max_depth=13, max_features=None, min_samples_leaf=1, min_samples_split=10, n_estimators=2800;, score=(train=1.000, test=0.889) total time=   8.2s\n",
      "[CV 2/5] END bootstrap=True, max_depth=13, max_features=None, min_samples_leaf=1, min_samples_split=10, n_estimators=2800;, score=(train=1.000, test=1.000) total time=   8.1s\n",
      "[CV 3/5] END bootstrap=True, max_depth=13, max_features=None, min_samples_leaf=1, min_samples_split=10, n_estimators=2800;, score=(train=1.000, test=0.657) total time=   8.1s\n",
      "[CV 4/5] END bootstrap=True, max_depth=13, max_features=None, min_samples_leaf=1, min_samples_split=10, n_estimators=2800;, score=(train=1.000, test=0.757) total time=   8.2s\n",
      "[CV 5/5] END bootstrap=True, max_depth=13, max_features=None, min_samples_leaf=1, min_samples_split=10, n_estimators=2800;, score=(train=1.000, test=0.833) total time=   9.0s\n",
      "[CV 1/5] END bootstrap=False, max_depth=7, max_features=None, min_samples_leaf=1, min_samples_split=10, n_estimators=3900;, score=(train=1.000, test=0.889) total time=  11.9s\n",
      "[CV 2/5] END bootstrap=False, max_depth=7, max_features=None, min_samples_leaf=1, min_samples_split=10, n_estimators=3900;, score=(train=0.956, test=0.833) total time=  12.0s\n",
      "[CV 3/5] END bootstrap=False, max_depth=7, max_features=None, min_samples_leaf=1, min_samples_split=10, n_estimators=3900;, score=(train=0.977, test=0.657) total time=  12.0s\n",
      "[CV 1/5] END bootstrap=True, max_depth=8, max_features=None, min_samples_leaf=1, min_samples_split=2, n_estimators=3900;, score=(train=1.000, test=0.889) total time=  11.6s\n",
      "[CV 4/5] END bootstrap=False, max_depth=7, max_features=None, min_samples_leaf=1, min_samples_split=10, n_estimators=3900;, score=(train=1.000, test=0.757) total time=  12.4s\n",
      "[CV 5/5] END bootstrap=False, max_depth=7, max_features=None, min_samples_leaf=1, min_samples_split=10, n_estimators=3900;, score=(train=0.957, test=0.750) total time=  12.3s\n",
      "[CV 2/5] END bootstrap=True, max_depth=8, max_features=None, min_samples_leaf=1, min_samples_split=2, n_estimators=3900;, score=(train=1.000, test=0.917) total time=  11.7s\n",
      "[CV 3/5] END bootstrap=True, max_depth=8, max_features=None, min_samples_leaf=1, min_samples_split=2, n_estimators=3900;, score=(train=1.000, test=0.657) total time=  11.2s\n",
      "[CV 1/5] END bootstrap=False, max_depth=10, max_features=log2, min_samples_leaf=1, min_samples_split=10, n_estimators=50;, score=(train=1.000, test=0.722) total time=   0.1s\n",
      "[CV 2/5] END bootstrap=False, max_depth=10, max_features=log2, min_samples_leaf=1, min_samples_split=10, n_estimators=50;, score=(train=0.944, test=0.500) total time=   0.1s\n",
      "[CV 3/5] END bootstrap=False, max_depth=10, max_features=log2, min_samples_leaf=1, min_samples_split=10, n_estimators=50;, score=(train=1.000, test=0.414) total time=   0.1s\n",
      "[CV 4/5] END bootstrap=False, max_depth=10, max_features=log2, min_samples_leaf=1, min_samples_split=10, n_estimators=50;, score=(train=1.000, test=0.586) total time=   0.1s\n",
      "[CV 5/5] END bootstrap=False, max_depth=10, max_features=log2, min_samples_leaf=1, min_samples_split=10, n_estimators=50;, score=(train=1.000, test=0.750) total time=   0.1s\n",
      "[CV 1/5] END bootstrap=False, max_depth=3, max_features=None, min_samples_leaf=1, min_samples_split=10, n_estimators=3350;, score=(train=0.977, test=0.889) total time=  10.6s\n",
      "[CV 1/5] END bootstrap=False, max_depth=7, max_features=sqrt, min_samples_leaf=1, min_samples_split=10, n_estimators=3900;, score=(train=1.000, test=0.722) total time=   6.4s\n",
      "[CV 4/5] END bootstrap=True, max_depth=8, max_features=None, min_samples_leaf=1, min_samples_split=2, n_estimators=3900;, score=(train=1.000, test=0.757) total time=  13.4s\n",
      "[CV 5/5] END bootstrap=True, max_depth=8, max_features=None, min_samples_leaf=1, min_samples_split=2, n_estimators=3900;, score=(train=1.000, test=0.833) total time=  13.3s\n",
      "[CV 2/5] END bootstrap=False, max_depth=3, max_features=None, min_samples_leaf=1, min_samples_split=10, n_estimators=3350;, score=(train=0.956, test=0.833) total time=  12.0s\n",
      "[CV 4/5] END bootstrap=False, max_depth=3, max_features=None, min_samples_leaf=1, min_samples_split=10, n_estimators=3350;, score=(train=1.000, test=0.757) total time=  11.7s\n",
      "[CV 3/5] END bootstrap=False, max_depth=3, max_features=None, min_samples_leaf=1, min_samples_split=10, n_estimators=3350;, score=(train=0.977, test=0.657) total time=  11.9s\n",
      "[CV 5/5] END bootstrap=False, max_depth=3, max_features=None, min_samples_leaf=1, min_samples_split=10, n_estimators=3350;, score=(train=0.937, test=0.750) total time=  11.7s\n",
      "[CV 2/5] END bootstrap=False, max_depth=7, max_features=sqrt, min_samples_leaf=1, min_samples_split=10, n_estimators=3900;, score=(train=0.972, test=0.583) total time=   5.9s\n",
      "[CV 3/5] END bootstrap=False, max_depth=7, max_features=sqrt, min_samples_leaf=1, min_samples_split=10, n_estimators=3900;, score=(train=1.000, test=0.586) total time=   5.8s\n",
      "[CV 4/5] END bootstrap=False, max_depth=7, max_features=sqrt, min_samples_leaf=1, min_samples_split=10, n_estimators=3900;, score=(train=1.000, test=0.686) total time=   5.7s\n",
      "[CV 5/5] END bootstrap=False, max_depth=7, max_features=sqrt, min_samples_leaf=1, min_samples_split=10, n_estimators=3900;, score=(train=1.000, test=0.917) total time=   5.8s\n",
      "[CV 2/5] END bootstrap=False, max_depth=14, max_features=None, min_samples_leaf=1, min_samples_split=10, n_estimators=4450;, score=(train=0.956, test=0.833) total time=  13.6s\n",
      "[CV 3/5] END bootstrap=False, max_depth=14, max_features=None, min_samples_leaf=1, min_samples_split=10, n_estimators=4450;, score=(train=0.977, test=0.657) total time=  13.7s\n",
      "[CV 1/5] END bootstrap=False, max_depth=14, max_features=None, min_samples_leaf=1, min_samples_split=10, n_estimators=4450;, score=(train=1.000, test=0.889) total time=  14.4s\n",
      "[CV 4/5] END bootstrap=False, max_depth=14, max_features=None, min_samples_leaf=1, min_samples_split=10, n_estimators=4450;, score=(train=1.000, test=0.757) total time=  14.8s\n",
      "[CV 5/5] END bootstrap=False, max_depth=14, max_features=None, min_samples_leaf=1, min_samples_split=10, n_estimators=4450;, score=(train=0.957, test=0.750) total time=  14.3s\n",
      "[CV 1/5] END bootstrap=True, max_depth=10, max_features=None, min_samples_leaf=1, min_samples_split=2, n_estimators=5000;, score=(train=1.000, test=0.889) total time=  15.2s\n",
      "[CV 2/5] END bootstrap=True, max_depth=10, max_features=None, min_samples_leaf=1, min_samples_split=2, n_estimators=5000;, score=(train=1.000, test=0.917) total time=  15.5s\n",
      "[CV 3/5] END bootstrap=True, max_depth=10, max_features=None, min_samples_leaf=1, min_samples_split=2, n_estimators=5000;, score=(train=1.000, test=0.657) total time=  15.8s\n",
      "[CV 1/5] END bootstrap=False, max_depth=14, max_features=sqrt, min_samples_leaf=1, min_samples_split=2, n_estimators=4450;, score=(train=1.000, test=0.722) total time=   7.0s\n",
      "[CV 2/5] END bootstrap=False, max_depth=14, max_features=sqrt, min_samples_leaf=1, min_samples_split=2, n_estimators=4450;, score=(train=1.000, test=0.583) total time=   7.3s\n",
      "[CV 3/5] END bootstrap=False, max_depth=14, max_features=sqrt, min_samples_leaf=1, min_samples_split=2, n_estimators=4450;, score=(train=1.000, test=0.586) total time=   9.1s\n",
      "[CV 4/5] END bootstrap=False, max_depth=14, max_features=sqrt, min_samples_leaf=1, min_samples_split=2, n_estimators=4450;, score=(train=1.000, test=0.829) total time=  10.4s\n",
      "[CV 1/5] END bootstrap=True, max_depth=9, max_features=None, min_samples_leaf=1, min_samples_split=2, n_estimators=1700;, score=(train=1.000, test=0.889) total time=   8.4s\n",
      "[CV 1/5] END bootstrap=False, max_depth=9, max_features=sqrt, min_samples_leaf=1, min_samples_split=10, n_estimators=50;, score=(train=1.000, test=0.722) total time=   0.1s\n",
      "[CV 2/5] END bootstrap=False, max_depth=9, max_features=sqrt, min_samples_leaf=1, min_samples_split=10, n_estimators=50;, score=(train=1.000, test=0.583) total time=   0.1s\n",
      "[CV 3/5] END bootstrap=False, max_depth=9, max_features=sqrt, min_samples_leaf=1, min_samples_split=10, n_estimators=50;, score=(train=1.000, test=0.414) total time=   0.1s\n",
      "[CV 4/5] END bootstrap=False, max_depth=9, max_features=sqrt, min_samples_leaf=1, min_samples_split=10, n_estimators=50;, score=(train=1.000, test=0.757) total time=   0.1s\n",
      "[CV 5/5] END bootstrap=False, max_depth=9, max_features=sqrt, min_samples_leaf=1, min_samples_split=10, n_estimators=50;, score=(train=1.000, test=0.917) total time=   0.1s\n",
      "[CV 5/5] END bootstrap=False, max_depth=14, max_features=sqrt, min_samples_leaf=1, min_samples_split=2, n_estimators=4450;, score=(train=1.000, test=0.750) total time=  10.4s\n",
      "[CV 2/5] END bootstrap=True, max_depth=9, max_features=None, min_samples_leaf=1, min_samples_split=2, n_estimators=1700;, score=(train=1.000, test=0.917) total time=   8.7s\n",
      "[CV 3/5] END bootstrap=True, max_depth=9, max_features=None, min_samples_leaf=1, min_samples_split=2, n_estimators=1700;, score=(train=1.000, test=0.657) total time=   8.5s\n",
      "[CV 4/5] END bootstrap=True, max_depth=9, max_features=None, min_samples_leaf=1, min_samples_split=2, n_estimators=1700;, score=(train=1.000, test=0.757) total time=   6.1s\n",
      "[CV 4/5] END bootstrap=True, max_depth=10, max_features=None, min_samples_leaf=1, min_samples_split=2, n_estimators=5000;, score=(train=1.000, test=0.757) total time=  19.5s\n",
      "[CV 5/5] END bootstrap=True, max_depth=10, max_features=None, min_samples_leaf=1, min_samples_split=2, n_estimators=5000;, score=(train=1.000, test=0.833) total time=  20.2s\n",
      "[CV 5/5] END bootstrap=True, max_depth=9, max_features=None, min_samples_leaf=1, min_samples_split=2, n_estimators=1700;, score=(train=1.000, test=0.833) total time=   6.1s\n",
      "[CV 1/5] END bootstrap=True, max_depth=16, max_features=None, min_samples_leaf=1, min_samples_split=10, n_estimators=2250;, score=(train=1.000, test=0.889) total time=   7.9s\n",
      "[CV 2/5] END bootstrap=True, max_depth=16, max_features=None, min_samples_leaf=1, min_samples_split=10, n_estimators=2250;, score=(train=1.000, test=0.917) total time=   7.7s\n",
      "[CV 3/5] END bootstrap=True, max_depth=16, max_features=None, min_samples_leaf=1, min_samples_split=10, n_estimators=2250;, score=(train=1.000, test=0.657) total time=   7.4s\n",
      "[CV 1/5] END bootstrap=False, max_depth=10, max_features=None, min_samples_leaf=1, min_samples_split=10, n_estimators=4450;, score=(train=1.000, test=0.889) total time=  15.4s\n",
      "[CV 3/5] END bootstrap=False, max_depth=10, max_features=None, min_samples_leaf=1, min_samples_split=10, n_estimators=4450;, score=(train=0.977, test=0.657) total time=  15.2s\n",
      "[CV 2/5] END bootstrap=False, max_depth=10, max_features=None, min_samples_leaf=1, min_samples_split=10, n_estimators=4450;, score=(train=0.956, test=0.833) total time=  15.5s\n",
      "[CV 1/5] END bootstrap=False, max_depth=11, max_features=sqrt, min_samples_leaf=1, min_samples_split=10, n_estimators=2250;, score=(train=1.000, test=0.722) total time=   3.4s\n",
      "[CV 4/5] END bootstrap=False, max_depth=10, max_features=None, min_samples_leaf=1, min_samples_split=10, n_estimators=4450;, score=(train=1.000, test=0.829) total time=  15.7s\n",
      "[CV 4/5] END bootstrap=True, max_depth=16, max_features=None, min_samples_leaf=1, min_samples_split=10, n_estimators=2250;, score=(train=1.000, test=0.757) total time=   7.1s\n",
      "[CV 2/5] END bootstrap=False, max_depth=11, max_features=sqrt, min_samples_leaf=1, min_samples_split=10, n_estimators=2250;, score=(train=1.000, test=0.583) total time=   3.3s\n",
      "[CV 5/5] END bootstrap=False, max_depth=10, max_features=None, min_samples_leaf=1, min_samples_split=10, n_estimators=4450;, score=(train=0.957, test=0.750) total time=  15.8s\n",
      "[CV 3/5] END bootstrap=False, max_depth=11, max_features=sqrt, min_samples_leaf=1, min_samples_split=10, n_estimators=2250;, score=(train=1.000, test=0.586) total time=   3.2s\n",
      "[CV 4/5] END bootstrap=False, max_depth=11, max_features=sqrt, min_samples_leaf=1, min_samples_split=10, n_estimators=2250;, score=(train=1.000, test=0.757) total time=   3.3s\n",
      "[CV 5/5] END bootstrap=True, max_depth=16, max_features=None, min_samples_leaf=1, min_samples_split=10, n_estimators=2250;, score=(train=1.000, test=0.833) total time=   7.2s\n",
      "[CV 5/5] END bootstrap=False, max_depth=11, max_features=sqrt, min_samples_leaf=1, min_samples_split=10, n_estimators=2250;, score=(train=1.000, test=0.833) total time=   3.5s\n",
      "[CV 1/5] END bootstrap=False, max_depth=13, max_features=sqrt, min_samples_leaf=1, min_samples_split=10, n_estimators=3900;, score=(train=1.000, test=0.722) total time=   5.9s\n",
      "[CV 2/5] END bootstrap=False, max_depth=13, max_features=sqrt, min_samples_leaf=1, min_samples_split=10, n_estimators=3900;, score=(train=1.000, test=0.583) total time=   5.7s\n",
      "[CV 3/5] END bootstrap=False, max_depth=13, max_features=sqrt, min_samples_leaf=1, min_samples_split=10, n_estimators=3900;, score=(train=1.000, test=0.586) total time=   5.7s\n",
      "[CV 5/5] END bootstrap=False, max_depth=13, max_features=sqrt, min_samples_leaf=1, min_samples_split=10, n_estimators=3900;, score=(train=1.000, test=0.750) total time=   6.1s\n",
      "[CV 4/5] END bootstrap=False, max_depth=13, max_features=sqrt, min_samples_leaf=1, min_samples_split=10, n_estimators=3900;, score=(train=1.000, test=0.829) total time=   6.2s\n",
      "[CV 1/5] END bootstrap=False, max_depth=7, max_features=None, min_samples_leaf=1, min_samples_split=10, n_estimators=1150;, score=(train=1.000, test=0.889) total time=   3.7s\n",
      "[CV 2/5] END bootstrap=False, max_depth=7, max_features=None, min_samples_leaf=1, min_samples_split=10, n_estimators=1150;, score=(train=0.956, test=0.833) total time=   3.6s\n",
      "[CV 3/5] END bootstrap=False, max_depth=7, max_features=None, min_samples_leaf=1, min_samples_split=10, n_estimators=1150;, score=(train=0.977, test=0.657) total time=   3.7s\n",
      "[CV 4/5] END bootstrap=False, max_depth=7, max_features=None, min_samples_leaf=1, min_samples_split=10, n_estimators=1150;, score=(train=1.000, test=0.829) total time=   3.7s\n",
      "[CV 5/5] END bootstrap=False, max_depth=7, max_features=None, min_samples_leaf=1, min_samples_split=10, n_estimators=1150;, score=(train=0.957, test=0.750) total time=   3.8s\n",
      "[CV 2/5] END bootstrap=True, max_depth=10, max_features=None, min_samples_leaf=1, min_samples_split=10, n_estimators=5000;, score=(train=1.000, test=0.917) total time=  15.2s\n",
      "[CV 1/5] END bootstrap=True, max_depth=10, max_features=None, min_samples_leaf=1, min_samples_split=10, n_estimators=5000;, score=(train=1.000, test=0.889) total time=  15.3s\n",
      "[CV 3/5] END bootstrap=True, max_depth=10, max_features=None, min_samples_leaf=1, min_samples_split=10, n_estimators=5000;, score=(train=1.000, test=0.657) total time=  15.6s\n",
      "[CV 4/5] END bootstrap=True, max_depth=10, max_features=None, min_samples_leaf=1, min_samples_split=10, n_estimators=5000;, score=(train=1.000, test=0.757) total time=  15.7s\n",
      "[CV 5/5] END bootstrap=True, max_depth=10, max_features=None, min_samples_leaf=1, min_samples_split=10, n_estimators=5000;, score=(train=1.000, test=0.833) total time=  15.8s\n",
      "[CV 1/5] END bootstrap=False, max_depth=4, max_features=sqrt, min_samples_leaf=1, min_samples_split=10, n_estimators=3900;, score=(train=1.000, test=0.722) total time=   5.2s\n",
      "[CV 2/5] END bootstrap=False, max_depth=4, max_features=sqrt, min_samples_leaf=1, min_samples_split=10, n_estimators=3900;, score=(train=0.833, test=0.500) total time=   5.3s\n",
      "[CV 1/5] END bootstrap=False, max_depth=10, max_features=None, min_samples_leaf=1, min_samples_split=10, n_estimators=5000;, score=(train=1.000, test=0.889) total time=  16.0s\n",
      "[CV 3/5] END bootstrap=False, max_depth=4, max_features=sqrt, min_samples_leaf=1, min_samples_split=10, n_estimators=3900;, score=(train=0.977, test=0.557) total time=   5.3s\n",
      "[CV 4/5] END bootstrap=False, max_depth=4, max_features=sqrt, min_samples_leaf=1, min_samples_split=10, n_estimators=3900;, score=(train=1.000, test=0.686) total time=   5.2s\n",
      "[CV 2/5] END bootstrap=False, max_depth=10, max_features=None, min_samples_leaf=1, min_samples_split=10, n_estimators=5000;, score=(train=0.956, test=0.833) total time=  15.3s\n",
      "[CV 3/5] END bootstrap=False, max_depth=10, max_features=None, min_samples_leaf=1, min_samples_split=10, n_estimators=5000;, score=(train=0.977, test=0.657) total time=  15.3s\n",
      "[CV 5/5] END bootstrap=False, max_depth=4, max_features=sqrt, min_samples_leaf=1, min_samples_split=10, n_estimators=3900;, score=(train=1.000, test=0.917) total time=   5.1s\n",
      "[CV 4/5] END bootstrap=False, max_depth=10, max_features=None, min_samples_leaf=1, min_samples_split=10, n_estimators=5000;, score=(train=1.000, test=0.829) total time=  16.0s\n",
      "[CV 5/5] END bootstrap=False, max_depth=10, max_features=None, min_samples_leaf=1, min_samples_split=10, n_estimators=5000;, score=(train=0.957, test=0.750) total time=  16.6s\n",
      "[CV 1/5] END bootstrap=True, max_depth=11, max_features=None, min_samples_leaf=1, min_samples_split=10, n_estimators=2250;, score=(train=1.000, test=0.889) total time=   6.9s\n",
      "[CV 2/5] END bootstrap=True, max_depth=11, max_features=None, min_samples_leaf=1, min_samples_split=10, n_estimators=2250;, score=(train=1.000, test=1.000) total time=   7.1s\n",
      "[CV 3/5] END bootstrap=True, max_depth=11, max_features=None, min_samples_leaf=1, min_samples_split=10, n_estimators=2250;, score=(train=1.000, test=0.657) total time=   7.5s\n",
      "[CV 4/5] END bootstrap=True, max_depth=11, max_features=None, min_samples_leaf=1, min_samples_split=10, n_estimators=2250;, score=(train=1.000, test=0.757) total time=   7.2s\n",
      "[CV 1/5] END bootstrap=True, max_depth=18, max_features=sqrt, min_samples_leaf=1, min_samples_split=2, n_estimators=1150;, score=(train=1.000, test=0.722) total time=   2.3s\n",
      "[CV 5/5] END bootstrap=True, max_depth=11, max_features=None, min_samples_leaf=1, min_samples_split=10, n_estimators=2250;, score=(train=1.000, test=0.833) total time=   7.3s\n",
      "[CV 2/5] END bootstrap=True, max_depth=18, max_features=sqrt, min_samples_leaf=1, min_samples_split=2, n_estimators=1150;, score=(train=1.000, test=0.583) total time=   2.4s\n",
      "[CV 3/5] END bootstrap=True, max_depth=18, max_features=sqrt, min_samples_leaf=1, min_samples_split=2, n_estimators=1150;, score=(train=1.000, test=0.586) total time=   2.4s\n",
      "[CV 1/5] END bootstrap=False, max_depth=7, max_features=log2, min_samples_leaf=1, min_samples_split=10, n_estimators=50;, score=(train=1.000, test=0.556) total time=   0.1s\n",
      "[CV 2/5] END bootstrap=False, max_depth=7, max_features=log2, min_samples_leaf=1, min_samples_split=10, n_estimators=50;, score=(train=0.806, test=0.500) total time=   0.1s\n",
      "[CV 4/5] END bootstrap=True, max_depth=18, max_features=sqrt, min_samples_leaf=1, min_samples_split=2, n_estimators=1150;, score=(train=1.000, test=0.829) total time=   2.6s\n",
      "[CV 3/5] END bootstrap=False, max_depth=7, max_features=log2, min_samples_leaf=1, min_samples_split=10, n_estimators=50;, score=(train=1.000, test=0.457) total time=   0.1s\n",
      "[CV 4/5] END bootstrap=False, max_depth=7, max_features=log2, min_samples_leaf=1, min_samples_split=10, n_estimators=50;, score=(train=0.977, test=0.614) total time=   0.1s\n",
      "[CV 5/5] END bootstrap=False, max_depth=7, max_features=log2, min_samples_leaf=1, min_samples_split=10, n_estimators=50;, score=(train=1.000, test=0.833) total time=   0.1s\n",
      "[CV 1/5] END bootstrap=True, max_depth=17, max_features=log2, min_samples_leaf=1, min_samples_split=2, n_estimators=5000;, score=(train=1.000, test=0.722) total time=  10.0s\n",
      "[CV 5/5] END bootstrap=True, max_depth=18, max_features=sqrt, min_samples_leaf=1, min_samples_split=2, n_estimators=1150;, score=(train=1.000, test=0.667) total time=   2.6s\n",
      "[CV 2/5] END bootstrap=True, max_depth=17, max_features=log2, min_samples_leaf=1, min_samples_split=2, n_estimators=5000;, score=(train=1.000, test=0.583) total time=  10.0s\n",
      "[CV 3/5] END bootstrap=True, max_depth=17, max_features=log2, min_samples_leaf=1, min_samples_split=2, n_estimators=5000;, score=(train=1.000, test=0.514) total time=   9.7s\n",
      "[CV 4/5] END bootstrap=True, max_depth=17, max_features=log2, min_samples_leaf=1, min_samples_split=2, n_estimators=5000;, score=(train=1.000, test=0.900) total time=  10.1s\n",
      "[CV 5/5] END bootstrap=True, max_depth=17, max_features=log2, min_samples_leaf=1, min_samples_split=2, n_estimators=5000;, score=(train=1.000, test=0.750) total time=  10.2s\n",
      "[CV 1/5] END bootstrap=True, max_depth=13, max_features=log2, min_samples_leaf=1, min_samples_split=2, n_estimators=2800;, score=(train=1.000, test=0.722) total time=   5.5s\n",
      "[CV 2/5] END bootstrap=True, max_depth=13, max_features=log2, min_samples_leaf=1, min_samples_split=2, n_estimators=2800;, score=(train=1.000, test=0.583) total time=   5.6s\n",
      "[CV 4/5] END bootstrap=True, max_depth=13, max_features=log2, min_samples_leaf=1, min_samples_split=2, n_estimators=2800;, score=(train=1.000, test=0.900) total time=   5.4s\n",
      "[CV 3/5] END bootstrap=True, max_depth=13, max_features=log2, min_samples_leaf=1, min_samples_split=2, n_estimators=2800;, score=(train=1.000, test=0.586) total time=   5.9s\n",
      "[CV 5/5] END bootstrap=True, max_depth=13, max_features=log2, min_samples_leaf=1, min_samples_split=2, n_estimators=2800;, score=(train=1.000, test=0.667) total time=   5.7s\n",
      "[CV 1/5] END bootstrap=True, max_depth=11, max_features=sqrt, min_samples_leaf=1, min_samples_split=2, n_estimators=3350;, score=(train=1.000, test=0.722) total time=   6.8s\n",
      "[CV 2/5] END bootstrap=True, max_depth=11, max_features=sqrt, min_samples_leaf=1, min_samples_split=2, n_estimators=3350;, score=(train=1.000, test=0.583) total time=   6.7s\n",
      "[CV 3/5] END bootstrap=True, max_depth=11, max_features=sqrt, min_samples_leaf=1, min_samples_split=2, n_estimators=3350;, score=(train=1.000, test=0.586) total time=   6.8s\n",
      "[CV 4/5] END bootstrap=True, max_depth=11, max_features=sqrt, min_samples_leaf=1, min_samples_split=2, n_estimators=3350;, score=(train=1.000, test=0.829) total time=   6.7s\n",
      "[CV 5/5] END bootstrap=True, max_depth=11, max_features=sqrt, min_samples_leaf=1, min_samples_split=2, n_estimators=3350;, score=(train=1.000, test=0.750) total time=   6.9s\n",
      "[CV 1/5] END bootstrap=True, max_depth=15, max_features=sqrt, min_samples_leaf=1, min_samples_split=2, n_estimators=4450;, score=(train=1.000, test=0.722) total time=   9.0s\n",
      "[CV 2/5] END bootstrap=True, max_depth=15, max_features=sqrt, min_samples_leaf=1, min_samples_split=2, n_estimators=4450;, score=(train=1.000, test=0.583) total time=   9.1s\n",
      "[CV 3/5] END bootstrap=True, max_depth=15, max_features=sqrt, min_samples_leaf=1, min_samples_split=2, n_estimators=4450;, score=(train=1.000, test=0.586) total time=   9.4s\n",
      "[CV 4/5] END bootstrap=True, max_depth=15, max_features=sqrt, min_samples_leaf=1, min_samples_split=2, n_estimators=4450;, score=(train=1.000, test=0.829) total time=   9.3s\n",
      "[CV 1/5] END bootstrap=True, max_depth=9, max_features=sqrt, min_samples_leaf=1, min_samples_split=2, n_estimators=4450;, score=(train=1.000, test=0.722) total time=   8.7s\n",
      "[CV 5/5] END bootstrap=True, max_depth=15, max_features=sqrt, min_samples_leaf=1, min_samples_split=2, n_estimators=4450;, score=(train=1.000, test=0.750) total time=   9.2s\n",
      "[CV 1/5] END bootstrap=True, max_depth=19, max_features=log2, min_samples_leaf=1, min_samples_split=2, n_estimators=1700;, score=(train=1.000, test=0.722) total time=   3.4s\n",
      "[CV 2/5] END bootstrap=True, max_depth=9, max_features=sqrt, min_samples_leaf=1, min_samples_split=2, n_estimators=4450;, score=(train=1.000, test=0.583) total time=   8.7s\n",
      "[CV 3/5] END bootstrap=True, max_depth=9, max_features=sqrt, min_samples_leaf=1, min_samples_split=2, n_estimators=4450;, score=(train=1.000, test=0.586) total time=   8.6s\n",
      "[CV 2/5] END bootstrap=True, max_depth=19, max_features=log2, min_samples_leaf=1, min_samples_split=2, n_estimators=1700;, score=(train=1.000, test=0.583) total time=   3.3s\n",
      "[CV 4/5] END bootstrap=True, max_depth=19, max_features=log2, min_samples_leaf=1, min_samples_split=2, n_estimators=1700;, score=(train=1.000, test=0.900) total time=   3.8s\n",
      "[CV 3/5] END bootstrap=True, max_depth=19, max_features=log2, min_samples_leaf=1, min_samples_split=2, n_estimators=1700;, score=(train=1.000, test=0.514) total time=   4.2s\n",
      "[CV 5/5] END bootstrap=True, max_depth=19, max_features=log2, min_samples_leaf=1, min_samples_split=2, n_estimators=1700;, score=(train=1.000, test=0.750) total time=   4.0s\n",
      "[CV 1/5] END bootstrap=False, max_depth=15, max_features=sqrt, min_samples_leaf=1, min_samples_split=2, n_estimators=50;, score=(train=1.000, test=0.667) total time=   0.1s\n",
      "[CV 2/5] END bootstrap=False, max_depth=15, max_features=sqrt, min_samples_leaf=1, min_samples_split=2, n_estimators=50;, score=(train=1.000, test=0.667) total time=   0.1s\n",
      "[CV 3/5] END bootstrap=False, max_depth=15, max_features=sqrt, min_samples_leaf=1, min_samples_split=2, n_estimators=50;, score=(train=1.000, test=0.414) total time=   0.1s\n",
      "[CV 4/5] END bootstrap=False, max_depth=15, max_features=sqrt, min_samples_leaf=1, min_samples_split=2, n_estimators=50;, score=(train=1.000, test=0.757) total time=   0.1s\n",
      "[CV 5/5] END bootstrap=False, max_depth=15, max_features=sqrt, min_samples_leaf=1, min_samples_split=2, n_estimators=50;, score=(train=1.000, test=0.833) total time=   0.1s\n",
      "[CV 4/5] END bootstrap=True, max_depth=9, max_features=sqrt, min_samples_leaf=1, min_samples_split=2, n_estimators=4450;, score=(train=1.000, test=0.757) total time=   9.4s\n",
      "[CV 5/5] END bootstrap=True, max_depth=9, max_features=sqrt, min_samples_leaf=1, min_samples_split=2, n_estimators=4450;, score=(train=1.000, test=0.750) total time=   9.7s\n",
      "[CV 1/5] END bootstrap=False, max_depth=13, max_features=log2, min_samples_leaf=1, min_samples_split=2, n_estimators=600;, score=(train=1.000, test=0.722) total time=   0.9s\n",
      "[CV 2/5] END bootstrap=False, max_depth=13, max_features=log2, min_samples_leaf=1, min_samples_split=2, n_estimators=600;, score=(train=1.000, test=0.500) total time=   0.9s\n",
      "[CV 3/5] END bootstrap=False, max_depth=13, max_features=log2, min_samples_leaf=1, min_samples_split=2, n_estimators=600;, score=(train=1.000, test=0.586) total time=   1.2s\n",
      "[CV 5/5] END bootstrap=False, max_depth=13, max_features=log2, min_samples_leaf=1, min_samples_split=2, n_estimators=600;, score=(train=1.000, test=0.750) total time=   1.0s\n",
      "[CV 4/5] END bootstrap=False, max_depth=13, max_features=log2, min_samples_leaf=1, min_samples_split=2, n_estimators=600;, score=(train=1.000, test=0.657) total time=   1.2s\n",
      "[CV 1/5] END bootstrap=False, max_depth=16, max_features=log2, min_samples_leaf=1, min_samples_split=2, n_estimators=4450;, score=(train=1.000, test=0.722) total time=   7.9s\n",
      "[CV 2/5] END bootstrap=False, max_depth=16, max_features=log2, min_samples_leaf=1, min_samples_split=2, n_estimators=4450;, score=(train=1.000, test=0.583) total time=   8.2s\n",
      "[CV 3/5] END bootstrap=False, max_depth=16, max_features=log2, min_samples_leaf=1, min_samples_split=2, n_estimators=4450;, score=(train=1.000, test=0.514) total time=   8.3s\n",
      "[CV 5/5] END bootstrap=False, max_depth=16, max_features=log2, min_samples_leaf=1, min_samples_split=2, n_estimators=4450;, score=(train=1.000, test=0.750) total time=   7.4s\n",
      "[CV 4/5] END bootstrap=False, max_depth=16, max_features=log2, min_samples_leaf=1, min_samples_split=2, n_estimators=4450;, score=(train=1.000, test=0.729) total time=   7.8s\n",
      "[CV 1/5] END bootstrap=False, max_depth=18, max_features=sqrt, min_samples_leaf=1, min_samples_split=10, n_estimators=2250;, score=(train=1.000, test=0.722) total time=   3.6s\n",
      "[CV 1/5] END bootstrap=False, max_depth=14, max_features=log2, min_samples_leaf=1, min_samples_split=2, n_estimators=4450;, score=(train=1.000, test=0.722) total time=   6.8s\n",
      "[CV 2/5] END bootstrap=False, max_depth=14, max_features=log2, min_samples_leaf=1, min_samples_split=2, n_estimators=4450;, score=(train=1.000, test=0.583) total time=   7.1s\n",
      "[CV 3/5] END bootstrap=False, max_depth=14, max_features=log2, min_samples_leaf=1, min_samples_split=2, n_estimators=4450;, score=(train=1.000, test=0.586) total time=   7.1s\n",
      "[CV 1/5] END bootstrap=True, max_depth=18, max_features=sqrt, min_samples_leaf=1, min_samples_split=2, n_estimators=50;, score=(train=1.000, test=0.667) total time=   0.1s\n",
      "[CV 2/5] END bootstrap=True, max_depth=18, max_features=sqrt, min_samples_leaf=1, min_samples_split=2, n_estimators=50;, score=(train=1.000, test=0.667) total time=   0.1s\n",
      "[CV 3/5] END bootstrap=True, max_depth=18, max_features=sqrt, min_samples_leaf=1, min_samples_split=2, n_estimators=50;, score=(train=1.000, test=0.586) total time=   0.1s\n",
      "[CV 4/5] END bootstrap=True, max_depth=18, max_features=sqrt, min_samples_leaf=1, min_samples_split=2, n_estimators=50;, score=(train=1.000, test=0.757) total time=   0.1s\n",
      "[CV 5/5] END bootstrap=True, max_depth=18, max_features=sqrt, min_samples_leaf=1, min_samples_split=2, n_estimators=50;, score=(train=1.000, test=0.750) total time=   0.1s\n",
      "[CV 1/5] END bootstrap=True, max_depth=20, max_features=None, min_samples_leaf=1, min_samples_split=2, n_estimators=50;, score=(train=1.000, test=0.889) total time=   0.2s\n",
      "[CV 2/5] END bootstrap=True, max_depth=20, max_features=None, min_samples_leaf=1, min_samples_split=2, n_estimators=50;, score=(train=1.000, test=0.917) total time=   0.2s\n",
      "[CV 3/5] END bootstrap=True, max_depth=20, max_features=None, min_samples_leaf=1, min_samples_split=2, n_estimators=50;, score=(train=1.000, test=0.657) total time=   0.2s\n",
      "[CV 2/5] END bootstrap=False, max_depth=18, max_features=sqrt, min_samples_leaf=1, min_samples_split=10, n_estimators=2250;, score=(train=1.000, test=0.583) total time=   3.4s\n",
      "[CV 4/5] END bootstrap=True, max_depth=20, max_features=None, min_samples_leaf=1, min_samples_split=2, n_estimators=50;, score=(train=1.000, test=0.757) total time=   0.2s\n",
      "[CV 4/5] END bootstrap=False, max_depth=14, max_features=log2, min_samples_leaf=1, min_samples_split=2, n_estimators=4450;, score=(train=1.000, test=0.829) total time=   6.4s\n",
      "[CV 5/5] END bootstrap=True, max_depth=20, max_features=None, min_samples_leaf=1, min_samples_split=2, n_estimators=50;, score=(train=1.000, test=0.833) total time=   0.2s\n",
      "[CV 3/5] END bootstrap=False, max_depth=18, max_features=sqrt, min_samples_leaf=1, min_samples_split=10, n_estimators=2250;, score=(train=1.000, test=0.586) total time=   3.5s\n",
      "[CV 5/5] END bootstrap=False, max_depth=14, max_features=log2, min_samples_leaf=1, min_samples_split=2, n_estimators=4450;, score=(train=1.000, test=0.750) total time=   6.3s\n",
      "[CV 4/5] END bootstrap=False, max_depth=18, max_features=sqrt, min_samples_leaf=1, min_samples_split=10, n_estimators=2250;, score=(train=1.000, test=0.829) total time=   2.4s\n",
      "[CV 5/5] END bootstrap=False, max_depth=18, max_features=sqrt, min_samples_leaf=1, min_samples_split=10, n_estimators=2250;, score=(train=1.000, test=0.750) total time=   2.4s\n",
      "----------\n",
      "iter: 2\n",
      "n_candidates: 28\n",
      "n_resources: 180\n",
      "Fitting 5 folds for each of 28 candidates, totalling 140 fits\n",
      "[CV 1/5] END bootstrap=False, max_depth=15, max_features=None, min_samples_leaf=1, min_samples_split=10, n_estimators=50;, score=(train=0.981, test=0.856) total time=   0.4s\n",
      "[CV 3/5] END bootstrap=False, max_depth=15, max_features=None, min_samples_leaf=1, min_samples_split=10, n_estimators=50;, score=(train=0.986, test=0.833) total time=   0.4s\n",
      "[CV 2/5] END bootstrap=False, max_depth=15, max_features=None, min_samples_leaf=1, min_samples_split=10, n_estimators=50;, score=(train=0.972, test=0.919) total time=   0.5s\n",
      "[CV 4/5] END bootstrap=False, max_depth=15, max_features=None, min_samples_leaf=1, min_samples_split=10, n_estimators=50;, score=(train=0.966, test=0.634) total time=   0.6s\n",
      "[CV 5/5] END bootstrap=False, max_depth=15, max_features=None, min_samples_leaf=1, min_samples_split=10, n_estimators=50;, score=(train=0.952, test=0.666) total time=   0.6s\n",
      "[CV 5/5] END bootstrap=False, max_depth=15, max_features=None, min_samples_leaf=1, min_samples_split=10, n_estimators=600;, score=(train=0.952, test=0.666) total time=   5.8s\n",
      "[CV 1/5] END bootstrap=False, max_depth=15, max_features=None, min_samples_leaf=1, min_samples_split=10, n_estimators=600;, score=(train=0.981, test=0.856) total time=   6.1s\n",
      "[CV 3/5] END bootstrap=False, max_depth=15, max_features=None, min_samples_leaf=1, min_samples_split=10, n_estimators=600;, score=(train=0.986, test=0.807) total time=   6.5s\n",
      "[CV 2/5] END bootstrap=False, max_depth=15, max_features=None, min_samples_leaf=1, min_samples_split=10, n_estimators=600;, score=(train=0.972, test=0.919) total time=   6.8s\n",
      "[CV 4/5] END bootstrap=False, max_depth=15, max_features=None, min_samples_leaf=1, min_samples_split=10, n_estimators=600;, score=(train=0.966, test=0.634) total time=   6.8s\n",
      "[CV 1/5] END bootstrap=False, max_depth=10, max_features=None, min_samples_leaf=1, min_samples_split=10, n_estimators=4450;, score=(train=0.981, test=0.856) total time=  43.7s\n",
      "[CV 1/5] END bootstrap=False, max_depth=10, max_features=None, min_samples_leaf=1, min_samples_split=10, n_estimators=5000;, score=(train=0.981, test=0.856) total time=  49.8s\n",
      "[CV 3/5] END bootstrap=False, max_depth=10, max_features=None, min_samples_leaf=1, min_samples_split=10, n_estimators=5000;, score=(train=0.986, test=0.807) total time=  52.5s\n",
      "[CV 3/5] END bootstrap=False, max_depth=10, max_features=None, min_samples_leaf=1, min_samples_split=10, n_estimators=4450;, score=(train=0.986, test=0.807) total time=  48.0s\n",
      "[CV 5/5] END bootstrap=False, max_depth=10, max_features=None, min_samples_leaf=1, min_samples_split=10, n_estimators=5000;, score=(train=0.952, test=0.666) total time=  49.1s\n",
      "[CV 2/5] END bootstrap=False, max_depth=10, max_features=None, min_samples_leaf=1, min_samples_split=10, n_estimators=4450;, score=(train=0.972, test=0.919) total time=  50.0s\n",
      "[CV 2/5] END bootstrap=False, max_depth=10, max_features=None, min_samples_leaf=1, min_samples_split=10, n_estimators=5000;, score=(train=0.972, test=0.919) total time=  56.1s\n",
      "[CV 4/5] END bootstrap=False, max_depth=10, max_features=None, min_samples_leaf=1, min_samples_split=10, n_estimators=5000;, score=(train=0.966, test=0.634) total time=  57.0s\n",
      "[CV 1/5] END bootstrap=False, max_depth=7, max_features=None, min_samples_leaf=1, min_samples_split=10, n_estimators=1150;, score=(train=0.981, test=0.856) total time=  10.3s\n",
      "[CV 2/5] END bootstrap=False, max_depth=7, max_features=None, min_samples_leaf=1, min_samples_split=10, n_estimators=1150;, score=(train=0.950, test=0.919) total time=  11.0s\n",
      "[CV 3/5] END bootstrap=False, max_depth=7, max_features=None, min_samples_leaf=1, min_samples_split=10, n_estimators=1150;, score=(train=0.966, test=0.777) total time=  10.9s\n",
      "[CV 5/5] END bootstrap=False, max_depth=7, max_features=None, min_samples_leaf=1, min_samples_split=10, n_estimators=1150;, score=(train=0.952, test=0.666) total time=  10.4s\n",
      "[CV 4/5] END bootstrap=False, max_depth=7, max_features=None, min_samples_leaf=1, min_samples_split=10, n_estimators=1150;, score=(train=0.966, test=0.634) total time=  11.6s\n",
      "[CV 1/5] END bootstrap=False, max_depth=13, max_features=None, min_samples_leaf=1, min_samples_split=10, n_estimators=1150;, score=(train=0.981, test=0.856) total time=   9.9s\n",
      "[CV 2/5] END bootstrap=False, max_depth=13, max_features=None, min_samples_leaf=1, min_samples_split=10, n_estimators=1150;, score=(train=0.972, test=0.919) total time=  12.3s\n",
      "[CV 5/5] END bootstrap=False, max_depth=10, max_features=None, min_samples_leaf=1, min_samples_split=10, n_estimators=4450;, score=(train=0.952, test=0.666) total time=  41.6s\n",
      "[CV 4/5] END bootstrap=False, max_depth=10, max_features=None, min_samples_leaf=1, min_samples_split=10, n_estimators=4450;, score=(train=0.966, test=0.634) total time=  49.4s\n",
      "[CV 3/5] END bootstrap=False, max_depth=13, max_features=None, min_samples_leaf=1, min_samples_split=10, n_estimators=1150;, score=(train=0.986, test=0.807) total time=  13.6s\n",
      "[CV 1/5] END bootstrap=False, max_depth=7, max_features=None, min_samples_leaf=1, min_samples_split=10, n_estimators=4450;, score=(train=0.981, test=0.856) total time=  42.6s\n",
      "[CV 4/5] END bootstrap=False, max_depth=13, max_features=None, min_samples_leaf=1, min_samples_split=10, n_estimators=1150;, score=(train=0.966, test=0.634) total time=  14.1s\n",
      "[CV 2/5] END bootstrap=False, max_depth=7, max_features=None, min_samples_leaf=1, min_samples_split=10, n_estimators=4450;, score=(train=0.950, test=0.919) total time=  43.3s\n",
      "[CV 3/5] END bootstrap=False, max_depth=7, max_features=None, min_samples_leaf=1, min_samples_split=10, n_estimators=4450;, score=(train=0.966, test=0.777) total time=  43.7s\n",
      "[CV 5/5] END bootstrap=False, max_depth=13, max_features=None, min_samples_leaf=1, min_samples_split=10, n_estimators=1150;, score=(train=0.952, test=0.666) total time=  11.7s\n",
      "[CV 5/5] END bootstrap=False, max_depth=7, max_features=None, min_samples_leaf=1, min_samples_split=10, n_estimators=4450;, score=(train=0.952, test=0.666) total time=  44.1s\n",
      "[CV 4/5] END bootstrap=False, max_depth=7, max_features=None, min_samples_leaf=1, min_samples_split=10, n_estimators=4450;, score=(train=0.966, test=0.634) total time=  47.1s\n",
      "[CV 1/5] END bootstrap=True, max_depth=11, max_features=None, min_samples_leaf=1, min_samples_split=10, n_estimators=600;, score=(train=1.000, test=0.887) total time=   4.7s\n",
      "[CV 2/5] END bootstrap=True, max_depth=11, max_features=None, min_samples_leaf=1, min_samples_split=10, n_estimators=600;, score=(train=1.000, test=0.919) total time=   4.9s\n",
      "[CV 3/5] END bootstrap=True, max_depth=11, max_features=None, min_samples_leaf=1, min_samples_split=10, n_estimators=600;, score=(train=1.000, test=0.830) total time=   4.7s\n",
      "[CV 4/5] END bootstrap=True, max_depth=11, max_features=None, min_samples_leaf=1, min_samples_split=10, n_estimators=600;, score=(train=1.000, test=0.677) total time=   4.8s\n",
      "[CV 5/5] END bootstrap=True, max_depth=11, max_features=None, min_samples_leaf=1, min_samples_split=10, n_estimators=600;, score=(train=1.000, test=0.769) total time=   4.8s\n",
      "[CV 1/5] END bootstrap=True, max_depth=2, max_features=None, min_samples_leaf=1, min_samples_split=10, n_estimators=1150;, score=(train=0.846, test=0.912) total time=   6.8s\n",
      "[CV 2/5] END bootstrap=True, max_depth=2, max_features=None, min_samples_leaf=1, min_samples_split=10, n_estimators=1150;, score=(train=0.826, test=0.943) total time=   6.4s\n",
      "[CV 3/5] END bootstrap=True, max_depth=2, max_features=None, min_samples_leaf=1, min_samples_split=10, n_estimators=1150;, score=(train=0.846, test=0.830) total time=   7.0s\n",
      "[CV 4/5] END bootstrap=True, max_depth=2, max_features=None, min_samples_leaf=1, min_samples_split=10, n_estimators=1150;, score=(train=0.867, test=0.716) total time=   6.6s\n",
      "[CV 5/5] END bootstrap=True, max_depth=2, max_features=None, min_samples_leaf=1, min_samples_split=10, n_estimators=1150;, score=(train=0.848, test=0.769) total time=   6.5s\n",
      "[CV 1/5] END bootstrap=True, max_depth=2, max_features=None, min_samples_leaf=1, min_samples_split=10, n_estimators=1700;, score=(train=0.846, test=0.887) total time=   9.7s\n",
      "[CV 2/5] END bootstrap=True, max_depth=2, max_features=None, min_samples_leaf=1, min_samples_split=10, n_estimators=1700;, score=(train=0.826, test=0.943) total time=   9.5s\n",
      "[CV 3/5] END bootstrap=True, max_depth=2, max_features=None, min_samples_leaf=1, min_samples_split=10, n_estimators=1700;, score=(train=0.840, test=0.800) total time=   9.2s\n",
      "[CV 4/5] END bootstrap=True, max_depth=2, max_features=None, min_samples_leaf=1, min_samples_split=10, n_estimators=1700;, score=(train=0.861, test=0.716) total time=   8.7s\n",
      "[CV 5/5] END bootstrap=True, max_depth=2, max_features=None, min_samples_leaf=1, min_samples_split=10, n_estimators=1700;, score=(train=0.848, test=0.769) total time=   8.6s\n",
      "[CV 1/5] END bootstrap=False, max_depth=10, max_features=None, min_samples_leaf=1, min_samples_split=10, n_estimators=5000;, score=(train=0.981, test=0.856) total time=  50.4s\n",
      "[CV 5/5] END bootstrap=False, max_depth=10, max_features=None, min_samples_leaf=1, min_samples_split=10, n_estimators=5000;, score=(train=0.952, test=0.666) total time=  48.8s\n",
      "[CV 3/5] END bootstrap=False, max_depth=10, max_features=None, min_samples_leaf=1, min_samples_split=10, n_estimators=5000;, score=(train=0.986, test=0.807) total time=  52.3s\n",
      "[CV 1/5] END bootstrap=True, max_depth=14, max_features=None, min_samples_leaf=1, min_samples_split=2, n_estimators=2250;, score=(train=1.000, test=0.887) total time=  15.8s\n",
      "[CV 2/5] END bootstrap=False, max_depth=10, max_features=None, min_samples_leaf=1, min_samples_split=10, n_estimators=5000;, score=(train=0.972, test=0.919) total time=  57.0s\n",
      "[CV 2/5] END bootstrap=True, max_depth=14, max_features=None, min_samples_leaf=1, min_samples_split=2, n_estimators=2250;, score=(train=1.000, test=0.919) total time=  17.1s\n",
      "[CV 4/5] END bootstrap=False, max_depth=10, max_features=None, min_samples_leaf=1, min_samples_split=10, n_estimators=5000;, score=(train=0.966, test=0.634) total time=  57.6s\n",
      "[CV 3/5] END bootstrap=True, max_depth=14, max_features=None, min_samples_leaf=1, min_samples_split=2, n_estimators=2250;, score=(train=1.000, test=0.830) total time=  17.6s\n",
      "[CV 4/5] END bootstrap=True, max_depth=14, max_features=None, min_samples_leaf=1, min_samples_split=2, n_estimators=2250;, score=(train=1.000, test=0.677) total time=  16.9s\n",
      "[CV 1/5] END bootstrap=True, max_depth=16, max_features=None, min_samples_leaf=1, min_samples_split=10, n_estimators=2250;, score=(train=1.000, test=0.887) total time=  16.7s\n",
      "[CV 5/5] END bootstrap=True, max_depth=14, max_features=None, min_samples_leaf=1, min_samples_split=2, n_estimators=2250;, score=(train=1.000, test=0.769) total time=  18.2s\n",
      "[CV 2/5] END bootstrap=True, max_depth=16, max_features=None, min_samples_leaf=1, min_samples_split=10, n_estimators=2250;, score=(train=1.000, test=0.919) total time=  19.5s\n",
      "[CV 1/5] END bootstrap=True, max_depth=9, max_features=None, min_samples_leaf=1, min_samples_split=2, n_estimators=1700;, score=(train=1.000, test=0.887) total time=  14.7s\n",
      "[CV 3/5] END bootstrap=True, max_depth=16, max_features=None, min_samples_leaf=1, min_samples_split=10, n_estimators=2250;, score=(train=1.000, test=0.800) total time=  19.3s\n",
      "[CV 5/5] END bootstrap=True, max_depth=16, max_features=None, min_samples_leaf=1, min_samples_split=10, n_estimators=2250;, score=(train=1.000, test=0.769) total time=  19.1s\n",
      "[CV 4/5] END bootstrap=True, max_depth=16, max_features=None, min_samples_leaf=1, min_samples_split=10, n_estimators=2250;, score=(train=1.000, test=0.677) total time=  20.2s\n",
      "[CV 2/5] END bootstrap=True, max_depth=9, max_features=None, min_samples_leaf=1, min_samples_split=2, n_estimators=1700;, score=(train=1.000, test=0.919) total time=  16.5s\n",
      "[CV 3/5] END bootstrap=True, max_depth=9, max_features=None, min_samples_leaf=1, min_samples_split=2, n_estimators=1700;, score=(train=1.000, test=0.800) total time=  16.7s\n",
      "[CV 4/5] END bootstrap=True, max_depth=9, max_features=None, min_samples_leaf=1, min_samples_split=2, n_estimators=1700;, score=(train=1.000, test=0.677) total time=  15.8s\n",
      "[CV 5/5] END bootstrap=True, max_depth=9, max_features=None, min_samples_leaf=1, min_samples_split=2, n_estimators=1700;, score=(train=1.000, test=0.769) total time=  15.7s\n",
      "[CV 1/5] END bootstrap=True, max_depth=8, max_features=None, min_samples_leaf=1, min_samples_split=2, n_estimators=3900;, score=(train=1.000, test=0.887) total time=  32.5s\n",
      "[CV 1/5] END bootstrap=True, max_depth=10, max_features=None, min_samples_leaf=1, min_samples_split=2, n_estimators=5000;, score=(train=1.000, test=0.887) total time=  42.8s\n",
      "[CV 2/5] END bootstrap=True, max_depth=8, max_features=None, min_samples_leaf=1, min_samples_split=2, n_estimators=3900;, score=(train=1.000, test=0.919) total time=  33.8s\n",
      "[CV 2/5] END bootstrap=True, max_depth=10, max_features=None, min_samples_leaf=1, min_samples_split=2, n_estimators=5000;, score=(train=1.000, test=0.919) total time=  44.5s\n",
      "[CV 3/5] END bootstrap=True, max_depth=10, max_features=None, min_samples_leaf=1, min_samples_split=2, n_estimators=5000;, score=(train=1.000, test=0.800) total time=  44.6s\n",
      "[CV 4/5] END bootstrap=True, max_depth=10, max_features=None, min_samples_leaf=1, min_samples_split=2, n_estimators=5000;, score=(train=1.000, test=0.677) total time=  44.0s\n",
      "[CV 3/5] END bootstrap=True, max_depth=8, max_features=None, min_samples_leaf=1, min_samples_split=2, n_estimators=3900;, score=(train=1.000, test=0.830) total time=  34.5s\n",
      "[CV 5/5] END bootstrap=True, max_depth=10, max_features=None, min_samples_leaf=1, min_samples_split=2, n_estimators=5000;, score=(train=1.000, test=0.769) total time=  42.7s\n",
      "[CV 4/5] END bootstrap=True, max_depth=8, max_features=None, min_samples_leaf=1, min_samples_split=2, n_estimators=3900;, score=(train=1.000, test=0.677) total time=  32.5s\n",
      "[CV 5/5] END bootstrap=True, max_depth=8, max_features=None, min_samples_leaf=1, min_samples_split=2, n_estimators=3900;, score=(train=1.000, test=0.769) total time=  32.8s\n",
      "[CV 1/5] END bootstrap=True, max_depth=15, max_features=None, min_samples_leaf=1, min_samples_split=10, n_estimators=4450;, score=(train=1.000, test=0.887) total time=  35.1s\n",
      "[CV 2/5] END bootstrap=True, max_depth=15, max_features=None, min_samples_leaf=1, min_samples_split=10, n_estimators=4450;, score=(train=1.000, test=0.919) total time=  36.5s\n",
      "[CV 5/5] END bootstrap=True, max_depth=15, max_features=None, min_samples_leaf=1, min_samples_split=10, n_estimators=4450;, score=(train=1.000, test=0.769) total time=  36.4s\n",
      "[CV 3/5] END bootstrap=True, max_depth=15, max_features=None, min_samples_leaf=1, min_samples_split=10, n_estimators=4450;, score=(train=1.000, test=0.830) total time=  37.1s\n",
      "[CV 4/5] END bootstrap=True, max_depth=15, max_features=None, min_samples_leaf=1, min_samples_split=10, n_estimators=4450;, score=(train=1.000, test=0.677) total time=  37.1s\n",
      "[CV 1/5] END bootstrap=True, max_depth=20, max_features=None, min_samples_leaf=1, min_samples_split=2, n_estimators=50;, score=(train=1.000, test=0.863) total time=   0.6s\n",
      "[CV 2/5] END bootstrap=True, max_depth=20, max_features=None, min_samples_leaf=1, min_samples_split=2, n_estimators=50;, score=(train=1.000, test=0.919) total time=   0.5s\n",
      "[CV 3/5] END bootstrap=True, max_depth=20, max_features=None, min_samples_leaf=1, min_samples_split=2, n_estimators=50;, score=(train=1.000, test=0.830) total time=   0.6s\n",
      "[CV 4/5] END bootstrap=True, max_depth=20, max_features=None, min_samples_leaf=1, min_samples_split=2, n_estimators=50;, score=(train=1.000, test=0.656) total time=   0.5s\n",
      "[CV 5/5] END bootstrap=True, max_depth=20, max_features=None, min_samples_leaf=1, min_samples_split=2, n_estimators=50;, score=(train=0.994, test=0.841) total time=   0.4s\n",
      "[CV 1/5] END bootstrap=True, max_depth=10, max_features=None, min_samples_leaf=1, min_samples_split=10, n_estimators=5000;, score=(train=1.000, test=0.887) total time=  39.7s\n",
      "[CV 1/5] END bootstrap=True, max_depth=11, max_features=None, min_samples_leaf=1, min_samples_split=10, n_estimators=2250;, score=(train=1.000, test=0.887) total time=  17.6s\n",
      "[CV 2/5] END bootstrap=True, max_depth=11, max_features=None, min_samples_leaf=1, min_samples_split=10, n_estimators=2250;, score=(train=1.000, test=0.919) total time=  18.7s\n",
      "[CV 3/5] END bootstrap=True, max_depth=11, max_features=None, min_samples_leaf=1, min_samples_split=10, n_estimators=2250;, score=(train=1.000, test=0.830) total time=  18.7s\n",
      "[CV 4/5] END bootstrap=True, max_depth=11, max_features=None, min_samples_leaf=1, min_samples_split=10, n_estimators=2250;, score=(train=1.000, test=0.677) total time=  17.8s\n",
      "[CV 2/5] END bootstrap=True, max_depth=10, max_features=None, min_samples_leaf=1, min_samples_split=10, n_estimators=5000;, score=(train=1.000, test=0.919) total time=  40.5s\n",
      "[CV 3/5] END bootstrap=True, max_depth=10, max_features=None, min_samples_leaf=1, min_samples_split=10, n_estimators=5000;, score=(train=1.000, test=0.830) total time=  40.2s\n",
      "[CV 5/5] END bootstrap=True, max_depth=11, max_features=None, min_samples_leaf=1, min_samples_split=10, n_estimators=2250;, score=(train=1.000, test=0.769) total time=  17.7s\n",
      "[CV 5/5] END bootstrap=True, max_depth=10, max_features=None, min_samples_leaf=1, min_samples_split=10, n_estimators=5000;, score=(train=1.000, test=0.769) total time=  39.3s\n",
      "[CV 4/5] END bootstrap=True, max_depth=10, max_features=None, min_samples_leaf=1, min_samples_split=10, n_estimators=5000;, score=(train=1.000, test=0.677) total time=  41.0s\n",
      "[CV 1/5] END bootstrap=True, max_depth=13, max_features=None, min_samples_leaf=1, min_samples_split=10, n_estimators=2800;, score=(train=1.000, test=0.887) total time=  20.5s\n",
      "[CV 2/5] END bootstrap=True, max_depth=13, max_features=None, min_samples_leaf=1, min_samples_split=10, n_estimators=2800;, score=(train=1.000, test=0.919) total time=  22.5s\n",
      "[CV 3/5] END bootstrap=True, max_depth=13, max_features=None, min_samples_leaf=1, min_samples_split=10, n_estimators=2800;, score=(train=1.000, test=0.830) total time=  22.3s\n",
      "[CV 5/5] END bootstrap=True, max_depth=13, max_features=None, min_samples_leaf=1, min_samples_split=10, n_estimators=2800;, score=(train=1.000, test=0.769) total time=  21.7s\n",
      "[CV 4/5] END bootstrap=True, max_depth=13, max_features=None, min_samples_leaf=1, min_samples_split=10, n_estimators=2800;, score=(train=1.000, test=0.677) total time=  22.2s\n",
      "[CV 1/5] END bootstrap=True, max_depth=13, max_features=None, min_samples_leaf=1, min_samples_split=10, n_estimators=2800;, score=(train=1.000, test=0.887) total time=  20.5s\n",
      "[CV 2/5] END bootstrap=True, max_depth=13, max_features=None, min_samples_leaf=1, min_samples_split=10, n_estimators=2800;, score=(train=1.000, test=0.919) total time=  21.1s\n",
      "[CV 3/5] END bootstrap=True, max_depth=13, max_features=None, min_samples_leaf=1, min_samples_split=10, n_estimators=2800;, score=(train=1.000, test=0.830) total time=  22.2s\n",
      "[CV 4/5] END bootstrap=True, max_depth=13, max_features=None, min_samples_leaf=1, min_samples_split=10, n_estimators=2800;, score=(train=1.000, test=0.677) total time=  22.1s\n",
      "[CV 5/5] END bootstrap=True, max_depth=13, max_features=None, min_samples_leaf=1, min_samples_split=10, n_estimators=2800;, score=(train=1.000, test=0.769) total time=  21.8s\n",
      "[CV 1/5] END bootstrap=True, max_depth=11, max_features=None, min_samples_leaf=1, min_samples_split=10, n_estimators=2800;, score=(train=1.000, test=0.887) total time=  20.8s\n",
      "[CV 1/5] END bootstrap=True, max_depth=3, max_features=None, min_samples_leaf=1, min_samples_split=10, n_estimators=2250;, score=(train=0.902, test=0.887) total time=  14.6s\n",
      "[CV 2/5] END bootstrap=True, max_depth=11, max_features=None, min_samples_leaf=1, min_samples_split=10, n_estimators=2800;, score=(train=1.000, test=0.919) total time=  23.1s\n",
      "[CV 2/5] END bootstrap=True, max_depth=3, max_features=None, min_samples_leaf=1, min_samples_split=10, n_estimators=2250;, score=(train=0.888, test=0.943) total time=  14.7s\n",
      "[CV 3/5] END bootstrap=True, max_depth=11, max_features=None, min_samples_leaf=1, min_samples_split=10, n_estimators=2800;, score=(train=1.000, test=0.830) total time=  23.2s\n",
      "[CV 3/5] END bootstrap=True, max_depth=3, max_features=None, min_samples_leaf=1, min_samples_split=10, n_estimators=2250;, score=(train=0.868, test=0.800) total time=  15.3s\n",
      "[CV 4/5] END bootstrap=True, max_depth=11, max_features=None, min_samples_leaf=1, min_samples_split=10, n_estimators=2800;, score=(train=1.000, test=0.677) total time=  23.9s\n",
      "[CV 5/5] END bootstrap=True, max_depth=11, max_features=None, min_samples_leaf=1, min_samples_split=10, n_estimators=2800;, score=(train=1.000, test=0.769) total time=  22.6s\n",
      "[CV 4/5] END bootstrap=True, max_depth=3, max_features=None, min_samples_leaf=1, min_samples_split=10, n_estimators=2250;, score=(train=0.908, test=0.677) total time=  15.8s\n",
      "[CV 5/5] END bootstrap=True, max_depth=3, max_features=None, min_samples_leaf=1, min_samples_split=10, n_estimators=2250;, score=(train=0.875, test=0.769) total time=  15.3s\n",
      "[CV 1/5] END bootstrap=True, max_depth=19, max_features=None, min_samples_leaf=1, min_samples_split=2, n_estimators=1700;, score=(train=1.000, test=0.887) total time=  13.2s\n",
      "[CV 2/5] END bootstrap=True, max_depth=19, max_features=None, min_samples_leaf=1, min_samples_split=2, n_estimators=1700;, score=(train=1.000, test=0.919) total time=  13.9s\n",
      "[CV 3/5] END bootstrap=True, max_depth=19, max_features=None, min_samples_leaf=1, min_samples_split=2, n_estimators=1700;, score=(train=1.000, test=0.800) total time=  13.8s\n",
      "[CV 4/5] END bootstrap=True, max_depth=19, max_features=None, min_samples_leaf=1, min_samples_split=2, n_estimators=1700;, score=(train=1.000, test=0.677) total time=  13.4s\n",
      "[CV 5/5] END bootstrap=True, max_depth=19, max_features=None, min_samples_leaf=1, min_samples_split=2, n_estimators=1700;, score=(train=1.000, test=0.769) total time=  13.2s\n",
      "[CV 1/5] END bootstrap=True, max_depth=20, max_features=None, min_samples_leaf=1, min_samples_split=10, n_estimators=600;, score=(train=1.000, test=0.887) total time=   4.3s\n",
      "[CV 1/5] END bootstrap=True, max_depth=15, max_features=None, min_samples_leaf=1, min_samples_split=10, n_estimators=2250;, score=(train=1.000, test=0.887) total time=  16.3s\n",
      "[CV 2/5] END bootstrap=True, max_depth=20, max_features=None, min_samples_leaf=1, min_samples_split=10, n_estimators=600;, score=(train=1.000, test=0.919) total time=   4.4s\n",
      "[CV 3/5] END bootstrap=True, max_depth=20, max_features=None, min_samples_leaf=1, min_samples_split=10, n_estimators=600;, score=(train=1.000, test=0.800) total time=   4.6s\n",
      "[CV 2/5] END bootstrap=True, max_depth=15, max_features=None, min_samples_leaf=1, min_samples_split=10, n_estimators=2250;, score=(train=1.000, test=0.919) total time=  17.3s\n",
      "[CV 4/5] END bootstrap=True, max_depth=20, max_features=None, min_samples_leaf=1, min_samples_split=10, n_estimators=600;, score=(train=1.000, test=0.677) total time=   5.2s\n",
      "[CV 5/5] END bootstrap=True, max_depth=20, max_features=None, min_samples_leaf=1, min_samples_split=10, n_estimators=600;, score=(train=1.000, test=0.769) total time=   5.0s\n",
      "[CV 3/5] END bootstrap=True, max_depth=15, max_features=None, min_samples_leaf=1, min_samples_split=10, n_estimators=2250;, score=(train=1.000, test=0.800) total time=  18.9s\n",
      "[CV 4/5] END bootstrap=True, max_depth=15, max_features=None, min_samples_leaf=1, min_samples_split=10, n_estimators=2250;, score=(train=1.000, test=0.677) total time=  18.8s\n",
      "[CV 5/5] END bootstrap=True, max_depth=15, max_features=None, min_samples_leaf=1, min_samples_split=10, n_estimators=2250;, score=(train=1.000, test=0.769) total time=  18.0s\n",
      "[CV 1/5] END bootstrap=True, max_depth=17, max_features=None, min_samples_leaf=1, min_samples_split=10, n_estimators=3350;, score=(train=1.000, test=0.887) total time=  24.5s\n",
      "[CV 2/5] END bootstrap=True, max_depth=17, max_features=None, min_samples_leaf=1, min_samples_split=10, n_estimators=3350;, score=(train=1.000, test=0.919) total time=  25.4s\n",
      "[CV 3/5] END bootstrap=True, max_depth=17, max_features=None, min_samples_leaf=1, min_samples_split=10, n_estimators=3350;, score=(train=1.000, test=0.830) total time=  25.0s\n",
      "[CV 4/5] END bootstrap=True, max_depth=17, max_features=None, min_samples_leaf=1, min_samples_split=10, n_estimators=3350;, score=(train=1.000, test=0.677) total time=  24.3s\n",
      "[CV 5/5] END bootstrap=True, max_depth=17, max_features=None, min_samples_leaf=1, min_samples_split=10, n_estimators=3350;, score=(train=1.000, test=0.769) total time=  23.4s\n",
      "----------\n",
      "iter: 3\n",
      "n_candidates: 10\n",
      "n_resources: 540\n",
      "Fitting 5 folds for each of 10 candidates, totalling 50 fits\n",
      "[CV 2/5] END bootstrap=True, max_depth=11, max_features=None, min_samples_leaf=1, min_samples_split=10, n_estimators=2250;, score=(train=0.987, test=0.841) total time= 1.1min\n",
      "[CV 3/5] END bootstrap=True, max_depth=11, max_features=None, min_samples_leaf=1, min_samples_split=10, n_estimators=2250;, score=(train=1.000, test=0.790) total time= 1.1min\n",
      "[CV 1/5] END bootstrap=True, max_depth=11, max_features=None, min_samples_leaf=1, min_samples_split=10, n_estimators=2250;, score=(train=0.998, test=0.851) total time= 1.2min\n",
      "[CV 4/5] END bootstrap=True, max_depth=11, max_features=None, min_samples_leaf=1, min_samples_split=10, n_estimators=2250;, score=(train=1.000, test=0.832) total time= 1.4min\n",
      "[CV 5/5] END bootstrap=True, max_depth=11, max_features=None, min_samples_leaf=1, min_samples_split=10, n_estimators=2250;, score=(train=1.000, test=0.828) total time= 1.4min\n",
      "[CV 5/5] END bootstrap=True, max_depth=10, max_features=None, min_samples_leaf=1, min_samples_split=10, n_estimators=5000;, score=(train=1.000, test=0.828) total time= 2.6min\n",
      "[CV 4/5] END bootstrap=True, max_depth=10, max_features=None, min_samples_leaf=1, min_samples_split=10, n_estimators=5000;, score=(train=0.986, test=0.832) total time= 2.7min\n",
      "[CV 2/5] END bootstrap=True, max_depth=10, max_features=None, min_samples_leaf=1, min_samples_split=10, n_estimators=5000;, score=(train=0.984, test=0.841) total time= 2.7min\n",
      "[CV 3/5] END bootstrap=True, max_depth=10, max_features=None, min_samples_leaf=1, min_samples_split=10, n_estimators=5000;, score=(train=0.998, test=0.790) total time= 2.8min\n",
      "[CV 1/5] END bootstrap=True, max_depth=10, max_features=None, min_samples_leaf=1, min_samples_split=10, n_estimators=5000;, score=(train=0.991, test=0.841) total time= 2.9min\n",
      "[CV 1/5] END bootstrap=True, max_depth=13, max_features=None, min_samples_leaf=1, min_samples_split=10, n_estimators=2800;, score=(train=1.000, test=0.831) total time= 1.8min\n",
      "[CV 2/5] END bootstrap=True, max_depth=13, max_features=None, min_samples_leaf=1, min_samples_split=10, n_estimators=2800;, score=(train=1.000, test=0.841) total time= 1.5min\n",
      "[CV 3/5] END bootstrap=True, max_depth=13, max_features=None, min_samples_leaf=1, min_samples_split=10, n_estimators=2800;, score=(train=1.000, test=0.790) total time= 1.5min\n",
      "[CV 5/5] END bootstrap=True, max_depth=13, max_features=None, min_samples_leaf=1, min_samples_split=10, n_estimators=2800;, score=(train=1.000, test=0.828) total time= 1.4min\n",
      "[CV 4/5] END bootstrap=True, max_depth=13, max_features=None, min_samples_leaf=1, min_samples_split=10, n_estimators=2800;, score=(train=1.000, test=0.832) total time= 1.5min\n",
      "[CV 2/5] END bootstrap=True, max_depth=13, max_features=None, min_samples_leaf=1, min_samples_split=10, n_estimators=2800;, score=(train=1.000, test=0.850) total time= 1.5min\n",
      "[CV 1/5] END bootstrap=True, max_depth=13, max_features=None, min_samples_leaf=1, min_samples_split=10, n_estimators=2800;, score=(train=1.000, test=0.860) total time= 1.5min\n",
      "[CV 3/5] END bootstrap=True, max_depth=13, max_features=None, min_samples_leaf=1, min_samples_split=10, n_estimators=2800;, score=(train=1.000, test=0.787) total time= 1.5min\n",
      "[CV 4/5] END bootstrap=True, max_depth=13, max_features=None, min_samples_leaf=1, min_samples_split=10, n_estimators=2800;, score=(train=1.000, test=0.832) total time= 1.5min\n",
      "[CV 1/5] END bootstrap=True, max_depth=11, max_features=None, min_samples_leaf=1, min_samples_split=10, n_estimators=600;, score=(train=0.996, test=0.850) total time=  19.0s\n",
      "[CV 2/5] END bootstrap=True, max_depth=11, max_features=None, min_samples_leaf=1, min_samples_split=10, n_estimators=600;, score=(train=0.991, test=0.831) total time=  18.0s\n",
      "[CV 3/5] END bootstrap=True, max_depth=11, max_features=None, min_samples_leaf=1, min_samples_split=10, n_estimators=600;, score=(train=1.000, test=0.790) total time=  18.1s\n",
      "[CV 4/5] END bootstrap=True, max_depth=11, max_features=None, min_samples_leaf=1, min_samples_split=10, n_estimators=600;, score=(train=0.998, test=0.832) total time=  18.0s\n",
      "[CV 5/5] END bootstrap=True, max_depth=11, max_features=None, min_samples_leaf=1, min_samples_split=10, n_estimators=600;, score=(train=1.000, test=0.828) total time=  16.6s\n",
      "[CV 5/5] END bootstrap=True, max_depth=13, max_features=None, min_samples_leaf=1, min_samples_split=10, n_estimators=2800;, score=(train=1.000, test=0.828) total time= 1.4min\n",
      "[CV 1/5] END bootstrap=True, max_depth=11, max_features=None, min_samples_leaf=1, min_samples_split=10, n_estimators=2800;, score=(train=0.996, test=0.860) total time= 1.5min\n",
      "[CV 2/5] END bootstrap=True, max_depth=11, max_features=None, min_samples_leaf=1, min_samples_split=10, n_estimators=2800;, score=(train=0.991, test=0.841) total time= 1.4min\n",
      "[CV 3/5] END bootstrap=True, max_depth=11, max_features=None, min_samples_leaf=1, min_samples_split=10, n_estimators=2800;, score=(train=1.000, test=0.798) total time= 1.4min\n",
      "[CV 1/5] END bootstrap=True, max_depth=20, max_features=None, min_samples_leaf=1, min_samples_split=2, n_estimators=50;, score=(train=1.000, test=0.840) total time=   2.1s\n",
      "[CV 2/5] END bootstrap=True, max_depth=20, max_features=None, min_samples_leaf=1, min_samples_split=2, n_estimators=50;, score=(train=1.000, test=0.831) total time=   1.8s\n",
      "[CV 5/5] END bootstrap=True, max_depth=11, max_features=None, min_samples_leaf=1, min_samples_split=10, n_estimators=2800;, score=(train=1.000, test=0.828) total time= 1.4min\n",
      "[CV 3/5] END bootstrap=True, max_depth=20, max_features=None, min_samples_leaf=1, min_samples_split=2, n_estimators=50;, score=(train=1.000, test=0.763) total time=   2.0s\n",
      "[CV 4/5] END bootstrap=True, max_depth=20, max_features=None, min_samples_leaf=1, min_samples_split=2, n_estimators=50;, score=(train=1.000, test=0.844) total time=   1.8s\n",
      "[CV 5/5] END bootstrap=True, max_depth=20, max_features=None, min_samples_leaf=1, min_samples_split=2, n_estimators=50;, score=(train=1.000, test=0.850) total time=   1.7s\n",
      "[CV 4/5] END bootstrap=True, max_depth=11, max_features=None, min_samples_leaf=1, min_samples_split=10, n_estimators=2800;, score=(train=0.998, test=0.832) total time= 1.4min\n",
      "[CV 1/5] END bootstrap=True, max_depth=2, max_features=None, min_samples_leaf=1, min_samples_split=10, n_estimators=1700;, score=(train=0.848, test=0.868) total time=  31.1s\n",
      "[CV 3/5] END bootstrap=True, max_depth=2, max_features=None, min_samples_leaf=1, min_samples_split=10, n_estimators=1700;, score=(train=0.825, test=0.740) total time=  31.1s\n",
      "[CV 2/5] END bootstrap=True, max_depth=2, max_features=None, min_samples_leaf=1, min_samples_split=10, n_estimators=1700;, score=(train=0.832, test=0.860) total time=  32.4s\n",
      "[CV 1/5] END bootstrap=True, max_depth=2, max_features=None, min_samples_leaf=1, min_samples_split=10, n_estimators=1150;, score=(train=0.848, test=0.868) total time=  18.5s\n",
      "[CV 4/5] END bootstrap=True, max_depth=2, max_features=None, min_samples_leaf=1, min_samples_split=10, n_estimators=1700;, score=(train=0.828, test=0.816) total time=  28.6s\n",
      "[CV 5/5] END bootstrap=True, max_depth=2, max_features=None, min_samples_leaf=1, min_samples_split=10, n_estimators=1700;, score=(train=0.826, test=0.862) total time=  30.4s\n",
      "[CV 2/5] END bootstrap=True, max_depth=2, max_features=None, min_samples_leaf=1, min_samples_split=10, n_estimators=1150;, score=(train=0.830, test=0.860) total time=  20.2s\n",
      "[CV 1/5] END bootstrap=True, max_depth=17, max_features=None, min_samples_leaf=1, min_samples_split=10, n_estimators=3350;, score=(train=1.000, test=0.860) total time= 2.0min\n",
      "[CV 3/5] END bootstrap=True, max_depth=2, max_features=None, min_samples_leaf=1, min_samples_split=10, n_estimators=1150;, score=(train=0.825, test=0.740) total time=  23.1s\n",
      "[CV 4/5] END bootstrap=True, max_depth=2, max_features=None, min_samples_leaf=1, min_samples_split=10, n_estimators=1150;, score=(train=0.828, test=0.816) total time=  24.0s\n",
      "[CV 2/5] END bootstrap=True, max_depth=17, max_features=None, min_samples_leaf=1, min_samples_split=10, n_estimators=3350;, score=(train=1.000, test=0.841) total time= 2.0min\n",
      "[CV 5/5] END bootstrap=True, max_depth=2, max_features=None, min_samples_leaf=1, min_samples_split=10, n_estimators=1150;, score=(train=0.826, test=0.870) total time=  23.4s\n",
      "[CV 3/5] END bootstrap=True, max_depth=17, max_features=None, min_samples_leaf=1, min_samples_split=10, n_estimators=3350;, score=(train=1.000, test=0.790) total time= 1.9min\n",
      "[CV 5/5] END bootstrap=True, max_depth=17, max_features=None, min_samples_leaf=1, min_samples_split=10, n_estimators=3350;, score=(train=1.000, test=0.828) total time= 1.8min\n",
      "[CV 4/5] END bootstrap=True, max_depth=17, max_features=None, min_samples_leaf=1, min_samples_split=10, n_estimators=3350;, score=(train=1.000, test=0.832) total time= 1.9min\n",
      "----------\n",
      "iter: 4\n",
      "n_candidates: 4\n",
      "n_resources: 1620\n",
      "Fitting 5 folds for each of 4 candidates, totalling 20 fits\n",
      "[CV 3/5] END bootstrap=True, max_depth=2, max_features=None, min_samples_leaf=1, min_samples_split=10, n_estimators=1150;, score=(train=0.818, test=0.824) total time= 2.1min\n",
      "[CV 1/5] END bootstrap=True, max_depth=2, max_features=None, min_samples_leaf=1, min_samples_split=10, n_estimators=1150;, score=(train=0.831, test=0.845) total time= 2.1min\n",
      "[CV 2/5] END bootstrap=True, max_depth=2, max_features=None, min_samples_leaf=1, min_samples_split=10, n_estimators=1150;, score=(train=0.822, test=0.791) total time= 2.1min\n",
      "[CV 4/5] END bootstrap=True, max_depth=2, max_features=None, min_samples_leaf=1, min_samples_split=10, n_estimators=1150;, score=(train=0.811, test=0.792) total time= 1.5min\n",
      "[CV 5/5] END bootstrap=True, max_depth=2, max_features=None, min_samples_leaf=1, min_samples_split=10, n_estimators=1150;, score=(train=0.812, test=0.796) total time= 1.5min\n",
      "[CV 1/5] END bootstrap=True, max_depth=13, max_features=None, min_samples_leaf=1, min_samples_split=10, n_estimators=2800;, score=(train=0.978, test=0.877) total time= 8.5min\n",
      "[CV 2/5] END bootstrap=True, max_depth=17, max_features=None, min_samples_leaf=1, min_samples_split=10, n_estimators=3350;, score=(train=0.999, test=0.843) total time=11.4min\n",
      "[CV 2/5] END bootstrap=True, max_depth=13, max_features=None, min_samples_leaf=1, min_samples_split=10, n_estimators=2800;, score=(train=0.988, test=0.846) total time= 8.1min\n",
      "[CV 3/5] END bootstrap=True, max_depth=17, max_features=None, min_samples_leaf=1, min_samples_split=10, n_estimators=3350;, score=(train=0.999, test=0.858) total time=11.9min\n",
      "[CV 1/5] END bootstrap=True, max_depth=17, max_features=None, min_samples_leaf=1, min_samples_split=10, n_estimators=3350;, score=(train=0.998, test=0.877) total time=11.9min\n",
      "[CV 3/5] END bootstrap=True, max_depth=13, max_features=None, min_samples_leaf=1, min_samples_split=10, n_estimators=2800;, score=(train=0.973, test=0.858) total time= 8.3min\n",
      "[CV 4/5] END bootstrap=True, max_depth=17, max_features=None, min_samples_leaf=1, min_samples_split=10, n_estimators=3350;, score=(train=0.993, test=0.857) total time=12.1min\n",
      "[CV 5/5] END bootstrap=True, max_depth=17, max_features=None, min_samples_leaf=1, min_samples_split=10, n_estimators=3350;, score=(train=0.983, test=0.830) total time=12.2min\n",
      "[CV 4/5] END bootstrap=True, max_depth=13, max_features=None, min_samples_leaf=1, min_samples_split=10, n_estimators=2800;, score=(train=0.964, test=0.857) total time= 8.0min\n",
      "[CV 2/5] END bootstrap=True, max_depth=11, max_features=None, min_samples_leaf=1, min_samples_split=10, n_estimators=2800;, score=(train=0.973, test=0.837) total time= 7.1min\n",
      "[CV 1/5] END bootstrap=True, max_depth=11, max_features=None, min_samples_leaf=1, min_samples_split=10, n_estimators=2800;, score=(train=0.964, test=0.874) total time= 7.3min\n",
      "[CV 3/5] END bootstrap=True, max_depth=11, max_features=None, min_samples_leaf=1, min_samples_split=10, n_estimators=2800;, score=(train=0.958, test=0.858) total time= 7.2min\n",
      "[CV 4/5] END bootstrap=True, max_depth=11, max_features=None, min_samples_leaf=1, min_samples_split=10, n_estimators=2800;, score=(train=0.952, test=0.858) total time= 7.2min\n",
      "[CV 5/5] END bootstrap=True, max_depth=13, max_features=None, min_samples_leaf=1, min_samples_split=10, n_estimators=2800;, score=(train=0.956, test=0.830) total time= 7.8min\n",
      "[CV 5/5] END bootstrap=True, max_depth=11, max_features=None, min_samples_leaf=1, min_samples_split=10, n_estimators=2800;, score=(train=0.948, test=0.830) total time= 7.0min\n",
      "----------\n",
      "iter: 5\n",
      "n_candidates: 2\n",
      "n_resources: 4860\n",
      "Fitting 5 folds for each of 2 candidates, totalling 10 fits\n",
      "[CV 3/5] END bootstrap=True, max_depth=13, max_features=None, min_samples_leaf=1, min_samples_split=10, n_estimators=2800;, score=(train=0.957, test=0.883) total time=42.8min\n",
      "[CV 2/5] END bootstrap=True, max_depth=13, max_features=None, min_samples_leaf=1, min_samples_split=10, n_estimators=2800;, score=(train=0.952, test=0.857) total time=43.6min\n",
      "[CV 1/5] END bootstrap=True, max_depth=13, max_features=None, min_samples_leaf=1, min_samples_split=10, n_estimators=2800;, score=(train=0.949, test=0.880) total time=44.2min\n",
      "[CV 3/5] END bootstrap=True, max_depth=17, max_features=None, min_samples_leaf=1, min_samples_split=10, n_estimators=3350;, score=(train=0.969, test=0.885) total time=54.8min\n",
      "[CV 2/5] END bootstrap=True, max_depth=17, max_features=None, min_samples_leaf=1, min_samples_split=10, n_estimators=3350;, score=(train=0.966, test=0.859) total time=55.9min\n",
      "[CV 4/5] END bootstrap=True, max_depth=17, max_features=None, min_samples_leaf=1, min_samples_split=10, n_estimators=3350;, score=(train=0.967, test=0.875) total time=56.0min\n",
      "[CV 5/5] END bootstrap=True, max_depth=17, max_features=None, min_samples_leaf=1, min_samples_split=10, n_estimators=3350;, score=(train=0.968, test=0.886) total time=56.1min\n",
      "[CV 1/5] END bootstrap=True, max_depth=17, max_features=None, min_samples_leaf=1, min_samples_split=10, n_estimators=3350;, score=(train=0.962, test=0.880) total time=56.4min\n",
      "[CV 4/5] END bootstrap=True, max_depth=13, max_features=None, min_samples_leaf=1, min_samples_split=10, n_estimators=2800;, score=(train=0.955, test=0.879) total time=19.1min\n",
      "[CV 5/5] END bootstrap=True, max_depth=13, max_features=None, min_samples_leaf=1, min_samples_split=10, n_estimators=2800;, score=(train=0.952, test=0.884) total time=18.5min\n"
     ]
    }
   ],
   "source": [
    "# #hyperparameter tuning for RandomForestClassifier\n",
    "\n",
    "n_estimators = [int(x) for x in np.linspace(start=50, stop=1000)]\n",
    "max_features = ['sqrt', 'log2', None]\n",
    "max_depth = [int(x) for x in np.linspace(2, 20)]\n",
    "max_depth.append(None)\n",
    "min_samples_split = [2, 10, 10]\n",
    "min_samples_leaf = [1, 10, 10]\n",
    "bootstrap = [True, False]\n",
    "\n",
    "#Halving search\n",
    "param_grid = {\n",
    "    'n_estimators': [int(x) for x in np.linspace(start=50, stop=5000, num=10)],\n",
    "    'max_features': ['sqrt', 'log2', None],\n",
    "    'max_depth': [int(x) for x in np.linspace(2, 20)],\n",
    "    'min_samples_split': [2, 10, 10],\n",
    "    'min_samples_leaf': [1, 10],\n",
    "    'bootstrap': [True, False]\n",
    "}\n",
    "halving = HalvingRandomSearchCV(model, param_grid, factor=3, resource='n_samples', max_resources=5000, random_state=42, verbose=3,scoring='balanced_accuracy', n_jobs=-1)\n",
    "halving.fit(x_train, y_train)\n",
    "print(\"Best Params:{}/nBest Balanced Accuracy:{}\".format(halving.best_params_,halving.best_score_))"
   ]
  },
  {
   "cell_type": "code",
   "execution_count": null,
   "metadata": {},
   "outputs": [],
   "source": []
  }
 ],
 "metadata": {
  "kernelspec": {
   "display_name": "base",
   "language": "python",
   "name": "python3"
  },
  "language_info": {
   "codemirror_mode": {
    "name": "ipython",
    "version": 3
   },
   "file_extension": ".py",
   "mimetype": "text/x-python",
   "name": "python",
   "nbconvert_exporter": "python",
   "pygments_lexer": "ipython3",
   "version": "3.11.9"
  }
 },
 "nbformat": 4,
 "nbformat_minor": 2
}
