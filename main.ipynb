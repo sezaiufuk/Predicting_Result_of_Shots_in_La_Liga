{
 "cells": [
  {
   "cell_type": "markdown",
   "metadata": {},
   "source": [
    "# Problem\n",
    "Our problem is a classification problem, our target is whether a shot is goal or not.\n",
    "\n",
    "# Where Can We Use This Model In Real World ?\n",
    "\n",
    "We can use this model to analyze player performances, understand player habits on the field, determining which players to change in game or find out in advance whether a new player will be compatible with the team or not during transfer seasons."
   ]
  },
  {
   "cell_type": "markdown",
   "metadata": {},
   "source": [
    "# Imports"
   ]
  },
  {
   "cell_type": "code",
   "execution_count": 186,
   "metadata": {},
   "outputs": [],
   "source": [
    "import pandas as pd\n",
    "import numpy as np\n",
    "import rpy2.robjects as ro\n",
    "from rpy2.robjects import pandas2ri\n",
    "import rpy2.robjects.packages as rpackages\n",
    "from rpy2.robjects.conversion import localconverter\n",
    "from imblearn.over_sampling import SMOTE\n",
    "import warnings\n",
    "from sklearn.preprocessing import MinMaxScaler\n",
    "from sklearn.model_selection import train_test_split\n",
    "from sklearn.model_selection import cross_val_score\n",
    "from sklearn.metrics import balanced_accuracy_score\n",
    "from sklearn.metrics import confusion_matrix\n",
    "from numpy import ravel\n",
    "from imblearn.under_sampling import RandomUnderSampler\n",
    "from collections import Counter\n",
    "import h2o\n",
    "from h2o.automl import H2OAutoML\n",
    "import pickle"
   ]
  },
  {
   "cell_type": "code",
   "execution_count": 187,
   "metadata": {},
   "outputs": [
    {
     "data": {
      "text/plain": [
       "<rpy2.rinterface_lib.sexp.NULLType object at 0x1304db350> [0]"
      ]
     },
     "execution_count": 187,
     "metadata": {},
     "output_type": "execute_result"
    }
   ],
   "source": [
    "utils = rpackages.importr('utils')\n",
    "utils.chooseCRANmirror(ind=1)"
   ]
  },
  {
   "cell_type": "markdown",
   "metadata": {},
   "source": [
    "# Getting Dataset Over R from Python"
   ]
  },
  {
   "cell_type": "code",
   "execution_count": 188,
   "metadata": {},
   "outputs": [
    {
     "name": "stdout",
     "output_type": "stream",
     "text": [
      "→ Data last updated 2024-05-30 18:34:46.012307882309 UTC\n"
     ]
    }
   ],
   "source": [
    "pandas2ri.activate()\n",
    "ro.r('''\n",
    "        library(\"worldfootballR\")\n",
    "        laliga <- load_understat_league_shots(league = \"La liga\")\n",
    "     ''')\n",
    "laliga = pandas2ri.rpy2py(ro.r['laliga'])\n",
    "laliga.drop('league', axis=1, inplace=True)\n",
    "data=laliga[(laliga['date'] > '2020-06-10') & (laliga['date'] < '2024-06-10')]"
   ]
  },
  {
   "cell_type": "markdown",
   "metadata": {},
   "source": [
    "We are going to use La Liga dataset between 2020-06-10 and 2024-06-10."
   ]
  },
  {
   "cell_type": "markdown",
   "metadata": {},
   "source": [
    "# Data Manipulations and Fixes"
   ]
  },
  {
   "cell_type": "markdown",
   "metadata": {},
   "source": [
    "We have a problem about NaN values and duplicate features, we are going to fix these problems by manipulating the data."
   ]
  },
  {
   "cell_type": "code",
   "execution_count": 189,
   "metadata": {},
   "outputs": [],
   "source": [
    "warnings.filterwarnings('ignore')\n",
    "\n",
    "def fixDataNaN(df):\n",
    "    with localconverter(ro.default_converter + pandas2ri.converter):\n",
    "        df = ro.conversion.py2rpy(df)\n",
    "pairs = [['x','X'],['y','Y'],['x_g','xG'],['h_a','home_away'],['shot_type','shotType'],['last_action','lastAction']]\n",
    "\n",
    "def camel_case_columns(df):\n",
    "    def camel_case(column_name):\n",
    "        parts = column_name.split('_')\n",
    "        return str(parts[0] + ''.join(x.title() for x in parts[1:]))\n",
    "    \n",
    "    new_columns = []\n",
    "    for column in df.columns:\n",
    "        if '_' in column:\n",
    "            new_columns.append(camel_case(column))\n",
    "        else:\n",
    "            new_columns.append(str(column))\n",
    "    \n",
    "    df.columns = new_columns\n",
    "    return df\n",
    "\n",
    "def fixMergeColumns(dataList, pairs):\n",
    "    for targetData in dataList:\n",
    "        for pair in pairs:\n",
    "            if pair[0] in targetData.columns and pair[1] in targetData.columns:\n",
    "                targetData['{}'.format(pair[1])].fillna(targetData['{}'.format(pair[0])], inplace=True)\n",
    "                targetData.drop(columns=['{}'.format(pair[0])], inplace=True)\n",
    "        targetData = camel_case_columns(targetData)\n",
    "        fixDataNaN(targetData)\n",
    "\n",
    "fixMergeColumns([data], pairs)"
   ]
  },
  {
   "cell_type": "markdown",
   "metadata": {},
   "source": [
    "We are going to train our model to predict whether the position ends up to a goal or not so we need to convert our goal and not goal situations to binary tags."
   ]
  },
  {
   "cell_type": "code",
   "execution_count": 190,
   "metadata": {},
   "outputs": [],
   "source": [
    "replacement_dict = {\n",
    "    'Goal': 1,\n",
    "    'BlockedShot': 0,\n",
    "    'MissedShots': 0,\n",
    "    'SavedShot': 0,\n",
    "    'ShotOnPost': 0,\n",
    "    'OwnGoal': 0\n",
    "}\n",
    "\n",
    "data['result'] = pd.DataFrame(data['result'].map(replacement_dict))"
   ]
  },
  {
   "cell_type": "markdown",
   "metadata": {},
   "source": [
    "We changed string values to numerical values for the training to work."
   ]
  },
  {
   "cell_type": "code",
   "execution_count": 191,
   "metadata": {},
   "outputs": [],
   "source": [
    "X = data.drop('result', axis=1)\n",
    "Y = data['result']\n",
    "X = pd.get_dummies(X)\n",
    "data = pd.concat([pd.DataFrame(Y),pd.DataFrame(X)], axis=1)"
   ]
  },
  {
   "cell_type": "markdown",
   "metadata": {},
   "source": [
    "We split the data into training and validation data."
   ]
  },
  {
   "cell_type": "code",
   "execution_count": 192,
   "metadata": {},
   "outputs": [],
   "source": [
    "data_shuffled = data.sample(frac=1, random_state=42)\n",
    "quarter_length = len(data_shuffled) // 4\n",
    "df_half_val = data_shuffled.iloc[:quarter_length]\n",
    "df_half_train = data_shuffled.iloc[quarter_length:]\n",
    "\n",
    "data = df_half_train\n",
    "validation_data = df_half_val"
   ]
  },
  {
   "cell_type": "markdown",
   "metadata": {},
   "source": [
    "We split the validation data into X and Y."
   ]
  },
  {
   "cell_type": "code",
   "execution_count": 193,
   "metadata": {},
   "outputs": [],
   "source": [
    "Y_validation = validation_data['result']\n",
    "x_validation = validation_data.drop('result', axis=1)\n",
    "\n",
    "X = pd.DataFrame(data.drop('result', axis=1))\n",
    "Y = pd.DataFrame(data['result'])"
   ]
  },
  {
   "cell_type": "markdown",
   "metadata": {},
   "source": [
    "# Exploring Data"
   ]
  },
  {
   "cell_type": "code",
   "execution_count": 194,
   "metadata": {},
   "outputs": [
    {
     "data": {
      "text/html": [
       "<div>\n",
       "<style scoped>\n",
       "    .dataframe tbody tr th:only-of-type {\n",
       "        vertical-align: middle;\n",
       "    }\n",
       "\n",
       "    .dataframe tbody tr th {\n",
       "        vertical-align: top;\n",
       "    }\n",
       "\n",
       "    .dataframe thead th {\n",
       "        text-align: right;\n",
       "    }\n",
       "</style>\n",
       "<table border=\"1\" class=\"dataframe\">\n",
       "  <thead>\n",
       "    <tr style=\"text-align: right;\">\n",
       "      <th></th>\n",
       "      <th>result</th>\n",
       "      <th>id</th>\n",
       "      <th>minute</th>\n",
       "      <th>X</th>\n",
       "      <th>Y</th>\n",
       "      <th>xG</th>\n",
       "      <th>playerId</th>\n",
       "      <th>season</th>\n",
       "      <th>matchId</th>\n",
       "      <th>homeGoals</th>\n",
       "      <th>...</th>\n",
       "      <th>lastAction_Save</th>\n",
       "      <th>lastAction_ShieldBallOpp</th>\n",
       "      <th>lastAction_Standard</th>\n",
       "      <th>lastAction_Start</th>\n",
       "      <th>lastAction_SubstitutionOn</th>\n",
       "      <th>lastAction_Tackle</th>\n",
       "      <th>lastAction_TakeOn</th>\n",
       "      <th>lastAction_Throughball</th>\n",
       "      <th>homeAway_a</th>\n",
       "      <th>homeAway_h</th>\n",
       "    </tr>\n",
       "  </thead>\n",
       "  <tbody>\n",
       "    <tr>\n",
       "      <th>78415</th>\n",
       "      <td>0</td>\n",
       "      <td>519766.0</td>\n",
       "      <td>53.0</td>\n",
       "      <td>0.719</td>\n",
       "      <td>0.671</td>\n",
       "      <td>0.014868</td>\n",
       "      <td>6917.0</td>\n",
       "      <td>2022.0</td>\n",
       "      <td>19245.0</td>\n",
       "      <td>0.0</td>\n",
       "      <td>...</td>\n",
       "      <td>False</td>\n",
       "      <td>False</td>\n",
       "      <td>False</td>\n",
       "      <td>False</td>\n",
       "      <td>False</td>\n",
       "      <td>False</td>\n",
       "      <td>False</td>\n",
       "      <td>False</td>\n",
       "      <td>False</td>\n",
       "      <td>True</td>\n",
       "    </tr>\n",
       "    <tr>\n",
       "      <th>62159</th>\n",
       "      <td>1</td>\n",
       "      <td>422675.0</td>\n",
       "      <td>87.0</td>\n",
       "      <td>0.900</td>\n",
       "      <td>0.666</td>\n",
       "      <td>0.097758</td>\n",
       "      <td>4146.0</td>\n",
       "      <td>2020.0</td>\n",
       "      <td>15144.0</td>\n",
       "      <td>1.0</td>\n",
       "      <td>...</td>\n",
       "      <td>False</td>\n",
       "      <td>False</td>\n",
       "      <td>False</td>\n",
       "      <td>False</td>\n",
       "      <td>False</td>\n",
       "      <td>False</td>\n",
       "      <td>False</td>\n",
       "      <td>False</td>\n",
       "      <td>True</td>\n",
       "      <td>False</td>\n",
       "    </tr>\n",
       "  </tbody>\n",
       "</table>\n",
       "<p>2 rows × 3538 columns</p>\n",
       "</div>"
      ],
      "text/plain": [
       "       result        id  minute      X      Y        xG  playerId  season  \\\n",
       "78415       0  519766.0    53.0  0.719  0.671  0.014868    6917.0  2022.0   \n",
       "62159       1  422675.0    87.0  0.900  0.666  0.097758    4146.0  2020.0   \n",
       "\n",
       "       matchId  homeGoals  ...  lastAction_Save  lastAction_ShieldBallOpp  \\\n",
       "78415  19245.0        0.0  ...            False                     False   \n",
       "62159  15144.0        1.0  ...            False                     False   \n",
       "\n",
       "       lastAction_Standard  lastAction_Start  lastAction_SubstitutionOn  \\\n",
       "78415                False             False                      False   \n",
       "62159                False             False                      False   \n",
       "\n",
       "       lastAction_Tackle  lastAction_TakeOn  lastAction_Throughball  \\\n",
       "78415              False              False                   False   \n",
       "62159              False              False                   False   \n",
       "\n",
       "       homeAway_a  homeAway_h  \n",
       "78415       False        True  \n",
       "62159        True       False  \n",
       "\n",
       "[2 rows x 3538 columns]"
      ]
     },
     "execution_count": 194,
     "metadata": {},
     "output_type": "execute_result"
    }
   ],
   "source": [
    "data.head(2)"
   ]
  },
  {
   "cell_type": "markdown",
   "metadata": {},
   "source": [
    "### Target Variable\n",
    "\n",
    "Our target variable is \"result\", this feature represents whether a shot is a goal or not."
   ]
  },
  {
   "cell_type": "markdown",
   "metadata": {},
   "source": [
    "### Feature Variables\n",
    "\n",
    "Our feature variables are going to help our model to learn and predict the target variable."
   ]
  },
  {
   "cell_type": "code",
   "execution_count": 195,
   "metadata": {},
   "outputs": [
    {
     "name": "stdout",
     "output_type": "stream",
     "text": [
      "['id', 'minute', 'X', 'Y', 'xG', 'playerId', 'season', 'matchId', 'homeGoals', 'awayGoals', 'player_Aarón Martín', 'player_Abdelkabir Abqar', 'player_Abderrahmane Rebbach', 'player_Abdessamad Ezzalzouli', 'player_Abdoulaye Diaby', 'player_Abdul Mumin', 'player_Abdón Prats', 'player_Abner', 'player_Adama Traoré', 'player_Adnan Januzaj', 'player_Adrià Alti', 'player_Adrià Pedrosa', 'player_Adrián', 'player_Adrián Embarba', 'player_Adrián Marín', 'player_Aiham Ousou', 'player_Aihen Muñoz', 'player_Aimar Oroz', 'player_Aingeru Olabarrieta', 'player_Aissa Mandi', 'player_Aitor Fernández', 'player_Aitor Paredes', 'player_Aitor Ruibal', 'player_Alberto Mari', 'player_Alberto Moleiro', 'player_Alberto Moreno', 'player_Alberto Perea', 'player_Alberto Risco', 'player_Alberto Rodríguez', 'player_Alberto Soro', 'player_Aleix García', 'player_Aleix Vidal', 'player_Alejandro Asensio', 'player_Alejandro Cantero', 'player_Alejandro Catena', 'player_Alejandro Gomez', 'player_Alejandro Pozo', 'player_Alejo Véliz', 'player_Aleksandar Radovanovic', 'player_Aleksandar Trajkovski', 'player_Aleksander Sedlar', 'player_Alessandro Florenzi', 'player_Alex Berenguer', 'player_Alex Petxarromán', 'player_Alex Sola', 'player_Alex Telles', 'player_Alexander Isak', 'player_Alexander Sørloth', 'player_Alfon', 'player_Alfonso', 'player_Alfonso Espino', 'player_Alvaro Rodríguez', 'player_Amath Diedhiou', 'player_Anaitz Arbilla', 'player_Ander Barrenetxea', 'player_Ander Capa', 'player_Ander Guevara', 'player_Ander Herrera', 'player_Ander Martín', 'player_Andoni Gorosabel', 'player_Andreas Christensen', 'player_Andrei Ratiu', 'player_André Almeida', 'player_André Silva', 'player_Andrés Guardado', 'player_Andrés Martín', 'player_Anssumane Fati', 'player_Ante Budimir', 'player_Anthony Lozano', 'player_Anthony Martial', 'player_Antoine Griezmann', 'player_Antonio Barragán', 'player_Antonio Blanco', 'player_Antonio Moya', 'player_Antonio Puertas', 'player_Antonio Rüdiger', 'player_Antonio Sanabria', 'player_Antonio Sánchez', 'player_Antoñin', 'player_Anuar Mohamed', 'player_Arda Güler', 'player_Aridane Hernández', 'player_Aritz Elustondo', 'player_Arnau Martinez', 'player_Arnau Puigmal', 'player_Arnaut Danjuma Groeneveld', 'player_Arsen Zakharyan', 'player_Artem Dovbyk', 'player_Arturo Vidal', 'player_Asier Illarramendi', 'player_Asier Villalibre', 'player_Assane Diao', 'player_Augusto Batalla', 'player_Augusto Solari', 'player_Aurelien Tchouameni', 'player_Awer Mabil', 'player_Axel Witsel', 'player_Ayoze Pérez', 'player_Balenziaga', 'player_Bebé', 'player_Ben Brereton Díaz', 'player_Benito Ramírez', 'player_Benjamin Lecomte', 'player_Bernardo', 'player_Bertrand Traoré', 'player_Beñat Prados', 'player_Beñat Turrientes', 'player_Bobby Adekanye', 'player_Bono', 'player_Borja', 'player_Borja Iglesias', 'player_Borja Mayoral', 'player_Borja Sainz', 'player_Boubakary Soumare', 'player_Boulaye Dia', 'player_Brahim Diaz', 'player_Braian Cufré', 'player_Brais Méndez', 'player_Brian Ocampo', 'player_Brian Oliván', 'player_Bruno', 'player_Bruno Langa', 'player_Bruno Méndez', 'player_Bryan Gil Salvatierra', 'player_Bryan Zaragoza', 'player_Cala', 'player_Carl Starfelt', 'player_Carles Aleñá', 'player_Carles Pérez', 'player_Carlos Akapo', 'player_Carlos Bacca', 'player_Carlos Benavídez', 'player_Carlos Clerc', 'player_Carlos Domínguez', 'player_Carlos Dotor', 'player_Carlos Fernández', 'player_Carlos Martín', 'player_Carlos Neva', 'player_Carlos Romero', 'player_Carlos Soler', 'player_Carlos Vicente', 'player_Casemiro', 'player_Cenk Özkacar', 'player_Chadi Riad', 'player_Charles', 'player_Chema Rodríguez', 'player_Chidozie Awaziem', 'player_Chris Ramos', 'player_Christian Oliva', 'player_Chumi', 'player_Cifuentes', 'player_Clement Lenglet', 'player_Clément Grenier', 'player_Coke', 'player_Copete', 'player_Cristhian Mosquera', 'player_Cristhian Stuani', 'player_Cristian Herrera', 'player_Cristian Tello', 'player_Cristiano Piccini', 'player_Cristo Romero', 'player_Curro', 'player_Cyle Larin', 'player_Cédric Bakambu', 'player_César Azpilicueta', 'player_César De la Hoz', 'player_César Montes', 'player_Daley Blind', 'player_Damian Kadzior', 'player_Damián Rodríguez', 'player_Damián Suárez', 'player_Dani Alves', 'player_Dani Calvo', 'player_Dani Ceballos', 'player_Dani Escriche', 'player_Dani García', 'player_Dani Gómez', 'player_Dani Rodríguez', 'player_Dani Vivian', 'player_Daniel Carvajal', 'player_Daniel Parejo', 'player_Daniel Wass', 'player_Darko Brasanac', 'player_Darwin Machís', 'player_Darío Benedetto', 'player_Darío Poveda', 'player_David Alaba', 'player_David Ferreiro', 'player_David García', 'player_David López', 'player_David Silva', 'player_David Timor', 'player_David Torres', 'player_De Marcos', 'player_Denis Cheryshev', 'player_Denis Suárez', 'player_Denis Vavro', 'player_Dennis Hadzikadunic', 'player_Deyverson', 'player_Diadie Samassékou', 'player_Diego Carlos', 'player_Diego Costa', 'player_Diego González', 'player_Diego Lainez', 'player_Diego Llorente', 'player_Diego López', 'player_Diego Moreno', 'player_Diego Rico', 'player_Dimitri Foulquier', 'player_Dimitrios Siovas', 'player_Dion Lopy', 'player_Djené Dakonam', 'player_Djibril Sow', 'player_Dodi Lukebakio', 'player_Domingos Duarte', 'player_Domingos Quina', 'player_Dyego Sousa', 'player_Dídac Vilá', 'player_Eden Hazard', 'player_Eder Militão', 'player_Edgar González', 'player_Edgar Méndez', 'player_Edinson Cavani', 'player_Edu Expósito', 'player_Eduardo Camavinga', 'player_El Bilal Touré', 'player_Eliaquim Mangala', 'player_Emerson', 'player_Emiliano Rigoni', 'player_Emre Mor', 'player_Enes Ünal', 'player_Enis Bardhi', 'player_Enric Franquesa', 'player_Enric Gallego', 'player_Enzo Loiodice', 'player_Enzo Roco', 'player_Eraso', 'player_Eray Cömert', 'player_Eric Bailly', 'player_Eric Garcia', 'player_Erick Cabaco', 'player_Erik Lamela', 'player_Esteban Burgos', 'player_Esteban Saveljich', 'player_Estupiñán', 'player_Etienne Capoue', 'player_Etxeita', 'player_Ezequiel Ponce', 'player_Ezequiel Ávila', 'player_Eñaut Mendía', 'player_Fabián Orellana', 'player_Fabrizio Angileri', 'player_Facundo Ferreyra', 'player_Facundo Pellistri', 'player_Facundo Roncaglia', 'player_Faitout Maouassa', 'player_Falcao', 'player_Fali', 'player_Famara Diedhiou', 'player_Fede San Emeterio', 'player_Fede Vico', 'player_Federico Valverde', 'player_Fedor Smolov', 'player_Felipe', 'player_Ferland Mendy', 'player_Fermín López', 'player_Fernando', 'player_Fernando Calero', 'player_Fernando Niño', 'player_Ferrán Jutglà', 'player_Ferrán Torres', 'player_Fidel', 'player_Filip Bradaric', 'player_Filip Malbasic', 'player_Florentino Luís', 'player_Florian Lejeune', 'player_Florin Andone', 'player_Fran Beltrán', 'player_Fran García', 'player_Fran Gámez', 'player_Fran Mérida', 'player_Fran Pérez', 'player_Francis Coquelin', 'player_Francisco Portillo', 'player_Franck Kessié', 'player_Franck Zambo', 'player_Franco Cervi', 'player_Franco Russo', 'player_Franco Vázquez', 'player_Frenkie de Jong', 'player_Gabriel', 'player_Gabriel Veiga', 'player_Gareth Bale', 'player_Gastón Silva', 'player_Gastón Álvarez', 'player_Gavi', 'player_Geoffrey Kondogbia', 'player_Gerard Gumbau', 'player_Gerard Moreno', 'player_Gerard Piqué', 'player_German Valera', 'player_Germán Pezzella', 'player_Germán Sánchez', 'player_Gil Dias', 'player_Giménez', 'player_Giorgi Kochorashvili', 'player_Giovani Lo Celso', 'player_Giovanni González', 'player_Giuliano Simeone', 'player_Gonzalo Escalante', 'player_Gonzalo García', 'player_Gonzalo Melero', 'player_Gonzalo Montiel', 'player_Gonzalo Plata', 'player_Gonzalo Verdú', 'player_Gonzalo Villar', 'player_Gonçalo Guedes', 'player_Gonçalo Paciência', 'player_Gorka Guruzeta', 'player_Guerrero', 'player_Guido Carrillo', 'player_Guido Rodríguez', 'player_Hamari Traore', 'player_Hannibal Mejbri', 'player_Haris Seferovic', 'player_Hatem Ben Arfa', 'player_Hector Fort', 'player_Helibelton Palacios', 'player_Hernâni', 'player_Houboulang Mendes', 'player_Hugo Duro', 'player_Hugo Gonzalez', 'player_Hugo Guillamón', 'player_Hugo Mallo', 'player_Hugo Sotelo', 'player_Hugo Álvarez', 'player_Héctor Bellerín', 'player_Héctor Herrera', 'player_Hélder Costa', 'player_Iago Aspas', 'player_Ianis Hagi', 'player_Ibai Gómez', 'player_Ibrahim Amadou', 'player_Ibrahima Koné', 'player_Iddrisu Baba', 'player_Idrissa Doumbia', 'player_Ignasi Miquel', 'player_Igor Zubeldia', 'player_Iker Benito', 'player_Iker Muñoz', 'player_Ilaix Moriba', 'player_Ilias Akhomach', 'player_Ilkay Gündogan', 'player_Imanol García de Albéniz', 'player_Inigo Ruiz de Galarreta', 'player_Isaac Carcelén', 'player_Isaac Romero', 'player_Isco', 'player_Isi Palazón', 'player_Isma Ruiz', 'player_Ivan Rakitic', 'player_Ivan Saponjic', 'player_Iván Alejo', 'player_Iván Balliu', 'player_Iván Chapela', 'player_Iván Fresneda', 'player_Iván Marcone', 'player_Iván Martín', 'player_Iván Romero', 'player_Iván Sánchez', 'player_Iñaki Williams', 'player_Iñigo Córdoba', 'player_Iñigo Martínez', 'player_Iñigo Pérez', 'player_Iñigo Vicente', 'player_Jaime Mata', 'player_Jaime Seoane', 'player_Jairo Izquierdo', 'player_Jakub Jankto', 'player_Jan Oblak', 'player_Jason', 'player_Jaume', 'player_Jaume Costa', 'player_Javi Galán', 'player_Javi Hernández', 'player_Javi Llabrés', 'player_Javi Martínez', 'player_Javi Moyano', 'player_Javi Muñoz', 'player_Javi Ontiveros', 'player_Javi Puado', 'player_Javi Sánchez', 'player_Javier Avilés', 'player_Javier Guerra', 'player_Javier López', 'player_Javier Manquillo', 'player_Javier Pastore', 'player_Jawad El Yamiq', 'player_Jaílson', 'player_Jeison Murillo', 'player_Jens Jonsson', 'player_Jeremías Ledesma', 'player_Jesús Areso', 'player_Jesús Corona', 'player_Jesús Navas', 'player_Jesús Santiago', 'player_Jesús Vallejo', 'player_Jesús Vázquez', 'player_Jhon Solis', 'player_Joan Jordán', 'player_Joan Sastre', 'player_Joaquín', 'player_Joaquín Fernández', 'player_Joaquín Panichelli', 'player_Joel Roca', 'player_Johan Mojica', 'player_John Donald', 'player_John Finn', 'player_John Guidetti', 'player_Johnny Cardoso', 'player_Jon Ander Garrido', 'player_Jon Ander Olasagasti', 'player_Jon Aramburu', 'player_Jon Bautista', 'player_Jon Guridi', 'player_Jon Karrikaburu', 'player_Jon Magunacelaya', 'player_Jon Moncayola', 'player_Jon Morcillo', 'player_Jon Pacheco Dozagarat', 'player_Jonathan Bamba', 'player_Jonathan Calleri', 'player_Jonathan Silva', 'player_Jonathan Viera', 'player_Jony', 'player_Jony Álamo', 'player_Jonás Ramalho', 'player_Jordan Holsgrove', 'player_Jordi Alba', 'player_Jordi Martín', 'player_Jordi Mboula', 'player_Jorge Cuenca', 'player_Jorge De Frutos', 'player_Jorge Herrando', 'player_Jorge Meré', 'player_Jorge Miramón', 'player_Jorge Molina', 'player_Jorge Pascual', 'player_Jorge Pombo', 'player_Jorge Pulido', 'player_Josan', 'player_Joselu', 'player_Josema', 'player_Joseph Aidoo', 'player_José Arnáiz', 'player_José Boacho', 'player_José Callejón', 'player_José Campaña', 'player_José Gayá', 'player_José Gragera', 'player_José Luis Rodríguez', 'player_José Macías', 'player_José Manuel Fontán', 'player_José Mari', 'player_José Pozo', 'player_José Ángel', 'player_José Ángel Carmona', 'player_Jota', 'player_João Cancelo', 'player_João Félix', 'player_Juan Camilo Hernández', 'player_Juan Carlos', 'player_Juan Cruz', 'player_Juan Foyth', 'player_Juan Hernández', 'player_Juan Herzog', 'player_Juan Iglesias', 'player_Juan Latasa', 'player_Juan Miranda', 'player_Juan Pérez', 'player_Juanjo Narváez', 'player_Juanlu Sanchez', 'player_Juanmi', 'player_Juanpe', 'player_Jude Bellingham', 'player_Julen Lobete', 'player_Jules Koundé', 'player_Julián Araujo', 'player_Justin Kluivert', 'player_Jørgen Strand Larsen', 'player_Júnior Firpo', 'player_Kaiky', 'player_Kamil Józwiak', 'player_Kamil Piatkowski', 'player_Karim Benzema', 'player_Karim Rekik', 'player_Kasper Dolberg', 'player_Keidi Bare', 'player_Kenan Kodro', 'player_Kenedy', 'player_Kenneth Omeruo', 'player_Kevin', 'player_Kevin Gameiro', 'player_Kieran Tierney', 'player_Kieran Trippier', 'player_Kike Barja', 'player_Kike García', 'player_Kike Hermoso', 'player_Kike Pérez', 'player_Kike Salas', 'player_Kiko Femenía', 'player_Kiko Olivas', 'player_Kirian Rodríguez', 'player_Koba Koindredi', 'player_Koffi', 'player_Koke', 'player_Kévin Rodrigues', 'player_Lago Junior', 'player_Lamine Yamal', 'player_Landry Dimata', 'player_Largie Ramazani', 'player_Lautaro Blanco', 'player_Lazo', 'player_Leandro Cabrera', 'player_Lee Kang-In', 'player_Leo Baptistao', 'player_Lionel Messi', 'player_Lisandro Magallán', 'player_Ljubomir Fejsa', 'player_Loic Bade', 'player_Loren Morón', 'player_Luca De La Torre', 'player_Luca Koleosho', 'player_Lucas Boyé', 'player_Lucas Ocampos', 'player_Lucas Olaza', 'player_Lucas Pires', 'player_Lucas Pérez', 'player_Lucas Robertone', 'player_Lucas Rosa', 'player_Lucas Torreira', 'player_Lucas Torró', 'player_Lucas Vázquez', 'player_Lucien Agoume', 'player_Ludwig Augustinsson', 'player_Luis Abram', 'player_Luis Hernández', 'player_Luis Milla', 'player_Luis Pérez', 'player_Luis Rioja', 'player_Luis Suárez', 'player_Luisinho', 'player_Luiz Felipe', 'player_Luiz Henrique', 'player_Luka Jovic', 'player_Luka Modric', 'player_Luka Romero', 'player_Lumor Agbenyenu', 'player_Luuk de Jong', 'player_Luís Maximiano', 'player_Lázaro', 'player_Malcom Adu', 'player_Mamadou Loum', 'player_Mamadou Sylla', 'player_Mamady Diarra', 'player_Mamor Niang', 'player_Manu Bueno', 'player_Manu García', 'player_Manu Trigueros', 'player_Manu Vallejo', 'player_Manuel Garrido', 'player_Manuel Morlanes', 'player_Manuel Nieto', 'player_Manuel Pozo', 'player_Manuel Sánchez', 'player_Marc Bartra', 'player_Marc Baró', 'player_Marc Cardona', 'player_Marc Cucurella', 'player_Marc Guiu', 'player_Marc Pubill', 'player_Marc Roca', 'player_Marc-André ter Stegen', 'player_Marcelo', 'player_Marciano Sanca', 'player_Marco Asensio', 'player_Marcos Acuña', 'player_Marcos Alonso', 'player_Marcos Llorente', 'player_Marcos Mauro', 'player_Marcos Peña', 'player_Marcos de Sousa', 'player_Mariano', 'player_Mario', 'player_Mario Dominguez', 'player_Mario Hermoso', 'player_Mario Hernández', 'player_Mario Suárez', 'player_Marko Dmitrovic', 'player_Marko Milovanovic', 'player_Martin Braithwaite', 'player_Martin Hongla', 'player_Martin Odegaard', 'player_Martin Valjent', 'player_Martín Aguirregabiria', 'player_Martín Calderón', 'player_Martín Merquelanz', 'player_Martín Montoya', 'player_Martín Zubimendi', 'player_Marvin Park', 'player_Mason Greenwood', 'player_Matheus Cunha', 'player_Matheus Fernandes', 'player_Mathías Olivera', 'player_Matija Nastasic', 'player_Matt Miazga', 'player_Matthew Hoppe', 'player_Matías Arezo', 'player_Matías Dituro', 'player_Matías Vargas', 'player_Mauro Arambarri', 'player_Maxi Gómez', 'player_Maxime Gonalons', 'player_Memphis Depay', 'player_Mickaël Malsa', 'player_Miguel Baeza', 'player_Miguel Crespo', 'player_Miguel De la Fuente', 'player_Miguel Gutiérrez', 'player_Miguel Rodriguez', 'player_Miguel Ángel Atienza', 'player_Miguel Ángel Rubio', 'player_Mihailo Ristic', 'player_Mika Mármol', 'player_Mikel Jauregizar', 'player_Mikel Merino', 'player_Mikel Oyarzabal', 'player_Mikel Rico', 'player_Mikel Vesga', 'player_Miki Bosch', 'player_Milutin Osmajic', 'player_Miralem Pjanic', 'player_Modibo Sagnan', 'player_Mohamed Ali-Cho', 'player_Mohammed Salisu', 'player_Moi Gómez', 'player_Momo Mbaye', 'player_Monchu', 'player_Montoro', 'player_Morales', 'player_Mouctar Diakhaby', 'player_Moussa Dembele', 'player_Muniain', 'player_Munir', 'player_Myrto Uzuni', 'player_Máximo Perrone', 'player_Míchel', 'player_Nabil Fekir', 'player_Nacho', 'player_Nacho Monreal', 'player_Nacho Vidal', 'player_Nahuel Molina', 'player_Nahuel Tenaglia', 'player_Nehuén Pérez', 'player_Nemanja Gudelj', 'player_Nemanja Maksimovic', 'player_Nemanja Radoja', 'player_Nemanja Radonjic', 'player_Nianzou Kouassi', 'player_Nico González', 'player_Nico Paz', 'player_Nico Williams', 'player_Nicolas Jackson', 'player_Nicolás Fernández Mercau', 'player_Nicolás Melamed', 'player_Nicolás Serrano', 'player_Nikola Maras', 'player_Nikola Vukcevic', 'player_Nino', 'player_Njegos Petrovic', 'player_Nolito', 'player_Nyom', 'player_Näis Djouahra', 'player_Nélson Semedo', 'player_Néstor Araújo', 'player_Oghenekaro Etebo', 'player_Oier', 'player_Oier Zarraga', 'player_Oihan Sancet', 'player_Okay Yokuslu', 'player_Oliver Burke', 'player_Omar Alderete', 'player_Omar Mascarell', 'player_Omenuke Mfulu', 'player_Orbelín Pineda', 'player_Oriol Romeu', 'player_Oscar Ureña', 'player_Ousmane Dembélé', 'player_Oussama Idrissi', 'player_Pablo Barrios Rivas', 'player_Pablo Busto', 'player_Pablo Chavarria', 'player_Pablo De Blasis', 'player_Pablo Fornals', 'player_Pablo Gozálbez', 'player_Pablo Hervías', 'player_Pablo Ibáñez', 'player_Pablo Insúa', 'player_Pablo Maffeo', 'player_Pablo Martínez', 'player_Pablo Marín', 'player_Pablo Piatti', 'player_Pablo Torre', 'player_Paco Alcácer', 'player_Papakouly Diop', 'player_Pape Alassane Gueye', 'player_Pathé Ciss', 'player_Patrick Cutrone', 'player_Pau Cubarsí', 'player_Pau Torres', 'player_Paul Akouokou', 'player_Paulo Oliveira', 'player_Pedri', 'player_Pedro Alcalá', 'player_Pedro Bigas', 'player_Pedro León', 'player_Pedro López', 'player_Pedro Mosquera', 'player_Pedro Ortiz', 'player_Pejiño', 'player_Pep Chavarría', 'player_Pepe Sanchez', 'player_Pepelu', 'player_Pere Milla', 'player_Pere Pons', 'player_Peter', 'player_Philippe Coutinho', 'player_Pierre-Emerick Aubameyang', 'player_Pione Sisto', 'player_Pol Lirola', 'player_Portu', 'player_Quini', 'player_Quique González', 'player_Raba', 'player_Rachad Dhimi', 'player_Rafa Marín', 'player_Rafa Mir', 'player_Rafa Soares', 'player_Rafinha', 'player_Ramiro Funes Mori', 'player_Ramón Azeez', 'player_Ramón Terrats', 'player_Randy Nteka', 'player_Raphael Varane', 'player_Raphinha', 'player_Raul García', 'player_Raíllo', 'player_Raúl Albiol', 'player_Raúl García', 'player_Raúl Guti', 'player_Raúl Torrente', 'player_Raúl de Tomás', 'player_Recio', 'player_Reinier', 'player_Reinildo', 'player_Renan Lodi', 'player_Renato Tapia', 'player_Ricard Artero', 'player_Ricard Sánchez', 'player_Riqui Puig', 'player_Rober', 'player_Rober Correa', 'player_Robert', 'player_Robert Ibáñez', 'player_Robert Lewandowski', 'player_Roberto Jiménez', 'player_Roberto López', 'player_Roberto Navarro', 'player_Roberto Rosales', 'player_Roberto Soldado', 'player_Roberto Torres', 'player_Robin Le Normand', 'player_Rodrigo', 'player_Rodrigo Battaglia', 'player_Rodrigo Ely', 'player_Rodrigo Riquelme', 'player_Rodrigo Sánchez', 'player_Rodrigo Tarín', 'player_Rodrigo de Paul', 'player_Rodrygo', 'player_Roger', 'player_Roger Assalé', 'player_Roger Martínez', 'player_Roman Yaremchuk', 'player_Rominigue Kouame', 'player_Ronael Pierre Gabriel', 'player_Ronald Araújo', 'player_Roque Mesa', 'player_Rubén Alcaraz', 'player_Rubén Duarte', 'player_Rubén García', 'player_Rubén Iranzo', 'player_Rubén Peña', 'player_Rubén Pérez', 'player_Rubén Rochina', 'player_Rubén Sobrino', 'player_Rubén Sánchez', 'player_Rui Silva', 'player_Rúben Vezo', 'player_Saidy Janko', 'player_Salva Sevilla', 'player_Salvi Sánchez', 'player_Samu Castillejo', 'player_Samu Omorodion', 'player_Samu Sáiz', 'player_Samuel Chukwueze', 'player_Samuel Lino', 'player_Samuel Umtiti', 'player_Samú Costa', 'player_Sandro Ramírez', 'player_Santi Mina', 'player_Santiago Arias', 'player_Santiago Arzamendia', 'player_Santiago Bueno', 'player_Santiago Cazorla', 'player_Santiago Comesaña', 'player_Saúl Coco', 'player_Saúl Ñíguez', 'player_Sebastián Cristóforo', 'player_Sekou Gassama', 'player_Selim Amallah', 'player_Serge Aurier', 'player_Sergi Altimira', 'player_Sergi Canos', 'player_Sergi Cardona', 'player_Sergi Darder', 'player_Sergi Enrich', 'player_Sergi Guardiola', 'player_Sergi Gómez', 'player_Sergi Roberto', 'player_Sergio Agüero', 'player_Sergio Akieme', 'player_Sergio Arribas', 'player_Sergio Busquets', 'player_Sergio Camello', 'player_Sergio Canales', 'player_Sergio Carreira', 'player_Sergio Escudero', 'player_Sergio González', 'player_Sergio Gómez', 'player_Sergio Herrera', 'player_Sergio León', 'player_Sergio Postigo', 'player_Sergio Ramos', 'player_Sergio Reguilón', 'player_Sergio Rodelas', 'player_Sergio Ruiz', 'player_Sergio Álvarez', 'player_Sergiño Dest', 'player_Señé', 'player_Sheraldo Becker', 'player_Shinji Okazaki', 'player_Shkodran Mustafi', 'player_Shon Weissman', 'player_Sidnei', 'player_Siebe Van der Heyden', 'player_Sime Vrsaljko', 'player_Sofian Chakla', 'player_Sokratis', 'player_Son', 'player_Sory Kaba', 'player_Srdjan Babic', 'player_Stefan Mitrovic', 'player_Stefan Savic', 'player_Suso', 'player_Sávio', 'player_Tadeo Allende', 'player_Takashi Inui', 'player_Takefusa Kubo', 'player_Tasos Douvikas', 'player_Tejero', 'player_Tete Morente', 'player_Theo Bongonda', 'player_Theo Corbeanu', 'player_Thiago Galhardo', 'player_Thierry Correia', 'player_Thomas Delaney', 'player_Thomas Lemar', 'player_Thomas Partey', 'player_Tinotenda Kadewere', 'player_Tomás Alarcón', 'player_Tomás Pina', 'player_Toni Kroos', 'player_Toni Lato', 'player_Toni Villa', 'player_Tonny Vilhena', 'player_Toño', 'player_Trincão', 'player_Umar Sadiq', 'player_Unai Arietaleanizbeaskoa', 'player_Unai Dufur', 'player_Unai García', 'player_Unai Gómez', 'player_Unai López', 'player_Unai Núñez', 'player_Unai Simón', 'player_Unai Vencedor', 'player_Urko Gonzalez', 'player_Uros Racic', 'player_Valentín Castellanos', 'player_Valery Fernández', 'player_Varazdat Haroyan', 'player_Vedat Muriqi', 'player_Vicente Esquerdo', 'player_Vicente Guaita', 'player_Vicente Iborra', 'player_Victor Chust', 'player_Viktor Tsygankov', 'player_Vinicius Souza', 'player_Vinícius Júnior', 'player_Vitolo', 'player_Vitor Roque', 'player_Víctor Camarasa', 'player_Víctor Campuzano', 'player_Víctor Díaz', 'player_Víctor García', 'player_Víctor Gómez', 'player_Víctor Laguardia', 'player_Víctor Ruiz', 'player_Víctor Sánchez', 'player_Waldo Rubio', 'player_William Carvalho', 'player_Willian José', 'player_Williot Swedberg', 'player_Wilson Manafá', 'player_Wu Lei', 'player_Xeber Alkain', 'player_Ximo Navarro', 'player_Xisco Campos', 'player_Yan Couto', 'player_Yan Eteki', 'player_Yangel Herrera', 'player_Yannick Carrasco', 'player_Yannis Salibur', 'player_Yarek Gasiorowski', 'player_Yeray Álvarez', 'player_Yeremi Pino', 'player_Yerson Mosquera', 'player_Yoshinori Muto', 'player_Youssef En-Nesyri', 'player_Youssouf Sabaly', 'player_Yunus Musah', 'player_Yuri', 'player_Yusuf Demir', 'player_Zaldúa', 'player_Zouhair Feddal', 'player_Álex Baena', 'player_Álex Balde', 'player_Álex Blanco', 'player_Álex Centelles', 'player_Álex Collado', 'player_Álex Fernández', 'player_Álex Moreno', 'player_Álex Suárez', 'player_Álvaro', 'player_Álvaro Aguado', 'player_Álvaro Fernández', 'player_Álvaro García', 'player_Álvaro Jiménez', 'player_Álvaro Lemos', 'player_Álvaro Morata', 'player_Álvaro Negredo', 'player_Álvaro Odriozola', 'player_Ángel', 'player_Ángel Alarcón', 'player_Ángel Algobia', 'player_Ángel Correa', 'player_Éver Banega', 'player_Íñigo Eguaras', 'player_Íñigo Lekue', 'player_Óliver Torres', 'player_Óscar Duarte', 'player_Óscar Gil', 'player_Óscar Melendo', 'player_Óscar Mingueza', 'player_Óscar Plano', 'player_Óscar Rodríguez', 'player_Óscar Trejo', 'player_Óscar Valentín', 'situation_DirectFreekick', 'situation_FromCorner', 'situation_OpenPlay', 'situation_Penalty', 'situation_SetPiece', 'shotType_Head', 'shotType_LeftFoot', 'shotType_OtherBodyPart', 'shotType_RightFoot', 'homeTeam_Alaves', 'homeTeam_Almeria', 'homeTeam_Athletic Club', 'homeTeam_Atletico Madrid', 'homeTeam_Barcelona', 'homeTeam_Cadiz', 'homeTeam_Celta Vigo', 'homeTeam_Eibar', 'homeTeam_Elche', 'homeTeam_Espanyol', 'homeTeam_Getafe', 'homeTeam_Girona', 'homeTeam_Granada', 'homeTeam_Las Palmas', 'homeTeam_Leganes', 'homeTeam_Levante', 'homeTeam_Mallorca', 'homeTeam_Osasuna', 'homeTeam_Rayo Vallecano', 'homeTeam_Real Betis', 'homeTeam_Real Madrid', 'homeTeam_Real Sociedad', 'homeTeam_Real Valladolid', 'homeTeam_SD Huesca', 'homeTeam_Sevilla', 'homeTeam_Valencia', 'homeTeam_Villarreal', 'awayTeam_Alaves', 'awayTeam_Almeria', 'awayTeam_Athletic Club', 'awayTeam_Atletico Madrid', 'awayTeam_Barcelona', 'awayTeam_Cadiz', 'awayTeam_Celta Vigo', 'awayTeam_Eibar', 'awayTeam_Elche', 'awayTeam_Espanyol', 'awayTeam_Getafe', 'awayTeam_Girona', 'awayTeam_Granada', 'awayTeam_Las Palmas', 'awayTeam_Leganes', 'awayTeam_Levante', 'awayTeam_Mallorca', 'awayTeam_Osasuna', 'awayTeam_Rayo Vallecano', 'awayTeam_Real Betis', 'awayTeam_Real Madrid', 'awayTeam_Real Sociedad', 'awayTeam_Real Valladolid', 'awayTeam_SD Huesca', 'awayTeam_Sevilla', 'awayTeam_Valencia', 'awayTeam_Villarreal', 'date_2020-06-11 20:00:00', 'date_2020-06-12 17:30:00', 'date_2020-06-12 20:00:00', 'date_2020-06-13 12:00:00', 'date_2020-06-13 15:00:00', 'date_2020-06-13 17:30:00', 'date_2020-06-13 20:00:00', 'date_2020-06-14 12:00:00', 'date_2020-06-14 17:30:00', 'date_2020-06-14 20:00:00', 'date_2020-06-15 17:30:00', 'date_2020-06-15 20:00:00', 'date_2020-06-16 17:30:00', 'date_2020-06-16 20:00:00', 'date_2020-06-17 17:30:00', 'date_2020-06-17 20:00:00', 'date_2020-06-18 17:30:00', 'date_2020-06-18 20:00:00', 'date_2020-06-19 17:30:00', 'date_2020-06-19 20:00:00', 'date_2020-06-20 12:00:00', 'date_2020-06-20 15:00:00', 'date_2020-06-20 17:30:00', 'date_2020-06-20 20:00:00', 'date_2020-06-21 12:00:00', 'date_2020-06-21 17:30:00', 'date_2020-06-21 20:00:00', 'date_2020-06-22 20:00:00', 'date_2020-06-23 17:30:00', 'date_2020-06-23 20:00:00', 'date_2020-06-24 17:30:00', 'date_2020-06-24 20:00:00', 'date_2020-06-25 17:30:00', 'date_2020-06-25 20:00:00', 'date_2020-06-26 20:00:00', 'date_2020-06-27 15:00:00', 'date_2020-06-27 16:30:00', 'date_2020-06-27 17:30:00', 'date_2020-06-27 20:00:00', 'date_2020-06-28 16:30:00', 'date_2020-06-28 18:30:00', 'date_2020-06-28 20:00:00', 'date_2020-06-29 20:00:00', 'date_2020-06-30 19:00:00', 'date_2020-06-30 20:00:00', 'date_2020-06-30 23:00:00', 'date_2020-07-01 17:30:00', 'date_2020-07-01 20:00:00', 'date_2020-07-02 17:30:00', 'date_2020-07-02 20:00:00', 'date_2020-07-03 20:00:00', 'date_2020-07-04 15:00:00', 'date_2020-07-04 17:30:00', 'date_2020-07-04 20:00:00', 'date_2020-07-05 12:00:00', 'date_2020-07-05 15:00:00', 'date_2020-07-05 17:30:00', 'date_2020-07-05 20:00:00', 'date_2020-07-06 17:30:00', 'date_2020-07-06 20:00:00', 'date_2020-07-07 17:30:00', 'date_2020-07-07 20:00:00', 'date_2020-07-08 18:30:00', 'date_2020-07-08 20:00:00', 'date_2020-07-09 17:30:00', 'date_2020-07-09 20:00:00', 'date_2020-07-10 17:30:00', 'date_2020-07-10 20:00:00', 'date_2020-07-11 15:00:00', 'date_2020-07-11 17:30:00', 'date_2020-07-11 20:00:00', 'date_2020-07-12 12:00:00', 'date_2020-07-12 15:00:00', 'date_2020-07-12 17:30:00', 'date_2020-07-12 20:00:00', 'date_2020-07-13 17:30:00', 'date_2020-07-13 20:00:00', 'date_2020-07-16 16:30:00', 'date_2020-07-16 19:00:00', 'date_2020-07-19 16:30:00', 'date_2020-07-19 19:00:00', 'date_2020-09-12 14:00:00', 'date_2020-09-12 16:30:00', 'date_2020-09-12 19:00:00', 'date_2020-09-13 12:00:00', 'date_2020-09-13 14:00:00', 'date_2020-09-13 16:30:00', 'date_2020-09-13 19:00:00', 'date_2020-09-19 14:00:00', 'date_2020-09-19 16:30:00', 'date_2020-09-19 19:00:00', 'date_2020-09-20 14:00:00', 'date_2020-09-20 16:30:00', 'date_2020-09-20 19:00:00', 'date_2020-09-26 11:00:00', 'date_2020-09-26 14:00:00', 'date_2020-09-26 16:30:00', 'date_2020-09-26 19:00:00', 'date_2020-09-27 10:00:00', 'date_2020-09-27 12:00:00', 'date_2020-09-27 14:00:00', 'date_2020-09-27 16:30:00', 'date_2020-09-27 19:00:00', 'date_2020-09-29 17:00:00', 'date_2020-09-29 19:30:00', 'date_2020-09-30 17:00:00', 'date_2020-09-30 19:30:00', 'date_2020-10-01 17:00:00', 'date_2020-10-01 19:30:00', 'date_2020-10-03 11:00:00', 'date_2020-10-03 14:00:00', 'date_2020-10-03 16:30:00', 'date_2020-10-03 19:00:00', 'date_2020-10-04 10:00:00', 'date_2020-10-04 12:00:00', 'date_2020-10-04 14:00:00', 'date_2020-10-04 16:30:00', 'date_2020-10-04 19:00:00', 'date_2020-10-17 11:00:00', 'date_2020-10-17 14:00:00', 'date_2020-10-17 16:30:00', 'date_2020-10-17 19:00:00', 'date_2020-10-18 10:00:00', 'date_2020-10-18 12:00:00', 'date_2020-10-18 14:00:00', 'date_2020-10-18 16:30:00', 'date_2020-10-18 19:00:00', 'date_2020-10-23 19:00:00', 'date_2020-10-24 14:00:00', 'date_2020-10-24 16:30:00', 'date_2020-10-24 19:00:00', 'date_2020-10-25 13:00:00', 'date_2020-10-25 15:00:00', 'date_2020-10-25 17:30:00', 'date_2020-10-25 20:00:00', 'date_2020-10-26 20:00:00', 'date_2020-10-30 20:00:00', 'date_2020-10-31 13:00:00', 'date_2020-10-31 15:00:00', 'date_2020-10-31 17:30:00', 'date_2020-10-31 20:00:00', 'date_2020-11-01 13:00:00', 'date_2020-11-01 15:00:00', 'date_2020-11-01 17:30:00', 'date_2020-11-01 20:00:00', 'date_2020-11-02 20:00:00', 'date_2020-11-06 20:00:00', 'date_2020-11-07 13:00:00', 'date_2020-11-07 15:15:00', 'date_2020-11-07 17:30:00', 'date_2020-11-07 20:00:00', 'date_2020-11-08 13:00:00', 'date_2020-11-08 15:15:00', 'date_2020-11-08 17:30:00', 'date_2020-11-08 20:00:00', 'date_2020-11-20 20:00:00', 'date_2020-11-21 13:00:00', 'date_2020-11-21 15:15:00', 'date_2020-11-21 17:30:00', 'date_2020-11-21 20:00:00', 'date_2020-11-22 13:00:00', 'date_2020-11-22 15:15:00', 'date_2020-11-22 17:30:00', 'date_2020-11-22 20:00:00', 'date_2020-11-23 20:00:00', 'date_2020-11-27 20:00:00', 'date_2020-11-28 13:00:00', 'date_2020-11-28 15:15:00', 'date_2020-11-28 17:30:00', 'date_2020-11-28 20:00:00', 'date_2020-11-29 13:00:00', 'date_2020-11-29 15:15:00', 'date_2020-11-29 17:30:00', 'date_2020-11-29 20:00:00', 'date_2020-11-30 20:00:00', 'date_2020-12-04 20:00:00', 'date_2020-12-05 13:00:00', 'date_2020-12-05 15:15:00', 'date_2020-12-05 17:30:00', 'date_2020-12-05 20:00:00', 'date_2020-12-06 13:00:00', 'date_2020-12-06 15:15:00', 'date_2020-12-06 17:30:00', 'date_2020-12-06 20:00:00', 'date_2020-12-07 20:00:00', 'date_2020-12-11 20:00:00', 'date_2020-12-12 13:00:00', 'date_2020-12-12 15:15:00', 'date_2020-12-12 17:30:00', 'date_2020-12-12 20:00:00', 'date_2020-12-13 13:00:00', 'date_2020-12-13 15:15:00', 'date_2020-12-13 17:30:00', 'date_2020-12-13 20:00:00', 'date_2020-12-14 20:00:00', 'date_2020-12-15 21:00:00', 'date_2020-12-16 20:00:00', 'date_2020-12-18 20:00:00', 'date_2020-12-19 13:00:00', 'date_2020-12-19 15:15:00', 'date_2020-12-19 17:30:00', 'date_2020-12-19 20:00:00', 'date_2020-12-20 13:00:00', 'date_2020-12-20 15:15:00', 'date_2020-12-20 17:30:00', 'date_2020-12-20 20:00:00', 'date_2020-12-22 16:30:00', 'date_2020-12-22 18:45:00', 'date_2020-12-22 21:00:00', 'date_2020-12-23 16:30:00', 'date_2020-12-23 18:45:00', 'date_2020-12-23 21:00:00', 'date_2020-12-29 18:00:00', 'date_2020-12-29 20:30:00', 'date_2020-12-30 16:00:00', 'date_2020-12-30 18:15:00', 'date_2020-12-30 20:30:00', 'date_2020-12-31 13:00:00', 'date_2020-12-31 15:15:00', 'date_2021-01-02 13:00:00', 'date_2021-01-02 15:15:00', 'date_2021-01-02 17:30:00', 'date_2021-01-02 20:00:00', 'date_2021-01-03 13:00:00', 'date_2021-01-03 15:15:00', 'date_2021-01-03 17:30:00', 'date_2021-01-03 20:00:00', 'date_2021-01-04 20:00:00', 'date_2021-01-06 20:00:00', 'date_2021-01-08 20:00:00', 'date_2021-01-09 13:00:00', 'date_2021-01-09 17:30:00', 'date_2021-01-09 20:00:00', 'date_2021-01-10 13:00:00', 'date_2021-01-10 15:15:00', 'date_2021-01-10 20:00:00', 'date_2021-01-11 18:00:00', 'date_2021-01-11 20:00:00', 'date_2021-01-12 18:00:00', 'date_2021-01-12 20:30:00', 'date_2021-01-19 18:00:00', 'date_2021-01-19 20:30:00', 'date_2021-01-20 18:00:00', 'date_2021-01-20 20:00:00', 'date_2021-01-20 20:30:00', 'date_2021-01-21 18:00:00', 'date_2021-01-21 20:30:00', 'date_2021-01-22 20:00:00', 'date_2021-01-23 13:00:00', 'date_2021-01-23 15:15:00', 'date_2021-01-23 17:30:00', 'date_2021-01-23 20:00:00', 'date_2021-01-24 13:00:00', 'date_2021-01-24 15:15:00', 'date_2021-01-24 17:30:00', 'date_2021-01-24 20:00:00', 'date_2021-01-25 20:00:00', 'date_2021-01-29 20:00:00', 'date_2021-01-30 13:00:00', 'date_2021-01-30 15:15:00', 'date_2021-01-30 17:30:00', 'date_2021-01-30 20:00:00', 'date_2021-01-31 13:00:00', 'date_2021-01-31 15:15:00', 'date_2021-01-31 17:30:00', 'date_2021-01-31 20:00:00', 'date_2021-02-01 20:00:00', 'date_2021-02-05 20:00:00', 'date_2021-02-06 13:00:00', 'date_2021-02-06 15:15:00', 'date_2021-02-06 17:30:00', 'date_2021-02-06 20:00:00', 'date_2021-02-07 13:00:00', 'date_2021-02-07 15:15:00', 'date_2021-02-07 17:30:00', 'date_2021-02-07 20:00:00', 'date_2021-02-08 20:00:00', 'date_2021-02-09 20:00:00', 'date_2021-02-12 17:30:00', 'date_2021-02-13 13:00:00', 'date_2021-02-13 15:15:00', 'date_2021-02-13 17:30:00', 'date_2021-02-13 20:00:00', 'date_2021-02-14 13:00:00', 'date_2021-02-14 15:15:00', 'date_2021-02-14 17:30:00', 'date_2021-02-14 20:00:00', 'date_2021-02-15 20:00:00', 'date_2021-02-17 18:00:00', 'date_2021-02-19 20:00:00', 'date_2021-02-20 13:00:00', 'date_2021-02-20 15:15:00', 'date_2021-02-20 17:30:00', 'date_2021-02-20 20:00:00', 'date_2021-02-21 13:00:00', 'date_2021-02-21 15:15:00', 'date_2021-02-21 17:30:00', 'date_2021-02-21 20:00:00', 'date_2021-02-22 20:00:00', 'date_2021-02-24 20:00:00', 'date_2021-02-26 20:00:00', 'date_2021-02-27 13:00:00', 'date_2021-02-27 15:15:00', 'date_2021-02-27 17:30:00', 'date_2021-02-27 20:00:00', 'date_2021-02-28 13:00:00', 'date_2021-02-28 15:15:00', 'date_2021-02-28 17:30:00', 'date_2021-02-28 20:00:00', 'date_2021-03-01 20:00:00', 'date_2021-03-05 20:00:00', 'date_2021-03-06 13:00:00', 'date_2021-03-06 15:15:00', 'date_2021-03-06 17:30:00', 'date_2021-03-06 20:00:00', 'date_2021-03-07 13:00:00', 'date_2021-03-07 15:15:00', 'date_2021-03-07 17:30:00', 'date_2021-03-07 20:00:00', 'date_2021-03-08 20:00:00', 'date_2021-03-10 20:00:00', 'date_2021-03-12 20:00:00', 'date_2021-03-13 13:00:00', 'date_2021-03-13 15:15:00', 'date_2021-03-13 17:30:00', 'date_2021-03-13 20:00:00', 'date_2021-03-14 13:00:00', 'date_2021-03-14 15:15:00', 'date_2021-03-14 17:30:00', 'date_2021-03-14 20:00:00', 'date_2021-03-15 20:00:00', 'date_2021-03-17 20:00:00', 'date_2021-03-19 20:00:00', 'date_2021-03-20 13:00:00', 'date_2021-03-20 15:15:00', 'date_2021-03-20 17:30:00', 'date_2021-03-20 20:00:00', 'date_2021-03-21 13:00:00', 'date_2021-03-21 15:15:00', 'date_2021-03-21 17:30:00', 'date_2021-03-21 20:00:00', 'date_2021-04-02 19:00:00', 'date_2021-04-03 12:00:00', 'date_2021-04-03 14:15:00', 'date_2021-04-03 16:30:00', 'date_2021-04-04 12:00:00', 'date_2021-04-04 14:15:00', 'date_2021-04-04 16:30:00', 'date_2021-04-04 19:00:00', 'date_2021-04-05 19:00:00', 'date_2021-04-07 19:00:00', 'date_2021-04-09 19:00:00', 'date_2021-04-10 12:00:00', 'date_2021-04-10 14:15:00', 'date_2021-04-10 16:30:00', 'date_2021-04-10 19:00:00', 'date_2021-04-11 12:00:00', 'date_2021-04-11 14:15:00', 'date_2021-04-11 16:30:00', 'date_2021-04-11 19:00:00', 'date_2021-04-12 19:00:00', 'date_2021-04-18 12:00:00', 'date_2021-04-18 14:15:00', 'date_2021-04-18 16:30:00', 'date_2021-04-18 19:00:00', 'date_2021-04-21 17:00:00', 'date_2021-04-21 18:00:00', 'date_2021-04-21 19:00:00', 'date_2021-04-21 20:00:00', 'date_2021-04-22 17:00:00', 'date_2021-04-22 19:00:00', 'date_2021-04-22 20:00:00', 'date_2021-04-24 14:00:00', 'date_2021-04-24 14:15:00', 'date_2021-04-24 16:30:00', 'date_2021-04-24 19:00:00', 'date_2021-04-25 12:00:00', 'date_2021-04-25 14:15:00', 'date_2021-04-25 16:30:00', 'date_2021-04-25 19:00:00', 'date_2021-04-26 19:00:00', 'date_2021-04-28 17:00:00', 'date_2021-04-29 17:00:00', 'date_2021-04-30 19:00:00', 'date_2021-05-01 12:00:00', 'date_2021-05-01 14:15:00', 'date_2021-05-01 16:30:00', 'date_2021-05-01 19:00:00', 'date_2021-05-02 12:00:00', 'date_2021-05-02 14:15:00', 'date_2021-05-02 16:30:00', 'date_2021-05-02 19:00:00', 'date_2021-05-03 19:00:00', 'date_2021-05-07 19:00:00', 'date_2021-05-08 12:00:00', 'date_2021-05-08 14:15:00', 'date_2021-05-08 16:30:00', 'date_2021-05-08 19:00:00', 'date_2021-05-09 12:00:00', 'date_2021-05-09 14:15:00', 'date_2021-05-09 16:30:00', 'date_2021-05-09 19:00:00', 'date_2021-05-10 19:00:00', 'date_2021-05-11 17:00:00', 'date_2021-05-11 18:00:00', 'date_2021-05-11 20:00:00', 'date_2021-05-12 17:00:00', 'date_2021-05-12 18:00:00', 'date_2021-05-12 20:00:00', 'date_2021-05-13 17:00:00', 'date_2021-05-13 18:00:00', 'date_2021-05-13 20:00:00', 'date_2021-05-16 16:30:00', 'date_2021-05-21 15:00:00', 'date_2021-05-22 16:00:00', 'date_2021-05-23 16:30:00', 'date_2021-05-23 19:00:00', 'date_2021-08-13 19:00:00', 'date_2021-08-14 17:30:00', 'date_2021-08-14 20:00:00', 'date_2021-08-15 15:30:00', 'date_2021-08-15 18:00:00', 'date_2021-08-15 20:15:00', 'date_2021-08-16 18:00:00', 'date_2021-08-16 20:00:00', 'date_2021-08-20 19:00:00', 'date_2021-08-21 15:00:00', 'date_2021-08-21 17:30:00', 'date_2021-08-21 20:00:00', 'date_2021-08-22 15:00:00', 'date_2021-08-22 17:30:00', 'date_2021-08-22 20:00:00', 'date_2021-08-23 18:00:00', 'date_2021-08-23 20:00:00', 'date_2021-08-27 18:00:00', 'date_2021-08-27 20:15:00', 'date_2021-08-28 15:00:00', 'date_2021-08-28 17:30:00', 'date_2021-08-28 20:00:00', 'date_2021-08-29 15:00:00', 'date_2021-08-29 17:30:00', 'date_2021-08-29 20:00:00', 'date_2021-09-11 16:30:00', 'date_2021-09-11 19:00:00', 'date_2021-09-12 12:00:00', 'date_2021-09-12 14:15:00', 'date_2021-09-12 16:30:00', 'date_2021-09-12 19:00:00', 'date_2021-09-13 18:00:00', 'date_2021-09-13 20:00:00', 'date_2021-09-17 19:00:00', 'date_2021-09-18 12:00:00', 'date_2021-09-18 14:15:00', 'date_2021-09-18 16:30:00', 'date_2021-09-18 19:00:00', 'date_2021-09-19 12:00:00', 'date_2021-09-19 14:15:00', 'date_2021-09-19 16:30:00', 'date_2021-09-19 19:00:00', 'date_2021-09-20 19:00:00', 'date_2021-09-21 17:30:00', 'date_2021-09-21 20:00:00', 'date_2021-09-22 17:30:00', 'date_2021-09-22 20:00:00', 'date_2021-09-23 17:30:00', 'date_2021-09-23 20:00:00', 'date_2021-09-25 12:00:00', 'date_2021-09-25 14:15:00', 'date_2021-09-25 16:30:00', 'date_2021-09-25 19:00:00', 'date_2021-09-26 12:00:00', 'date_2021-09-26 14:15:00', 'date_2021-09-26 16:30:00', 'date_2021-09-26 19:00:00', 'date_2021-09-27 19:00:00', 'date_2021-10-01 19:00:00', 'date_2021-10-02 12:00:00', 'date_2021-10-02 14:15:00', 'date_2021-10-02 16:30:00', 'date_2021-10-02 19:00:00', 'date_2021-10-03 12:00:00', 'date_2021-10-03 14:15:00', 'date_2021-10-03 16:30:00', 'date_2021-10-03 19:00:00', 'date_2021-10-16 16:30:00', 'date_2021-10-16 19:00:00', 'date_2021-10-17 12:00:00', 'date_2021-10-17 14:15:00', 'date_2021-10-17 16:30:00', 'date_2021-10-17 19:00:00', 'date_2021-10-18 17:00:00', 'date_2021-10-18 19:00:00', 'date_2021-10-22 19:00:00', 'date_2021-10-23 12:00:00', 'date_2021-10-23 14:15:00', 'date_2021-10-23 16:30:00', 'date_2021-10-23 19:00:00', 'date_2021-10-24 12:00:00', 'date_2021-10-24 14:15:00', 'date_2021-10-24 16:30:00', 'date_2021-10-24 19:00:00', 'date_2021-10-25 19:00:00', 'date_2021-10-26 17:00:00', 'date_2021-10-26 19:00:00', 'date_2021-10-26 19:30:00', 'date_2021-10-27 17:00:00', 'date_2021-10-27 18:00:00', 'date_2021-10-27 19:30:00', 'date_2021-10-28 17:00:00', 'date_2021-10-28 18:00:00', 'date_2021-10-28 19:30:00', 'date_2021-10-30 12:00:00', 'date_2021-10-30 14:15:00', 'date_2021-10-30 16:30:00', 'date_2021-10-30 19:00:00', 'date_2021-10-31 13:00:00', 'date_2021-10-31 15:15:00', 'date_2021-10-31 17:30:00', 'date_2021-10-31 20:00:00', 'date_2021-11-01 17:30:00', 'date_2021-11-01 20:00:00', 'date_2021-11-05 20:00:00', 'date_2021-11-06 13:00:00', 'date_2021-11-06 15:15:00', 'date_2021-11-06 17:30:00', 'date_2021-11-06 20:00:00', 'date_2021-11-07 13:00:00', 'date_2021-11-07 15:15:00', 'date_2021-11-07 17:30:00', 'date_2021-11-07 20:00:00', 'date_2021-11-19 20:00:00', 'date_2021-11-20 13:00:00', 'date_2021-11-20 15:15:00', 'date_2021-11-20 17:30:00', 'date_2021-11-20 20:00:00', 'date_2021-11-21 13:00:00', 'date_2021-11-21 15:15:00', 'date_2021-11-21 17:30:00', 'date_2021-11-21 20:00:00', 'date_2021-11-22 20:00:00', 'date_2021-11-26 20:00:00', 'date_2021-11-27 13:00:00', 'date_2021-11-27 15:15:00', 'date_2021-11-27 17:30:00', 'date_2021-11-27 20:00:00', 'date_2021-11-28 13:00:00', 'date_2021-11-28 15:15:00', 'date_2021-11-28 17:30:00', 'date_2021-11-28 20:00:00', 'date_2021-11-29 20:00:00', 'date_2021-12-01 20:00:00', 'date_2021-12-03 20:00:00', 'date_2021-12-04 13:00:00', 'date_2021-12-04 15:15:00', 'date_2021-12-04 17:30:00', 'date_2021-12-04 20:00:00', 'date_2021-12-05 13:00:00', 'date_2021-12-05 15:15:00', 'date_2021-12-05 17:30:00', 'date_2021-12-05 20:00:00', 'date_2021-12-06 20:00:00', 'date_2021-12-10 20:00:00', 'date_2021-12-11 13:00:00', 'date_2021-12-11 15:15:00', 'date_2021-12-11 17:30:00', 'date_2021-12-11 20:00:00', 'date_2021-12-12 13:00:00', 'date_2021-12-12 15:15:00', 'date_2021-12-12 17:30:00', 'date_2021-12-12 20:00:00', 'date_2021-12-13 20:00:00', 'date_2021-12-17 20:00:00', 'date_2021-12-18 13:00:00', 'date_2021-12-18 15:15:00', 'date_2021-12-18 17:30:00', 'date_2021-12-18 20:00:00', 'date_2021-12-19 13:00:00', 'date_2021-12-19 15:15:00', 'date_2021-12-19 17:30:00', 'date_2021-12-19 20:00:00', 'date_2021-12-20 20:00:00', 'date_2021-12-21 20:00:00', 'date_2021-12-21 22:30:00', 'date_2021-12-22 20:00:00', 'date_2021-12-22 20:30:00', 'date_2021-12-31 15:15:00', 'date_2022-01-02 13:00:00', 'date_2022-01-02 15:15:00', 'date_2022-01-02 17:30:00', 'date_2022-01-02 20:00:00', 'date_2022-01-03 18:00:00', 'date_2022-01-03 20:00:00', 'date_2022-01-03 20:15:00', 'date_2022-01-08 13:00:00', 'date_2022-01-08 15:15:00', 'date_2022-01-08 17:30:00', 'date_2022-01-08 20:00:00', 'date_2022-01-09 13:00:00', 'date_2022-01-09 15:15:00', 'date_2022-01-09 17:30:00', 'date_2022-01-09 20:00:00', 'date_2022-01-10 20:00:00', 'date_2022-01-16 18:00:00', 'date_2022-01-18 18:00:00', 'date_2022-01-18 20:00:00', 'date_2022-01-19 18:00:00', 'date_2022-01-19 20:30:00', 'date_2022-01-20 18:00:00', 'date_2022-01-21 20:00:00', 'date_2022-01-22 13:00:00', 'date_2022-01-22 15:15:00', 'date_2022-01-22 17:30:00', 'date_2022-01-22 20:00:00', 'date_2022-01-23 13:00:00', 'date_2022-01-23 15:15:00', 'date_2022-01-23 17:30:00', 'date_2022-01-23 20:00:00', 'date_2022-02-04 20:00:00', 'date_2022-02-05 13:00:00', 'date_2022-02-05 15:15:00', 'date_2022-02-05 17:30:00', 'date_2022-02-05 20:00:00', 'date_2022-02-06 13:00:00', 'date_2022-02-06 15:15:00', 'date_2022-02-06 17:30:00', 'date_2022-02-06 20:00:00', 'date_2022-02-07 20:00:00', 'date_2022-02-11 20:00:00', 'date_2022-02-12 13:00:00', 'date_2022-02-12 15:15:00', 'date_2022-02-12 17:30:00', 'date_2022-02-12 20:00:00', 'date_2022-02-13 13:00:00', 'date_2022-02-13 15:15:00', 'date_2022-02-13 17:30:00', 'date_2022-02-13 20:00:00', 'date_2022-02-14 20:00:00', 'date_2022-02-16 18:00:00', 'date_2022-02-18 20:00:00', 'date_2022-02-19 13:00:00', 'date_2022-02-19 15:15:00', 'date_2022-02-19 17:30:00', 'date_2022-02-19 20:00:00', 'date_2022-02-20 13:00:00', 'date_2022-02-20 15:15:00', 'date_2022-02-20 17:30:00', 'date_2022-02-20 20:00:00', 'date_2022-02-21 20:00:00', 'date_2022-02-25 20:00:00', 'date_2022-02-26 13:00:00', 'date_2022-02-26 15:15:00', 'date_2022-02-26 17:30:00', 'date_2022-02-26 20:00:00', 'date_2022-02-27 13:00:00', 'date_2022-02-27 15:15:00', 'date_2022-02-27 17:30:00', 'date_2022-02-27 20:00:00', 'date_2022-02-28 20:00:00', 'date_2022-03-02 20:00:00', 'date_2022-03-04 20:00:00', 'date_2022-03-05 13:00:00', 'date_2022-03-05 15:15:00', 'date_2022-03-05 17:30:00', 'date_2022-03-05 20:00:00', 'date_2022-03-06 13:00:00', 'date_2022-03-06 15:15:00', 'date_2022-03-06 17:30:00', 'date_2022-03-06 20:00:00', 'date_2022-03-07 20:00:00', 'date_2022-03-11 20:00:00', 'date_2022-03-12 13:00:00', 'date_2022-03-12 15:15:00', 'date_2022-03-12 17:30:00', 'date_2022-03-12 20:00:00', 'date_2022-03-13 13:00:00', 'date_2022-03-13 15:15:00', 'date_2022-03-13 17:30:00', 'date_2022-03-13 20:00:00', 'date_2022-03-14 20:00:00', 'date_2022-03-18 20:00:00', 'date_2022-03-19 13:00:00', 'date_2022-03-19 15:15:00', 'date_2022-03-19 17:30:00', 'date_2022-03-19 20:00:00', 'date_2022-03-20 13:00:00', 'date_2022-03-20 15:15:00', 'date_2022-03-20 17:30:00', 'date_2022-03-20 20:00:00', 'date_2022-04-02 12:00:00', 'date_2022-04-02 14:15:00', 'date_2022-04-02 16:30:00', 'date_2022-04-02 19:00:00', 'date_2022-04-03 12:00:00', 'date_2022-04-03 14:15:00', 'date_2022-04-03 16:30:00', 'date_2022-04-03 19:00:00', 'date_2022-04-04 19:00:00', 'date_2022-04-08 19:00:00', 'date_2022-04-09 12:00:00', 'date_2022-04-09 14:15:00', 'date_2022-04-09 16:30:00', 'date_2022-04-09 19:00:00', 'date_2022-04-10 12:00:00', 'date_2022-04-10 14:15:00', 'date_2022-04-10 16:30:00', 'date_2022-04-10 19:00:00', 'date_2022-04-11 19:00:00', 'date_2022-04-15 19:00:00', 'date_2022-04-16 12:00:00', 'date_2022-04-16 14:15:00', 'date_2022-04-16 16:30:00', 'date_2022-04-16 19:00:00', 'date_2022-04-17 12:00:00', 'date_2022-04-17 14:15:00', 'date_2022-04-17 16:30:00', 'date_2022-04-17 19:00:00', 'date_2022-04-18 19:00:00', 'date_2022-04-19 17:00:00', 'date_2022-04-19 19:00:00', 'date_2022-04-19 19:30:00', 'date_2022-04-20 17:00:00', 'date_2022-04-20 18:00:00', 'date_2022-04-20 19:30:00', 'date_2022-04-21 17:00:00', 'date_2022-04-21 18:00:00', 'date_2022-04-21 19:30:00', 'date_2022-04-24 19:00:00', 'date_2022-04-29 19:00:00', 'date_2022-04-30 12:00:00', 'date_2022-04-30 14:15:00', 'date_2022-04-30 16:30:00', 'date_2022-04-30 19:00:00', 'date_2022-05-01 12:00:00', 'date_2022-05-01 14:15:00', 'date_2022-05-01 16:30:00', 'date_2022-05-01 19:00:00', 'date_2022-05-02 19:00:00', 'date_2022-05-06 19:00:00', 'date_2022-05-07 12:00:00', 'date_2022-05-07 14:15:00', 'date_2022-05-07 16:30:00', 'date_2022-05-07 19:00:00', 'date_2022-05-08 12:00:00', 'date_2022-05-08 14:15:00', 'date_2022-05-08 16:30:00', 'date_2022-05-08 19:00:00', 'date_2022-05-10 17:00:00', 'date_2022-05-10 18:00:00', 'date_2022-05-10 19:30:00', 'date_2022-05-11 17:00:00', 'date_2022-05-11 18:30:00', 'date_2022-05-11 19:30:00', 'date_2022-05-12 17:00:00', 'date_2022-05-12 18:00:00', 'date_2022-05-12 19:30:00', 'date_2022-05-15 17:30:00', 'date_2022-05-20 19:00:00', 'date_2022-05-21 15:30:00', 'date_2022-05-22 15:30:00', 'date_2022-05-22 18:00:00', 'date_2022-05-22 20:00:00', 'date_2022-08-12 19:00:00', 'date_2022-08-13 15:00:00', 'date_2022-08-13 17:00:00', 'date_2022-08-13 19:00:00', 'date_2022-08-14 15:30:00', 'date_2022-08-14 17:30:00', 'date_2022-08-14 20:00:00', 'date_2022-08-15 15:30:00', 'date_2022-08-15 17:30:00', 'date_2022-08-15 19:30:00', 'date_2022-08-19 18:00:00', 'date_2022-08-19 20:00:00', 'date_2022-08-20 15:30:00', 'date_2022-08-20 17:30:00', 'date_2022-08-20 20:00:00', 'date_2022-08-21 15:30:00', 'date_2022-08-21 17:30:00', 'date_2022-08-21 20:00:00', 'date_2022-08-22 18:00:00', 'date_2022-08-22 20:00:00', 'date_2022-08-26 18:00:00', 'date_2022-08-26 20:00:00', 'date_2022-08-27 15:30:00', 'date_2022-08-27 17:30:00', 'date_2022-08-27 20:00:00', 'date_2022-08-28 15:30:00', 'date_2022-08-28 17:30:00', 'date_2022-08-28 20:00:00', 'date_2022-08-29 18:00:00', 'date_2022-08-29 20:00:00', 'date_2022-09-02 19:00:00', 'date_2022-09-03 12:00:00', 'date_2022-09-03 14:15:00', 'date_2022-09-03 16:30:00', 'date_2022-09-03 19:00:00', 'date_2022-09-04 12:00:00', 'date_2022-09-04 14:15:00', 'date_2022-09-04 16:30:00', 'date_2022-09-04 19:00:00', 'date_2022-09-05 19:00:00', 'date_2022-09-09 19:00:00', 'date_2022-09-10 12:00:00', 'date_2022-09-10 14:15:00', 'date_2022-09-10 16:30:00', 'date_2022-09-10 19:00:00', 'date_2022-09-11 12:00:00', 'date_2022-09-11 14:15:00', 'date_2022-09-11 16:30:00', 'date_2022-09-11 19:00:00', 'date_2022-09-12 19:00:00', 'date_2022-09-16 19:00:00', 'date_2022-09-17 12:00:00', 'date_2022-09-17 14:15:00', 'date_2022-09-17 16:30:00', 'date_2022-09-17 19:00:00', 'date_2022-09-18 12:00:00', 'date_2022-09-18 14:15:00', 'date_2022-09-18 16:30:00', 'date_2022-09-18 19:00:00', 'date_2022-09-30 19:00:00', 'date_2022-10-01 12:00:00', 'date_2022-10-01 14:15:00', 'date_2022-10-01 16:30:00', 'date_2022-10-01 19:00:00', 'date_2022-10-02 12:00:00', 'date_2022-10-02 14:15:00', 'date_2022-10-02 16:30:00', 'date_2022-10-02 19:00:00', 'date_2022-10-03 19:00:00', 'date_2022-10-07 19:00:00', 'date_2022-10-08 12:00:00', 'date_2022-10-08 14:15:00', 'date_2022-10-08 16:30:00', 'date_2022-10-08 19:00:00', 'date_2022-10-09 12:00:00', 'date_2022-10-09 14:15:00', 'date_2022-10-09 16:30:00', 'date_2022-10-09 19:00:00', 'date_2022-10-10 19:00:00', 'date_2022-10-14 19:00:00', 'date_2022-10-15 12:00:00', 'date_2022-10-15 14:15:00', 'date_2022-10-15 16:30:00', 'date_2022-10-15 19:00:00', 'date_2022-10-16 12:00:00', 'date_2022-10-16 14:15:00', 'date_2022-10-16 16:30:00', 'date_2022-10-16 19:00:00', 'date_2022-10-17 19:00:00', 'date_2022-10-18 17:00:00', 'date_2022-10-18 18:00:00', 'date_2022-10-18 19:00:00', 'date_2022-10-19 17:00:00', 'date_2022-10-19 18:00:00', 'date_2022-10-19 19:00:00', 'date_2022-10-20 17:00:00', 'date_2022-10-20 18:00:00', 'date_2022-10-20 19:00:00', 'date_2022-10-22 12:00:00', 'date_2022-10-22 14:15:00', 'date_2022-10-22 16:30:00', 'date_2022-10-22 19:00:00', 'date_2022-10-23 12:00:00', 'date_2022-10-23 14:15:00', 'date_2022-10-23 16:30:00', 'date_2022-10-23 19:00:00', 'date_2022-10-24 19:00:00', 'date_2022-10-28 19:00:00', 'date_2022-10-29 12:00:00', 'date_2022-10-29 14:15:00', 'date_2022-10-29 16:30:00', 'date_2022-10-29 19:00:00', 'date_2022-10-30 13:00:00', 'date_2022-10-30 15:15:00', 'date_2022-10-30 17:30:00', 'date_2022-10-30 20:00:00', 'date_2022-10-31 20:00:00', 'date_2022-11-04 20:00:00', 'date_2022-11-05 14:00:00', 'date_2022-11-05 15:15:00', 'date_2022-11-05 17:30:00', 'date_2022-11-05 20:00:00', 'date_2022-11-06 13:00:00', 'date_2022-11-06 15:15:00', 'date_2022-11-06 17:30:00', 'date_2022-11-06 20:00:00', 'date_2022-11-07 20:00:00', 'date_2022-11-08 18:00:00', 'date_2022-11-08 19:00:00', 'date_2022-11-08 20:30:00', 'date_2022-11-09 18:00:00', 'date_2022-11-09 19:00:00', 'date_2022-11-09 20:30:00', 'date_2022-11-10 18:00:00', 'date_2022-11-10 19:00:00', 'date_2022-11-10 20:30:00', 'date_2022-12-29 16:00:00', 'date_2022-12-29 18:15:00', 'date_2022-12-29 20:30:00', 'date_2022-12-30 16:00:00', 'date_2022-12-30 18:15:00', 'date_2022-12-30 20:30:00', 'date_2022-12-31 13:00:00', 'date_2022-12-31 15:15:00', 'date_2023-01-06 17:30:00', 'date_2023-01-06 20:00:00', 'date_2023-01-07 15:15:00', 'date_2023-01-07 17:30:00', 'date_2023-01-07 20:00:00', 'date_2023-01-08 13:00:00', 'date_2023-01-08 15:15:00', 'date_2023-01-08 17:30:00', 'date_2023-01-08 20:00:00', 'date_2023-01-09 20:00:00', 'date_2023-01-13 20:00:00', 'date_2023-01-14 13:00:00', 'date_2023-01-14 15:15:00', 'date_2023-01-14 17:30:00', 'date_2023-01-14 20:00:00', 'date_2023-01-15 13:00:00', 'date_2023-01-15 15:15:00', 'date_2023-01-16 20:00:00', 'date_2023-01-20 20:00:00', 'date_2023-01-21 13:00:00', 'date_2023-01-21 15:15:00', 'date_2023-01-21 17:30:00', 'date_2023-01-21 20:00:00', 'date_2023-01-22 13:00:00', 'date_2023-01-22 15:15:00', 'date_2023-01-22 17:30:00', 'date_2023-01-22 20:00:00', 'date_2023-01-23 20:00:00', 'date_2023-01-27 20:00:00', 'date_2023-01-28 13:00:00', 'date_2023-01-28 15:15:00', 'date_2023-01-28 17:30:00', 'date_2023-01-28 20:00:00', 'date_2023-01-29 13:00:00', 'date_2023-01-29 15:15:00', 'date_2023-01-29 17:30:00', 'date_2023-01-29 20:00:00', 'date_2023-01-30 20:00:00', 'date_2023-02-01 20:00:00', 'date_2023-02-02 20:00:00', 'date_2023-02-03 20:00:00', 'date_2023-02-04 13:00:00', 'date_2023-02-04 15:15:00', 'date_2023-02-04 17:30:00', 'date_2023-02-04 20:00:00', 'date_2023-02-05 13:00:00', 'date_2023-02-05 15:15:00', 'date_2023-02-05 17:30:00', 'date_2023-02-05 20:00:00', 'date_2023-02-06 20:00:00', 'date_2023-02-10 20:00:00', 'date_2023-02-11 15:15:00', 'date_2023-02-11 17:30:00', 'date_2023-02-11 20:00:00', 'date_2023-02-12 13:00:00', 'date_2023-02-12 15:15:00', 'date_2023-02-12 17:30:00', 'date_2023-02-12 20:00:00', 'date_2023-02-13 20:00:00', 'date_2023-02-15 20:00:00', 'date_2023-02-17 17:00:00', 'date_2023-02-18 10:00:00', 'date_2023-02-18 15:15:00', 'date_2023-02-18 17:30:00', 'date_2023-02-18 20:00:00', 'date_2023-02-19 13:00:00', 'date_2023-02-19 15:15:00', 'date_2023-02-19 17:30:00', 'date_2023-02-19 20:00:00', 'date_2023-02-20 20:00:00', 'date_2023-02-24 20:00:00', 'date_2023-02-25 13:00:00', 'date_2023-02-25 15:15:00', 'date_2023-02-25 17:30:00', 'date_2023-02-25 20:00:00', 'date_2023-02-26 13:00:00', 'date_2023-02-26 15:15:00', 'date_2023-02-26 17:30:00', 'date_2023-02-26 20:00:00', 'date_2023-02-27 20:00:00', 'date_2023-03-03 20:00:00', 'date_2023-03-04 13:00:00', 'date_2023-03-04 15:15:00', 'date_2023-03-04 17:30:00', 'date_2023-03-04 20:00:00', 'date_2023-03-05 13:00:00', 'date_2023-03-05 15:15:00', 'date_2023-03-05 17:30:00', 'date_2023-03-05 20:00:00', 'date_2023-03-06 20:00:00', 'date_2023-03-10 20:00:00', 'date_2023-03-11 13:00:00', 'date_2023-03-11 15:15:00', 'date_2023-03-11 17:30:00', 'date_2023-03-11 20:00:00', 'date_2023-03-12 13:00:00', 'date_2023-03-12 15:15:00', 'date_2023-03-12 17:30:00', 'date_2023-03-12 20:00:00', 'date_2023-03-13 20:00:00', 'date_2023-03-17 20:00:00', 'date_2023-03-18 13:00:00', 'date_2023-03-18 15:15:00', 'date_2023-03-18 17:30:00', 'date_2023-03-18 20:00:00', 'date_2023-03-19 13:00:00', 'date_2023-03-19 15:15:00', 'date_2023-03-19 17:30:00', 'date_2023-03-19 20:00:00', 'date_2023-03-31 20:00:00', 'date_2023-04-01 12:00:00', 'date_2023-04-01 14:15:00', 'date_2023-04-01 16:30:00', 'date_2023-04-01 19:00:00', 'date_2023-04-02 12:00:00', 'date_2023-04-02 14:15:00', 'date_2023-04-02 16:30:00', 'date_2023-04-02 19:00:00', 'date_2023-04-03 19:00:00', 'date_2023-04-07 19:00:00', 'date_2023-04-08 12:00:00', 'date_2023-04-08 14:15:00', 'date_2023-04-08 16:30:00', 'date_2023-04-08 19:00:00', 'date_2023-04-09 12:00:00', 'date_2023-04-09 14:15:00', 'date_2023-04-09 16:30:00', 'date_2023-04-09 19:00:00', 'date_2023-04-10 19:00:00', 'date_2023-04-14 19:00:00', 'date_2023-04-15 12:00:00', 'date_2023-04-15 14:15:00', 'date_2023-04-15 16:30:00', 'date_2023-04-15 19:00:00', 'date_2023-04-16 12:00:00', 'date_2023-04-16 14:15:00', 'date_2023-04-16 16:30:00', 'date_2023-04-16 19:00:00', 'date_2023-04-17 19:00:00', 'date_2023-04-21 19:00:00', 'date_2023-04-22 12:00:00', 'date_2023-04-22 14:15:00', 'date_2023-04-22 16:30:00', 'date_2023-04-22 19:00:00', 'date_2023-04-23 12:00:00', 'date_2023-04-23 14:15:00', 'date_2023-04-23 16:30:00', 'date_2023-04-23 19:00:00', 'date_2023-04-25 17:30:00', 'date_2023-04-25 20:00:00', 'date_2023-04-26 17:30:00', 'date_2023-04-26 20:00:00', 'date_2023-04-27 17:30:00', 'date_2023-04-27 20:00:00', 'date_2023-04-28 19:00:00', 'date_2023-04-29 14:15:00', 'date_2023-04-29 16:30:00', 'date_2023-04-29 19:00:00', 'date_2023-04-30 12:00:00', 'date_2023-04-30 14:15:00', 'date_2023-04-30 16:30:00', 'date_2023-04-30 19:00:00', 'date_2023-05-01 17:00:00', 'date_2023-05-01 19:00:00', 'date_2023-05-02 17:30:00', 'date_2023-05-02 20:00:00', 'date_2023-05-03 17:30:00', 'date_2023-05-03 20:00:00', 'date_2023-05-04 17:30:00', 'date_2023-05-04 20:00:00', 'date_2023-05-12 19:00:00', 'date_2023-05-13 12:00:00', 'date_2023-05-13 14:15:00', 'date_2023-05-13 16:30:00', 'date_2023-05-13 19:00:00', 'date_2023-05-14 12:00:00', 'date_2023-05-14 14:15:00', 'date_2023-05-14 16:30:00', 'date_2023-05-14 19:00:00', 'date_2023-05-15 19:00:00', 'date_2023-05-19 19:00:00', 'date_2023-05-20 12:00:00', 'date_2023-05-20 14:15:00', 'date_2023-05-20 16:30:00', 'date_2023-05-20 19:00:00', 'date_2023-05-21 12:00:00', 'date_2023-05-21 14:15:00', 'date_2023-05-21 16:30:00', 'date_2023-05-21 19:00:00', 'date_2023-05-23 17:30:00', 'date_2023-05-23 20:00:00', 'date_2023-05-24 17:30:00', 'date_2023-05-24 20:00:00', 'date_2023-05-25 17:30:00', 'date_2023-05-25 19:30:00', 'date_2023-05-27 17:00:00', 'date_2023-05-28 17:00:00', 'date_2023-06-04 18:00:00', 'date_2023-08-11 17:30:00', 'date_2023-08-11 19:30:00', 'date_2023-08-12 15:00:00', 'date_2023-08-12 17:30:00', 'date_2023-08-12 19:30:00', 'date_2023-08-13 15:00:00', 'date_2023-08-13 17:30:00', 'date_2023-08-13 19:30:00', 'date_2023-08-14 17:30:00', 'date_2023-08-14 19:30:00', 'date_2023-08-18 17:30:00', 'date_2023-08-18 19:30:00', 'date_2023-08-19 15:00:00', 'date_2023-08-19 17:30:00', 'date_2023-08-19 19:30:00', 'date_2023-08-20 15:30:00', 'date_2023-08-20 17:30:00', 'date_2023-08-20 19:30:00', 'date_2023-08-21 17:00:00', 'date_2023-08-21 19:30:00', 'date_2023-08-25 17:30:00', 'date_2023-08-25 19:30:00', 'date_2023-08-26 17:00:00', 'date_2023-08-26 17:30:00', 'date_2023-08-26 19:30:00', 'date_2023-08-27 15:30:00', 'date_2023-08-27 17:30:00', 'date_2023-08-27 19:30:00', 'date_2023-08-28 17:30:00', 'date_2023-08-28 19:30:00', 'date_2023-09-01 17:30:00', 'date_2023-09-01 20:00:00', 'date_2023-09-02 12:00:00', 'date_2023-09-02 14:15:00', 'date_2023-09-02 16:30:00', 'date_2023-09-02 19:00:00', 'date_2023-09-03 12:00:00', 'date_2023-09-03 14:15:00', 'date_2023-09-03 19:00:00', 'date_2023-09-15 19:00:00', 'date_2023-09-16 12:00:00', 'date_2023-09-16 14:15:00', 'date_2023-09-16 16:30:00', 'date_2023-09-16 19:00:00', 'date_2023-09-17 12:00:00', 'date_2023-09-17 14:15:00', 'date_2023-09-17 16:30:00', 'date_2023-09-17 19:00:00', 'date_2023-09-18 19:00:00', 'date_2023-09-22 19:00:00', 'date_2023-09-23 12:00:00', 'date_2023-09-23 14:15:00', 'date_2023-09-23 16:30:00', 'date_2023-09-23 19:00:00', 'date_2023-09-24 12:00:00', 'date_2023-09-24 14:15:00', 'date_2023-09-24 16:30:00', 'date_2023-09-24 19:00:00', 'date_2023-09-26 17:00:00', 'date_2023-09-26 19:30:00', 'date_2023-09-27 17:00:00', 'date_2023-09-27 19:30:00', 'date_2023-09-28 17:00:00', 'date_2023-09-28 19:30:00', 'date_2023-09-29 19:00:00', 'date_2023-09-30 12:00:00', 'date_2023-09-30 14:15:00', 'date_2023-09-30 16:30:00', 'date_2023-09-30 19:00:00', 'date_2023-10-01 12:00:00', 'date_2023-10-01 14:15:00', 'date_2023-10-01 19:00:00', 'date_2023-10-02 19:00:00', 'date_2023-10-06 19:00:00', 'date_2023-10-07 12:00:00', 'date_2023-10-07 14:15:00', 'date_2023-10-07 16:30:00', 'date_2023-10-07 19:00:00', 'date_2023-10-08 12:00:00', 'date_2023-10-08 14:15:00', 'date_2023-10-08 16:30:00', 'date_2023-10-08 19:00:00', 'date_2023-10-20 19:00:00', 'date_2023-10-21 12:00:00', 'date_2023-10-21 14:15:00', 'date_2023-10-21 16:30:00', 'date_2023-10-21 19:00:00', 'date_2023-10-22 12:00:00', 'date_2023-10-22 14:15:00', 'date_2023-10-22 16:30:00', 'date_2023-10-22 19:00:00', 'date_2023-10-23 19:00:00', 'date_2023-10-27 19:00:00', 'date_2023-10-28 12:00:00', 'date_2023-10-28 14:15:00', 'date_2023-10-28 16:30:00', 'date_2023-10-28 19:00:00', 'date_2023-10-29 13:00:00', 'date_2023-10-29 15:15:00', 'date_2023-10-29 17:30:00', 'date_2023-10-29 20:00:00', 'date_2023-10-30 20:00:00', 'date_2023-11-03 19:00:00', 'date_2023-11-04 13:00:00', 'date_2023-11-04 15:15:00', 'date_2023-11-04 17:30:00', 'date_2023-11-04 20:00:00', 'date_2023-11-05 13:00:00', 'date_2023-11-05 15:15:00', 'date_2023-11-05 17:30:00', 'date_2023-11-05 20:00:00', 'date_2023-11-06 20:00:00', 'date_2023-11-10 20:00:00', 'date_2023-11-11 13:00:00', 'date_2023-11-11 15:15:00', 'date_2023-11-11 17:30:00', 'date_2023-11-11 20:00:00', 'date_2023-11-12 15:15:00', 'date_2023-11-12 17:30:00', 'date_2023-11-12 20:00:00', 'date_2023-11-24 20:00:00', 'date_2023-11-25 13:00:00', 'date_2023-11-25 15:15:00', 'date_2023-11-25 17:30:00', 'date_2023-11-25 20:00:00', 'date_2023-11-26 13:00:00', 'date_2023-11-26 15:15:00', 'date_2023-11-26 17:30:00', 'date_2023-11-26 20:00:00', 'date_2023-11-27 20:00:00', 'date_2023-11-29 20:00:00', 'date_2023-12-01 19:00:00', 'date_2023-12-02 13:00:00', 'date_2023-12-02 15:15:00', 'date_2023-12-02 17:30:00', 'date_2023-12-02 20:00:00', 'date_2023-12-03 13:00:00', 'date_2023-12-03 15:15:00', 'date_2023-12-03 17:30:00', 'date_2023-12-03 20:00:00', 'date_2023-12-04 20:00:00', 'date_2023-12-08 20:00:00', 'date_2023-12-09 13:00:00', 'date_2023-12-09 15:15:00', 'date_2023-12-09 17:30:00', 'date_2023-12-09 20:00:00', 'date_2023-12-10 13:00:00', 'date_2023-12-10 17:30:00', 'date_2023-12-10 20:00:00', 'date_2023-12-11 20:00:00', 'date_2023-12-12 15:15:00', 'date_2023-12-15 20:00:00', 'date_2023-12-16 13:00:00', 'date_2023-12-16 15:15:00', 'date_2023-12-16 17:30:00', 'date_2023-12-16 20:00:00', 'date_2023-12-17 13:00:00', 'date_2023-12-17 15:15:00', 'date_2023-12-17 17:30:00', 'date_2023-12-17 20:00:00', 'date_2023-12-18 20:00:00', 'date_2023-12-19 18:00:00', 'date_2023-12-19 20:30:00', 'date_2023-12-20 18:00:00', 'date_2023-12-20 20:30:00', 'date_2023-12-21 18:00:00', 'date_2023-12-21 20:30:00', 'date_2023-12-23 14:15:00', 'date_2024-01-02 16:00:00', 'date_2024-01-02 18:15:00', 'date_2024-01-02 20:30:00', 'date_2024-01-03 16:00:00', 'date_2024-01-03 18:15:00', 'date_2024-01-03 20:30:00', 'date_2024-01-04 16:00:00', 'date_2024-01-04 18:15:00', 'date_2024-01-04 20:30:00', 'date_2024-01-12 20:00:00', 'date_2024-01-13 13:00:00', 'date_2024-01-13 15:15:00', 'date_2024-01-13 17:30:00', 'date_2024-01-13 20:00:00', 'date_2024-01-14 13:00:00', 'date_2024-01-14 15:15:00', 'date_2024-01-19 20:00:00', 'date_2024-01-20 13:00:00', 'date_2024-01-20 15:15:00', 'date_2024-01-20 17:30:00', 'date_2024-01-20 20:00:00', 'date_2024-01-21 13:00:00', 'date_2024-01-21 15:15:00', 'date_2024-01-21 17:30:00', 'date_2024-01-21 20:00:00', 'date_2024-01-22 20:00:00', 'date_2024-01-26 20:00:00', 'date_2024-01-27 13:00:00', 'date_2024-01-27 15:15:00', 'date_2024-01-27 17:30:00', 'date_2024-01-27 20:00:00', 'date_2024-01-28 13:00:00', 'date_2024-01-28 15:15:00', 'date_2024-01-28 17:30:00', 'date_2024-01-28 20:00:00', 'date_2024-01-29 20:00:00', 'date_2024-01-31 18:00:00', 'date_2024-01-31 20:00:00', 'date_2024-02-01 20:00:00', 'date_2024-02-02 20:00:00', 'date_2024-02-03 13:00:00', 'date_2024-02-03 15:15:00', 'date_2024-02-03 17:30:00', 'date_2024-02-03 20:00:00', 'date_2024-02-04 13:00:00', 'date_2024-02-04 15:15:00', 'date_2024-02-04 17:30:00', 'date_2024-02-04 20:00:00', 'date_2024-02-05 20:00:00', 'date_2024-02-09 20:00:00', 'date_2024-02-10 13:00:00', 'date_2024-02-10 15:15:00', 'date_2024-02-10 17:30:00', 'date_2024-02-10 20:00:00', 'date_2024-02-11 13:00:00', 'date_2024-02-11 15:15:00', 'date_2024-02-11 17:30:00', 'date_2024-02-11 20:00:00', 'date_2024-02-12 20:00:00', 'date_2024-02-16 20:00:00', 'date_2024-02-17 13:00:00', 'date_2024-02-17 15:15:00', 'date_2024-02-17 17:30:00', 'date_2024-02-17 20:00:00', 'date_2024-02-18 13:00:00', 'date_2024-02-18 15:15:00', 'date_2024-02-18 17:30:00', 'date_2024-02-18 20:00:00', 'date_2024-02-19 20:00:00', 'date_2024-02-23 20:00:00', 'date_2024-02-24 15:15:00', 'date_2024-02-24 17:30:00', 'date_2024-02-24 20:00:00', 'date_2024-02-25 13:00:00', 'date_2024-02-25 15:15:00', 'date_2024-02-25 17:30:00', 'date_2024-02-25 20:00:00', 'date_2024-02-26 20:00:00', 'date_2024-03-01 20:00:00', 'date_2024-03-02 13:00:00', 'date_2024-03-02 15:15:00', 'date_2024-03-02 17:30:00', 'date_2024-03-02 20:00:00', 'date_2024-03-03 13:00:00', 'date_2024-03-03 15:15:00', 'date_2024-03-03 17:30:00', 'date_2024-03-03 20:00:00', 'date_2024-03-04 20:00:00', 'date_2024-03-08 20:00:00', 'date_2024-03-09 13:00:00', 'date_2024-03-09 15:15:00', 'date_2024-03-09 17:30:00', 'date_2024-03-09 20:00:00', 'date_2024-03-10 13:00:00', 'date_2024-03-10 15:15:00', 'date_2024-03-10 17:30:00', 'date_2024-03-10 20:00:00', 'date_2024-03-11 20:00:00', 'date_2024-03-15 20:00:00', 'date_2024-03-16 13:00:00', 'date_2024-03-16 15:15:00', 'date_2024-03-16 17:30:00', 'date_2024-03-16 20:00:00', 'date_2024-03-17 13:00:00', 'date_2024-03-17 15:15:00', 'date_2024-03-17 16:15:00', 'date_2024-03-17 17:30:00', 'date_2024-03-17 20:00:00', 'date_2024-03-29 20:00:00', 'date_2024-03-30 13:00:00', 'date_2024-03-30 15:15:00', 'date_2024-03-30 17:30:00', 'date_2024-03-30 20:00:00', 'date_2024-03-31 13:00:00', 'date_2024-03-31 15:15:00', 'date_2024-03-31 17:30:00', 'date_2024-03-31 20:00:00', 'date_2024-04-01 19:00:00', 'date_2024-04-04 18:00:00', 'date_2024-04-12 19:00:00', 'date_2024-04-13 12:00:00', 'date_2024-04-13 14:15:00', 'date_2024-04-13 16:30:00', 'date_2024-04-13 19:00:00', 'date_2024-04-14 12:00:00', 'date_2024-04-14 14:15:00', 'date_2024-04-14 16:30:00', 'date_2024-04-14 19:00:00', 'date_2024-04-15 19:00:00', 'date_2024-04-19 19:00:00', 'date_2024-04-20 12:00:00', 'date_2024-04-20 14:15:00', 'date_2024-04-20 16:30:00', 'date_2024-04-20 19:00:00', 'date_2024-04-21 12:00:00', 'date_2024-04-21 14:15:00', 'date_2024-04-21 16:30:00', 'date_2024-04-21 19:00:00', 'date_2024-04-22 19:00:00', 'date_2024-04-26 19:00:00', 'date_2024-04-27 12:00:00', 'date_2024-04-27 14:15:00', 'date_2024-04-27 16:30:00', 'date_2024-04-27 19:00:00', 'date_2024-04-28 12:00:00', 'date_2024-04-28 14:15:00', 'date_2024-04-28 16:30:00', 'date_2024-04-28 19:00:00', 'date_2024-04-29 19:00:00', 'date_2024-05-03 19:00:00', 'date_2024-05-04 12:00:00', 'date_2024-05-04 14:15:00', 'date_2024-05-04 16:30:00', 'date_2024-05-04 19:00:00', 'date_2024-05-05 12:00:00', 'date_2024-05-05 14:15:00', 'date_2024-05-05 16:30:00', 'date_2024-05-05 19:00:00', 'date_2024-05-10 19:00:00', 'date_2024-05-11 12:00:00', 'date_2024-05-11 14:15:00', 'date_2024-05-11 16:30:00', 'date_2024-05-11 19:00:00', 'date_2024-05-12 12:00:00', 'date_2024-05-12 14:15:00', 'date_2024-05-12 16:30:00', 'date_2024-05-12 19:00:00', 'date_2024-05-13 19:00:00', 'date_2024-05-14 17:30:00', 'date_2024-05-14 19:30:00', 'date_2024-05-14 20:00:00', 'date_2024-05-15 17:30:00', 'date_2024-05-15 20:00:00', 'date_2024-05-16 17:30:00', 'date_2024-05-16 19:30:00', 'date_2024-05-16 20:00:00', 'date_2024-05-18 19:00:00', 'date_2024-05-19 17:00:00', 'date_2024-05-24 19:00:00', 'date_2024-05-25 12:00:00', 'date_2024-05-25 14:15:00', 'date_2024-05-25 16:30:00', 'date_2024-05-25 19:00:00', 'date_2024-05-26 12:00:00', 'date_2024-05-26 14:15:00', 'date_2024-05-26 19:00:00', 'playerAssisted_Aarón Martín', 'playerAssisted_Abdelkabir Abqar', 'playerAssisted_Abderrahmane Rebbach', 'playerAssisted_Abdessamad Ezzalzouli', 'playerAssisted_Abdoulaye Diaby', 'playerAssisted_Abdul Mumin', 'playerAssisted_Abdón Prats', 'playerAssisted_Abner', 'playerAssisted_Adama Traoré', 'playerAssisted_Adnan Januzaj', 'playerAssisted_Adrià Alti', 'playerAssisted_Adrià Pedrosa', 'playerAssisted_Adrián', 'playerAssisted_Adrián Embarba', 'playerAssisted_Adrián Marín', 'playerAssisted_Aihen Muñoz', 'playerAssisted_Aimar Oroz', 'playerAssisted_Aissa Mandi', 'playerAssisted_Aitor Paredes', 'playerAssisted_Aitor Ruibal', 'playerAssisted_Alberto Cifuentes', 'playerAssisted_Alberto Mari', 'playerAssisted_Alberto Moleiro', 'playerAssisted_Alberto Moreno', 'playerAssisted_Alberto Perea', 'playerAssisted_Alberto Risco', 'playerAssisted_Alberto Rodríguez', 'playerAssisted_Alberto Soro', 'playerAssisted_Aleix Febas', 'playerAssisted_Aleix García', 'playerAssisted_Aleix Vidal', 'playerAssisted_Alejandro Asensio', 'playerAssisted_Alejandro Cantero', 'playerAssisted_Alejandro Catena', 'playerAssisted_Alejandro Gomez', 'playerAssisted_Alejandro Pozo', 'playerAssisted_Aleksandar Radovanovic', 'playerAssisted_Aleksandar Trajkovski', 'playerAssisted_Aleksander Sedlar', 'playerAssisted_Alessandro Florenzi', 'playerAssisted_Alex Berenguer', 'playerAssisted_Alex Petxarromán', 'playerAssisted_Alex Sola', 'playerAssisted_Alex Telles', 'playerAssisted_Alexander Isak', 'playerAssisted_Alexander Sørloth', 'playerAssisted_Alfon', 'playerAssisted_Alfonso', 'playerAssisted_Alfonso Espino', 'playerAssisted_Alvaro Rodríguez', 'playerAssisted_Amath Diedhiou', 'playerAssisted_Anaitz Arbilla', 'playerAssisted_Ander Barrenetxea', 'playerAssisted_Ander Capa', 'playerAssisted_Ander Guevara', 'playerAssisted_Ander Herrera', 'playerAssisted_Ander Martín', 'playerAssisted_Andoni Gorosabel', 'playerAssisted_Andreas Christensen', 'playerAssisted_Andrei Ratiu', 'playerAssisted_Andriy Lunin', 'playerAssisted_André Almeida', 'playerAssisted_André Silva', 'playerAssisted_Andrés Fernández', 'playerAssisted_Andrés Guardado', 'playerAssisted_Andrés Martín', 'playerAssisted_Anssumane Fati', 'playerAssisted_Antal Yaakobishvili', 'playerAssisted_Ante Budimir', 'playerAssisted_Ante Palaversa', 'playerAssisted_Anthony Lozano', 'playerAssisted_Anthony Martial', 'playerAssisted_Antoine Griezmann', 'playerAssisted_Antonio Barragán', 'playerAssisted_Antonio Blanco', 'playerAssisted_Antonio Moya', 'playerAssisted_Antonio Puertas', 'playerAssisted_Antonio Rüdiger', 'playerAssisted_Antonio Sanabria', 'playerAssisted_Antonio Sivera', 'playerAssisted_Antonio Sánchez', 'playerAssisted_Antoñin', 'playerAssisted_Antoñito', 'playerAssisted_Anuar Mohamed', 'playerAssisted_Arda Güler', 'playerAssisted_Aridane Hernández', 'playerAssisted_Aritz Elustondo', 'playerAssisted_Arnau Martinez', 'playerAssisted_Arnau Puigmal', 'playerAssisted_Arnaut Danjuma Groeneveld', 'playerAssisted_Arsen Zakharyan', 'playerAssisted_Artem Dovbyk', 'playerAssisted_Arthur', 'playerAssisted_Arthur Vermeeren', 'playerAssisted_Arturo Vidal', 'playerAssisted_Asier Illarramendi', 'playerAssisted_Asier Villalibre', 'playerAssisted_Assane Diao', 'playerAssisted_Augusto Batalla', 'playerAssisted_Augusto Solari', 'playerAssisted_Aurelien Tchouameni', 'playerAssisted_Awer Mabil', 'playerAssisted_Axel Witsel', 'playerAssisted_Ayoze Pérez', 'playerAssisted_Balenziaga', 'playerAssisted_Bebé', 'playerAssisted_Ben Brereton Díaz', 'playerAssisted_Benito Ramírez', 'playerAssisted_Benjamin Lecomte', 'playerAssisted_Bernardo', 'playerAssisted_Bertrand Traoré', 'playerAssisted_Beñat Prados', 'playerAssisted_Beñat Turrientes', 'playerAssisted_Bono', 'playerAssisted_Borja', 'playerAssisted_Borja Iglesias', 'playerAssisted_Borja Mayoral', 'playerAssisted_Borja Sainz', 'playerAssisted_Borja Vázquez', 'playerAssisted_Boubakary Soumare', 'playerAssisted_Boulaye Dia', 'playerAssisted_Brahim Diaz', 'playerAssisted_Braian Cufré', 'playerAssisted_Brais Méndez', 'playerAssisted_Brian Ocampo', 'playerAssisted_Brian Oliván', 'playerAssisted_Bruno', 'playerAssisted_Bruno Langa', 'playerAssisted_Bruno Méndez', 'playerAssisted_Bryan Gil Salvatierra', 'playerAssisted_Bryan Zaragoza', 'playerAssisted_Cala', 'playerAssisted_Carl Starfelt', 'playerAssisted_Carles Aleñá', 'playerAssisted_Carles Pérez', 'playerAssisted_Carlos Akapo', 'playerAssisted_Carlos Bacca', 'playerAssisted_Carlos Benavídez', 'playerAssisted_Carlos Clerc', 'playerAssisted_Carlos Domínguez', 'playerAssisted_Carlos Dotor', 'playerAssisted_Carlos Fernández', 'playerAssisted_Carlos García', 'playerAssisted_Carlos Neva', 'playerAssisted_Carlos Soler', 'playerAssisted_Carlos Vicente', 'playerAssisted_Casemiro', 'playerAssisted_Cenk Özkacar', 'playerAssisted_Chadi Riad', 'playerAssisted_Charles', 'playerAssisted_Cheick Doukoure', 'playerAssisted_Chema Rodríguez', 'playerAssisted_Chidozie Awaziem', 'playerAssisted_Chris Ramos', 'playerAssisted_Christian Oliva', 'playerAssisted_Chumi', 'playerAssisted_Claudio Bravo', 'playerAssisted_Clement Lenglet', 'playerAssisted_Clément Grenier', 'playerAssisted_Coke', 'playerAssisted_Copete', 'playerAssisted_Cristhian Mosquera', 'playerAssisted_Cristhian Stuani', 'playerAssisted_Cristian Herrera', 'playerAssisted_Cristian Tello', 'playerAssisted_Cristiano Piccini', 'playerAssisted_Cristo Romero', 'playerAssisted_Curro', 'playerAssisted_Cyle Larin', 'playerAssisted_Cédric Bakambu', 'playerAssisted_César Azpilicueta', 'playerAssisted_César De la Hoz', 'playerAssisted_César Montes', 'playerAssisted_Daley Blind', 'playerAssisted_Damian Kadzior', 'playerAssisted_Damián Rodríguez', 'playerAssisted_Damián Suárez', 'playerAssisted_Dani Alves', 'playerAssisted_Dani Ceballos', 'playerAssisted_Dani Escriche', 'playerAssisted_Dani García', 'playerAssisted_Dani Gómez', 'playerAssisted_Dani Martín', 'playerAssisted_Dani Rodríguez', 'playerAssisted_Dani Vivian', 'playerAssisted_Daniel Carvajal', 'playerAssisted_Daniel Cárdenas', 'playerAssisted_Daniel Parejo', 'playerAssisted_Daniel Wass', 'playerAssisted_Darko Brasanac', 'playerAssisted_Darwin Machís', 'playerAssisted_Darío Benedetto', 'playerAssisted_Darío Poveda', 'playerAssisted_David Alaba', 'playerAssisted_David Ferreiro', 'playerAssisted_David García', 'playerAssisted_David López', 'playerAssisted_David Silva', 'playerAssisted_David Soria', 'playerAssisted_David Timor', 'playerAssisted_David Torres', 'playerAssisted_De Marcos', 'playerAssisted_Denis Cheryshev', 'playerAssisted_Denis Suárez', 'playerAssisted_Denis Vavro', 'playerAssisted_Deyverson', 'playerAssisted_Diadie Samassékou', 'playerAssisted_Diego Carlos', 'playerAssisted_Diego Costa', 'playerAssisted_Diego González', 'playerAssisted_Diego Lainez', 'playerAssisted_Diego Llorente', 'playerAssisted_Diego López', 'playerAssisted_Diego Moreno', 'playerAssisted_Diego Rico', 'playerAssisted_Dimitri Foulquier', 'playerAssisted_Dimitrios Siovas', 'playerAssisted_Dion Lopy', 'playerAssisted_Djené Dakonam', 'playerAssisted_Djibril Sow', 'playerAssisted_Dodi Lukebakio', 'playerAssisted_Domingos Duarte', 'playerAssisted_Domingos Quina', 'playerAssisted_Dyego Sousa', 'playerAssisted_Dídac Vilá', 'playerAssisted_Eden Hazard', 'playerAssisted_Eder Militão', 'playerAssisted_Edgar González', 'playerAssisted_Edgar Méndez', 'playerAssisted_Edinson Cavani', 'playerAssisted_Edu Expósito', 'playerAssisted_Eduardo Camavinga', 'playerAssisted_El Bilal Touré', 'playerAssisted_Emerson', 'playerAssisted_Emiliano Rigoni', 'playerAssisted_Emre Mor', 'playerAssisted_Enes Ünal', 'playerAssisted_Enis Bardhi', 'playerAssisted_Enric Franquesa', 'playerAssisted_Enric Gallego', 'playerAssisted_Enzo Loiodice', 'playerAssisted_Enzo Roco', 'playerAssisted_Eray Cömert', 'playerAssisted_Eric Bailly', 'playerAssisted_Eric Garcia', 'playerAssisted_Erick Cabaco', 'playerAssisted_Erik Lamela', 'playerAssisted_Esteban Burgos', 'playerAssisted_Esteban Saveljich', 'playerAssisted_Estupiñán', 'playerAssisted_Etienne Capoue', 'playerAssisted_Etxeita', 'playerAssisted_Eugeni', 'playerAssisted_Ezequiel Ponce', 'playerAssisted_Ezequiel Ávila', 'playerAssisted_Fabián Orellana', 'playerAssisted_Fabrizio Angileri', 'playerAssisted_Facundo Pellistri', 'playerAssisted_Facundo Roncaglia', 'playerAssisted_Faitout Maouassa', 'playerAssisted_Falcao', 'playerAssisted_Fali', 'playerAssisted_Famara Diedhiou', 'playerAssisted_Fede San Emeterio', 'playerAssisted_Fede Vico', 'playerAssisted_Federico Valverde', 'playerAssisted_Fedor Smolov', 'playerAssisted_Felipe', 'playerAssisted_Ferland Mendy', 'playerAssisted_Fermín López', 'playerAssisted_Fernando', 'playerAssisted_Fernando Calero', 'playerAssisted_Fernando Niño', 'playerAssisted_Fernando Pacheco', 'playerAssisted_Ferrán Jutglà', 'playerAssisted_Ferrán Torres', 'playerAssisted_Fidel', 'playerAssisted_Filip Bradaric', 'playerAssisted_Filip Malbasic', 'playerAssisted_Florentino Luís', 'playerAssisted_Florian Lejeune', 'playerAssisted_Florin Andone', 'playerAssisted_Fran Beltrán', 'playerAssisted_Fran García', 'playerAssisted_Fran Gámez', 'playerAssisted_Fran Mérida', 'playerAssisted_Fran Pérez', 'playerAssisted_Francis Coquelin', 'playerAssisted_Francisco Portillo', 'playerAssisted_Franck Kessié', 'playerAssisted_Franck Zambo', 'playerAssisted_Franco Cervi', 'playerAssisted_Franco Russo', 'playerAssisted_Franco Vázquez', 'playerAssisted_Frenkie de Jong', 'playerAssisted_Gabriel', 'playerAssisted_Gabriel Veiga', 'playerAssisted_Gareth Bale', 'playerAssisted_Gastón Silva', 'playerAssisted_Gastón Álvarez', 'playerAssisted_Gavi', 'playerAssisted_Geoffrey Kondogbia', 'playerAssisted_Gerard Gumbau', 'playerAssisted_Gerard Moreno', 'playerAssisted_Gerard Piqué', 'playerAssisted_Germán Pezzella', 'playerAssisted_Germán Sánchez', 'playerAssisted_Gil Dias', 'playerAssisted_Giménez', 'playerAssisted_Giorgi Kochorashvili', 'playerAssisted_Giorgi Mamardashvili', 'playerAssisted_Giovani Lo Celso', 'playerAssisted_Giovanni González', 'playerAssisted_Giuliano Simeone', 'playerAssisted_Gonzalo Escalante', 'playerAssisted_Gonzalo Melero', 'playerAssisted_Gonzalo Montiel', 'playerAssisted_Gonzalo Plata', 'playerAssisted_Gonzalo Verdú', 'playerAssisted_Gonzalo Villar', 'playerAssisted_Gonçalo Guedes', 'playerAssisted_Gonçalo Paciência', 'playerAssisted_Gori', 'playerAssisted_Gorka Guruzeta', 'playerAssisted_Guerrero', 'playerAssisted_Guido Carrillo', 'playerAssisted_Guido Rodríguez', 'playerAssisted_Haissem Hassan', 'playerAssisted_Hamari Traore', 'playerAssisted_Hannibal Mejbri', 'playerAssisted_Haris Seferovic', 'playerAssisted_Hector Fort', 'playerAssisted_Helibelton Palacios', 'playerAssisted_Hernâni', 'playerAssisted_Houboulang Mendes', 'playerAssisted_Hugo Duro', 'playerAssisted_Hugo Gonzalez', 'playerAssisted_Hugo Guillamón', 'playerAssisted_Hugo Mallo', 'playerAssisted_Hugo Sotelo', 'playerAssisted_Hugo Álvarez', 'playerAssisted_Héctor Bellerín', 'playerAssisted_Héctor Herrera', 'playerAssisted_Hélder Costa', 'playerAssisted_Iago Aspas', 'playerAssisted_Ianis Hagi', 'playerAssisted_Ibai Gómez', 'playerAssisted_Ibrahim Amadou', 'playerAssisted_Ibrahima Koné', 'playerAssisted_Iddrisu Baba', 'playerAssisted_Idrissa Doumbia', 'playerAssisted_Ignasi Miquel', 'playerAssisted_Igor Zubeldia', 'playerAssisted_Iker Benito', 'playerAssisted_Iker Muñoz', 'playerAssisted_Ilaix Moriba', 'playerAssisted_Ilias Akhomach', 'playerAssisted_Ilkay Gündogan', 'playerAssisted_Imanol García de Albéniz', 'playerAssisted_Inigo Ruiz de Galarreta', 'playerAssisted_Isaac Carcelén', 'playerAssisted_Isaac Romero', 'playerAssisted_Isco', 'playerAssisted_Isi Palazón', 'playerAssisted_Isma Ruiz', 'playerAssisted_Ivan Rakitic', 'playerAssisted_Iván Alejo', 'playerAssisted_Iván Balliu', 'playerAssisted_Iván Chapela', 'playerAssisted_Iván Fresneda', 'playerAssisted_Iván Marcone', 'playerAssisted_Iván Martín', 'playerAssisted_Iván Sánchez', 'playerAssisted_Iván Villar', 'playerAssisted_Iñaki Williams', 'playerAssisted_Iñigo Córdoba', 'playerAssisted_Iñigo Martínez', 'playerAssisted_Iñigo Pérez', 'playerAssisted_Iñigo Vicente', 'playerAssisted_Jaime Mata', 'playerAssisted_Jaime Seoane', 'playerAssisted_Jairo Izquierdo', 'playerAssisted_Jakub Jankto', 'playerAssisted_Jason', 'playerAssisted_Jasper Cillessen', 'playerAssisted_Jaume Costa', 'playerAssisted_Javi Galán', 'playerAssisted_Javi Hernández', 'playerAssisted_Javi Llabrés', 'playerAssisted_Javi López', 'playerAssisted_Javi Martínez', 'playerAssisted_Javi Moyano', 'playerAssisted_Javi Muñoz', 'playerAssisted_Javi Ontiveros', 'playerAssisted_Javi Puado', 'playerAssisted_Javi Sánchez', 'playerAssisted_Javier Avilés', 'playerAssisted_Javier Guerra', 'playerAssisted_Javier López', 'playerAssisted_Javier Manquillo', 'playerAssisted_Javier Pastore', 'playerAssisted_Jawad El Yamiq', 'playerAssisted_Jaílson', 'playerAssisted_Jeison Murillo', 'playerAssisted_Jens Jonsson', 'playerAssisted_Jeremías Ledesma', 'playerAssisted_Jesús Areso', 'playerAssisted_Jesús Corona', 'playerAssisted_Jesús Navas', 'playerAssisted_Jesús Santiago', 'playerAssisted_Jesús Vallejo', 'playerAssisted_Jesús Vázquez', 'playerAssisted_Jhon Solis', 'playerAssisted_Joan Jordán', 'playerAssisted_Joan Sastre', 'playerAssisted_Joaquín', 'playerAssisted_Joaquín Fernández', 'playerAssisted_Joaquín Muñoz', 'playerAssisted_Joaquín Panichelli', 'playerAssisted_Joel Robles', 'playerAssisted_Joel Roca', 'playerAssisted_Jofre Carreras', 'playerAssisted_Johan Mojica', 'playerAssisted_John Donald', 'playerAssisted_John Guidetti', 'playerAssisted_Johnny Cardoso', 'playerAssisted_Jon Ander Garrido', 'playerAssisted_Jon Ander Olasagasti', 'playerAssisted_Jon Bautista', 'playerAssisted_Jon Guridi', 'playerAssisted_Jon Karrikaburu', 'playerAssisted_Jon Magunacelaya', 'playerAssisted_Jon Moncayola', 'playerAssisted_Jon Morcillo', 'playerAssisted_Jon Pacheco Dozagarat', 'playerAssisted_Jonathan Bamba', 'playerAssisted_Jonathan Calleri', 'playerAssisted_Jonathan Silva', 'playerAssisted_Jonathan Viera', 'playerAssisted_Jony', 'playerAssisted_Jonás Ramalho', 'playerAssisted_Jordan Holsgrove', 'playerAssisted_Jordi Alba', 'playerAssisted_Jordi Martín', 'playerAssisted_Jordi Mboula', 'playerAssisted_Jorge Cuenca', 'playerAssisted_Jorge De Frutos', 'playerAssisted_Jorge Herrando', 'playerAssisted_Jorge Miramón', 'playerAssisted_Jorge Molina', 'playerAssisted_Jorge Pombo', 'playerAssisted_Jorge Pulido', 'playerAssisted_Josan', 'playerAssisted_Joselu', 'playerAssisted_Josema', 'playerAssisted_Joseph Aidoo', 'playerAssisted_José Antonio Martínez', 'playerAssisted_José Antonio de la Rosa', 'playerAssisted_José Arnáiz', 'playerAssisted_José Callejón', 'playerAssisted_José Campaña', 'playerAssisted_José Gayá', 'playerAssisted_José Manuel Calderón', 'playerAssisted_José Manuel Fontán', 'playerAssisted_José Mari', 'playerAssisted_José Pozo', 'playerAssisted_José Ángel', 'playerAssisted_José Ángel Carmona', 'playerAssisted_Jota', 'playerAssisted_João Cancelo', 'playerAssisted_João Félix', 'playerAssisted_Juan Camilo Hernández', 'playerAssisted_Juan Carlos', 'playerAssisted_Juan Cruz', 'playerAssisted_Juan Foyth', 'playerAssisted_Juan Iglesias', 'playerAssisted_Juan Latasa', 'playerAssisted_Juan Miranda', 'playerAssisted_Juan Sánchez Miño', 'playerAssisted_Juanlu Sanchez', 'playerAssisted_Juanmi', 'playerAssisted_Juanpe', 'playerAssisted_Jude Bellingham', 'playerAssisted_Julen Lobete', 'playerAssisted_Jules Koundé', 'playerAssisted_Julián Araujo', 'playerAssisted_Justin Kluivert', 'playerAssisted_Jørgen Strand Larsen', 'playerAssisted_Júnior Firpo', 'playerAssisted_Kaiky', 'playerAssisted_Kamil Józwiak', 'playerAssisted_Kamil Piatkowski', 'playerAssisted_Karim Benzema', 'playerAssisted_Karim Rekik', 'playerAssisted_Kasper Dolberg', 'playerAssisted_Keidi Bare', 'playerAssisted_Kelechi Nwakali', 'playerAssisted_Kenan Kodro', 'playerAssisted_Kenedy', 'playerAssisted_Kenneth Omeruo', 'playerAssisted_Kevin', 'playerAssisted_Kevin Gameiro', 'playerAssisted_Kieran Tierney', 'playerAssisted_Kieran Trippier', 'playerAssisted_Kike Barja', 'playerAssisted_Kike García', 'playerAssisted_Kike Pérez', 'playerAssisted_Kike Salas', 'playerAssisted_Kiko Casilla', 'playerAssisted_Kiko Femenía', 'playerAssisted_Kirian Rodríguez', 'playerAssisted_Koba Koindredi', 'playerAssisted_Koffi', 'playerAssisted_Koke', 'playerAssisted_Kuki Zalazar', 'playerAssisted_Kévin Rodrigues', 'playerAssisted_Lago Junior', 'playerAssisted_Lamine Yamal', 'playerAssisted_Landry Dimata', 'playerAssisted_Largie Ramazani', 'playerAssisted_Lautaro Blanco', 'playerAssisted_Lazo', 'playerAssisted_Leandro Cabrera', 'playerAssisted_Lee Kang-In', 'playerAssisted_Leo Baptistao', 'playerAssisted_Lionel Messi', 'playerAssisted_Lisandro Magallán', 'playerAssisted_Loic Bade', 'playerAssisted_Loren Morón', 'playerAssisted_Luca De La Torre', 'playerAssisted_Lucas Boyé', 'playerAssisted_Lucas Ocampos', 'playerAssisted_Lucas Olaza', 'playerAssisted_Lucas Pires', 'playerAssisted_Lucas Pérez', 'playerAssisted_Lucas Robertone', 'playerAssisted_Lucas Rosa', 'playerAssisted_Lucas Torreira', 'playerAssisted_Lucas Torró', 'playerAssisted_Lucas Vázquez', 'playerAssisted_Lucien Agoume', 'playerAssisted_Ludwig Augustinsson', 'playerAssisted_Luis Hernández', 'playerAssisted_Luis Milla', 'playerAssisted_Luis Pérez', 'playerAssisted_Luis Rioja', 'playerAssisted_Luis Suárez', 'playerAssisted_Luisinho', 'playerAssisted_Luiz Felipe', 'playerAssisted_Luiz Henrique', 'playerAssisted_Luka Jovic', 'playerAssisted_Luka Modric', 'playerAssisted_Luka Romero', 'playerAssisted_Lumor Agbenyenu', 'playerAssisted_Luuk de Jong', 'playerAssisted_Lázaro', 'playerAssisted_Mahmoud Abdallahi', 'playerAssisted_Malcom Adu', 'playerAssisted_Mamadou Loum', 'playerAssisted_Mamadou Sylla', 'playerAssisted_Manu Bueno', 'playerAssisted_Manu García', 'playerAssisted_Manu Trigueros', 'playerAssisted_Manu Vallejo', 'playerAssisted_Manuel Morlanes', 'playerAssisted_Manuel Nieto', 'playerAssisted_Manuel Pozo', 'playerAssisted_Manuel Sánchez', 'playerAssisted_Marc Bartra', 'playerAssisted_Marc Baró', 'playerAssisted_Marc Cardona', 'playerAssisted_Marc Cucurella', 'playerAssisted_Marc Guiu', 'playerAssisted_Marc Pubill', 'playerAssisted_Marc Roca', 'playerAssisted_Marc Urena', 'playerAssisted_Marc-André ter Stegen', 'playerAssisted_Marcelo', 'playerAssisted_Marcelo Saracchi', 'playerAssisted_Marciano Sanca', 'playerAssisted_Marco Asensio', 'playerAssisted_Marcos Acuña', 'playerAssisted_Marcos Alonso', 'playerAssisted_Marcos Llorente', 'playerAssisted_Marcos Mauro', 'playerAssisted_Marcos Peña', 'playerAssisted_Marcos de Sousa', 'playerAssisted_Marcão', 'playerAssisted_Mariano', 'playerAssisted_Mario', 'playerAssisted_Mario Hermoso', 'playerAssisted_Mario Hernández', 'playerAssisted_Mario Suárez', 'playerAssisted_Marko Dmitrovic', 'playerAssisted_Marko Milovanovic', 'playerAssisted_Martin Braithwaite', 'playerAssisted_Martin Hongla', 'playerAssisted_Martin Odegaard', 'playerAssisted_Martin Valjent', 'playerAssisted_Martín Aguirregabiria', 'playerAssisted_Martín Calderón', 'playerAssisted_Martín Cáceres', 'playerAssisted_Martín Merquelanz', 'playerAssisted_Martín Montoya', 'playerAssisted_Martín Zubimendi', 'playerAssisted_Marvin Park', 'playerAssisted_Mason Greenwood', 'playerAssisted_Matheus Cunha', 'playerAssisted_Matheus Fernandes', 'playerAssisted_Mathías Olivera', 'playerAssisted_Matija Nastasic', 'playerAssisted_Matt Miazga', 'playerAssisted_Matteo Gabbia', 'playerAssisted_Matthew Hoppe', 'playerAssisted_Matías Arezo', 'playerAssisted_Matías Dituro', 'playerAssisted_Mauro Arambarri', 'playerAssisted_Maxi Gómez', 'playerAssisted_Maxime Gonalons', 'playerAssisted_Memphis Depay', 'playerAssisted_Mickaël Malsa', 'playerAssisted_Miguel Baeza', 'playerAssisted_Miguel Crespo', 'playerAssisted_Miguel De la Fuente', 'playerAssisted_Miguel Gutiérrez', 'playerAssisted_Miguel Rodriguez', 'playerAssisted_Miguel Ángel Atienza', 'playerAssisted_Miguel Ángel Rubio', 'playerAssisted_Mihailo Ristic', 'playerAssisted_Mika Mármol', 'playerAssisted_Mikel Jauregizar', 'playerAssisted_Mikel Merino', 'playerAssisted_Mikel Oyarzabal', 'playerAssisted_Mikel Rico', 'playerAssisted_Mikel Vesga', 'playerAssisted_Milutin Osmajic', 'playerAssisted_Miralem Pjanic', 'playerAssisted_Modibo Sagnan', 'playerAssisted_Mohamed Ali-Cho', 'playerAssisted_Mohammed Salisu', 'playerAssisted_Moi Gómez', 'playerAssisted_Momo Mbaye', 'playerAssisted_Monchu', 'playerAssisted_Montoro', 'playerAssisted_Morales', 'playerAssisted_Mouctar Diakhaby', 'playerAssisted_Moussa Dembele', 'playerAssisted_Muniain', 'playerAssisted_Munir', 'playerAssisted_Myrto Uzuni', 'playerAssisted_Máximo Perrone', 'playerAssisted_Míchel', 'playerAssisted_Nabil Fekir', 'playerAssisted_Nacho', 'playerAssisted_Nacho Monreal', 'playerAssisted_Nacho Vidal', 'playerAssisted_Nahuel Molina', 'playerAssisted_Nahuel Tenaglia', 'playerAssisted_Nemanja Gudelj', 'playerAssisted_Nemanja Maksimovic', 'playerAssisted_Nemanja Radoja', 'playerAssisted_Nemanja Radonjic', 'playerAssisted_Neto', 'playerAssisted_Nianzou Kouassi', 'playerAssisted_Nico González', 'playerAssisted_Nico Williams', 'playerAssisted_Nicolas Jackson', 'playerAssisted_Nicolás Fernández Mercau', 'playerAssisted_Nicolás Melamed', 'playerAssisted_Nicolás Serrano', 'playerAssisted_Nikola Maras', 'playerAssisted_Nikola Vukcevic', 'playerAssisted_Nino', 'playerAssisted_Njegos Petrovic', 'playerAssisted_Nolito', 'playerAssisted_Nyom', 'playerAssisted_Näis Djouahra', 'playerAssisted_Nélson Semedo', 'playerAssisted_Néstor Araújo', 'playerAssisted_Oghenekaro Etebo', 'playerAssisted_Oier', 'playerAssisted_Oier Zarraga', 'playerAssisted_Oihan Sancet', 'playerAssisted_Okay Yokuslu', 'playerAssisted_Oliver Burke', 'playerAssisted_Omar Alderete', 'playerAssisted_Omar El Hilali', 'playerAssisted_Omar Mascarell', 'playerAssisted_Omenuke Mfulu', 'playerAssisted_Orbelín Pineda', 'playerAssisted_Oriol Romeu', 'playerAssisted_Ousmane Dembélé', 'playerAssisted_Oussama Idrissi', 'playerAssisted_Pablo Barrios Rivas', 'playerAssisted_Pablo Busto', 'playerAssisted_Pablo Chavarria', 'playerAssisted_Pablo De Blasis', 'playerAssisted_Pablo Fornals', 'playerAssisted_Pablo Hervías', 'playerAssisted_Pablo Ibáñez', 'playerAssisted_Pablo Insúa', 'playerAssisted_Pablo Maffeo', 'playerAssisted_Pablo Martínez', 'playerAssisted_Pablo Marín', 'playerAssisted_Pablo Piatti', 'playerAssisted_Pablo Torre', 'playerAssisted_Paco Alcácer', 'playerAssisted_Papakouly Diop', 'playerAssisted_Pape Alassane Gueye', 'playerAssisted_Pape Cheikh', 'playerAssisted_Pathé Ciss', 'playerAssisted_Patrick Cutrone', 'playerAssisted_Pau Cubarsí', 'playerAssisted_Pau Torres', 'playerAssisted_Paul Akouokou', 'playerAssisted_Paulo Gazzaniga', 'playerAssisted_Paulo Oliveira', 'playerAssisted_Pedri', 'playerAssisted_Pedro Bigas', 'playerAssisted_Pedro León', 'playerAssisted_Pedro López', 'playerAssisted_Pedro Mosquera', 'playerAssisted_Pedro Ortiz', 'playerAssisted_Pejiño', 'playerAssisted_Pep Chavarría', 'playerAssisted_Pepe Sanchez', 'playerAssisted_Pepelu', 'playerAssisted_Pere Milla', 'playerAssisted_Pere Pons', 'playerAssisted_Peter', 'playerAssisted_Philippe Coutinho', 'playerAssisted_Pierre-Emerick Aubameyang', 'playerAssisted_Pione Sisto', 'playerAssisted_Pipa', 'playerAssisted_Pol Lirola', 'playerAssisted_Portu', 'playerAssisted_Predrag Rajkovic', 'playerAssisted_Quini', 'playerAssisted_Quique González', 'playerAssisted_Raba', 'playerAssisted_Rachad Dhimi', 'playerAssisted_Rafa Marín', 'playerAssisted_Rafa Mir', 'playerAssisted_Rafa Soares', 'playerAssisted_Rafinha', 'playerAssisted_Ramón Azeez', 'playerAssisted_Ramón Terrats', 'playerAssisted_Randy Nteka', 'playerAssisted_Raphael Varane', 'playerAssisted_Raphinha', 'playerAssisted_Raul García', 'playerAssisted_Raíllo', 'playerAssisted_Raúl Albiol', 'playerAssisted_Raúl García', 'playerAssisted_Raúl Guti', 'playerAssisted_Raúl Navas', 'playerAssisted_Raúl Parra', 'playerAssisted_Raúl Torrente', 'playerAssisted_Raúl de Tomás', 'playerAssisted_Recio', 'playerAssisted_Reinier', 'playerAssisted_Reinildo', 'playerAssisted_Remiro', 'playerAssisted_Renan Lodi', 'playerAssisted_Renato Tapia', 'playerAssisted_Ricard Sánchez', 'playerAssisted_Riqui Puig', 'playerAssisted_Rober', 'playerAssisted_Rober Correa', 'playerAssisted_Robert', 'playerAssisted_Robert Ibáñez', 'playerAssisted_Robert Lewandowski', 'playerAssisted_Roberto López', 'playerAssisted_Roberto Navarro', 'playerAssisted_Roberto Rosales', 'playerAssisted_Roberto Soldado', 'playerAssisted_Roberto Torres', 'playerAssisted_Robin Le Normand', 'playerAssisted_Rodrigo', 'playerAssisted_Rodrigo Battaglia', 'playerAssisted_Rodrigo Ely', 'playerAssisted_Rodrigo Riquelme', 'playerAssisted_Rodrigo Sánchez', 'playerAssisted_Rodrigo de Paul', 'playerAssisted_Rodrygo', 'playerAssisted_Roger', 'playerAssisted_Roger Assalé', 'playerAssisted_Roman Yaremchuk', 'playerAssisted_Rominigue Kouame', 'playerAssisted_Ronael Pierre Gabriel', 'playerAssisted_Ronald Araújo', 'playerAssisted_Roque Mesa', 'playerAssisted_Rubén Alcaraz', 'playerAssisted_Rubén Duarte', 'playerAssisted_Rubén García', 'playerAssisted_Rubén Peña', 'playerAssisted_Rubén Pérez', 'playerAssisted_Rubén Rochina', 'playerAssisted_Rubén Sobrino', 'playerAssisted_Rubén Sánchez', 'playerAssisted_Rui Silva', 'playerAssisted_Rúben Vezo', 'playerAssisted_Saidy Janko', 'playerAssisted_Salva Sevilla', 'playerAssisted_Salvi Sánchez', 'playerAssisted_Samu Castillejo', 'playerAssisted_Samu Omorodion', 'playerAssisted_Samu Sáiz', 'playerAssisted_Samuel Chukwueze', 'playerAssisted_Samuel Lino', 'playerAssisted_Samuel Umtiti', 'playerAssisted_Samú Costa', 'playerAssisted_Sandro Ramírez', 'playerAssisted_Santi Mina', 'playerAssisted_Santiago Arias', 'playerAssisted_Santiago Arzamendia', 'playerAssisted_Santiago Bueno', 'playerAssisted_Santiago Cazorla', 'playerAssisted_Santiago Comesaña', 'playerAssisted_Saúl Coco', 'playerAssisted_Saúl Ñíguez', 'playerAssisted_Sebastián Cristóforo', 'playerAssisted_Sekou Gassama', 'playerAssisted_Selim Amallah', 'playerAssisted_Serge Aurier', 'playerAssisted_Sergi Altimira', 'playerAssisted_Sergi Canos', 'playerAssisted_Sergi Cardona', 'playerAssisted_Sergi Darder', 'playerAssisted_Sergi Enrich', 'playerAssisted_Sergi Guardiola', 'playerAssisted_Sergi Gómez', 'playerAssisted_Sergi Roberto', 'playerAssisted_Sergio Agüero', 'playerAssisted_Sergio Akieme', 'playerAssisted_Sergio Arribas', 'playerAssisted_Sergio Busquets', 'playerAssisted_Sergio Camello', 'playerAssisted_Sergio Canales', 'playerAssisted_Sergio Carreira', 'playerAssisted_Sergio Escudero', 'playerAssisted_Sergio Gómez', 'playerAssisted_Sergio Herrera', 'playerAssisted_Sergio León', 'playerAssisted_Sergio Postigo', 'playerAssisted_Sergio Ramos', 'playerAssisted_Sergio Reguilón', 'playerAssisted_Sergio Rico', 'playerAssisted_Sergio Rodelas', 'playerAssisted_Sergio Ruiz', 'playerAssisted_Sergio Santos', 'playerAssisted_Sergio Álvarez', 'playerAssisted_Sergiño Dest', 'playerAssisted_Señé', 'playerAssisted_Sheraldo Becker', 'playerAssisted_Shinji Okazaki', 'playerAssisted_Shon Weissman', 'playerAssisted_Sidnei', 'playerAssisted_Sime Vrsaljko', 'playerAssisted_Sofian Chakla', 'playerAssisted_Sokratis', 'playerAssisted_Son', 'playerAssisted_Sory Kaba', 'playerAssisted_Srdjan Babic', 'playerAssisted_Stefan Mitrovic', 'playerAssisted_Stefan Savic', 'playerAssisted_Stole Dimitrievski', 'playerAssisted_Suso', 'playerAssisted_Sávio', 'playerAssisted_Tadeo Allende', 'playerAssisted_Takashi Inui', 'playerAssisted_Takefusa Kubo', 'playerAssisted_Tasos Douvikas', 'playerAssisted_Tejero', 'playerAssisted_Tete Morente', 'playerAssisted_Theo Bongonda', 'playerAssisted_Thiago Galhardo', 'playerAssisted_Thibaut Courtois', 'playerAssisted_Thierry Correia', 'playerAssisted_Thomas Delaney', 'playerAssisted_Thomas Lemar', 'playerAssisted_Thomas Partey', 'playerAssisted_Tinotenda Kadewere', 'playerAssisted_Tomás Alarcón', 'playerAssisted_Tomás Pina', 'playerAssisted_Toni Kroos', 'playerAssisted_Toni Lato', 'playerAssisted_Toni Villa', 'playerAssisted_Tonny Vilhena', 'playerAssisted_Toño', 'playerAssisted_Trincão', 'playerAssisted_Umar Sadiq', 'playerAssisted_Unai Bustinza', 'playerAssisted_Unai García', 'playerAssisted_Unai Gómez', 'playerAssisted_Unai López', 'playerAssisted_Unai Núñez', 'playerAssisted_Unai Simón', 'playerAssisted_Unai Vencedor', 'playerAssisted_Urko Gonzalez', 'playerAssisted_Uros Racic', 'playerAssisted_Valentín Castellanos', 'playerAssisted_Valery Fernández', 'playerAssisted_Varazdat Haroyan', 'playerAssisted_Vedat Muriqi', 'playerAssisted_Vicente Esquerdo', 'playerAssisted_Vicente Iborra', 'playerAssisted_Victor Chust', 'playerAssisted_Victor Mollejo', 'playerAssisted_Viktor Tsygankov', 'playerAssisted_Vinicius Souza', 'playerAssisted_Vinícius Júnior', 'playerAssisted_Vitolo', 'playerAssisted_Vitor Roque', 'playerAssisted_Víctor Camarasa', 'playerAssisted_Víctor Campuzano', 'playerAssisted_Víctor Díaz', 'playerAssisted_Víctor García', 'playerAssisted_Víctor Gómez', 'playerAssisted_Víctor Laguardia', 'playerAssisted_Víctor Rodríguez', 'playerAssisted_Víctor Ruiz', 'playerAssisted_Víctor Sánchez', 'playerAssisted_Waldo Rubio', 'playerAssisted_William Carvalho', 'playerAssisted_Willian José', 'playerAssisted_Williot Swedberg', 'playerAssisted_Wilson Manafá', 'playerAssisted_Wu Lei', 'playerAssisted_Xeber Alkain', 'playerAssisted_Ximo Navarro', 'playerAssisted_Xisco Campos', 'playerAssisted_Yan Couto', 'playerAssisted_Yan Eteki', 'playerAssisted_Yangel Herrera', 'playerAssisted_Yann Bodiger', 'playerAssisted_Yannick Carrasco', 'playerAssisted_Yannis Salibur', 'playerAssisted_Yeray Álvarez', 'playerAssisted_Yeremi Pino', 'playerAssisted_Yerson Mosquera', 'playerAssisted_Yoshinori Muto', 'playerAssisted_Youba Diarra', 'playerAssisted_Youssef En-Nesyri', 'playerAssisted_Youssouf Sabaly', 'playerAssisted_Yunus Musah', 'playerAssisted_Yuri', 'playerAssisted_Zaldúa', 'playerAssisted_Zouhair Feddal', 'playerAssisted_Álex Baena', 'playerAssisted_Álex Balde', 'playerAssisted_Álex Blanco', 'playerAssisted_Álex Centelles', 'playerAssisted_Álex Collado', 'playerAssisted_Álex Fernández', 'playerAssisted_Álex Moreno', 'playerAssisted_Álex Suárez', 'playerAssisted_Álvaro', 'playerAssisted_Álvaro Aguado', 'playerAssisted_Álvaro Fernández', 'playerAssisted_Álvaro García', 'playerAssisted_Álvaro Jiménez', 'playerAssisted_Álvaro Morata', 'playerAssisted_Álvaro Negredo', 'playerAssisted_Álvaro Odriozola', 'playerAssisted_Álvaro Sanz', 'playerAssisted_Ángel', 'playerAssisted_Ángel Algobia', 'playerAssisted_Ángel Correa', 'playerAssisted_Éver Banega', 'playerAssisted_Íñigo Eguaras', 'playerAssisted_Íñigo Lekue', 'playerAssisted_Óliver Torres', 'playerAssisted_Óscar Duarte', 'playerAssisted_Óscar Gil', 'playerAssisted_Óscar Melendo', 'playerAssisted_Óscar Mingueza', 'playerAssisted_Óscar Plano', 'playerAssisted_Óscar Rodríguez', 'playerAssisted_Óscar Trejo', 'playerAssisted_Óscar Valentín', 'playerAssisted_Ørjan Nyland', 'lastAction_Aerial', 'lastAction_BallRecovery', 'lastAction_BallTouch', 'lastAction_BlockedPass', 'lastAction_Card', 'lastAction_Challenge', 'lastAction_Chipped', 'lastAction_Clearance', 'lastAction_CornerAwarded', 'lastAction_Cross', 'lastAction_Dispossessed', 'lastAction_End', 'lastAction_Error', 'lastAction_FormationChange', 'lastAction_Foul', 'lastAction_Goal', 'lastAction_GoodSkill', 'lastAction_HeadPass', 'lastAction_Interception', 'lastAction_KeeperPickup', 'lastAction_LayOff', 'lastAction_None', 'lastAction_OffsidePass', 'lastAction_OffsideProvoked', 'lastAction_Pass', 'lastAction_Rebound', 'lastAction_Save', 'lastAction_ShieldBallOpp', 'lastAction_Standard', 'lastAction_Start', 'lastAction_SubstitutionOn', 'lastAction_Tackle', 'lastAction_TakeOn', 'lastAction_Throughball', 'homeAway_a', 'homeAway_h']\n"
     ]
    }
   ],
   "source": [
    "print(data.drop('result',axis=1).columns.tolist())"
   ]
  },
  {
   "cell_type": "markdown",
   "metadata": {},
   "source": [
    "# Imbalancedness"
   ]
  },
  {
   "cell_type": "markdown",
   "metadata": {},
   "source": [
    "Our data has imbalancedness problem which might cause our model to learn features of majority target variables better than the minority target variables, it might cause inaccurate predictions."
   ]
  },
  {
   "cell_type": "code",
   "execution_count": 196,
   "metadata": {},
   "outputs": [
    {
     "name": "stdout",
     "output_type": "stream",
     "text": [
      "result\n",
      "0    25655\n",
      "1     2980\n",
      "Name: count, dtype: int64\n"
     ]
    }
   ],
   "source": [
    "print(data['result'].value_counts())"
   ]
  },
  {
   "cell_type": "markdown",
   "metadata": {},
   "source": [
    "### SMOTE"
   ]
  },
  {
   "cell_type": "markdown",
   "metadata": {},
   "source": [
    "We are tried to use SMOTE method for oversampling to fix the gap between minority and majority target variables. This method uses clustering methods to create new observations based on original ones.\n",
    "\n",
    "But SMOTE did not work efficient on our data, it caused overfitting problem because synthetic generated minority observations did not represent our minority class well.\n",
    "\n",
    "We are going to disable block below since we do not use it as our primary method and for the sake of process time."
   ]
  },
  {
   "cell_type": "code",
   "execution_count": 197,
   "metadata": {},
   "outputs": [],
   "source": [
    "# sm = SMOTE(random_state=42,n_jobs=-1)\n",
    "# x_res, y_res = sm.fit_resample(X, Y)\n",
    "\n",
    "# data_res = pd.concat([pd.DataFrame(y_res), pd.DataFrame(x_res)], axis=1)\n",
    "# print(y_res.value_counts())\n",
    "\n",
    "# scaler = MinMaxScaler()\n",
    "\n",
    "# x_res = scaler.fit_transform(x_res)\n",
    "\n",
    "# X_validation = scaler.fit_transform(x_validation)\n",
    "\n",
    "# Y_validation = validation_data['result']"
   ]
  },
  {
   "cell_type": "markdown",
   "metadata": {},
   "source": [
    "### Undersampling"
   ]
  },
  {
   "cell_type": "markdown",
   "metadata": {},
   "source": [
    "We used undersampling method to solve imbalancedness problem by decreasing majority count with sampling."
   ]
  },
  {
   "cell_type": "code",
   "execution_count": 198,
   "metadata": {},
   "outputs": [
    {
     "name": "stdout",
     "output_type": "stream",
     "text": [
      "result\n",
      "0         2980\n",
      "1         2980\n",
      "Name: count, dtype: int64\n"
     ]
    }
   ],
   "source": [
    "rus = RandomUnderSampler(random_state=42)\n",
    "X_rus, Y_rus = rus.fit_resample(X, Y)\n",
    "x_rus = pd.DataFrame(X_rus)\n",
    "y_rus = pd.DataFrame(Y_rus)\n",
    "\n",
    "print(y_rus.value_counts())\n",
    "\n",
    "scaler = MinMaxScaler()\n",
    "\n",
    "x_rus = scaler.fit_transform(x_rus)\n",
    "\n",
    "X_validation = scaler.fit_transform(x_validation)\n",
    "\n",
    "Y_validation = validation_data['result']"
   ]
  },
  {
   "cell_type": "markdown",
   "metadata": {},
   "source": [
    "# Model Comparison Over Sampling Method"
   ]
  },
  {
   "cell_type": "markdown",
   "metadata": {},
   "source": [
    "We used both SMOTE and Undersampling methods, we figured out that the SMOTE method is not working effectively on our data and causing overfitting problem, so we choose to use Undersampling method."
   ]
  },
  {
   "cell_type": "code",
   "execution_count": 199,
   "metadata": {},
   "outputs": [],
   "source": [
    "x_train_rus, x_test_rus, y_train_rus, y_test_rus = train_test_split(x_rus, y_rus, test_size=0.25, random_state=42)\n",
    "# x_train_res, x_test_res, y_train_res, y_test_res = train_test_split(x_res, y_res, test_size=0.25, random_state=42)"
   ]
  },
  {
   "cell_type": "markdown",
   "metadata": {},
   "source": [
    "### Model with SMOTE"
   ]
  },
  {
   "cell_type": "code",
   "execution_count": 200,
   "metadata": {},
   "outputs": [],
   "source": [
    "# from sklearn.ensemble import GradientBoostingClassifier\n",
    "\n",
    "\n",
    "# model_res = GradientBoostingClassifier(random_state=42)\n",
    "# model_res.fit(x_train_res, y_train_res)\n",
    "\n",
    "# y_pred_res = model_res.predict(x_test_res)\n",
    "\n",
    "# y_train_res = y_train_res.astype(y_pred_res.dtype)"
   ]
  },
  {
   "cell_type": "markdown",
   "metadata": {},
   "source": [
    "5-Fold Cross Validation score:"
   ]
  },
  {
   "cell_type": "code",
   "execution_count": 201,
   "metadata": {},
   "outputs": [],
   "source": [
    "# print(cross_val_score(model_res, x_train_res, y_train_res, cv=5, scoring='balanced_accuracy').mean())"
   ]
  },
  {
   "cell_type": "markdown",
   "metadata": {},
   "source": [
    "### Model with Undersampling"
   ]
  },
  {
   "cell_type": "code",
   "execution_count": 202,
   "metadata": {},
   "outputs": [],
   "source": [
    "from sklearn.ensemble import GradientBoostingClassifier\n",
    "\n",
    "\n",
    "model_rus = GradientBoostingClassifier(random_state=42)\n",
    "model_rus.fit(x_train_rus, y_train_rus)\n",
    "\n",
    "y_pred_rus = model_rus.predict(x_test_rus)\n",
    "\n",
    "y_train_rus = y_train_rus.astype(y_pred_rus.dtype)"
   ]
  },
  {
   "cell_type": "markdown",
   "metadata": {},
   "source": [
    "5-Fold Cross Validation score:"
   ]
  },
  {
   "cell_type": "code",
   "execution_count": 203,
   "metadata": {},
   "outputs": [
    {
     "name": "stdout",
     "output_type": "stream",
     "text": [
      "0.7857051326801918\n"
     ]
    }
   ],
   "source": [
    "print(cross_val_score(model_rus, x_train_rus, y_train_rus, cv=5, scoring='balanced_accuracy').mean())"
   ]
  },
  {
   "cell_type": "markdown",
   "metadata": {},
   "source": [
    "# Checking Overfitting"
   ]
  },
  {
   "cell_type": "markdown",
   "metadata": {},
   "source": [
    "### Model with SMOTE"
   ]
  },
  {
   "cell_type": "markdown",
   "metadata": {},
   "source": [
    "We see that our model is overfitting because of the synthetic generated observations of minority class are not representing our minority class well."
   ]
  },
  {
   "cell_type": "code",
   "execution_count": 204,
   "metadata": {},
   "outputs": [],
   "source": [
    "# y_validation_pred_res = model_res.predict(X_validation)\n",
    "\n",
    "# print(confusion_matrix(Y_validation, y_validation_pred_res))\n",
    "\n",
    "# print(balanced_accuracy_score(Y_validation, y_validation_pred_res))"
   ]
  },
  {
   "cell_type": "markdown",
   "metadata": {},
   "source": [
    "### Model with Undersampling"
   ]
  },
  {
   "cell_type": "markdown",
   "metadata": {},
   "source": [
    "Our Undersampling method works well, our balanced accuracy score on validation data is good, there is no sign of overfitting because our test and validation predictions' balanced accuracy scores are close to each other also we fixed imbalancedness."
   ]
  },
  {
   "cell_type": "code",
   "execution_count": 205,
   "metadata": {},
   "outputs": [
    {
     "name": "stdout",
     "output_type": "stream",
     "text": [
      "[[7007 1519]\n",
      " [ 247  771]]\n",
      "0.7896032337465845\n"
     ]
    }
   ],
   "source": [
    "y_validation_pred_rus = model_rus.predict(X_validation)\n",
    "\n",
    "print(confusion_matrix(Y_validation, y_validation_pred_rus))\n",
    "\n",
    "print(balanced_accuracy_score(Y_validation, y_validation_pred_rus))"
   ]
  },
  {
   "cell_type": "markdown",
   "metadata": {},
   "source": [
    "# Best Model and Hyperparameter Tuning with AutoML"
   ]
  },
  {
   "cell_type": "markdown",
   "metadata": {},
   "source": [
    "We are going to use the H2O AutoML to find best hyperparameters and model to use."
   ]
  },
  {
   "cell_type": "code",
   "execution_count": 206,
   "metadata": {},
   "outputs": [
    {
     "name": "stdout",
     "output_type": "stream",
     "text": [
      "Checking whether there is an H2O instance running at http://localhost:54321. connected.\n"
     ]
    },
    {
     "data": {
      "text/html": [
       "\n",
       "<style>\n",
       "\n",
       "#h2o-table-31.h2o-container {\n",
       "  overflow-x: auto;\n",
       "}\n",
       "#h2o-table-31 .h2o-table {\n",
       "  /* width: 100%; */\n",
       "  margin-top: 1em;\n",
       "  margin-bottom: 1em;\n",
       "}\n",
       "#h2o-table-31 .h2o-table caption {\n",
       "  white-space: nowrap;\n",
       "  caption-side: top;\n",
       "  text-align: left;\n",
       "  /* margin-left: 1em; */\n",
       "  margin: 0;\n",
       "  font-size: larger;\n",
       "}\n",
       "#h2o-table-31 .h2o-table thead {\n",
       "  white-space: nowrap; \n",
       "  position: sticky;\n",
       "  top: 0;\n",
       "  box-shadow: 0 -1px inset;\n",
       "}\n",
       "#h2o-table-31 .h2o-table tbody {\n",
       "  overflow: auto;\n",
       "}\n",
       "#h2o-table-31 .h2o-table th,\n",
       "#h2o-table-31 .h2o-table td {\n",
       "  text-align: right;\n",
       "  /* border: 1px solid; */\n",
       "}\n",
       "#h2o-table-31 .h2o-table tr:nth-child(even) {\n",
       "  /* background: #F5F5F5 */\n",
       "}\n",
       "\n",
       "</style>      \n",
       "<div id=\"h2o-table-31\" class=\"h2o-container\">\n",
       "  <table class=\"h2o-table\">\n",
       "    <caption></caption>\n",
       "    <thead></thead>\n",
       "    <tbody><tr><td>H2O_cluster_uptime:</td>\n",
       "<td>1 hour 35 mins</td></tr>\n",
       "<tr><td>H2O_cluster_timezone:</td>\n",
       "<td>Europe/Istanbul</td></tr>\n",
       "<tr><td>H2O_data_parsing_timezone:</td>\n",
       "<td>UTC</td></tr>\n",
       "<tr><td>H2O_cluster_version:</td>\n",
       "<td>3.46.0.2</td></tr>\n",
       "<tr><td>H2O_cluster_version_age:</td>\n",
       "<td>27 days</td></tr>\n",
       "<tr><td>H2O_cluster_name:</td>\n",
       "<td>H2O_from_python_sezaiufukoral_e8ahb6</td></tr>\n",
       "<tr><td>H2O_cluster_total_nodes:</td>\n",
       "<td>1</td></tr>\n",
       "<tr><td>H2O_cluster_free_memory:</td>\n",
       "<td>889 Mb</td></tr>\n",
       "<tr><td>H2O_cluster_total_cores:</td>\n",
       "<td>8</td></tr>\n",
       "<tr><td>H2O_cluster_allowed_cores:</td>\n",
       "<td>8</td></tr>\n",
       "<tr><td>H2O_cluster_status:</td>\n",
       "<td>locked, healthy</td></tr>\n",
       "<tr><td>H2O_connection_url:</td>\n",
       "<td>http://localhost:54321</td></tr>\n",
       "<tr><td>H2O_connection_proxy:</td>\n",
       "<td>{\"http\": null, \"https\": null}</td></tr>\n",
       "<tr><td>H2O_internal_security:</td>\n",
       "<td>False</td></tr>\n",
       "<tr><td>Python_version:</td>\n",
       "<td>3.11.9 final</td></tr></tbody>\n",
       "  </table>\n",
       "</div>\n"
      ],
      "text/plain": [
       "--------------------------  ------------------------------------\n",
       "H2O_cluster_uptime:         1 hour 35 mins\n",
       "H2O_cluster_timezone:       Europe/Istanbul\n",
       "H2O_data_parsing_timezone:  UTC\n",
       "H2O_cluster_version:        3.46.0.2\n",
       "H2O_cluster_version_age:    27 days\n",
       "H2O_cluster_name:           H2O_from_python_sezaiufukoral_e8ahb6\n",
       "H2O_cluster_total_nodes:    1\n",
       "H2O_cluster_free_memory:    889 Mb\n",
       "H2O_cluster_total_cores:    8\n",
       "H2O_cluster_allowed_cores:  8\n",
       "H2O_cluster_status:         locked, healthy\n",
       "H2O_connection_url:         http://localhost:54321\n",
       "H2O_connection_proxy:       {\"http\": null, \"https\": null}\n",
       "H2O_internal_security:      False\n",
       "Python_version:             3.11.9 final\n",
       "--------------------------  ------------------------------------"
      ]
     },
     "metadata": {},
     "output_type": "display_data"
    }
   ],
   "source": [
    "h2o.init()"
   ]
  },
  {
   "cell_type": "code",
   "execution_count": 208,
   "metadata": {},
   "outputs": [],
   "source": [
    "new_data = pd.DataFrame(x_train_rus)\n",
    "new_data['result'] = y_train_rus.values"
   ]
  },
  {
   "cell_type": "code",
   "execution_count": 209,
   "metadata": {},
   "outputs": [
    {
     "name": "stdout",
     "output_type": "stream",
     "text": [
      "Parse progress: |████████████████████████████████████████████████████████████████| (done) 100%\n"
     ]
    }
   ],
   "source": [
    "hf = h2o.H2OFrame(new_data)\n",
    "\n",
    "train_hf, test_hf = hf.split_frame(ratios=[0.75], seed = 1)"
   ]
  },
  {
   "cell_type": "code",
   "execution_count": 211,
   "metadata": {},
   "outputs": [
    {
     "name": "stdout",
     "output_type": "stream",
     "text": [
      "AutoML progress: |███████████████████████████████████████████████████████████████| (done) 100%\n"
     ]
    },
    {
     "data": {
      "text/html": [
       "<pre style='margin: 1em 0 1em 0;'>Model Details\n",
       "=============\n",
       "H2OStackedEnsembleEstimator : Stacked Ensemble\n",
       "Model Key: StackedEnsemble_BestOfFamily_1_AutoML_6_20240610_43717\n",
       "</pre>\n",
       "<div style='margin: 1em 0 1em 0;'>\n",
       "<style>\n",
       "\n",
       "#h2o-table-32.h2o-container {\n",
       "  overflow-x: auto;\n",
       "}\n",
       "#h2o-table-32 .h2o-table {\n",
       "  /* width: 100%; */\n",
       "  margin-top: 1em;\n",
       "  margin-bottom: 1em;\n",
       "}\n",
       "#h2o-table-32 .h2o-table caption {\n",
       "  white-space: nowrap;\n",
       "  caption-side: top;\n",
       "  text-align: left;\n",
       "  /* margin-left: 1em; */\n",
       "  margin: 0;\n",
       "  font-size: larger;\n",
       "}\n",
       "#h2o-table-32 .h2o-table thead {\n",
       "  white-space: nowrap; \n",
       "  position: sticky;\n",
       "  top: 0;\n",
       "  box-shadow: 0 -1px inset;\n",
       "}\n",
       "#h2o-table-32 .h2o-table tbody {\n",
       "  overflow: auto;\n",
       "}\n",
       "#h2o-table-32 .h2o-table th,\n",
       "#h2o-table-32 .h2o-table td {\n",
       "  text-align: right;\n",
       "  /* border: 1px solid; */\n",
       "}\n",
       "#h2o-table-32 .h2o-table tr:nth-child(even) {\n",
       "  /* background: #F5F5F5 */\n",
       "}\n",
       "\n",
       "</style>      \n",
       "<div id=\"h2o-table-32\" class=\"h2o-container\">\n",
       "  <table class=\"h2o-table\">\n",
       "    <caption>Model Summary for Stacked Ensemble: </caption>\n",
       "    <thead><tr><th>key</th>\n",
       "<th>value</th></tr></thead>\n",
       "    <tbody><tr><td>Stacking strategy</td>\n",
       "<td>blending</td></tr>\n",
       "<tr><td>Number of base models (used / total)</td>\n",
       "<td>4/5</td></tr>\n",
       "<tr><td># GBM base models (used / total)</td>\n",
       "<td>1/1</td></tr>\n",
       "<tr><td># XGBoost base models (used / total)</td>\n",
       "<td>1/1</td></tr>\n",
       "<tr><td># DRF base models (used / total)</td>\n",
       "<td>2/2</td></tr>\n",
       "<tr><td># GLM base models (used / total)</td>\n",
       "<td>0/1</td></tr>\n",
       "<tr><td>Metalearner algorithm</td>\n",
       "<td>GLM</td></tr>\n",
       "<tr><td>Metalearner fold assignment scheme</td>\n",
       "<td>AUTO</td></tr>\n",
       "<tr><td>Metalearner nfolds</td>\n",
       "<td>0</td></tr>\n",
       "<tr><td>Metalearner fold_column</td>\n",
       "<td>None</td></tr>\n",
       "<tr><td>Custom metalearner hyperparameters</td>\n",
       "<td>None</td></tr></tbody>\n",
       "  </table>\n",
       "</div>\n",
       "</div>\n",
       "<div style='margin: 1em 0 1em 0;'><pre style='margin: 1em 0 1em 0;'>ModelMetricsRegressionGLM: stackedensemble\n",
       "** Reported on train data. **\n",
       "\n",
       "MSE: 0.054983956544412856\n",
       "RMSE: 0.23448658073419223\n",
       "MAE: 0.18927251396444109\n",
       "RMSLE: 0.16400018081581103\n",
       "Mean Residual Deviance: 0.054983956544412856\n",
       "R^2: 0.7800523742344401\n",
       "Null degrees of freedom: 2320\n",
       "Residual degrees of freedom: 2316\n",
       "Null deviance: 582.6524951143185\n",
       "Residual deviance: 127.61776313958224\n",
       "AIC: -133.84414104697873</pre></div>\n",
       "<div style='margin: 1em 0 1em 0;'><pre style='margin: 1em 0 1em 0;'>ModelMetricsRegressionGLM: stackedensemble\n",
       "** Reported on validation data. **\n",
       "\n",
       "MSE: 0.1413395879019311\n",
       "RMSE: 0.37595157653869615\n",
       "MAE: 0.30481175990678305\n",
       "RMSLE: 0.26092892971452203\n",
       "Mean Residual Deviance: 0.1413395879019311\n",
       "R^2: 0.43443133439873816\n",
       "Null degrees of freedom: 362\n",
       "Residual degrees of freedom: 358\n",
       "Null deviance: 91.25042024462027\n",
       "Residual deviance: 51.30627040840099\n",
       "AIC: 331.90725615369536</pre></div><pre style=\"font-size: smaller; margin: 1em 0 0 0;\">\n",
       "\n",
       "[tips]\n",
       "Use `model.explain()` to inspect the model.\n",
       "--\n",
       "Use `h2o.display.toggle_user_tips()` to switch on/off this section.</pre>"
      ],
      "text/plain": [
       "Model Details\n",
       "=============\n",
       "H2OStackedEnsembleEstimator : Stacked Ensemble\n",
       "Model Key: StackedEnsemble_BestOfFamily_1_AutoML_6_20240610_43717\n",
       "\n",
       "\n",
       "Model Summary for Stacked Ensemble: \n",
       "key                                   value\n",
       "------------------------------------  --------\n",
       "Stacking strategy                     blending\n",
       "Number of base models (used / total)  4/5\n",
       "# GBM base models (used / total)      1/1\n",
       "# XGBoost base models (used / total)  1/1\n",
       "# DRF base models (used / total)      2/2\n",
       "# GLM base models (used / total)      0/1\n",
       "Metalearner algorithm                 GLM\n",
       "Metalearner fold assignment scheme    AUTO\n",
       "Metalearner nfolds                    0\n",
       "Metalearner fold_column\n",
       "Custom metalearner hyperparameters    None\n",
       "\n",
       "ModelMetricsRegressionGLM: stackedensemble\n",
       "** Reported on train data. **\n",
       "\n",
       "MSE: 0.054983956544412856\n",
       "RMSE: 0.23448658073419223\n",
       "MAE: 0.18927251396444109\n",
       "RMSLE: 0.16400018081581103\n",
       "Mean Residual Deviance: 0.054983956544412856\n",
       "R^2: 0.7800523742344401\n",
       "Null degrees of freedom: 2320\n",
       "Residual degrees of freedom: 2316\n",
       "Null deviance: 582.6524951143185\n",
       "Residual deviance: 127.61776313958224\n",
       "AIC: -133.84414104697873\n",
       "\n",
       "ModelMetricsRegressionGLM: stackedensemble\n",
       "** Reported on validation data. **\n",
       "\n",
       "MSE: 0.1413395879019311\n",
       "RMSE: 0.37595157653869615\n",
       "MAE: 0.30481175990678305\n",
       "RMSLE: 0.26092892971452203\n",
       "Mean Residual Deviance: 0.1413395879019311\n",
       "R^2: 0.43443133439873816\n",
       "Null degrees of freedom: 362\n",
       "Residual degrees of freedom: 358\n",
       "Null deviance: 91.25042024462027\n",
       "Residual deviance: 51.30627040840099\n",
       "AIC: 331.90725615369536\n",
       "\n",
       "[tips]\n",
       "Use `model.explain()` to inspect the model.\n",
       "--\n",
       "Use `h2o.display.toggle_user_tips()` to switch on/off this section."
      ]
     },
     "execution_count": 211,
     "metadata": {},
     "output_type": "execute_result"
    }
   ],
   "source": [
    "aml = H2OAutoML(max_models = 12,\n",
    "                balance_classes=True,\n",
    "\t\tseed=1,max_runtime_secs=220,verbosity='none')\n",
    "\n",
    "aml.train(training_frame = train_hf, y='result')"
   ]
  },
  {
   "cell_type": "markdown",
   "metadata": {},
   "source": [
    "# Choosing the Final Model\n",
    "\n",
    "We are going to test our models with a new, unseen data to check balanced accuracy scores and confusion matrices to choose our final model."
   ]
  },
  {
   "cell_type": "code",
   "execution_count": 212,
   "metadata": {},
   "outputs": [
    {
     "name": "stdout",
     "output_type": "stream",
     "text": [
      "[[7007 1519]\n",
      " [ 247  771]]\n",
      "0.7896032337465845\n"
     ]
    }
   ],
   "source": [
    "y_validation_pred = model_rus.predict(X_validation)\n",
    "\n",
    "print(confusion_matrix(Y_validation, y_validation_pred))\n",
    "\n",
    "print(balanced_accuracy_score(Y_validation, y_validation_pred))"
   ]
  },
  {
   "cell_type": "code",
   "execution_count": 213,
   "metadata": {},
   "outputs": [
    {
     "name": "stdout",
     "output_type": "stream",
     "text": [
      "Parse progress: |████████████████████████████████████████████████████████████████| (done) 100%\n",
      "Parse progress: |████████████████████████████████████████████████████████████████| (done) 100%\n",
      "stackedensemble prediction progress: |███████████████████████████████████████████| (done) 100%\n",
      "Balanced Accuracy Score:  0.7877924084748051\n",
      "[[7085 1441]\n",
      " [ 260  758]]\n"
     ]
    }
   ],
   "source": [
    "warnings.filterwarnings('ignore')\n",
    "\n",
    "validation_x_hf = h2o.H2OFrame(pd.DataFrame(X_validation))\n",
    "validation_y_hf = h2o.H2OFrame(pd.DataFrame(Y_validation))\n",
    "\n",
    "validation_y_hf.columns = ['result']\n",
    "\n",
    "preds_validation = aml.leader.predict(validation_x_hf)\n",
    "\n",
    "y_validation_test_se = validation_y_hf['result'].as_data_frame().values.flatten()\n",
    "y_validation_pred_se = preds_validation['predict'].round().as_data_frame().values.flatten()\n",
    "\n",
    "balanced_acc = balanced_accuracy_score(y_validation_test_se, y_validation_pred_se)\n",
    "print(\"Balanced Accuracy Score: \", balanced_acc)\n",
    "\n",
    "print(confusion_matrix(y_validation_test_se, y_validation_pred_se))"
   ]
  },
  {
   "cell_type": "markdown",
   "metadata": {},
   "source": [
    "Both the Stacked Ensemble and vanilla Gradient Boosting Machines algorithms' metrics show similar performance to each other. However, given that knowing if a shot results in a goal is the dominant information we want to obtain according to domain knowledge, also for the sake of process time, we choose our model to be vanilla Gradient Boosting Machines."
   ]
  },
  {
   "cell_type": "code",
   "execution_count": 215,
   "metadata": {},
   "outputs": [],
   "source": [
    "filename = 'model.pkl'\n",
    "pickle.dump(model_rus, open(filename, 'wb'))"
   ]
  }
 ],
 "metadata": {
  "kernelspec": {
   "display_name": "base",
   "language": "python",
   "name": "python3"
  },
  "language_info": {
   "codemirror_mode": {
    "name": "ipython",
    "version": 3
   },
   "file_extension": ".py",
   "mimetype": "text/x-python",
   "name": "python",
   "nbconvert_exporter": "python",
   "pygments_lexer": "ipython3",
   "version": "3.11.9"
  }
 },
 "nbformat": 4,
 "nbformat_minor": 2
}
