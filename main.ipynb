{
 "cells": [
  {
   "cell_type": "code",
   "execution_count": 63,
   "metadata": {},
   "outputs": [],
   "source": [
    "import pandas as pd\n",
    "import numpy as np\n",
    "import rpy2.robjects as ro\n",
    "import rpy2.robjects.packages as rpackages\n",
    "from rpy2.robjects import pandas2ri\n",
    "from rpy2.robjects.conversion import localconverter\n",
    "from imblearn.over_sampling import SMOTE\n",
    "from collections import Counter\n",
    "import warnings\n",
    "from sklearn.preprocessing import MinMaxScaler"
   ]
  },
  {
   "cell_type": "code",
   "execution_count": 64,
   "metadata": {},
   "outputs": [
    {
     "data": {
      "text/plain": [
       "<rpy2.rinterface_lib.sexp.NULLType object at 0x1262979d0> [0]"
      ]
     },
     "execution_count": 64,
     "metadata": {},
     "output_type": "execute_result"
    }
   ],
   "source": [
    "utils = rpackages.importr('utils')\n",
    "utils.chooseCRANmirror(ind=1)"
   ]
  },
  {
   "cell_type": "code",
   "execution_count": 65,
   "metadata": {},
   "outputs": [
    {
     "name": "stdout",
     "output_type": "stream",
     "text": [
      "→ Data last updated 2024-05-30 18:34:46.012307882309 UTC\n"
     ]
    }
   ],
   "source": [
    "pandas2ri.activate()\n",
    "ro.r('''\n",
    "        library(\"worldfootballR\")\n",
    "        library(\"dplyr\")\n",
    "        laliga <- load_understat_league_shots(league = \"La liga\")\n",
    "     ''')\n",
    "laliga = pandas2ri.rpy2py(ro.r['laliga'])\n",
    "laliga.drop('league', axis=1, inplace=True)"
   ]
  },
  {
   "cell_type": "code",
   "execution_count": 66,
   "metadata": {},
   "outputs": [],
   "source": [
    "laliga = laliga[(laliga['date'] > '2020-01-01') & (laliga['date'] < '2024-06-10')]"
   ]
  },
  {
   "cell_type": "code",
   "execution_count": 67,
   "metadata": {},
   "outputs": [],
   "source": [
    "warnings.filterwarnings('ignore')\n",
    "\n",
    "def fixDataNaN(df):\n",
    "    with localconverter(ro.default_converter + pandas2ri.converter):\n",
    "        df = ro.conversion.py2rpy(df)\n",
    "pairs = [['x','X'],['y','Y'],['x_g','xG'],['h_a','home_away'],['shot_type','shotType'],['last_action','lastAction']]\n",
    "\n",
    "def camel_case_columns(df):\n",
    "    def camel_case(column_name):\n",
    "        parts = column_name.split('_')\n",
    "        return str(parts[0] + ''.join(x.title() for x in parts[1:]))\n",
    "    \n",
    "    new_columns = []\n",
    "    for column in df.columns:\n",
    "        if '_' in column:\n",
    "            new_columns.append(camel_case(column))\n",
    "        else:\n",
    "            new_columns.append(str(column))\n",
    "    \n",
    "    df.columns = new_columns\n",
    "    return df\n",
    "\n",
    "def fixMergeColumns(dataList, pairs):\n",
    "    for targetData in dataList:\n",
    "        for pair in pairs:\n",
    "            if pair[0] in targetData.columns and pair[1] in targetData.columns:\n",
    "                targetData['{}'.format(pair[1])].fillna(targetData['{}'.format(pair[0])], inplace=True)\n",
    "                targetData.drop(columns=['{}'.format(pair[0])], inplace=True)\n",
    "        targetData = camel_case_columns(targetData)\n",
    "        fixDataNaN(targetData)\n",
    "\n",
    "fixMergeColumns([laliga], pairs)"
   ]
  },
  {
   "cell_type": "code",
   "execution_count": 68,
   "metadata": {},
   "outputs": [
    {
     "name": "stdout",
     "output_type": "stream",
     "text": [
      "id                    0\n",
      "minute                0\n",
      "result                0\n",
      "X                     0\n",
      "Y                     0\n",
      "xG                    0\n",
      "player                0\n",
      "playerId              0\n",
      "situation             0\n",
      "season                0\n",
      "shotType              0\n",
      "matchId               0\n",
      "homeTeam              0\n",
      "awayTeam              0\n",
      "homeGoals             0\n",
      "awayGoals             0\n",
      "date                  0\n",
      "playerAssisted    10653\n",
      "lastAction            0\n",
      "homeAway              0\n",
      "dtype: int64\n"
     ]
    }
   ],
   "source": [
    "#  NA_ string contained count\n",
    "\n",
    "total_count = laliga.isna().sum()\n",
    "\n",
    "print(total_count)"
   ]
  },
  {
   "cell_type": "code",
   "execution_count": 69,
   "metadata": {},
   "outputs": [],
   "source": [
    "replacement_dict = {\n",
    "    'Goal': 'Goal',\n",
    "    'BlockedShot': 'No Goal',\n",
    "    'MissedShots': 'No Goal',\n",
    "    'SavedShot': 'No Goal',\n",
    "    'ShotOnPost': 'No Goal',\n",
    "    'OwnGoal': 'No Goal'\n",
    "}\n",
    "\n",
    "# 'result' sütununu değiştirme\n",
    "laliga['result'] = laliga['result'].map(replacement_dict)"
   ]
  },
  {
   "cell_type": "markdown",
   "metadata": {},
   "source": [
    "# Imbalancedness"
   ]
  },
  {
   "cell_type": "code",
   "execution_count": 70,
   "metadata": {},
   "outputs": [
    {
     "name": "stdout",
     "output_type": "stream",
     "text": [
      "result\n",
      "No Goal    35980\n",
      "Goal        4211\n",
      "Name: count, dtype: int64\n"
     ]
    }
   ],
   "source": [
    "print(laliga['result'].value_counts())"
   ]
  },
  {
   "cell_type": "code",
   "execution_count": 72,
   "metadata": {},
   "outputs": [
    {
     "name": "stdout",
     "output_type": "stream",
     "text": [
      "Original dataset shape Counter({'No Goal': 35980, 'Goal': 4211})\n",
      "Resampled dataset shape Counter({'Goal': 35980, 'No Goal': 35980})\n"
     ]
    }
   ],
   "source": [
    "Y = laliga['result']\n",
    "x = laliga.drop('result', axis=1)\n",
    "\n",
    "X = pd.get_dummies(x)\n",
    "scaler = MinMaxScaler()\n",
    "X = scaler.fit_transform(X)\n",
    "\n",
    "print('Original dataset shape %s' % Counter(Y))\n",
    "sm = SMOTE(random_state=42)\n",
    "x_res, y_res = sm.fit_resample(X, Y)\n",
    "print('Resampled dataset shape %s' % Counter(y_res))"
   ]
  },
  {
   "cell_type": "markdown",
   "metadata": {},
   "source": [
    "# Model"
   ]
  },
  {
   "cell_type": "code",
   "execution_count": null,
   "metadata": {},
   "outputs": [],
   "source": []
  }
 ],
 "metadata": {
  "kernelspec": {
   "display_name": "base",
   "language": "python",
   "name": "python3"
  },
  "language_info": {
   "codemirror_mode": {
    "name": "ipython",
    "version": 3
   },
   "file_extension": ".py",
   "mimetype": "text/x-python",
   "name": "python",
   "nbconvert_exporter": "python",
   "pygments_lexer": "ipython3",
   "version": "3.11.9"
  }
 },
 "nbformat": 4,
 "nbformat_minor": 2
}
